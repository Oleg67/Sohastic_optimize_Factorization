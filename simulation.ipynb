{
 "cells": [
  {
   "cell_type": "code",
   "execution_count": 4,
   "metadata": {
    "collapsed": true
   },
   "outputs": [],
   "source": [
    "# ThoroughBet Simulation"
   ]
  },
  {
   "cell_type": "markdown",
   "metadata": {},
   "source": [
    "\n",
    "## Load necessary modules"
   ]
  },
  {
   "cell_type": "code",
   "execution_count": 27,
   "metadata": {
    "collapsed": false
   },
   "outputs": [],
   "source": [
    "import numpy as np\n",
    "\n",
    "from utils import timestamp, YEAR\n",
    "from utils.arrayview import ArrayView, TimeseriesView\n",
    "\n",
    "\n",
    "from prediction.models.preprocessing import Model\n",
    "from prediction.models.prediction import factornames_trimmed\n",
    "from prediction.models.parameters import factor_build_end"
   ]
  },
  {
   "cell_type": "markdown",
   "metadata": {},
   "source": [
    "## Load data"
   ]
  },
  {
   "cell_type": "code",
   "execution_count": 28,
   "metadata": {
    "collapsed": false
   },
   "outputs": [],
   "source": [
    "av = ArrayView.from_file('../datadev/brain_final2cut.av.bcolz')"
   ]
  },
  {
   "cell_type": "code",
   "execution_count": 30,
   "metadata": {
    "collapsed": true
   },
   "outputs": [],
   "source": [
    "tsav = {}\n",
    "sl = 0\n",
    "while True:\n",
    "    try:\n",
    "        tsav[sl] = ArrayView.from_file('../datadev/brain_final2_slice_%i.av.bcolz' % sl)\n",
    "    except ValueError:\n",
    "        break\n",
    "    sl += 1"
   ]
  },
  {
   "cell_type": "markdown",
   "metadata": {},
   "source": [
    "## Preprocessing"
   ]
  },
  {
   "cell_type": "code",
   "execution_count": 31,
   "metadata": {
    "collapsed": false
   },
   "outputs": [],
   "source": [
    "mod = Model(av, oos_start=factor_build_end+YEAR)"
   ]
  },
  {
   "cell_type": "code",
   "execution_count": 32,
   "metadata": {
    "collapsed": true
   },
   "outputs": [],
   "source": [
    "HIGH_KURTOSIS_FACTORS_hashed = set(['z64f5be67e', 'z90adc182a', 'z7081bf371', 'z34b808e99', 'z757be272e', 'z5a85cd6a9', 'zf991b634a', 'z62651f605',\n",
    "                                    'zd002b7067', 'z2ef7fedca', 'z6f11029f7', 'z412893062', 'z919b9585a', 'z89b0eda37', 'z31780b3f4', 'z6631693d3',\n",
    "                                    'z0b27f29ad', 'zd7cd94e4c', 'zf5b2aef2a'])\n",
    "PRICE_FACTORS_hashed = set(['zb392bb74a', 'z6809c316d', 'zd678f0538', 'z027f9f0f5', 'z88e79930c', 'z4a72dc02f', 'z1a3573928', 'z7b15df227'])"
   ]
  },
  {
   "cell_type": "code",
   "execution_count": 33,
   "metadata": {
    "collapsed": false,
    "scrolled": true
   },
   "outputs": [
    {
     "name": "stderr",
     "output_type": "stream",
     "text": [
      "INFO:models:Getting factors from av and rescaling...\n"
     ]
    },
    {
     "name": "stdout",
     "output_type": "stream",
     "text": [
      ". . . . ."
     ]
    },
    {
     "name": "stderr",
     "output_type": "stream",
     "text": [
      "INFO:models:Filling in missing values...\n",
      "INFO:models:Computing each factor as linear combination of all the others...\n"
     ]
    },
    {
     "name": "stdout",
     "output_type": "stream",
     "text": [
      " . . . . ."
     ]
    },
    {
     "name": "stderr",
     "output_type": "stream",
     "text": [
      "INFO:models:Number of missing patterns: 10443\n"
     ]
    },
    {
     "name": "stdout",
     "output_type": "stream",
     "text": [
      " . . . . . . . . . . 10000\n"
     ]
    }
   ],
   "source": [
    "factors = mod._preprocess_factors(factornames_trimmed, high_kurtosis_factors=HIGH_KURTOSIS_FACTORS_hashed, price_factors=PRICE_FACTORS_hashed, verbose=True)"
   ]
  },
  {
   "cell_type": "markdown",
   "metadata": {},
   "source": [
    "## Fit conditional logit model to data"
   ]
  },
  {
   "cell_type": "code",
   "execution_count": 34,
   "metadata": {
    "collapsed": false
   },
   "outputs": [
    {
     "name": "stderr",
     "output_type": "stream",
     "text": [
      "INFO:models:Fitting...\n",
      "INFO:models:Slice: 0\n"
     ]
    },
    {
     "name": "stdout",
     "output_type": "stream",
     "text": [
      "\n"
     ]
    },
    {
     "name": "stderr",
     "output_type": "stream",
     "text": [
      "INFO:models:ll[-1851.6033229657546, -1998.6071724230685, -1998.6071724230685]\n",
      "INFO:models:pr2[0.174621237456554, 0.1378185257174348, 0.1378185257174348]\n",
      "INFO:models:Slice: 1\n"
     ]
    },
    {
     "name": "stdout",
     "output_type": "stream",
     "text": [
      "\n"
     ]
    },
    {
     "name": "stderr",
     "output_type": "stream",
     "text": [
      "INFO:models:ll[-1854.8089622579307, -1994.3388084416135, -1994.3388084416135]\n",
      "INFO:models:pr2[0.17242800791742552, 0.13965986022332655, 0.13965986022332655]\n",
      "INFO:models:Slice: 2\n"
     ]
    },
    {
     "name": "stdout",
     "output_type": "stream",
     "text": [
      "\n"
     ]
    },
    {
     "name": "stderr",
     "output_type": "stream",
     "text": [
      "INFO:models:ll[-1858.297599771405, -1991.6021727256239, -1991.6021727256239]\n",
      "INFO:models:pr2[0.17046013553599648, 0.1408404206900068, 0.1408404206900068]\n",
      "INFO:models:Slice: 3\n"
     ]
    },
    {
     "name": "stdout",
     "output_type": "stream",
     "text": [
      "\n"
     ]
    },
    {
     "name": "stderr",
     "output_type": "stream",
     "text": [
      "INFO:models:ll[-1859.4523284504523, -1988.0848318949927, -1988.0848318949927]\n",
      "INFO:models:pr2[0.16932650910723956, 0.14235777044475184, 0.14235777044475184]\n",
      "INFO:models:Slice: 4\n"
     ]
    },
    {
     "name": "stdout",
     "output_type": "stream",
     "text": [
      "\n"
     ]
    },
    {
     "name": "stderr",
     "output_type": "stream",
     "text": [
      "INFO:models:ll[-1872.8383367349022, -1975.0470900066396, -1975.0470900066396]\n",
      "INFO:models:pr2[0.16062598782885096, 0.14798213709254471, 0.14798213709254471]\n",
      "INFO:models:Slice: 5\n"
     ]
    },
    {
     "name": "stdout",
     "output_type": "stream",
     "text": [
      "\n"
     ]
    },
    {
     "name": "stderr",
     "output_type": "stream",
     "text": [
      "INFO:models:ll[-1887.9521239369496, -1964.941503433573, -1964.941503433573]\n",
      "INFO:models:pr2[0.15193222721268829, 0.15234159784615209, 0.15234159784615209]\n",
      "INFO:models:Slice: 6\n"
     ]
    },
    {
     "name": "stdout",
     "output_type": "stream",
     "text": [
      "\n"
     ]
    },
    {
     "name": "stderr",
     "output_type": "stream",
     "text": [
      "INFO:models:ll[-1914.7368860848851, -1949.833046370755, -1949.833046370755]\n",
      "INFO:models:pr2[0.13699354058272784, 0.15885925272315449, 0.15885925272315449]\n",
      "INFO:models:Slice: 7\n"
     ]
    },
    {
     "name": "stdout",
     "output_type": "stream",
     "text": [
      "\n"
     ]
    },
    {
     "name": "stderr",
     "output_type": "stream",
     "text": [
      "INFO:models:ll[-1925.5553811555162, -1942.2966968713106, -1942.2966968713106]\n",
      "INFO:models:pr2[0.13084608382851137, 0.16211036730524719, 0.16211036730524719]\n",
      "INFO:models:Slice: 8\n"
     ]
    },
    {
     "name": "stdout",
     "output_type": "stream",
     "text": [
      "\n"
     ]
    },
    {
     "name": "stderr",
     "output_type": "stream",
     "text": [
      "INFO:models:ll[-1926.5295781463274, -1942.0676593556445, -1942.0676593556445]\n",
      "INFO:models:pr2[0.12899280223685305, 0.16220917206570629, 0.16220917206570629]\n",
      "INFO:models:Slice: 9\n"
     ]
    },
    {
     "name": "stdout",
     "output_type": "stream",
     "text": [
      "\n"
     ]
    },
    {
     "name": "stderr",
     "output_type": "stream",
     "text": [
      "INFO:models:ll[-1932.309038966162, -1936.1950033115759, -1936.1950033115759]\n",
      "INFO:models:pr2[0.12542470679859341, 0.16474258399171815, 0.16474258399171815]\n",
      "INFO:models:Compute step 1 probabilities...\n"
     ]
    },
    {
     "name": "stdout",
     "output_type": "stream",
     "text": [
      ". . . . . . . . . . 10\n"
     ]
    },
    {
     "name": "stderr",
     "output_type": "stream",
     "text": [
      "INFO:models:Done.\n"
     ]
    }
   ],
   "source": [
    "coefs, step1probs = mod.fit_slices(tsav, factors, depth=3, lmbd=10, verbose=True, fit_afresh=True)[:2]"
   ]
  },
  {
   "cell_type": "code",
   "execution_count": 35,
   "metadata": {
    "collapsed": true
   },
   "outputs": [],
   "source": [
    "import pickle"
   ]
  },
  {
   "cell_type": "code",
   "execution_count": 36,
   "metadata": {
    "collapsed": true
   },
   "outputs": [],
   "source": [
    "def write_simdata(step1probs, oos, coefs, filename = 'simdata.p'):\n",
    "    '''\n",
    "    <step1probs> is expected to be a matrix N_slices x len(av). \n",
    "    <oos> is a boolean mask denoting the out of sample range. len(oos) shoud equal len(av)\n",
    "    <coefs> is a coefficient matrix with the size N_slices x 3\n",
    "    '''\n",
    "    f = file('../datadev/' + filename, 'wb')\n",
    "    pickle.dump([step1probs[:, oos], oos, coefs], f)\n",
    "    f.close()"
   ]
  },
  {
   "cell_type": "code",
   "execution_count": 37,
   "metadata": {
    "collapsed": false
   },
   "outputs": [],
   "source": [
    "write_simdata(step1probs, mod.oos, coefs)"
   ]
  },
  {
   "cell_type": "code",
   "execution_count": null,
   "metadata": {
    "collapsed": true
   },
   "outputs": [],
   "source": []
  }
 ],
 "metadata": {
  "kernelspec": {
   "display_name": "Python 2",
   "language": "python",
   "name": "python2"
  },
  "language_info": {
   "codemirror_mode": {
    "name": "ipython",
    "version": 2
   },
   "file_extension": ".py",
   "mimetype": "text/x-python",
   "name": "python",
   "nbconvert_exporter": "python",
   "pygments_lexer": "ipython2",
   "version": "2.7.12"
  }
 },
 "nbformat": 4,
 "nbformat_minor": 1
}
