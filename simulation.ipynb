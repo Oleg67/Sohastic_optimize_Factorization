{
 "cells": [
  {
   "cell_type": "code",
   "execution_count": 1,
   "metadata": {
    "collapsed": true
   },
   "outputs": [],
   "source": [
    "# ThoroughBet Simulation"
   ]
  },
  {
   "cell_type": "markdown",
   "metadata": {},
   "source": [
    "\n",
    "## Load necessary modules"
   ]
  },
  {
   "cell_type": "code",
   "execution_count": 1,
   "metadata": {
    "collapsed": false
   },
   "outputs": [],
   "source": [
    "import numpy as np\n",
    "\n",
    "from utils import timestamp, YEAR\n",
    "from utils.arrayview import ArrayView, TimeseriesView\n",
    "\n",
    "from prediction.models.fit_model import TSModel\n",
    "from prediction.models.model_parameters import ModelParameters\n",
    "from prediction.models.factor_management import FactorList\n",
    "from prediction.models.preprocessing import load_slices\n",
    "\n",
    "from prediction.models.prediction import factornames_trimmed\n",
    "from prediction.models.parameters import factor_build_end"
   ]
  },
  {
   "cell_type": "markdown",
   "metadata": {},
   "source": [
    "## Load data"
   ]
  },
  {
   "cell_type": "code",
   "execution_count": 3,
   "metadata": {
    "collapsed": false
   },
   "outputs": [],
   "source": [
    "av = ArrayView.from_file('../datadev/brain_final2cut.av.bcolz')"
   ]
  },
  {
   "cell_type": "code",
   "execution_count": 32,
   "metadata": {
    "collapsed": false
   },
   "outputs": [],
   "source": [
    "tsav = load_slices(path='../datadev/')"
   ]
  },
  {
   "cell_type": "markdown",
   "metadata": {},
   "source": [
    "## Preprocessing"
   ]
  },
  {
   "cell_type": "code",
   "execution_count": 4,
   "metadata": {
    "collapsed": false
   },
   "outputs": [],
   "source": [
    "pars = ModelParameters(av, oos_start=factor_build_end+YEAR, depth=3, lmbd=10, verbose=True)"
   ]
  },
  {
   "cell_type": "code",
   "execution_count": 5,
   "metadata": {
    "collapsed": true
   },
   "outputs": [],
   "source": [
    "fl = FactorList(av, factornames_trimmed)"
   ]
  },
  {
   "cell_type": "code",
   "execution_count": 6,
   "metadata": {
    "collapsed": false
   },
   "outputs": [
    {
     "name": "stderr",
     "output_type": "stream",
     "text": [
      "INFO:models:Getting factors from av and rescaling...\n"
     ]
    },
    {
     "name": "stdout",
     "output_type": "stream",
     "text": [
      ". . . . ."
     ]
    },
    {
     "name": "stderr",
     "output_type": "stream",
     "text": [
      "INFO:models:Filling in missing values...\n",
      "INFO:models:Computing each factor as linear combination of all the others...\n"
     ]
    },
    {
     "name": "stdout",
     "output_type": "stream",
     "text": [
      " . . . . ."
     ]
    },
    {
     "name": "stderr",
     "output_type": "stream",
     "text": [
      "INFO:models:Number of missing patterns: 7754\n"
     ]
    },
    {
     "name": "stdout",
     "output_type": "stream",
     "text": [
      " . . . . . . .\n"
     ]
    }
   ],
   "source": [
    "fl.preprocess(pars)\n",
    "factors = fl.asmatrix()"
   ]
  },
  {
   "cell_type": "markdown",
   "metadata": {},
   "source": [
    "## Fit conditional logit model"
   ]
  },
  {
   "cell_type": "code",
   "execution_count": 7,
   "metadata": {
    "collapsed": true
   },
   "outputs": [],
   "source": [
    "tsmod = TSModel(factors, tsav, pars)"
   ]
  },
  {
   "cell_type": "code",
   "execution_count": 8,
   "metadata": {
    "collapsed": false
   },
   "outputs": [
    {
     "name": "stderr",
     "output_type": "stream",
     "text": [
      "INFO:models:Fitting slice 0\n",
      "INFO:models:Fitting slice 1\n",
      "INFO:models:Fitting slice 2\n",
      "INFO:models:Fitting slice 3\n",
      "INFO:models:Fitting slice 4\n",
      "INFO:models:Fitting slice 5\n",
      "INFO:models:Fitting slice 6\n",
      "INFO:models:Fitting slice 7\n",
      "INFO:models:Fitting slice 8\n",
      "INFO:models:Fitting slice 9\n"
     ]
    }
   ],
   "source": [
    "tsmod.fit_slices()"
   ]
  },
  {
   "cell_type": "code",
   "execution_count": 9,
   "metadata": {
    "collapsed": false
   },
   "outputs": [],
   "source": [
    "tsmod.write_simdata('simdata.p')"
   ]
  },
  {
   "cell_type": "code",
   "execution_count": 4,
   "metadata": {
    "collapsed": false
   },
   "outputs": [
    {
     "ename": "NameError",
     "evalue": "name 'av' is not defined",
     "traceback": [
      "\u001b[0;31m---------------------------------------------------------------------------\u001b[0m",
      "\u001b[0;31mNameError\u001b[0m                                 Traceback (most recent call last)",
      "\u001b[0;32m<ipython-input-4-715ad75037ab>\u001b[0m in \u001b[0;36m<module>\u001b[0;34m()\u001b[0m\n\u001b[0;32m----> 1\u001b[0;31m \u001b[0mav\u001b[0m\u001b[0;34m.\u001b[0m\u001b[0mcolumns\u001b[0m\u001b[0;34m\u001b[0m\u001b[0m\n\u001b[0m",
      "\u001b[0;31mNameError\u001b[0m: name 'av' is not defined"
     ],
     "output_type": "error"
    }
   ],
   "source": [
    "av.columns"
   ]
  },
  {
   "cell_type": "code",
   "execution_count": 6,
   "metadata": {
    "collapsed": false
   },
   "outputs": [
    {
     "data": {
      "text/plain": [
       "['event_id',\n",
       " 'run_id',\n",
       " 'runner_id',\n",
       " 'start_time',\n",
       " 'course',\n",
       " 'distance',\n",
       " 'going',\n",
       " 'obstacle',\n",
       " 'race_class',\n",
       " 'win_time',\n",
       " 'prize',\n",
       " 'date_of_birth',\n",
       " 'sex',\n",
       " 'dam',\n",
       " 'sire',\n",
       " 'jockey',\n",
       " 'trainer',\n",
       " 'weight',\n",
       " 'draw',\n",
       " 'result',\n",
       " 'beaten_length',\n",
       " 'handicap',\n",
       " 'equipment',\n",
       " 'bsp',\n",
       " 'isp',\n",
       " 'bfid',\n",
       " 'bdid',\n",
       " 'morning_est',\n",
       " 'morning_prob',\n",
       " 'thb_est',\n",
       " 'napstats_tipssum']"
      ]
     },
     "execution_count": 6,
     "metadata": {},
     "output_type": "execute_result"
    }
   ],
   "source": [
    "av.fields"
   ]
  },
  {
   "cell_type": "code",
   "execution_count": 8,
   "metadata": {
    "collapsed": false
   },
   "outputs": [
    {
     "data": {
      "text/plain": [
       "['z7e1e4a30a',\n",
       " 'z5e3e2bf8e',\n",
       " 'z2f01df1e4',\n",
       " 'z1a1aff9a5',\n",
       " 'runner_id',\n",
       " 'course',\n",
       " 'z7603edce1',\n",
       " 'zef5a850eb',\n",
       " 'speed',\n",
       " 'zba15a816a',\n",
       " 'z98f7dab30',\n",
       " 'sp_back_volume_final',\n",
       " 'zf8b32c847',\n",
       " 'za97562293',\n",
       " 'run_id',\n",
       " 'z8ca2ea7f2',\n",
       " 'sp_back_volume',\n",
       " 'date_of_birth',\n",
       " 'win_time',\n",
       " 'zc64f78aa9',\n",
       " 'z76228ad9c',\n",
       " 'dam',\n",
       " 'start_time',\n",
       " 'zbba3f4349',\n",
       " 'z12c6cabe4',\n",
       " 'z5fa2eaf85',\n",
       " 'z873364109',\n",
       " 'race_class',\n",
       " 'za5c443236',\n",
       " 'prize',\n",
       " 'z1121cb627',\n",
       " 'z698cc55af',\n",
       " 'zd81bcd220',\n",
       " 'zb87666d6d',\n",
       " 'z6809c316d',\n",
       " 'z8d2862a46',\n",
       " 'zf47a136cc',\n",
       " 'z8f2529f11',\n",
       " 'weight',\n",
       " 'z09c1cfca1',\n",
       " 'za31432965',\n",
       " 'draw',\n",
       " 'sex',\n",
       " 'zb5dc14260',\n",
       " 'zb85d3de89',\n",
       " 'result',\n",
       " 'z3d11336f4',\n",
       " 'zab7c330ee',\n",
       " 'zac38414de',\n",
       " 'za5cf91a5d',\n",
       " 'zec0c22a48',\n",
       " 'z14536acf4',\n",
       " 'zd35b970d2',\n",
       " 'z34b78e584',\n",
       " 'z999f82560',\n",
       " 'z215129aeb',\n",
       " 'z6f11029f7',\n",
       " 'jockey',\n",
       " 'z2a69f7bab',\n",
       " 'z412893062',\n",
       " 'zc31456152',\n",
       " 'z50810021e',\n",
       " 'bfid',\n",
       " 'z1b0bd4349',\n",
       " 'sp_lay_volume_final',\n",
       " 'z027f9f0f5',\n",
       " 'z3bc9c1546',\n",
       " 'isp',\n",
       " 'zf0e03d75d',\n",
       " 'norm_result',\n",
       " 'z0694d61af',\n",
       " 'z38cb32ce1',\n",
       " 'trainer',\n",
       " 'z6f1eaa94d',\n",
       " 'z245159235',\n",
       " 'z81f2598ec',\n",
       " 'sire',\n",
       " 'z987ea3382',\n",
       " 'z77c9cc0a5',\n",
       " 'z7a549a161',\n",
       " 'z56076917a',\n",
       " 'z37a191205',\n",
       " 'z1396f9699',\n",
       " 'z1a3573928',\n",
       " 'z5981b9f89',\n",
       " 'z36b8bffe0',\n",
       " 'zea66ce4f1',\n",
       " 'z65c1ef8eb',\n",
       " 'z335a8aaaa',\n",
       " 'going',\n",
       " 'zf67bb11d9',\n",
       " 'z4a72dc02f',\n",
       " 'z07182f192',\n",
       " 'z6c84925d1',\n",
       " 'z736eea9b2',\n",
       " 'z48f6dddd1',\n",
       " 'zdb04423b1',\n",
       " 'z84a5ad931',\n",
       " 'zd678f0538',\n",
       " 'z83ebbffce',\n",
       " 'distance',\n",
       " 'za9ea7b9af',\n",
       " 'zb392bb74a',\n",
       " 'beaten_length',\n",
       " 'zf50212bfb',\n",
       " 'z4cac73de3',\n",
       " 'z4a6755a99',\n",
       " 'z919b9585a',\n",
       " 'z9261211f7',\n",
       " 'z779f698c0',\n",
       " 'zae03d13a5',\n",
       " 'obstacle',\n",
       " 'z6b02ac645',\n",
       " 'z79126e8c6',\n",
       " 'z5873666ab',\n",
       " 'z0f50ce7c0',\n",
       " 'z9b7ea79d8',\n",
       " 'z5c014caa2',\n",
       " 'norm_speed',\n",
       " 'zc6614c5ee',\n",
       " 'ze4c91eac0',\n",
       " 'event_id',\n",
       " 'bdid',\n",
       " 'z953916863',\n",
       " 'equipment',\n",
       " 'za9d73610e',\n",
       " 'z7081bf371',\n",
       " 'z2a6963635',\n",
       " 'z44cf2d196',\n",
       " 'zce609d953',\n",
       " 'zbe307f294',\n",
       " 'handicap',\n",
       " 'zf9833a62c',\n",
       " 'bsp',\n",
       " 'zb4212ebda',\n",
       " 'z61f1f3f4f',\n",
       " 'zec3f8f8b9',\n",
       " 'z28e932d84',\n",
       " 'zd7cd94e4c',\n",
       " 'zb9e04cf8e',\n",
       " 'zd393eb79d',\n",
       " 'z7b15df227',\n",
       " 'z106842cce',\n",
       " 'ze238d56a2',\n",
       " 'sp_lay_volume',\n",
       " 'z88e79930c',\n",
       " 'z4fdabfabc']"
      ]
     },
     "execution_count": 8,
     "metadata": {},
     "output_type": "execute_result"
    }
   ],
   "source": [
    "av.keys()"
   ]
  },
  {
   "cell_type": "code",
   "execution_count": 9,
   "metadata": {
    "collapsed": false
   },
   "outputs": [
    {
     "data": {
      "text/plain": [
       "array([178463, 178463, 178463, 178463, 178463, 178463, 178463, 178463,\n",
       "       178463, 178463, 178463, 178463, 178462, 178462, 178462, 178462,\n",
       "       178462, 178462, 178462, 178462, 178462, 178462, 178467, 178467,\n",
       "       178467, 178467, 178467, 178467, 178467, 178467, 178467, 178467,\n",
       "       178467, 178467, 178467, 178464, 178464, 178464, 178464, 178464,\n",
       "       178464, 178464, 178464, 178464, 178464, 178464, 178465, 178465,\n",
       "       178465, 178465, 178465, 178465, 178465, 178465, 178465, 178465,\n",
       "       178465, 178465, 178466, 178466, 178466, 178466, 178466, 178466,\n",
       "       178469, 178469, 178469, 178469, 178469, 178469, 178469, 178469,\n",
       "       178469, 178468, 178468, 178468, 178468, 178468, 178468, 178468,\n",
       "       178468, 178468, 178468, 178468, 178470, 178470, 178470, 178470,\n",
       "       178470, 178470, 178470, 178470, 178470, 178470, 178470, 178470,\n",
       "       178474, 178474, 178474, 178474])"
      ]
     },
     "execution_count": 9,
     "metadata": {},
     "output_type": "execute_result"
    }
   ],
   "source": [
    "av.event_id[:100]"
   ]
  },
  {
   "cell_type": "code",
   "execution_count": 10,
   "metadata": {
    "collapsed": false
   },
   "outputs": [
    {
     "data": {
      "text/plain": [
       "array([234306, 234307, 234308, ..., 133652, 446997, 307291])"
      ]
     },
     "execution_count": 10,
     "metadata": {},
     "output_type": "execute_result"
    }
   ],
   "source": [
    "av. runner_id"
   ]
  },
  {
   "cell_type": "code",
   "execution_count": 12,
   "metadata": {
    "collapsed": false
   },
   "outputs": [
    {
     "ename": "AttributeError",
     "evalue": "shape",
     "traceback": [
      "\u001b[0;31m---------------------------------------------------------------------------\u001b[0m",
      "\u001b[0;31mAttributeError\u001b[0m                            Traceback (most recent call last)",
      "\u001b[0;32m<ipython-input-12-ec9129ec09f5>\u001b[0m in \u001b[0;36m<module>\u001b[0;34m()\u001b[0m\n\u001b[0;32m----> 1\u001b[0;31m \u001b[0mav\u001b[0m\u001b[0;34m.\u001b[0m\u001b[0mshape\u001b[0m\u001b[0;34m(\u001b[0m\u001b[0;34m)\u001b[0m\u001b[0;34m\u001b[0m\u001b[0m\n\u001b[0m",
      "\u001b[0;32m/home/dinko/repos/thbmodel_dinko/utils/arrayview/arraycontainer.py\u001b[0m in \u001b[0;36m__getattr__\u001b[0;34m(self, attr)\u001b[0m\n\u001b[1;32m    175\u001b[0m             \u001b[0;32mreturn\u001b[0m \u001b[0mself\u001b[0m\u001b[0;34m.\u001b[0m\u001b[0m__getitem__\u001b[0m\u001b[0;34m(\u001b[0m\u001b[0mattr\u001b[0m\u001b[0;34m)\u001b[0m\u001b[0;34m\u001b[0m\u001b[0m\n\u001b[1;32m    176\u001b[0m         \u001b[0;32mexcept\u001b[0m \u001b[0mKeyError\u001b[0m\u001b[0;34m:\u001b[0m\u001b[0;34m\u001b[0m\u001b[0m\n\u001b[0;32m--> 177\u001b[0;31m             \u001b[0;32mraise\u001b[0m \u001b[0mAttributeError\u001b[0m\u001b[0;34m(\u001b[0m\u001b[0mattr\u001b[0m\u001b[0;34m)\u001b[0m\u001b[0;34m\u001b[0m\u001b[0m\n\u001b[0m\u001b[1;32m    178\u001b[0m \u001b[0;34m\u001b[0m\u001b[0m\n\u001b[1;32m    179\u001b[0m     \u001b[0;32mdef\u001b[0m \u001b[0m__setattr__\u001b[0m\u001b[0;34m(\u001b[0m\u001b[0mself\u001b[0m\u001b[0;34m,\u001b[0m \u001b[0mattr\u001b[0m\u001b[0;34m,\u001b[0m \u001b[0mval\u001b[0m\u001b[0;34m)\u001b[0m\u001b[0;34m:\u001b[0m\u001b[0;34m\u001b[0m\u001b[0m\n",
      "\u001b[0;31mAttributeError\u001b[0m: shape"
     ],
     "output_type": "error"
    }
   ],
   "source": [
    "av.shape()"
   ]
  },
  {
   "cell_type": "code",
   "execution_count": 13,
   "metadata": {
    "collapsed": false
   },
   "outputs": [
    {
     "ename": "AttributeError",
     "evalue": "attributes",
     "traceback": [
      "\u001b[0;31m---------------------------------------------------------------------------\u001b[0m",
      "\u001b[0;31mAttributeError\u001b[0m                            Traceback (most recent call last)",
      "\u001b[0;32m<ipython-input-13-7ae6ed228a78>\u001b[0m in \u001b[0;36m<module>\u001b[0;34m()\u001b[0m\n\u001b[0;32m----> 1\u001b[0;31m \u001b[0mav\u001b[0m\u001b[0;34m.\u001b[0m\u001b[0mattributes\u001b[0m\u001b[0;34m\u001b[0m\u001b[0m\n\u001b[0m",
      "\u001b[0;32m/home/dinko/repos/thbmodel_dinko/utils/arrayview/arraycontainer.py\u001b[0m in \u001b[0;36m__getattr__\u001b[0;34m(self, attr)\u001b[0m\n\u001b[1;32m    175\u001b[0m             \u001b[0;32mreturn\u001b[0m \u001b[0mself\u001b[0m\u001b[0;34m.\u001b[0m\u001b[0m__getitem__\u001b[0m\u001b[0;34m(\u001b[0m\u001b[0mattr\u001b[0m\u001b[0;34m)\u001b[0m\u001b[0;34m\u001b[0m\u001b[0m\n\u001b[1;32m    176\u001b[0m         \u001b[0;32mexcept\u001b[0m \u001b[0mKeyError\u001b[0m\u001b[0;34m:\u001b[0m\u001b[0;34m\u001b[0m\u001b[0m\n\u001b[0;32m--> 177\u001b[0;31m             \u001b[0;32mraise\u001b[0m \u001b[0mAttributeError\u001b[0m\u001b[0;34m(\u001b[0m\u001b[0mattr\u001b[0m\u001b[0;34m)\u001b[0m\u001b[0;34m\u001b[0m\u001b[0m\n\u001b[0m\u001b[1;32m    178\u001b[0m \u001b[0;34m\u001b[0m\u001b[0m\n\u001b[1;32m    179\u001b[0m     \u001b[0;32mdef\u001b[0m \u001b[0m__setattr__\u001b[0m\u001b[0;34m(\u001b[0m\u001b[0mself\u001b[0m\u001b[0;34m,\u001b[0m \u001b[0mattr\u001b[0m\u001b[0;34m,\u001b[0m \u001b[0mval\u001b[0m\u001b[0;34m)\u001b[0m\u001b[0;34m:\u001b[0m\u001b[0;34m\u001b[0m\u001b[0m\n",
      "\u001b[0;31mAttributeError\u001b[0m: attributes"
     ],
     "output_type": "error"
    }
   ],
   "source": [
    "av.attributes"
   ]
  },
  {
   "cell_type": "code",
   "execution_count": 14,
   "metadata": {
    "collapsed": false
   },
   "outputs": [
    {
     "data": {
      "text/plain": [
       "<Timestamp 2013-01-01 00:57:00.000000>"
      ]
     },
     "execution_count": 14,
     "metadata": {},
     "output_type": "execute_result"
    }
   ],
   "source": [
    "timestamp(av.start_time[0])"
   ]
  },
  {
   "cell_type": "code",
   "execution_count": 15,
   "metadata": {
    "collapsed": false
   },
   "outputs": [
    {
     "ename": "NameError",
     "evalue": "name 'fl' is not defined",
     "traceback": [
      "\u001b[0;31m---------------------------------------------------------------------------\u001b[0m",
      "\u001b[0;31mNameError\u001b[0m                                 Traceback (most recent call last)",
      "\u001b[0;32m<ipython-input-15-a8954010359a>\u001b[0m in \u001b[0;36m<module>\u001b[0;34m()\u001b[0m\n\u001b[0;32m----> 1\u001b[0;31m \u001b[0mfl\u001b[0m\u001b[0;34m.\u001b[0m\u001b[0mpreprocess\u001b[0m\u001b[0;34m\u001b[0m\u001b[0m\n\u001b[0m",
      "\u001b[0;31mNameError\u001b[0m: name 'fl' is not defined"
     ],
     "output_type": "error"
    }
   ],
   "source": [
    "fl.preprocess"
   ]
  },
  {
   "cell_type": "code",
   "execution_count": null,
   "metadata": {
    "collapsed": true
   },
   "outputs": [],
   "source": [
    ""
   ]
  }
 ],
 "metadata": {
  "kernelspec": {
   "display_name": "Python 2",
   "language": "python",
   "name": "python2"
  },
  "language_info": {
   "codemirror_mode": {
    "name": "ipython",
    "version": 2.0
   },
   "file_extension": ".py",
   "mimetype": "text/x-python",
   "name": "python",
   "nbconvert_exporter": "python",
   "pygments_lexer": "ipython2",
   "version": "2.7.13"
  }
 },
 "nbformat": 4,
 "nbformat_minor": 0
}