{
 "cells": [
  {
   "cell_type": "markdown",
   "metadata": {},
   "source": [
    "6. Напишите функцию stochastic_gradient_descent, реализующую стохастический градиентный спуск для линейной регрессии. Функция принимает на вход следующие аргументы:\n",
    "\n",
    "•features - матрица, соответствующая обучающей выборке\n",
    "\n",
    "•w_init - вектор начальных весов модели\n",
    "\n",
    "•eta - шаг градиентного спуска (по умолчанию 0.001)\n",
    "\n",
    "•max_iter - максимальное число итераций градиентного спуска (по умолчанию 10000)\n",
    "\n",
    "•max_weight_dist - минимальное евклидово расстояние между векторами весов на соседних итерациях градиентного спуска, при котором алгоритм прекращает работу (по умолчанию 1e-8)\n",
    "\n",
    "•seed - число, используемое для воспроизводимости сгенерированных псевдослучайных чисел (по умолчанию 42)\n",
    "\n",
    "•verbose - флаг печати информации (например, для отладки, по умолчанию False)\n",
    "\n",
    "На каждой итерации в вектор (список) должно записываться текущее значение среднеквадратичной ошибки.\n",
    "\n",
    "Функция должна возвращать вектор весов w, а также вектор (список) ошибок, число итераций\n"
   ]
  },
  {
   "cell_type": "code",
   "execution_count": 1,
   "metadata": {},
   "outputs": [],
   "source": [
    "import pandas as pd\n",
    "import numpy as np\n",
    "from time import time"
   ]
  },
  {
   "cell_type": "code",
   "execution_count": 2,
   "metadata": {
    "collapsed": true
   },
   "outputs": [],
   "source": [
    "def softmax(x):\n",
    "    return np.exp(x)/np.sum(np.exp(x))"
   ]
  },
  {
   "cell_type": "code",
   "execution_count": 3,
   "metadata": {},
   "outputs": [],
   "source": [
    "def G_step(df, features, w, b_size, verbose=False):\n",
    "    \"\"\" features = matrix n x i where n = number of the horse, i = feature of the horse\n",
    "        winer  = vector n where there is only one non zesos in the position winer's horse\n",
    "        eta = size of the step\n",
    "        return the step of gradient decent \n",
    "    \"\"\"\n",
    "    if verbose:\n",
    "        print 'SG_step'\n",
    "        print 'shape of data  ',data.shape\n",
    "        print \n",
    "    df['S'] = df.ix[:,features].dot(w)\n",
    "    df['p'] = df['S'].groupby(by =df['event_id']).apply(softmax)\n",
    "    df['winer'] = df['result'].apply(lambda x: 1 if x==1 else 0)\n",
    "    grad = np.dot(df['winer'] -df['p'], df[features])/b_size\n",
    "    \n",
    "    return grad "
   ]
  },
  {
   "cell_type": "code",
   "execution_count": 4,
   "metadata": {
    "collapsed": true
   },
   "outputs": [],
   "source": [
    "def G_step_svm(df, features, w, verbose=False):\n",
    "    \"\"\" features = matrix n x i where n = number of the horse, i = feature of the horse\n",
    "        winer  = vector n where there is only one non zesos in the position winer's horse\n",
    "        eta = size of the step\n",
    "        return the step of gradient decent \n",
    "    \"\"\"\n",
    "    if verbose:\n",
    "        print 'SG_step'\n",
    "        print 'shape of data  ',data.shape\n",
    "        print \n",
    "    S = (df.ix[:,features].dot(w)).values\n",
    "    p = softmax(S)\n",
    "    winner_mask = (df['result'] ==1).values\n",
    "    winner = winner_mask.astype(int)\n",
    "    P_winer = p[winner_mask]\n",
    "    grad = np.dot(winner -p, df[features])*P_winer/np.power(1-P_winer,2)\n",
    "    \n",
    "    return -1*grad "
   ]
  },
  {
   "cell_type": "code",
   "execution_count": 5,
   "metadata": {
    "collapsed": true
   },
   "outputs": [],
   "source": [
    "def G_step_exp_svm(df, features, w, verbose=False):\n",
    "    \"\"\" features = matrix n x i where n = number of the horse, i = feature of the horse\n",
    "        winer  = vector n where there is only one non zesos in the position winer's horse\n",
    "        eta = size of the step\n",
    "        return the step of gradient decent \n",
    "    \"\"\"\n",
    "    if verbose:\n",
    "        print 'SG_step'\n",
    "        print 'shape of data  ',data.shape\n",
    "        print \n",
    "    S = (df.ix[:,features].dot(w)).values\n",
    "    p = softmax(S)\n",
    "    winner_mask = (df['result'] ==1).values\n",
    "    winner = winner_mask.astype(int)\n",
    "    P_winer = p[winner_mask]\n",
    "    grad_P = np.dot(winner -p, df[features])*P_winer/np.power(1-P_winer,2)\n",
    "    marging = np.exp(1- P_winer/(1-P_winer))\n",
    "    \n",
    "    return -1*np.exp(1- P_winer/(1-P_winer))*grad_P"
   ]
  },
  {
   "cell_type": "code",
   "execution_count": 6,
   "metadata": {
    "collapsed": true
   },
   "outputs": [],
   "source": [
    "def stochastic_gradient_descent(data, features,  b_size =100, eta=1e-3, moment = 0.85, la = 5.,\n",
    "                                max_iter=1e3,  min_weight_dist=1e-5, seed=42, verbose=False):\n",
    "    \n",
    "    \n",
    "    # Инициализируем расстояние между векторами весов на соседних\n",
    "    # итерациях большим числом. \n",
    "    weight_dist = np.inf\n",
    "    # Будем порождать псевдослучайные числа \n",
    "    # (номер объекта, который будет менять веса), а для воспроизводимости\n",
    "    # этой последовательности псевдослучайных чисел используем seed.\n",
    "    #np.random.seed(seed)\n",
    "    \n",
    "    w = np.random.randn(len(features))\n",
    "    \n",
    "    # Счетчик итераций\n",
    "    iter_num = 0\n",
    "    # массив изменения градиента\n",
    "    grad_norm = np.zeros(max_iter+1)\n",
    "    # значение последнего градиента\n",
    "    last_grad = np.zeros_like(w)\n",
    "        \n",
    "    # Основной цикл\n",
    "    while (weight_dist > min_weight_dist) and (iter_num < max_iter):\n",
    "        \n",
    "        # выберем случайно скачки количеством = b_size\n",
    "        r_event = np.random.choice(np.unique(data['event_id']), size = b_size)\n",
    "        \n",
    "        df = data.ix[np.in1d(data['event_id'], r_event),:]\n",
    "        #df['S'] = df.ix[:,features].dot(w)\n",
    "        #df['p'] = df['S'].groupby(by =df['event_id']).apply(softmax)\n",
    "        #df['WIN'] = df['result'].apply(lambda x: 1 if x==1 else 0)\n",
    "        #grad = np.dot(df['WIN'] -df['p'], df[features])/b_size\n",
    "        \n",
    "        last_grad = moment*last_grad -G_step(df, features, w, b_size) + la *w # градиентный шаг с моментом + регуляризатор\n",
    "        w = w - eta* last_grad\n",
    "        \n",
    "        weight_dist = np.linalg.norm(last_grad, ord=2)\n",
    "        if (weight_dist <= min_weight_dist):\n",
    "            print 'SGD covergence'\n",
    "        \n",
    "        iter_num +=1\n",
    "        grad_norm [iter_num]   = weight_dist \n",
    "        #weight_dist = grad_norm[-2] +grad_norm[-1]\n",
    "        if verbose:\n",
    "            #print 'w  ', w\n",
    "            print 'iteration', iter_num, 'dist ',weight_dist\n",
    "        \n",
    "        if iter_num > 300:\n",
    "            eta = eta/10.\n",
    "        elif iter_num > 600:\n",
    "            eta = eta/10.\n",
    "        #eta = eta/np.square(iter_num+1) # переменный шаг\n",
    "         \n",
    "        if np.any(w == np.nan):\n",
    "            print \"w overcome\"\n",
    "            break\n",
    "        \n",
    "    return w, grad_norm , iter_num"
   ]
  },
  {
   "cell_type": "code",
   "execution_count": 12,
   "metadata": {
    "collapsed": true
   },
   "outputs": [],
   "source": [
    "import matplotlib.pyplot as plt\n",
    "%matplotlib inline"
   ]
  },
  {
   "cell_type": "code",
   "execution_count": null,
   "metadata": {
    "collapsed": true
   },
   "outputs": [],
   "source": []
  },
  {
   "cell_type": "code",
   "execution_count": 13,
   "metadata": {},
   "outputs": [
    {
     "data": {
      "text/html": [
       "<div>\n",
       "<table border=\"1\" class=\"dataframe\">\n",
       "  <thead>\n",
       "    <tr style=\"text-align: right;\">\n",
       "      <th></th>\n",
       "      <th>f1</th>\n",
       "      <th>f2</th>\n",
       "      <th>f3</th>\n",
       "      <th>f4</th>\n",
       "      <th>f5</th>\n",
       "      <th>f6</th>\n",
       "      <th>f7</th>\n",
       "      <th>f8</th>\n",
       "      <th>f9</th>\n",
       "      <th>f10</th>\n",
       "      <th>...</th>\n",
       "      <th>f54</th>\n",
       "      <th>f55</th>\n",
       "      <th>f56</th>\n",
       "      <th>f57</th>\n",
       "      <th>runner_id</th>\n",
       "      <th>result</th>\n",
       "      <th>event_id</th>\n",
       "      <th>is1</th>\n",
       "      <th>is2</th>\n",
       "      <th>oos</th>\n",
       "    </tr>\n",
       "  </thead>\n",
       "  <tbody>\n",
       "    <tr>\n",
       "      <th>0</th>\n",
       "      <td>0.064913</td>\n",
       "      <td>1.395654</td>\n",
       "      <td>-0.152068</td>\n",
       "      <td>0.008172</td>\n",
       "      <td>0.0007</td>\n",
       "      <td>0.971937</td>\n",
       "      <td>1.096287</td>\n",
       "      <td>-0.003309</td>\n",
       "      <td>1.761018</td>\n",
       "      <td>0.968297</td>\n",
       "      <td>...</td>\n",
       "      <td>0.040241</td>\n",
       "      <td>-0.003450</td>\n",
       "      <td>-0.003327</td>\n",
       "      <td>0.036781</td>\n",
       "      <td>353046</td>\n",
       "      <td>3</td>\n",
       "      <td>287398</td>\n",
       "      <td>True</td>\n",
       "      <td>True</td>\n",
       "      <td>False</td>\n",
       "    </tr>\n",
       "    <tr>\n",
       "      <th>1</th>\n",
       "      <td>-0.250759</td>\n",
       "      <td>1.137530</td>\n",
       "      <td>0.019747</td>\n",
       "      <td>0.008894</td>\n",
       "      <td>0.0007</td>\n",
       "      <td>0.398019</td>\n",
       "      <td>0.481980</td>\n",
       "      <td>-0.002772</td>\n",
       "      <td>1.682896</td>\n",
       "      <td>0.354919</td>\n",
       "      <td>...</td>\n",
       "      <td>0.179168</td>\n",
       "      <td>-0.002913</td>\n",
       "      <td>-0.002791</td>\n",
       "      <td>0.213007</td>\n",
       "      <td>352217</td>\n",
       "      <td>5</td>\n",
       "      <td>287398</td>\n",
       "      <td>True</td>\n",
       "      <td>True</td>\n",
       "      <td>False</td>\n",
       "    </tr>\n",
       "    <tr>\n",
       "      <th>2</th>\n",
       "      <td>-0.250759</td>\n",
       "      <td>1.029570</td>\n",
       "      <td>-0.145221</td>\n",
       "      <td>-0.020776</td>\n",
       "      <td>0.0007</td>\n",
       "      <td>0.307072</td>\n",
       "      <td>0.427015</td>\n",
       "      <td>-0.012089</td>\n",
       "      <td>1.165470</td>\n",
       "      <td>0.440719</td>\n",
       "      <td>...</td>\n",
       "      <td>0.217412</td>\n",
       "      <td>-0.012249</td>\n",
       "      <td>-0.012108</td>\n",
       "      <td>-0.173009</td>\n",
       "      <td>342962</td>\n",
       "      <td>13</td>\n",
       "      <td>287398</td>\n",
       "      <td>True</td>\n",
       "      <td>True</td>\n",
       "      <td>False</td>\n",
       "    </tr>\n",
       "    <tr>\n",
       "      <th>3</th>\n",
       "      <td>0.064913</td>\n",
       "      <td>1.395654</td>\n",
       "      <td>-0.136884</td>\n",
       "      <td>-0.020776</td>\n",
       "      <td>0.0007</td>\n",
       "      <td>0.234280</td>\n",
       "      <td>0.361007</td>\n",
       "      <td>0.009897</td>\n",
       "      <td>0.880806</td>\n",
       "      <td>1.230350</td>\n",
       "      <td>...</td>\n",
       "      <td>0.399248</td>\n",
       "      <td>0.009783</td>\n",
       "      <td>0.009877</td>\n",
       "      <td>0.326784</td>\n",
       "      <td>361432</td>\n",
       "      <td>1</td>\n",
       "      <td>287398</td>\n",
       "      <td>True</td>\n",
       "      <td>True</td>\n",
       "      <td>False</td>\n",
       "    </tr>\n",
       "    <tr>\n",
       "      <th>4</th>\n",
       "      <td>0.064913</td>\n",
       "      <td>1.343377</td>\n",
       "      <td>0.242782</td>\n",
       "      <td>0.008894</td>\n",
       "      <td>0.0007</td>\n",
       "      <td>-0.017472</td>\n",
       "      <td>-0.199782</td>\n",
       "      <td>0.004808</td>\n",
       "      <td>0.481565</td>\n",
       "      <td>1.404777</td>\n",
       "      <td>...</td>\n",
       "      <td>-0.325201</td>\n",
       "      <td>0.004683</td>\n",
       "      <td>0.004789</td>\n",
       "      <td>-0.145831</td>\n",
       "      <td>359420</td>\n",
       "      <td>6</td>\n",
       "      <td>287398</td>\n",
       "      <td>True</td>\n",
       "      <td>True</td>\n",
       "      <td>False</td>\n",
       "    </tr>\n",
       "  </tbody>\n",
       "</table>\n",
       "<p>5 rows × 63 columns</p>\n",
       "</div>"
      ],
      "text/plain": [
       "         f1        f2        f3        f4      f5        f6        f7  \\\n",
       "0  0.064913  1.395654 -0.152068  0.008172  0.0007  0.971937  1.096287   \n",
       "1 -0.250759  1.137530  0.019747  0.008894  0.0007  0.398019  0.481980   \n",
       "2 -0.250759  1.029570 -0.145221 -0.020776  0.0007  0.307072  0.427015   \n",
       "3  0.064913  1.395654 -0.136884 -0.020776  0.0007  0.234280  0.361007   \n",
       "4  0.064913  1.343377  0.242782  0.008894  0.0007 -0.017472 -0.199782   \n",
       "\n",
       "         f8        f9       f10  ...         f54       f55       f56  \\\n",
       "0 -0.003309  1.761018  0.968297  ...    0.040241 -0.003450 -0.003327   \n",
       "1 -0.002772  1.682896  0.354919  ...    0.179168 -0.002913 -0.002791   \n",
       "2 -0.012089  1.165470  0.440719  ...    0.217412 -0.012249 -0.012108   \n",
       "3  0.009897  0.880806  1.230350  ...    0.399248  0.009783  0.009877   \n",
       "4  0.004808  0.481565  1.404777  ...   -0.325201  0.004683  0.004789   \n",
       "\n",
       "        f57  runner_id  result  event_id   is1   is2    oos  \n",
       "0  0.036781     353046       3    287398  True  True  False  \n",
       "1  0.213007     352217       5    287398  True  True  False  \n",
       "2 -0.173009     342962      13    287398  True  True  False  \n",
       "3  0.326784     361432       1    287398  True  True  False  \n",
       "4 -0.145831     359420       6    287398  True  True  False  \n",
       "\n",
       "[5 rows x 63 columns]"
      ]
     },
     "execution_count": 13,
     "metadata": {},
     "output_type": "execute_result"
    }
   ],
   "source": [
    "data = pd.read_csv('racehorse_data.csv', index_col=[0])\n",
    "data.head()"
   ]
  },
  {
   "cell_type": "code",
   "execution_count": 14,
   "metadata": {},
   "outputs": [],
   "source": [
    "features =data.ix[:,'f1':'f57'].columns"
   ]
  },
  {
   "cell_type": "code",
   "execution_count": 15,
   "metadata": {},
   "outputs": [
    {
     "name": "stderr",
     "output_type": "stream",
     "text": [
      "C:\\Users\\User\\Anaconda2\\lib\\site-packages\\ipykernel\\__main__.py:18: VisibleDeprecationWarning: using a non-integer number instead of an integer will result in an error in the future\n",
      "C:\\Users\\User\\Anaconda2\\lib\\site-packages\\ipykernel\\__main__.py:11: SettingWithCopyWarning: \n",
      "A value is trying to be set on a copy of a slice from a DataFrame.\n",
      "Try using .loc[row_indexer,col_indexer] = value instead\n",
      "\n",
      "See the caveats in the documentation: http://pandas.pydata.org/pandas-docs/stable/indexing.html#indexing-view-versus-copy\n",
      "C:\\Users\\User\\Anaconda2\\lib\\site-packages\\ipykernel\\__main__.py:12: SettingWithCopyWarning: \n",
      "A value is trying to be set on a copy of a slice from a DataFrame.\n",
      "Try using .loc[row_indexer,col_indexer] = value instead\n",
      "\n",
      "See the caveats in the documentation: http://pandas.pydata.org/pandas-docs/stable/indexing.html#indexing-view-versus-copy\n",
      "C:\\Users\\User\\Anaconda2\\lib\\site-packages\\ipykernel\\__main__.py:13: SettingWithCopyWarning: \n",
      "A value is trying to be set on a copy of a slice from a DataFrame.\n",
      "Try using .loc[row_indexer,col_indexer] = value instead\n",
      "\n",
      "See the caveats in the documentation: http://pandas.pydata.org/pandas-docs/stable/indexing.html#indexing-view-versus-copy\n"
     ]
    },
    {
     "name": "stdout",
     "output_type": "stream",
     "text": [
      "Wall time: 3min 24s\n"
     ]
    }
   ],
   "source": [
    "%time SGD1 = stochastic_gradient_descent(data.ix[data.is1,:], features, b_size =100, eta = 1e-3, moment = 0.9, verbose=False)"
   ]
  },
  {
   "cell_type": "code",
   "execution_count": 16,
   "metadata": {
    "collapsed": true
   },
   "outputs": [],
   "source": [
    "import matplotlib.pyplot as plt\n",
    "%matplotlib inline"
   ]
  },
  {
   "cell_type": "code",
   "execution_count": 17,
   "metadata": {},
   "outputs": [
    {
     "data": {
      "image/png": "[encoded data removed]",
      "text/plain": [
       "<matplotlib.figure.Figure at 0x9372eb8>"
      ]
     },
     "metadata": {},
     "output_type": "display_data"
    }
   ],
   "source": [
    "plt.figure(figsize=(20, 10))\n",
    "plt.plot(SGD1[1])\n",
    "plt.show()"
   ]
  },
  {
   "cell_type": "code",
   "execution_count": 17,
   "metadata": {},
   "outputs": [
    {
     "name": "stderr",
     "output_type": "stream",
     "text": [
      "C:\\Users\\User\\Anaconda2\\lib\\site-packages\\ipykernel\\__main__.py:18: VisibleDeprecationWarning: using a non-integer number instead of an integer will result in an error in the future\n",
      "C:\\Users\\User\\Anaconda2\\lib\\site-packages\\ipykernel\\__main__.py:11: SettingWithCopyWarning: \n",
      "A value is trying to be set on a copy of a slice from a DataFrame.\n",
      "Try using .loc[row_indexer,col_indexer] = value instead\n",
      "\n",
      "See the caveats in the documentation: http://pandas.pydata.org/pandas-docs/stable/indexing.html#indexing-view-versus-copy\n",
      "C:\\Users\\User\\Anaconda2\\lib\\site-packages\\ipykernel\\__main__.py:12: SettingWithCopyWarning: \n",
      "A value is trying to be set on a copy of a slice from a DataFrame.\n",
      "Try using .loc[row_indexer,col_indexer] = value instead\n",
      "\n",
      "See the caveats in the documentation: http://pandas.pydata.org/pandas-docs/stable/indexing.html#indexing-view-versus-copy\n",
      "C:\\Users\\User\\Anaconda2\\lib\\site-packages\\ipykernel\\__main__.py:13: SettingWithCopyWarning: \n",
      "A value is trying to be set on a copy of a slice from a DataFrame.\n",
      "Try using .loc[row_indexer,col_indexer] = value instead\n",
      "\n",
      "See the caveats in the documentation: http://pandas.pydata.org/pandas-docs/stable/indexing.html#indexing-view-versus-copy\n"
     ]
    },
    {
     "name": "stdout",
     "output_type": "stream",
     "text": [
      "Wall time: 3min 45s\n"
     ]
    }
   ],
   "source": [
    "%time SGD2 = stochastic_gradient_descent(data.ix[data.is1,:], features, b_size =100, eta = 1e-3, moment = 0.85, verbose=False)"
   ]
  },
  {
   "cell_type": "code",
   "execution_count": 18,
   "metadata": {},
   "outputs": [
    {
     "data": {
      "image/png": "[encoded data removed]",
      "text/plain": [
       "<matplotlib.figure.Figure at 0x116e37f0>"
      ]
     },
     "metadata": {},
     "output_type": "display_data"
    }
   ],
   "source": [
    "plt.figure(figsize=(20, 10))\n",
    "plt.plot(SGD2[1])\n",
    "plt.plot(SGD1[1])\n",
    "plt.show()"
   ]
  },
  {
   "cell_type": "code",
   "execution_count": 19,
   "metadata": {},
   "outputs": [
    {
     "name": "stderr",
     "output_type": "stream",
     "text": [
      "C:\\Users\\User\\Anaconda2\\lib\\site-packages\\ipykernel\\__main__.py:18: VisibleDeprecationWarning: using a non-integer number instead of an integer will result in an error in the future\n",
      "C:\\Users\\User\\Anaconda2\\lib\\site-packages\\ipykernel\\__main__.py:11: SettingWithCopyWarning: \n",
      "A value is trying to be set on a copy of a slice from a DataFrame.\n",
      "Try using .loc[row_indexer,col_indexer] = value instead\n",
      "\n",
      "See the caveats in the documentation: http://pandas.pydata.org/pandas-docs/stable/indexing.html#indexing-view-versus-copy\n",
      "C:\\Users\\User\\Anaconda2\\lib\\site-packages\\ipykernel\\__main__.py:12: SettingWithCopyWarning: \n",
      "A value is trying to be set on a copy of a slice from a DataFrame.\n",
      "Try using .loc[row_indexer,col_indexer] = value instead\n",
      "\n",
      "See the caveats in the documentation: http://pandas.pydata.org/pandas-docs/stable/indexing.html#indexing-view-versus-copy\n",
      "C:\\Users\\User\\Anaconda2\\lib\\site-packages\\ipykernel\\__main__.py:13: SettingWithCopyWarning: \n",
      "A value is trying to be set on a copy of a slice from a DataFrame.\n",
      "Try using .loc[row_indexer,col_indexer] = value instead\n",
      "\n",
      "See the caveats in the documentation: http://pandas.pydata.org/pandas-docs/stable/indexing.html#indexing-view-versus-copy\n"
     ]
    },
    {
     "name": "stdout",
     "output_type": "stream",
     "text": [
      "Wall time: 3min 29s\n"
     ]
    }
   ],
   "source": [
    "%time SGD3 = stochastic_gradient_descent(data.ix[data.is1,:], features, b_size =100, eta = 1e-3, moment = 0.8, verbose=False)"
   ]
  },
  {
   "cell_type": "code",
   "execution_count": 20,
   "metadata": {},
   "outputs": [
    {
     "data": {
      "image/png": "[encoded data removed]",
      "text/plain": [
       "<matplotlib.figure.Figure at 0x9b0f320>"
      ]
     },
     "metadata": {},
     "output_type": "display_data"
    }
   ],
   "source": [
    "plt.figure(figsize=(20, 10))\n",
    "plt.plot(SGD3[1])\n",
    "plt.plot(SGD2[1])\n",
    "plt.plot(SGD1[1])\n",
    "plt.show()"
   ]
  },
  {
   "cell_type": "code",
   "execution_count": 18,
   "metadata": {
    "collapsed": true
   },
   "outputs": [],
   "source": [
    "W = SGD1[0]\n",
    "def LL (data, features, w):\n",
    "    \n",
    "    S = (data.ix[:,features].dot(w)).values\n",
    "    P = softmax(S)\n",
    "    p_winer = P[(data['result']==1).values]\n",
    "    return np.log(p_winer)"
   ]
  },
  {
   "cell_type": "code",
   "execution_count": 19,
   "metadata": {},
   "outputs": [
    {
     "data": {
      "text/plain": [
       "array([-2.08598487])"
      ]
     },
     "execution_count": 19,
     "metadata": {},
     "output_type": "execute_result"
    }
   ],
   "source": [
    "data.groupby(by =data['event_id']).apply(lambda x: LL(x, features, W)).mean()"
   ]
  },
  {
   "cell_type": "code",
   "execution_count": 20,
   "metadata": {},
   "outputs": [
    {
     "name": "stdout",
     "output_type": "stream",
     "text": [
      "[-2.09697666]\n",
      "[-2.10068337]\n",
      "[-2.08619063]\n",
      "[-2.10861129]\n",
      "[-2.08195373]\n",
      "[-2.076911]\n",
      "[-2.0823253]\n",
      "[-2.08929633]\n",
      "[-2.07666996]\n",
      "[-2.0847946]\n"
     ]
    }
   ],
   "source": [
    "for i in range(10):\n",
    "    \n",
    "    W1 = np.random.normal(loc =W, scale =0.01, size =(len(features)))\n",
    "    print data.groupby(by =data['event_id']).apply(lambda x: LL(x, features, W1)).mean()"
   ]
  },
  {
   "cell_type": "code",
   "execution_count": 21,
   "metadata": {},
   "outputs": [],
   "source": [
    "def stochastic_gradient_descent_svm(data, features, b_size =100, eta=1e-3, moment = 0.85, la = 5.,\n",
    "                                max_iter=1e3,  min_weight_dist=1e-5, seed=42, verbose=False):\n",
    "    \n",
    "    \n",
    "    # Инициализируем расстояние между векторами весов на соседних\n",
    "    # итерациях большим числом. \n",
    "    weight_dist = np.inf\n",
    "    # Будем порождать псевдослучайные числа \n",
    "    # (номер объекта, который будет менять веса), а для воспроизводимости\n",
    "    # этой последовательности псевдослучайных чисел используем seed.\n",
    "    #np.random.seed(seed)\n",
    "    \n",
    "    w = np.random.randn(len(features))\n",
    "    \n",
    "    # Счетчик итераций\n",
    "    iter_num = 0\n",
    "    # массив изменения градиента\n",
    "    grad_norm = np.zeros(max_iter+1)\n",
    "    # значение последнего градиента\n",
    "    last_grad = np.zeros_like(w)\n",
    "        \n",
    "    # Основной цикл\n",
    "    while (weight_dist > min_weight_dist) and (iter_num < max_iter):\n",
    "        \n",
    "        # выберем случайно скачки количеством = b_size\n",
    "        r_event = np.random.choice(np.unique(data['event_id']), size = b_size)\n",
    "        \n",
    "        df = data.ix[np.in1d(data['event_id'], r_event),:]\n",
    "        grad_events = df.groupby(df['event_id']).apply(lambda x: G_step_exp_svm(x, features, w)).mean()\n",
    "        #grad_events = df.groupby(df['event_id']).apply(lambda x: G_step_svm_log(x, features, w)).mean()\n",
    "                                                       \n",
    "        last_grad = moment*last_grad +grad_events + la *w # градиентный шаг с моментом + регуляризатор\n",
    "        w = w - eta* last_grad\n",
    "        \n",
    "        weight_dist = np.linalg.norm(last_grad, ord=2)\n",
    "        if (weight_dist <= min_weight_dist):\n",
    "            print 'SGD covergence'\n",
    "        \n",
    "        iter_num +=1\n",
    "        grad_norm [iter_num]   = weight_dist \n",
    "        #weight_dist = grad_norm[-2] +grad_norm[-1]\n",
    "        if verbose:\n",
    "            #print 'w  ', w\n",
    "            print 'iteration', iter_num, 'dist ',weight_dist\n",
    "        \n",
    "        if iter_num > 300:\n",
    "            eta = eta/10.\n",
    "        elif iter_num > 600:\n",
    "            eta = eta/10.\n",
    "        #eta = eta/np.square(iter_num+1) # переменный шаг\n",
    "         \n",
    "        if np.any(w == np.nan):\n",
    "            print \"w overcome\"\n",
    "            break\n",
    "        \n",
    "    return w, grad_norm , iter_num"
   ]
  },
  {
   "cell_type": "code",
   "execution_count": 22,
   "metadata": {},
   "outputs": [
    {
     "name": "stderr",
     "output_type": "stream",
     "text": [
      "C:\\Users\\User\\Anaconda2\\lib\\site-packages\\ipykernel\\__main__.py:18: VisibleDeprecationWarning: using a non-integer number instead of an integer will result in an error in the future\n"
     ]
    },
    {
     "name": "stdout",
     "output_type": "stream",
     "text": [
      "Wall time: 4min 23s\n"
     ]
    }
   ],
   "source": [
    "%time svm_SGD = stochastic_gradient_descent_svm(data[data.is1], features)"
   ]
  },
  {
   "cell_type": "code",
   "execution_count": 23,
   "metadata": {},
   "outputs": [
    {
     "data": {
      "image/png": "[encoded data removed]",
      "text/plain": [
       "<matplotlib.figure.Figure at 0xfdaeef0>"
      ]
     },
     "metadata": {},
     "output_type": "display_data"
    }
   ],
   "source": [
    "plt.figure(figsize=(20, 10))\n",
    "plt.plot(svm_SGD[1])\n",
    "plt.show()"
   ]
  },
  {
   "cell_type": "code",
   "execution_count": 24,
   "metadata": {},
   "outputs": [
    {
     "data": {
      "text/plain": [
       "array([-2.13837669])"
      ]
     },
     "execution_count": 24,
     "metadata": {},
     "output_type": "execute_result"
    }
   ],
   "source": [
    "W_svm = svm_SGD[0]\n",
    "data.groupby(by =data['event_id']).apply(lambda x: LL(x, features, W_svm)).mean()"
   ]
  },
  {
   "cell_type": "code",
   "execution_count": 25,
   "metadata": {
    "collapsed": true
   },
   "outputs": [],
   "source": [
    "def svm_distance(data, features, w):\n",
    "    \n",
    "    S = (data.ix[:,features].dot(w)).values\n",
    "    P = softmax(S)\n",
    "    p_winer = P[(data['result']==1).values]\n",
    "    return p_winer/(1-p_winer)"
   ]
  },
  {
   "cell_type": "code",
   "execution_count": 26,
   "metadata": {},
   "outputs": [
    {
     "data": {
      "text/plain": [
       "array([ 0.15060057])"
      ]
     },
     "execution_count": 26,
     "metadata": {},
     "output_type": "execute_result"
    }
   ],
   "source": [
    "data.groupby(by =data['event_id']).apply(lambda x: svm_distance(x, features, W_svm)).mean()"
   ]
  },
  {
   "cell_type": "code",
   "execution_count": 27,
   "metadata": {},
   "outputs": [
    {
     "name": "stdout",
     "output_type": "stream",
     "text": [
      "[ 0.14934554]\n",
      "[ 0.15273962]\n",
      "[ 0.14925028]\n",
      "[ 0.15156209]\n",
      "[ 0.15100307]\n",
      "[ 0.14678557]\n",
      "[ 0.15061156]\n",
      "[ 0.15015984]\n",
      "[ 0.15197272]\n",
      "[ 0.15123717]\n"
     ]
    }
   ],
   "source": [
    "for i in range(10):\n",
    "    \n",
    "    W1 = np.random.normal(loc =W_svm, scale =0.01, size =(len(features)))\n",
    "    print data.groupby(by =data['event_id']).apply(lambda x: svm_distance(x, features, W1)).mean()"
   ]
  },
  {
   "cell_type": "code",
   "execution_count": 28,
   "metadata": {
    "collapsed": true
   },
   "outputs": [],
   "source": [
    "def G_step_svm_log(df, features, w, verbose=False):\n",
    "    \"\"\" features = matrix n x i where n = number of the horse, i = feature of the horse\n",
    "        winer  = vector n where there is only one non zesos in the position winer's horse\n",
    "        \n",
    "        return the step of gradient decent \n",
    "    \"\"\"\n",
    "    if verbose:\n",
    "        print 'SG_step'\n",
    "        print 'shape of data  ',data.shape\n",
    "        print \n",
    "    S = (df.ix[:,features].dot(w)).values\n",
    "    p = softmax(S)\n",
    "    winner_mask = (df['result'] ==1).values\n",
    "    winner = winner_mask.astype(int)\n",
    "    P_winer = p[winner_mask]\n",
    "    grad = np.dot(winner -p, df[features])/(1-P_winer)\n",
    "    \n",
    "    return -1*grad "
   ]
  },
  {
   "cell_type": "code",
   "execution_count": 41,
   "metadata": {},
   "outputs": [],
   "source": [
    "def stochastic_gradient_descent_svm_log(data, features, W_init =None, b_size =100, eta=1e-3, moment = 0.85, la = 5.,\n",
    "                                max_iter=1e3,  min_weight_dist=1e-5, seed=42, verbose=False):\n",
    "    \n",
    "    \n",
    "    # Инициализируем расстояние между векторами весов на соседних\n",
    "    # итерациях большим числом. \n",
    "    weight_dist = np.inf\n",
    "    # Будем порождать псевдослучайные числа \n",
    "    # (номер объекта, который будет менять веса), а для воспроизводимости\n",
    "    # этой последовательности псевдослучайных чисел используем seed.\n",
    "    #np.random.seed(seed)\n",
    "    w = W_init\n",
    "    if not np.any(w):\n",
    "        w = np.random.randn(len(features))\n",
    "    \n",
    "    # Счетчик итераций\n",
    "    iter_num = 0\n",
    "    # массив изменения градиента\n",
    "    grad_norm = np.zeros(max_iter+1)\n",
    "    # значение последнего градиента\n",
    "    last_grad = np.zeros_like(w)\n",
    "        \n",
    "    # Основной цикл\n",
    "    while (weight_dist > min_weight_dist) and (iter_num < max_iter):\n",
    "        \n",
    "        # выберем случайно скачки количеством = b_size\n",
    "        r_event = np.random.choice(np.unique(data['event_id']), size = b_size)\n",
    "        \n",
    "        df = data.ix[np.in1d(data['event_id'], r_event),:]\n",
    "        #grad_events = df.groupby(df['event_id']).apply(lambda x: G_step_svm(x, features, w)).mean()\n",
    "        grad_events = df.groupby(df['event_id']).apply(lambda x: G_step_svm_log(x, features, w)).mean()\n",
    "                                                       \n",
    "        last_grad = moment*last_grad +grad_events + la *w # градиентный шаг с моментом + регуляризатор\n",
    "        w = w - eta* last_grad\n",
    "        \n",
    "        weight_dist = np.linalg.norm(last_grad, ord=2)\n",
    "        if (weight_dist <= min_weight_dist):\n",
    "            print 'SGD covergence'\n",
    "        \n",
    "        iter_num +=1\n",
    "        grad_norm [iter_num]   = weight_dist \n",
    "        #weight_dist = grad_norm[-2] +grad_norm[-1]\n",
    "        if verbose:\n",
    "            #print 'w  ', w\n",
    "            print 'iteration', iter_num, 'dist ',weight_dist\n",
    "        \n",
    "        if iter_num > 300:\n",
    "            eta = eta/10.\n",
    "        elif iter_num > 600:\n",
    "            eta = eta/10.\n",
    "        #eta = eta/np.square(iter_num+1) # переменный шаг\n",
    "         \n",
    "        if np.any(w == np.nan):\n",
    "            print \"w overcome\"\n",
    "            break\n",
    "        \n",
    "    return w, grad_norm , iter_num"
   ]
  },
  {
   "cell_type": "code",
   "execution_count": 30,
   "metadata": {},
   "outputs": [
    {
     "name": "stderr",
     "output_type": "stream",
     "text": [
      "C:\\Users\\User\\Anaconda2\\lib\\site-packages\\ipykernel\\__main__.py:18: VisibleDeprecationWarning: using a non-integer number instead of an integer will result in an error in the future\n"
     ]
    },
    {
     "name": "stdout",
     "output_type": "stream",
     "text": [
      "Wall time: 4min 32s\n"
     ]
    }
   ],
   "source": [
    "%time log_svm_SGD2 = stochastic_gradient_descent_svm_log(data[data.is1], features, moment=0.9)"
   ]
  },
  {
   "cell_type": "code",
   "execution_count": 31,
   "metadata": {},
   "outputs": [
    {
     "data": {
      "image/png": "[encoded data removed]",
      "text/plain": [
       "<matplotlib.figure.Figure at 0xea10358>"
      ]
     },
     "metadata": {},
     "output_type": "display_data"
    }
   ],
   "source": [
    "plt.figure(figsize=(20, 10))\n",
    "#plt.plot(log_svm_SGD[1])\n",
    "plt.plot(log_svm_SGD2[1])\n",
    "plt.show()"
   ]
  },
  {
   "cell_type": "code",
   "execution_count": 32,
   "metadata": {},
   "outputs": [
    {
     "data": {
      "text/plain": [
       "array([-2.07495484])"
      ]
     },
     "execution_count": 32,
     "metadata": {},
     "output_type": "execute_result"
    }
   ],
   "source": [
    "W_svm_log = log_svm_SGD2[0]\n",
    "data.groupby(by =data['event_id']).apply(lambda x: LL(x, features, W_svm_log)).mean()"
   ]
  },
  {
   "cell_type": "code",
   "execution_count": 33,
   "metadata": {},
   "outputs": [
    {
     "data": {
      "text/plain": [
       "array([ 0.16750881])"
      ]
     },
     "execution_count": 33,
     "metadata": {},
     "output_type": "execute_result"
    }
   ],
   "source": [
    "data.groupby(by =data['event_id']).apply(lambda x: svm_distance(x, features, W_svm_log)).mean()"
   ]
  },
  {
   "cell_type": "code",
   "execution_count": 34,
   "metadata": {},
   "outputs": [
    {
     "name": "stdout",
     "output_type": "stream",
     "text": [
      "[-2.08136962]\n",
      "[-2.08807014]\n",
      "[-2.09042788]\n",
      "[-2.06627477]\n",
      "[-2.07693591]\n",
      "[-2.09101376]\n",
      "[-2.07071023]\n",
      "[-2.07312281]\n",
      "[-2.06907216]\n",
      "[-2.07238826]\n"
     ]
    }
   ],
   "source": [
    "for i in range(10):\n",
    "    \n",
    "    W1 = np.random.normal(loc =W_svm_log, scale =0.01, size =(len(features)))\n",
    "    print data.groupby(by =data['event_id']).apply(lambda x: LL(x, features, W1)).mean()"
   ]
  },
  {
   "cell_type": "code",
   "execution_count": 42,
   "metadata": {},
   "outputs": [
    {
     "name": "stderr",
     "output_type": "stream",
     "text": [
      "C:\\Users\\User\\Anaconda2\\lib\\site-packages\\ipykernel\\__main__.py:19: VisibleDeprecationWarning: using a non-integer number instead of an integer will result in an error in the future\n"
     ]
    },
    {
     "name": "stdout",
     "output_type": "stream",
     "text": [
      "Wall time: 4min 30s\n"
     ]
    }
   ],
   "source": [
    "%time log_svm_SGD3 = stochastic_gradient_descent_svm_log(data[data.is1], features, W_init =W_svm_log, moment=0.9)"
   ]
  },
  {
   "cell_type": "code",
   "execution_count": 47,
   "metadata": {},
   "outputs": [
    {
     "name": "stdout",
     "output_type": "stream",
     "text": [
      "ll is1    [-2.06818329]\n",
      "ll oos    [-2.09025953]\n"
     ]
    }
   ],
   "source": [
    "W_svm_log = log_svm_SGD3[0]\n",
    "print 'll is1   ',data.groupby(by =data.ix[data.is1,'event_id']).apply(lambda x: LL(x, features, W_svm_log)).mean()\n",
    "print 'll oos   ',data.groupby(by =data.ix[data.oos,'event_id']).apply(lambda x: LL(x, features, W_svm_log)).mean()"
   ]
  },
  {
   "cell_type": "code",
   "execution_count": 48,
   "metadata": {},
   "outputs": [
    {
     "data": {
      "image/png": "[encoded data removed]",
      "text/plain": [
       "<matplotlib.figure.Figure at 0xe9f3a58>"
      ]
     },
     "metadata": {},
     "output_type": "display_data"
    }
   ],
   "source": [
    "plt.figure(figsize=(20, 10))\n",
    "plt.plot(log_svm_SGD3[1])\n",
    "plt.plot(log_svm_SGD2[1])\n",
    "plt.show()"
   ]
  },
  {
   "cell_type": "code",
   "execution_count": 50,
   "metadata": {},
   "outputs": [
    {
     "name": "stdout",
     "output_type": "stream",
     "text": [
      "ll is1    [-2.13126287]\n",
      "ll oos    [-2.15772536]\n"
     ]
    }
   ],
   "source": [
    "W_svm_log = log_svm_SGD3[0]\n",
    "print 'll is1   ',data.groupby(by =data.ix[data.is1,'event_id']).apply(lambda x: LL(x, features, W_svm)).mean()\n",
    "print 'll oos   ',data.groupby(by =data.ix[data.oos,'event_id']).apply(lambda x: LL(x, features, W_svm)).mean()"
   ]
  },
  {
   "cell_type": "code",
   "execution_count": 49,
   "metadata": {},
   "outputs": [
    {
     "data": {
      "text/plain": [
       "array([  1.21152562e-03,   7.49524968e-04,   2.19149969e-04,\n",
       "        -3.35204219e-04,  -9.24144008e-05,  -1.01176746e-04,\n",
       "        -9.62159417e-04,   1.85582119e-04,   3.12323326e-04,\n",
       "        -1.82080868e-03,  -3.80602588e-04,   4.20498748e-04,\n",
       "        -6.86267344e-04,   1.84066765e-04,  -4.58505938e-04,\n",
       "        -9.40545967e-05,   1.86038378e-04,  -1.17068572e-04,\n",
       "        -4.76832067e-04,   1.53685749e-04,   5.34393602e-04,\n",
       "        -1.88998573e-04,  -1.05308491e-03,   5.93709833e-05,\n",
       "         1.61490952e-04,  -7.80395091e-06,   6.03021286e-04,\n",
       "        -2.47121932e-05,   3.85122170e-04,   8.23188308e-04,\n",
       "        -9.44987951e-04,  -2.50965706e-05,  -3.67116976e-04,\n",
       "        -3.59568209e-05,   1.76818239e-04,  -3.60245017e-04,\n",
       "        -2.66341309e-04,  -5.81460026e-04,   1.85434333e-04,\n",
       "         1.25616481e-03,   3.03745286e-03,   2.69206371e-03,\n",
       "        -1.19940049e-03,  -4.76834743e-04,   8.19437471e-04,\n",
       "         1.18608397e-04,   2.46125561e-04,   8.27382890e-05,\n",
       "         6.40997214e-04,   2.59030652e-03,   5.79647076e-04,\n",
       "        -4.94034384e-04,   7.89330281e-04,   1.61949371e-03,\n",
       "         1.86258683e-04,   1.85488066e-04,   1.00694231e-03])"
      ]
     },
     "execution_count": 49,
     "metadata": {},
     "output_type": "execute_result"
    }
   ],
   "source": [
    "log_svm_SGD3[0] - log_svm_SGD2[0]"
   ]
  },
  {
   "cell_type": "code",
   "execution_count": 58,
   "metadata": {},
   "outputs": [
    {
     "data": {
      "text/plain": [
       "array([-1.92054193])"
      ]
     },
     "execution_count": 58,
     "metadata": {},
     "output_type": "execute_result"
    }
   ],
   "source": [
    "data.groupby(by =data['event_id']).apply(lambda x: np.log(svm_distance(x, features, W_svm_log))).mean()"
   ]
  },
  {
   "cell_type": "code",
   "execution_count": 59,
   "metadata": {},
   "outputs": [
    {
     "name": "stdout",
     "output_type": "stream",
     "text": [
      "[-1.93949458]\n",
      "[-1.92515709]\n",
      "[-1.91183294]\n",
      "[-1.9334154]\n",
      "[-1.91623446]\n",
      "[-1.92248936]\n",
      "[-1.92739877]\n",
      "[-1.91267932]\n",
      "[-1.91516905]\n",
      "[-1.91883063]\n"
     ]
    }
   ],
   "source": [
    "for i in range(10):\n",
    "    \n",
    "    W1 = np.random.normal(loc =W_svm_log, scale =0.01, size =(len(features)))\n",
    "    print data.groupby(by =data['event_id']).apply(lambda x: np.log(svm_distance(x, features, W1))).mean()"
   ]
  },
  {
   "cell_type": "code",
   "execution_count": null,
   "metadata": {
    "collapsed": true
   },
   "outputs": [],
   "source": []
  },
  {
   "cell_type": "code",
   "execution_count": null,
   "metadata": {
    "collapsed": true
   },
   "outputs": [],
   "source": []
  }
 ],
 "metadata": {
  "anaconda-cloud": {},
  "kernelspec": {
   "display_name": "Python 2",
   "language": "python",
   "name": "python2"
  },
  "language_info": {
   "codemirror_mode": {
    "name": "ipython",
    "version": 2
   },
   "file_extension": ".py",
   "mimetype": "text/x-python",
   "name": "python",
   "nbconvert_exporter": "python",
   "pygments_lexer": "ipython2",
   "version": "2.7.13"
  }
 },
 "nbformat": 4,
 "nbformat_minor": 1
}
