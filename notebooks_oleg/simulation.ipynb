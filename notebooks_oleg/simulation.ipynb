{
 "cells": [
  {
<<<<<<< HEAD
   "cell_type": "markdown",
   "metadata": {},
=======
   "cell_type": "code",
   "execution_count": null,
   "metadata": {
    "collapsed": true
   },
   "outputs": [],
>>>>>>> 1e5f4411fbea5e89758391cb073f4beab2d9a393
   "source": [
    "# ThoroughBet Simulation"
   ]
  },
  {
   "cell_type": "markdown",
   "metadata": {},
   "source": [
    "\n",
    "## Load necessary modules"
   ]
  },
  {
   "cell_type": "code",
<<<<<<< HEAD
   "execution_count": 1,
=======
   "execution_count": 6,
>>>>>>> 1e5f4411fbea5e89758391cb073f4beab2d9a393
   "metadata": {
    "collapsed": false
   },
   "outputs": [],
   "source": [
    "import numpy as np\n",
    "\n",
    "from utils import settings, timestamp, YEAR\n",
    "from utils.arrayview import ArrayView, TimeseriesView\n",
    "\n",
    "\n",
    "from prediction.models.preprocessing import Model\n",
    "from prediction.models.prediction import factornames_trimmed\n",
<<<<<<< HEAD
    "from prediction.models.parameters import factor_build_end"
=======
    "from prediction.models.parameters import factor_build_end\n"
>>>>>>> 1e5f4411fbea5e89758391cb073f4beab2d9a393
   ]
  },
  {
   "cell_type": "markdown",
   "metadata": {},
   "source": [
    "## Load data"
   ]
  },
  {
   "cell_type": "code",
<<<<<<< HEAD
   "execution_count": 2,
   "metadata": {
    "collapsed": false
   },
   "outputs": [],
   "source": [
    "av = ArrayView.from_file('data/racingdata.av.bcolz')"
=======
   "execution_count": 24,
   "metadata": {
    "collapsed": false
   },
   "outputs": [
    {
     "name": "stdout",
     "output_type": "stream",
     "text": [
      "CPU times: user 1.32 s, sys: 1.12 s, total: 2.44 s\n",
      "Wall time: 1.96 s\n"
     ]
    }
   ],
   "source": [
    "%time av = ArrayView.from_file(settings.paths.join('data/racingdata.av.bcolz'))"
>>>>>>> 1e5f4411fbea5e89758391cb073f4beab2d9a393
   ]
  },
  {
   "cell_type": "code",
   "execution_count": 3,
   "metadata": {
<<<<<<< HEAD
    "collapsed": false
=======
    "collapsed": true
>>>>>>> 1e5f4411fbea5e89758391cb073f4beab2d9a393
   },
   "outputs": [],
   "source": [
    "tsav = {}\n",
    "sl = 0\n",
    "while True:\n",
    "    try:\n",
    "        tsav[sl] = ArrayView.from_file('data/slice_%i.av.bcolz' % sl)\n",
    "    except ValueError:\n",
    "        break\n",
    "    sl += 1"
   ]
  },
  {
   "cell_type": "markdown",
   "metadata": {},
   "source": [
    "## Preprocessing"
   ]
  },
  {
   "cell_type": "code",
<<<<<<< HEAD
   "execution_count": 4,
   "metadata": {
    "collapsed": false,
    "scrolled": true
=======
   "execution_count": 7,
   "metadata": {
    "collapsed": false
>>>>>>> 1e5f4411fbea5e89758391cb073f4beab2d9a393
   },
   "outputs": [],
   "source": [
    "mod = Model(av, oos_start=factor_build_end+YEAR)"
   ]
  },
  {
   "cell_type": "code",
<<<<<<< HEAD
   "execution_count": 5,
   "metadata": {
    "collapsed": false
=======
   "execution_count": 22,
   "metadata": {
    "collapsed": false,
    "scrolled": true
>>>>>>> 1e5f4411fbea5e89758391cb073f4beab2d9a393
   },
   "outputs": [
    {
     "name": "stderr",
     "output_type": "stream",
     "text": [
      "INFO:models:Getting factors from av and rescaling...\n"
     ]
    },
    {
     "name": "stdout",
     "output_type": "stream",
     "text": [
      ". . . . ."
     ]
    },
    {
     "name": "stderr",
     "output_type": "stream",
     "text": [
      "INFO:models:Filling in missing values...\n",
      "INFO:models:Computing each factor as linear combination of all the others...\n"
     ]
    },
    {
     "name": "stdout",
     "output_type": "stream",
     "text": [
      " . . . . ."
     ]
    },
    {
     "name": "stderr",
     "output_type": "stream",
     "text": [
      "INFO:models:Number of missing patterns: 9326\n"
     ]
    },
    {
     "name": "stdout",
     "output_type": "stream",
     "text": [
      " . . . . . . . . ."
     ]
    },
    {
     "name": "stderr",
     "output_type": "stream",
     "text": [
      "INFO:models:Transforming factors by applying CL-model on their Taylor expansions...\n"
     ]
    },
    {
     "name": "stdout",
     "output_type": "stream",
     "text": [
<<<<<<< HEAD
      " . . . . .CPU times: user 6min 27s, sys: 25.3 s, total: 6min 53s\n",
      "Wall time: 4min 57s\n",
=======
      " . . . . .CPU times: user 1min 59s, sys: 2min 51s, total: 4min 50s\n",
      "Wall time: 2min 4s\n",
>>>>>>> 1e5f4411fbea5e89758391cb073f4beab2d9a393
      "\n"
     ]
    }
   ],
   "source": [
    "%time factors = mod._preprocess_factors(factornames_trimmed, verbose=True)"
   ]
  },
  {
<<<<<<< HEAD
   "cell_type": "code",
   "execution_count": 6,
   "metadata": {
    "collapsed": false
   },
   "outputs": [
    {
     "data": {
      "text/plain": [
       "array([158496, 158497, 158498, ..., 326212, 326213, 326214])"
      ]
     },
     "execution_count": 6,
     "metadata": {},
     "output_type": "execute_result"
    }
   ],
   "source": [
    "np.unique(mod.av.event_id)"
   ]
  },
  {
=======
>>>>>>> 1e5f4411fbea5e89758391cb073f4beab2d9a393
   "cell_type": "markdown",
   "metadata": {},
   "source": [
    "## Fit conditional logit model to data"
   ]
  },
  {
   "cell_type": "code",
<<<<<<< HEAD
   "execution_count": 7,
=======
   "execution_count": 9,
>>>>>>> 1e5f4411fbea5e89758391cb073f4beab2d9a393
   "metadata": {
    "collapsed": false
   },
   "outputs": [
    {
     "name": "stderr",
     "output_type": "stream",
     "text": [
      "INFO:models:Fitting...\n",
      "INFO:models:Slice: 0\n"
     ]
    },
    {
     "name": "stdout",
     "output_type": "stream",
     "text": [
      "\n"
     ]
    },
    {
     "name": "stderr",
     "output_type": "stream",
     "text": [
      "INFO:models:Slice: 1\n"
     ]
    },
    {
     "name": "stdout",
     "output_type": "stream",
     "text": [
      "\n"
     ]
    },
    {
     "name": "stderr",
     "output_type": "stream",
     "text": [
      "INFO:models:Slice: 2\n"
     ]
    },
    {
     "name": "stdout",
     "output_type": "stream",
     "text": [
      "\n"
     ]
    },
    {
     "name": "stderr",
     "output_type": "stream",
     "text": [
      "INFO:models:Slice: 3\n"
     ]
    },
    {
     "name": "stdout",
     "output_type": "stream",
     "text": [
      "\n"
     ]
    },
    {
     "name": "stderr",
     "output_type": "stream",
     "text": [
      "INFO:models:Slice: 4\n"
     ]
    },
    {
     "name": "stdout",
     "output_type": "stream",
     "text": [
      "\n"
     ]
    },
    {
     "name": "stderr",
     "output_type": "stream",
     "text": [
      "INFO:models:Slice: 5\n"
     ]
    },
    {
     "name": "stdout",
     "output_type": "stream",
     "text": [
      "\n"
     ]
    },
    {
     "name": "stderr",
     "output_type": "stream",
     "text": [
      "INFO:models:Slice: 6\n"
     ]
    },
    {
     "name": "stdout",
     "output_type": "stream",
     "text": [
      "\n"
     ]
    },
    {
     "name": "stderr",
     "output_type": "stream",
     "text": [
      "INFO:models:Slice: 7\n"
     ]
    },
    {
     "name": "stdout",
     "output_type": "stream",
     "text": [
      "\n"
     ]
    },
    {
     "name": "stderr",
     "output_type": "stream",
     "text": [
      "INFO:models:Slice: 8\n"
     ]
    },
    {
     "name": "stdout",
     "output_type": "stream",
     "text": [
      "\n"
     ]
    },
    {
     "name": "stderr",
     "output_type": "stream",
     "text": [
      "INFO:models:Slice: 9\n"
     ]
    },
    {
     "name": "stdout",
     "output_type": "stream",
     "text": [
      "\n"
     ]
    },
    {
     "name": "stderr",
     "output_type": "stream",
     "text": [
      "INFO:models:Done.\n"
     ]
<<<<<<< HEAD
    },
    {
     "name": "stdout",
     "output_type": "stream",
     "text": [
      "CPU times: user 9min 56s, sys: 19.1 s, total: 10min 15s\n",
      "Wall time: 8min 38s\n"
     ]
    }
   ],
   "source": [
    "%time step1_coefs, step2_coefs = mod.fit_slices(tsav, factors, depth=3, lmbd=10, verbose=True, fit_afresh=True)"
=======
    }
   ],
   "source": [
    "step1_coefs, step2_coefs = mod.fit_slices(tsav, factors, depth=3, lmbd=10, verbose=True, fit_afresh=True)"
   ]
  },
  {
   "cell_type": "code",
   "execution_count": 10,
   "metadata": {
    "collapsed": false
   },
   "outputs": [
    {
     "data": {
      "text/plain": [
       "<Timestamp 2016-07-31 00:00:00.000000>"
      ]
     },
     "execution_count": 10,
     "metadata": {},
     "output_type": "execute_result"
    }
   ],
   "source": [
    "timestamp(factor_build_end+YEAR)"
>>>>>>> 1e5f4411fbea5e89758391cb073f4beab2d9a393
   ]
  },
  {
   "cell_type": "code",
<<<<<<< HEAD
   "execution_count": 9,
=======
   "execution_count": 15,
>>>>>>> 1e5f4411fbea5e89758391cb073f4beab2d9a393
   "metadata": {
    "collapsed": false
   },
   "outputs": [
    {
     "data": {
      "text/plain": [
<<<<<<< HEAD
       "[-1940.030039352089, -1959.8398699435547, -1959.8398699435547]"
      ]
     },
     "execution_count": 9,
=======
       "(361715,)"
      ]
     },
     "execution_count": 15,
>>>>>>> 1e5f4411fbea5e89758391cb073f4beab2d9a393
     "metadata": {},
     "output_type": "execute_result"
    }
   ],
   "source": [
<<<<<<< HEAD
    "mod.stats.ll"
=======
    "tsav[0].run_id.shape"
>>>>>>> 1e5f4411fbea5e89758391cb073f4beab2d9a393
   ]
  },
  {
   "cell_type": "code",
<<<<<<< HEAD
   "execution_count": 10,
=======
   "execution_count": 16,
>>>>>>> 1e5f4411fbea5e89758391cb073f4beab2d9a393
   "metadata": {
    "collapsed": false
   },
   "outputs": [
    {
     "data": {
      "text/plain": [
<<<<<<< HEAD
       "[0.11908139525139882, 0.1148184970733106, 0.1148184970733106]"
      ]
     },
     "execution_count": 10,
=======
       "1637543"
      ]
     },
     "execution_count": 16,
     "metadata": {},
     "output_type": "execute_result"
    }
   ],
   "source": [
    "len(av)"
   ]
  },
  {
   "cell_type": "code",
   "execution_count": 17,
   "metadata": {
    "collapsed": true
   },
   "outputs": [],
   "source": [
    "ints = np.where(np.in1d(av.run_id, tsav[0].run_id))[0]"
   ]
  },
  {
   "cell_type": "code",
   "execution_count": 21,
   "metadata": {
    "collapsed": false
   },
   "outputs": [
    {
     "data": {
      "text/plain": [
       "<Timestamp 2016-08-31 23:55:00.000000>"
      ]
     },
     "execution_count": 21,
     "metadata": {},
     "output_type": "execute_result"
    }
   ],
   "source": [
    "timestamp(np.max(av.start_time[ints]))"
   ]
  },
  {
   "cell_type": "code",
   "execution_count": 25,
   "metadata": {
    "collapsed": false
   },
   "outputs": [
    {
     "data": {
      "text/plain": [
       "{0: <utils.arrayview.arrayview.ArrayView at 0x7f7caee8b090>,\n",
       " 1: <utils.arrayview.arrayview.ArrayView at 0x7f7caee8b050>,\n",
       " 2: <utils.arrayview.arrayview.ArrayView at 0x7f7caee8b0d0>,\n",
       " 3: <utils.arrayview.arrayview.ArrayView at 0x7f7caee8b150>,\n",
       " 4: <utils.arrayview.arrayview.ArrayView at 0x7f7caee8b350>,\n",
       " 5: <utils.arrayview.arrayview.ArrayView at 0x7f7caee8b4d0>,\n",
       " 6: <utils.arrayview.arrayview.ArrayView at 0x7f7caee8b550>,\n",
       " 7: <utils.arrayview.arrayview.ArrayView at 0x7f7caee8b5d0>,\n",
       " 8: <utils.arrayview.arrayview.ArrayView at 0x7f7caee8b650>,\n",
       " 9: <utils.arrayview.arrayview.ArrayView at 0x7f7caee8b6d0>,\n",
       " 10: <utils.arrayview.arrayview.ArrayView at 0x7f7caee8b750>}"
      ]
     },
     "execution_count": 25,
>>>>>>> 1e5f4411fbea5e89758391cb073f4beab2d9a393
     "metadata": {},
     "output_type": "execute_result"
    }
   ],
   "source": [
<<<<<<< HEAD
    "mod.stats.pr2"
=======
    "tsav"
>>>>>>> 1e5f4411fbea5e89758391cb073f4beab2d9a393
   ]
  },
  {
   "cell_type": "code",
   "execution_count": null,
   "metadata": {
    "collapsed": true
   },
   "outputs": [],
   "source": []
  }
 ],
 "metadata": {
<<<<<<< HEAD
  "anaconda-cloud": {},
  "kernelspec": {
   "display_name": "Python [conda root]",
   "language": "python",
   "name": "conda-root-py"
=======
  "kernelspec": {
   "display_name": "Python 2",
   "language": "python",
   "name": "python2"
>>>>>>> 1e5f4411fbea5e89758391cb073f4beab2d9a393
  },
  "language_info": {
   "codemirror_mode": {
    "name": "ipython",
    "version": 2
   },
   "file_extension": ".py",
   "mimetype": "text/x-python",
   "name": "python",
   "nbconvert_exporter": "python",
   "pygments_lexer": "ipython2",
   "version": "2.7.12"
  }
 },
 "nbformat": 4,
 "nbformat_minor": 1
}
