{
 "cells": [
  {
   "cell_type": "markdown",
   "metadata": {},
   "source": [
    "# ThoroughBet Simulation"
   ]
  },
  {
   "cell_type": "markdown",
   "metadata": {},
   "source": [
    "\n",
    "## Load necessary modules"
   ]
  },
  {
   "cell_type": "code",
   "execution_count": 1,
   "metadata": {},
   "outputs": [],
   "source": [
    "import numpy as np\n",
    "\n",
    "from utils import settings, timestamp, YEAR\n",
    "from utils.arrayview import ArrayView, TimeseriesView\n",
    "\n",
    "\n",
    "from prediction.models.preprocessing import Model\n",
    "from prediction.models.prediction import factornames_trimmed\n",
    "from prediction.models.parameters import factor_build_end\n",
    "from prediction.tools.clustering import write_dic_to_simdata"
   ]
  },
  {
   "cell_type": "markdown",
   "metadata": {},
   "source": [
    "## Load data"
   ]
  },
  {
   "cell_type": "code",
   "execution_count": 2,
   "metadata": {},
   "outputs": [],
   "source": [
    "av = ArrayView.from_file(settings.paths.join('brain_final2cut.av.bcolz'))"
   ]
  },
  {
   "cell_type": "code",
   "execution_count": 3,
   "metadata": {},
   "outputs": [],
   "source": [
    "tsav = {}\n",
    "sl = 0\n",
    "while True:\n",
    "    try:\n",
    "        tsav[sl] = ArrayView.from_file(settings.paths.join('brain_final2_slice_%s.av.bcolz' % sl))\n",
    "    except ValueError:\n",
    "        break\n",
    "    sl += 1"
   ]
  },
  {
   "cell_type": "markdown",
   "metadata": {},
   "source": [
    "## Preprocessing"
   ]
  },
  {
   "cell_type": "code",
   "execution_count": 4,
   "metadata": {
    "scrolled": true
   },
   "outputs": [],
   "source": [
    "mod = Model(av, oos_start=factor_build_end+YEAR)"
   ]
  },
  {
   "cell_type": "code",
   "execution_count": 5,
   "metadata": {
    "collapsed": true
   },
   "outputs": [],
   "source": [
    "high_kurtosis_factors =  ['z64f5be67e', 'z90adc182a', 'z7081bf371', 'z34b808e99', 'z757be272e', 'z5a85cd6a9',\n",
    "                         'zf991b634a', 'z62651f605', 'zd002b7067', 'z2ef7fedca', 'z6f11029f7', 'z412893062',\n",
    "                          'z919b9585a', 'z89b0eda37', 'z31780b3f4', 'z6631693d3', 'z0b27f29ad', 'zd7cd94e4c', \n",
    "                          'zf5b2aef2a']"
   ]
  },
  {
   "cell_type": "code",
   "execution_count": 6,
   "metadata": {
    "collapsed": true
   },
   "outputs": [],
   "source": [
    "price_factors = ['zb392bb74a', 'z6809c316d', 'zd678f0538', 'z027f9f0f5', 'z88e79930c', 'z4a72dc02f',\n",
    "                 'z1a3573928', 'z7b15df227']"
   ]
  },
  {
   "cell_type": "code",
   "execution_count": 7,
   "metadata": {
    "scrolled": true
   },
   "outputs": [
    {
     "name": "stderr",
     "output_type": "stream",
     "text": [
      "INFO:models:Getting factors from av and rescaling...\n"
     ]
    },
    {
     "name": "stdout",
     "output_type": "stream",
     "text": [
      ". . . . ."
     ]
    },
    {
     "name": "stderr",
     "output_type": "stream",
     "text": [
      "INFO:models:Filling in missing values...\n",
      "INFO:models:Computing each factor as linear combination of all the others...\n"
     ]
    },
    {
     "name": "stdout",
     "output_type": "stream",
     "text": [
      " . . . . ."
     ]
    },
    {
     "name": "stderr",
     "output_type": "stream",
     "text": [
      "INFO:models:Number of missing patterns: 7754\n"
     ]
    },
    {
     "name": "stdout",
     "output_type": "stream",
     "text": [
      " . . . . . . ."
     ]
    },
    {
     "name": "stderr",
     "output_type": "stream",
     "text": [
      "INFO:models:Transforming factors by applying CL-model on their Taylor expansions...\n"
     ]
    },
    {
     "name": "stdout",
     "output_type": "stream",
     "text": [
      " . . ."
     ]
    },
    {
     "name": "stderr",
     "output_type": "stream",
     "text": [
      "prediction/models/clmodel.py:116: RuntimeWarning: invalid value encountered in sqrt\n",
      "  coefse = np.sqrt(np.diag(information_matrix))\n"
     ]
    },
    {
     "name": "stdout",
     "output_type": "stream",
     "text": [
      " . .CPU times: user 3min 9s, sys: 1.78 s, total: 3min 11s\n",
      "Wall time: 55.4 s\n",
      "\n"
     ]
    }
   ],
   "source": [
    "%time factors = mod._preprocess_factors(factornames_trimmed, high_kurtosis_factors = high_kurtosis_factors,\\\n",
    "                                        price_factors = price_factors, verbose=True)"
   ]
  },
  {
   "cell_type": "code",
   "execution_count": 8,
   "metadata": {},
   "outputs": [
    {
     "data": {
      "text/plain": [
       "(1631851, 57)"
      ]
     },
     "execution_count": 8,
     "metadata": {},
     "output_type": "execute_result"
    }
   ],
   "source": [
    "factors.T.shape"
   ]
  },
  {
   "cell_type": "code",
   "execution_count": 9,
   "metadata": {},
   "outputs": [],
   "source": [
    "predict_mask = mod.is1|mod.is2|mod.oos"
   ]
  },
  {
   "cell_type": "code",
   "execution_count": 10,
   "metadata": {
    "collapsed": true
   },
   "outputs": [],
   "source": [
    "def new_factors_array (X, predict_mask =predict_mask):\n",
    "    \n",
    "    \n",
    "    factors_new = np.zeros((X.shape[1], predict_mask.shape[0]))\n",
    "    factors_new[:, predict_mask] = X.T\n",
    "    \n",
    "    return factors_new"
   ]
  },
  {
   "cell_type": "code",
   "execution_count": 11,
   "metadata": {
    "collapsed": true
   },
   "outputs": [],
   "source": [
    "def DF(mask, factors, av, factors_names, other_names):\n",
    "    \n",
    "    import pandas as pd\n",
    "    \n",
    "    df = pd.DataFrame(data =factors[:, mask].T , columns = factors_names)\n",
    "    for col in other_names :\n",
    "        \n",
    "        df[col] = av[col][mask]\n",
    "        \n",
    "    return df"
   ]
  },
  {
   "cell_type": "code",
   "execution_count": 12,
   "metadata": {},
   "outputs": [
    {
     "data": {
      "text/html": [
       "<div>\n",
       "<style>\n",
       "    .dataframe thead tr:only-child th {\n",
       "        text-align: right;\n",
       "    }\n",
       "\n",
       "    .dataframe thead th {\n",
       "        text-align: left;\n",
       "    }\n",
       "\n",
       "    .dataframe tbody tr th {\n",
       "        vertical-align: top;\n",
       "    }\n",
       "</style>\n",
       "<table border=\"1\" class=\"dataframe\">\n",
       "  <thead>\n",
       "    <tr style=\"text-align: right;\">\n",
       "      <th></th>\n",
       "      <th>f1</th>\n",
       "      <th>f2</th>\n",
       "      <th>f3</th>\n",
       "      <th>f4</th>\n",
       "      <th>f5</th>\n",
       "      <th>f6</th>\n",
       "      <th>f7</th>\n",
       "      <th>f8</th>\n",
       "      <th>f9</th>\n",
       "      <th>f10</th>\n",
       "      <th>f11</th>\n",
       "      <th>f12</th>\n",
       "      <th>f13</th>\n",
       "      <th>f14</th>\n",
       "      <th>f15</th>\n",
       "      <th>f16</th>\n",
       "      <th>f17</th>\n",
       "      <th>f18</th>\n",
       "      <th>f19</th>\n",
       "      <th>f20</th>\n",
       "      <th>f21</th>\n",
       "      <th>f22</th>\n",
       "      <th>f23</th>\n",
       "      <th>f24</th>\n",
       "      <th>f25</th>\n",
       "      <th>f26</th>\n",
       "      <th>f27</th>\n",
       "      <th>f28</th>\n",
       "      <th>f29</th>\n",
       "      <th>f30</th>\n",
       "      <th>f31</th>\n",
       "      <th>f32</th>\n",
       "      <th>f33</th>\n",
       "      <th>f34</th>\n",
       "      <th>f35</th>\n",
       "      <th>f36</th>\n",
       "      <th>f37</th>\n",
       "      <th>f38</th>\n",
       "      <th>f39</th>\n",
       "      <th>f40</th>\n",
       "      <th>f41</th>\n",
       "      <th>f42</th>\n",
       "      <th>f43</th>\n",
       "      <th>f44</th>\n",
       "      <th>f45</th>\n",
       "      <th>f46</th>\n",
       "      <th>f47</th>\n",
       "      <th>f48</th>\n",
       "      <th>f49</th>\n",
       "      <th>f50</th>\n",
       "      <th>f51</th>\n",
       "      <th>f52</th>\n",
       "      <th>f53</th>\n",
       "      <th>f54</th>\n",
       "      <th>f55</th>\n",
       "      <th>f56</th>\n",
       "      <th>f57</th>\n",
       "      <th>event_id</th>\n",
       "      <th>runner_id</th>\n",
       "      <th>result</th>\n",
       "      <th>is1</th>\n",
       "      <th>oos</th>\n",
       "    </tr>\n",
       "  </thead>\n",
       "  <tbody>\n",
       "    <tr>\n",
       "      <th>0</th>\n",
       "      <td>0.066411</td>\n",
       "      <td>1.812371</td>\n",
       "      <td>0.140033</td>\n",
       "      <td>0.007517</td>\n",
       "      <td>-0.000144</td>\n",
       "      <td>0.370123</td>\n",
       "      <td>0.886900</td>\n",
       "      <td>-0.000888</td>\n",
       "      <td>1.492165</td>\n",
       "      <td>-0.504111</td>\n",
       "      <td>0.174814</td>\n",
       "      <td>0.783295</td>\n",
       "      <td>0.478420</td>\n",
       "      <td>0.026520</td>\n",
       "      <td>1.220996</td>\n",
       "      <td>0.317993</td>\n",
       "      <td>-0.000908</td>\n",
       "      <td>-0.000375</td>\n",
       "      <td>0.004848</td>\n",
       "      <td>-0.017851</td>\n",
       "      <td>0.043987</td>\n",
       "      <td>-0.237318</td>\n",
       "      <td>1.049784</td>\n",
       "      <td>-0.046792</td>\n",
       "      <td>-0.006285</td>\n",
       "      <td>0.000628</td>\n",
       "      <td>-0.065017</td>\n",
       "      <td>0.001235</td>\n",
       "      <td>-0.018441</td>\n",
       "      <td>0.274973</td>\n",
       "      <td>-0.487135</td>\n",
       "      <td>0.084544</td>\n",
       "      <td>-0.116107</td>\n",
       "      <td>0.002079</td>\n",
       "      <td>-0.001362</td>\n",
       "      <td>-0.160866</td>\n",
       "      <td>0.091133</td>\n",
       "      <td>0.966224</td>\n",
       "      <td>2.384186e-07</td>\n",
       "      <td>2.492460</td>\n",
       "      <td>0.753668</td>\n",
       "      <td>-0.000403</td>\n",
       "      <td>0.234473</td>\n",
       "      <td>0.250251</td>\n",
       "      <td>0.023256</td>\n",
       "      <td>0.628183</td>\n",
       "      <td>0.098600</td>\n",
       "      <td>-0.014886</td>\n",
       "      <td>-0.089427</td>\n",
       "      <td>0.536910</td>\n",
       "      <td>-0.012463</td>\n",
       "      <td>-0.143313</td>\n",
       "      <td>0.943943</td>\n",
       "      <td>0.417261</td>\n",
       "      <td>-0.000921</td>\n",
       "      <td>-0.000780</td>\n",
       "      <td>0.119300</td>\n",
       "      <td>293661</td>\n",
       "      <td>360456</td>\n",
       "      <td>3</td>\n",
       "      <td>True</td>\n",
       "      <td>False</td>\n",
       "    </tr>\n",
       "    <tr>\n",
       "      <th>1</th>\n",
       "      <td>-0.154959</td>\n",
       "      <td>0.615217</td>\n",
       "      <td>-0.069783</td>\n",
       "      <td>-0.001667</td>\n",
       "      <td>0.001293</td>\n",
       "      <td>0.163312</td>\n",
       "      <td>-0.100933</td>\n",
       "      <td>-0.016348</td>\n",
       "      <td>0.145181</td>\n",
       "      <td>0.085654</td>\n",
       "      <td>0.057041</td>\n",
       "      <td>0.430980</td>\n",
       "      <td>0.132121</td>\n",
       "      <td>0.013572</td>\n",
       "      <td>0.413222</td>\n",
       "      <td>0.189882</td>\n",
       "      <td>-0.016198</td>\n",
       "      <td>-0.002962</td>\n",
       "      <td>0.014569</td>\n",
       "      <td>-0.015469</td>\n",
       "      <td>-0.026517</td>\n",
       "      <td>0.277365</td>\n",
       "      <td>-0.374422</td>\n",
       "      <td>0.029834</td>\n",
       "      <td>0.056561</td>\n",
       "      <td>-0.000221</td>\n",
       "      <td>0.116112</td>\n",
       "      <td>-0.002068</td>\n",
       "      <td>-0.024272</td>\n",
       "      <td>0.090061</td>\n",
       "      <td>-0.030274</td>\n",
       "      <td>-0.498561</td>\n",
       "      <td>0.035182</td>\n",
       "      <td>-0.018710</td>\n",
       "      <td>0.029094</td>\n",
       "      <td>0.031624</td>\n",
       "      <td>-0.061174</td>\n",
       "      <td>0.254454</td>\n",
       "      <td>2.384186e-07</td>\n",
       "      <td>1.648349</td>\n",
       "      <td>0.073634</td>\n",
       "      <td>-0.650115</td>\n",
       "      <td>0.177804</td>\n",
       "      <td>-0.052191</td>\n",
       "      <td>-0.034483</td>\n",
       "      <td>0.370725</td>\n",
       "      <td>-0.247407</td>\n",
       "      <td>-0.023127</td>\n",
       "      <td>0.550295</td>\n",
       "      <td>-0.121513</td>\n",
       "      <td>0.112166</td>\n",
       "      <td>0.040612</td>\n",
       "      <td>0.224962</td>\n",
       "      <td>0.057615</td>\n",
       "      <td>-0.016085</td>\n",
       "      <td>-0.017330</td>\n",
       "      <td>0.026977</td>\n",
       "      <td>293661</td>\n",
       "      <td>375590</td>\n",
       "      <td>5</td>\n",
       "      <td>True</td>\n",
       "      <td>False</td>\n",
       "    </tr>\n",
       "    <tr>\n",
       "      <th>2</th>\n",
       "      <td>0.066411</td>\n",
       "      <td>0.442863</td>\n",
       "      <td>0.069257</td>\n",
       "      <td>0.007517</td>\n",
       "      <td>-0.000144</td>\n",
       "      <td>0.207937</td>\n",
       "      <td>-0.100933</td>\n",
       "      <td>0.014814</td>\n",
       "      <td>-0.010327</td>\n",
       "      <td>-0.566212</td>\n",
       "      <td>0.355908</td>\n",
       "      <td>0.246179</td>\n",
       "      <td>-0.305634</td>\n",
       "      <td>0.031401</td>\n",
       "      <td>0.364949</td>\n",
       "      <td>0.144203</td>\n",
       "      <td>0.014812</td>\n",
       "      <td>0.017871</td>\n",
       "      <td>0.009206</td>\n",
       "      <td>0.012740</td>\n",
       "      <td>-0.014440</td>\n",
       "      <td>0.264392</td>\n",
       "      <td>0.339009</td>\n",
       "      <td>0.039109</td>\n",
       "      <td>-0.006285</td>\n",
       "      <td>0.000204</td>\n",
       "      <td>0.173482</td>\n",
       "      <td>0.001554</td>\n",
       "      <td>0.055569</td>\n",
       "      <td>-0.092425</td>\n",
       "      <td>-0.266650</td>\n",
       "      <td>0.043125</td>\n",
       "      <td>0.001112</td>\n",
       "      <td>0.002079</td>\n",
       "      <td>-0.011063</td>\n",
       "      <td>0.171808</td>\n",
       "      <td>0.014969</td>\n",
       "      <td>0.155725</td>\n",
       "      <td>2.384186e-07</td>\n",
       "      <td>0.941642</td>\n",
       "      <td>0.146075</td>\n",
       "      <td>-0.109316</td>\n",
       "      <td>0.106961</td>\n",
       "      <td>0.005249</td>\n",
       "      <td>0.083641</td>\n",
       "      <td>0.144267</td>\n",
       "      <td>0.098600</td>\n",
       "      <td>0.081410</td>\n",
       "      <td>-0.152771</td>\n",
       "      <td>-0.183572</td>\n",
       "      <td>-0.012463</td>\n",
       "      <td>0.159303</td>\n",
       "      <td>0.488670</td>\n",
       "      <td>0.036059</td>\n",
       "      <td>0.014800</td>\n",
       "      <td>0.014925</td>\n",
       "      <td>0.051179</td>\n",
       "      <td>293661</td>\n",
       "      <td>374610</td>\n",
       "      <td>7</td>\n",
       "      <td>True</td>\n",
       "      <td>False</td>\n",
       "    </tr>\n",
       "    <tr>\n",
       "      <th>3</th>\n",
       "      <td>-0.154959</td>\n",
       "      <td>0.765992</td>\n",
       "      <td>0.129201</td>\n",
       "      <td>-0.025480</td>\n",
       "      <td>-0.000144</td>\n",
       "      <td>0.112316</td>\n",
       "      <td>-0.257098</td>\n",
       "      <td>0.012801</td>\n",
       "      <td>0.304235</td>\n",
       "      <td>0.226926</td>\n",
       "      <td>-0.260937</td>\n",
       "      <td>-0.048408</td>\n",
       "      <td>-0.043558</td>\n",
       "      <td>0.019547</td>\n",
       "      <td>0.549890</td>\n",
       "      <td>-0.284258</td>\n",
       "      <td>0.012796</td>\n",
       "      <td>0.003470</td>\n",
       "      <td>0.009206</td>\n",
       "      <td>0.011642</td>\n",
       "      <td>-0.004117</td>\n",
       "      <td>-0.122674</td>\n",
       "      <td>-0.421721</td>\n",
       "      <td>0.048495</td>\n",
       "      <td>-0.006285</td>\n",
       "      <td>-0.000031</td>\n",
       "      <td>0.239139</td>\n",
       "      <td>0.001421</td>\n",
       "      <td>-0.018441</td>\n",
       "      <td>-0.134330</td>\n",
       "      <td>0.250868</td>\n",
       "      <td>0.486319</td>\n",
       "      <td>0.086636</td>\n",
       "      <td>0.002079</td>\n",
       "      <td>-0.009765</td>\n",
       "      <td>0.190400</td>\n",
       "      <td>0.130183</td>\n",
       "      <td>0.447011</td>\n",
       "      <td>2.384186e-07</td>\n",
       "      <td>0.498932</td>\n",
       "      <td>-0.041847</td>\n",
       "      <td>0.597555</td>\n",
       "      <td>0.001817</td>\n",
       "      <td>-0.037324</td>\n",
       "      <td>-0.019826</td>\n",
       "      <td>-0.163311</td>\n",
       "      <td>-0.247407</td>\n",
       "      <td>-0.014886</td>\n",
       "      <td>0.461782</td>\n",
       "      <td>0.289931</td>\n",
       "      <td>-0.012463</td>\n",
       "      <td>0.088135</td>\n",
       "      <td>-0.126984</td>\n",
       "      <td>-0.495465</td>\n",
       "      <td>0.012784</td>\n",
       "      <td>0.012911</td>\n",
       "      <td>-0.262583</td>\n",
       "      <td>293661</td>\n",
       "      <td>373638</td>\n",
       "      <td>1</td>\n",
       "      <td>True</td>\n",
       "      <td>False</td>\n",
       "    </tr>\n",
       "    <tr>\n",
       "      <th>4</th>\n",
       "      <td>0.066411</td>\n",
       "      <td>0.329832</td>\n",
       "      <td>-0.093768</td>\n",
       "      <td>0.007517</td>\n",
       "      <td>-0.000144</td>\n",
       "      <td>0.112316</td>\n",
       "      <td>0.503109</td>\n",
       "      <td>-0.024129</td>\n",
       "      <td>1.263628</td>\n",
       "      <td>-0.359817</td>\n",
       "      <td>0.086009</td>\n",
       "      <td>-0.048408</td>\n",
       "      <td>-0.043558</td>\n",
       "      <td>0.031450</td>\n",
       "      <td>1.252166</td>\n",
       "      <td>0.158341</td>\n",
       "      <td>-0.024174</td>\n",
       "      <td>-0.019263</td>\n",
       "      <td>0.009206</td>\n",
       "      <td>0.012740</td>\n",
       "      <td>-0.038280</td>\n",
       "      <td>0.105890</td>\n",
       "      <td>0.209527</td>\n",
       "      <td>-0.033071</td>\n",
       "      <td>-0.006285</td>\n",
       "      <td>-0.000099</td>\n",
       "      <td>-0.037533</td>\n",
       "      <td>0.000975</td>\n",
       "      <td>0.097792</td>\n",
       "      <td>0.022945</td>\n",
       "      <td>-0.043148</td>\n",
       "      <td>-0.245328</td>\n",
       "      <td>-0.009627</td>\n",
       "      <td>0.002079</td>\n",
       "      <td>0.011331</td>\n",
       "      <td>-0.122763</td>\n",
       "      <td>-0.217356</td>\n",
       "      <td>1.080508</td>\n",
       "      <td>2.384186e-07</td>\n",
       "      <td>-0.004469</td>\n",
       "      <td>0.049962</td>\n",
       "      <td>0.495737</td>\n",
       "      <td>0.116301</td>\n",
       "      <td>-0.110655</td>\n",
       "      <td>-0.044347</td>\n",
       "      <td>-0.163311</td>\n",
       "      <td>0.098600</td>\n",
       "      <td>0.023900</td>\n",
       "      <td>-0.237007</td>\n",
       "      <td>-0.440662</td>\n",
       "      <td>-0.012463</td>\n",
       "      <td>-0.125458</td>\n",
       "      <td>0.136239</td>\n",
       "      <td>0.442488</td>\n",
       "      <td>-0.024187</td>\n",
       "      <td>-0.024024</td>\n",
       "      <td>0.267151</td>\n",
       "      <td>293661</td>\n",
       "      <td>347906</td>\n",
       "      <td>4</td>\n",
       "      <td>True</td>\n",
       "      <td>False</td>\n",
       "    </tr>\n",
       "  </tbody>\n",
       "</table>\n",
       "</div>"
      ],
      "text/plain": [
       "         f1        f2        f3        f4        f5        f6        f7  \\\n",
       "0  0.066411  1.812371  0.140033  0.007517 -0.000144  0.370123  0.886900   \n",
       "1 -0.154959  0.615217 -0.069783 -0.001667  0.001293  0.163312 -0.100933   \n",
       "2  0.066411  0.442863  0.069257  0.007517 -0.000144  0.207937 -0.100933   \n",
       "3 -0.154959  0.765992  0.129201 -0.025480 -0.000144  0.112316 -0.257098   \n",
       "4  0.066411  0.329832 -0.093768  0.007517 -0.000144  0.112316  0.503109   \n",
       "\n",
       "         f8        f9       f10       f11       f12       f13       f14  \\\n",
       "0 -0.000888  1.492165 -0.504111  0.174814  0.783295  0.478420  0.026520   \n",
       "1 -0.016348  0.145181  0.085654  0.057041  0.430980  0.132121  0.013572   \n",
       "2  0.014814 -0.010327 -0.566212  0.355908  0.246179 -0.305634  0.031401   \n",
       "3  0.012801  0.304235  0.226926 -0.260937 -0.048408 -0.043558  0.019547   \n",
       "4 -0.024129  1.263628 -0.359817  0.086009 -0.048408 -0.043558  0.031450   \n",
       "\n",
       "        f15       f16       f17       f18       f19       f20       f21  \\\n",
       "0  1.220996  0.317993 -0.000908 -0.000375  0.004848 -0.017851  0.043987   \n",
       "1  0.413222  0.189882 -0.016198 -0.002962  0.014569 -0.015469 -0.026517   \n",
       "2  0.364949  0.144203  0.014812  0.017871  0.009206  0.012740 -0.014440   \n",
       "3  0.549890 -0.284258  0.012796  0.003470  0.009206  0.011642 -0.004117   \n",
       "4  1.252166  0.158341 -0.024174 -0.019263  0.009206  0.012740 -0.038280   \n",
       "\n",
       "        f22       f23       f24       f25       f26       f27       f28  \\\n",
       "0 -0.237318  1.049784 -0.046792 -0.006285  0.000628 -0.065017  0.001235   \n",
       "1  0.277365 -0.374422  0.029834  0.056561 -0.000221  0.116112 -0.002068   \n",
       "2  0.264392  0.339009  0.039109 -0.006285  0.000204  0.173482  0.001554   \n",
       "3 -0.122674 -0.421721  0.048495 -0.006285 -0.000031  0.239139  0.001421   \n",
       "4  0.105890  0.209527 -0.033071 -0.006285 -0.000099 -0.037533  0.000975   \n",
       "\n",
       "        f29       f30       f31       f32       f33       f34       f35  \\\n",
       "0 -0.018441  0.274973 -0.487135  0.084544 -0.116107  0.002079 -0.001362   \n",
       "1 -0.024272  0.090061 -0.030274 -0.498561  0.035182 -0.018710  0.029094   \n",
       "2  0.055569 -0.092425 -0.266650  0.043125  0.001112  0.002079 -0.011063   \n",
       "3 -0.018441 -0.134330  0.250868  0.486319  0.086636  0.002079 -0.009765   \n",
       "4  0.097792  0.022945 -0.043148 -0.245328 -0.009627  0.002079  0.011331   \n",
       "\n",
       "        f36       f37       f38           f39       f40       f41       f42  \\\n",
       "0 -0.160866  0.091133  0.966224  2.384186e-07  2.492460  0.753668 -0.000403   \n",
       "1  0.031624 -0.061174  0.254454  2.384186e-07  1.648349  0.073634 -0.650115   \n",
       "2  0.171808  0.014969  0.155725  2.384186e-07  0.941642  0.146075 -0.109316   \n",
       "3  0.190400  0.130183  0.447011  2.384186e-07  0.498932 -0.041847  0.597555   \n",
       "4 -0.122763 -0.217356  1.080508  2.384186e-07 -0.004469  0.049962  0.495737   \n",
       "\n",
       "        f43       f44       f45       f46       f47       f48       f49  \\\n",
       "0  0.234473  0.250251  0.023256  0.628183  0.098600 -0.014886 -0.089427   \n",
       "1  0.177804 -0.052191 -0.034483  0.370725 -0.247407 -0.023127  0.550295   \n",
       "2  0.106961  0.005249  0.083641  0.144267  0.098600  0.081410 -0.152771   \n",
       "3  0.001817 -0.037324 -0.019826 -0.163311 -0.247407 -0.014886  0.461782   \n",
       "4  0.116301 -0.110655 -0.044347 -0.163311  0.098600  0.023900 -0.237007   \n",
       "\n",
       "        f50       f51       f52       f53       f54       f55       f56  \\\n",
       "0  0.536910 -0.012463 -0.143313  0.943943  0.417261 -0.000921 -0.000780   \n",
       "1 -0.121513  0.112166  0.040612  0.224962  0.057615 -0.016085 -0.017330   \n",
       "2 -0.183572 -0.012463  0.159303  0.488670  0.036059  0.014800  0.014925   \n",
       "3  0.289931 -0.012463  0.088135 -0.126984 -0.495465  0.012784  0.012911   \n",
       "4 -0.440662 -0.012463 -0.125458  0.136239  0.442488 -0.024187 -0.024024   \n",
       "\n",
       "        f57  event_id  runner_id  result   is1    oos  \n",
       "0  0.119300    293661     360456       3  True  False  \n",
       "1  0.026977    293661     375590       5  True  False  \n",
       "2  0.051179    293661     374610       7  True  False  \n",
       "3 -0.262583    293661     373638       1  True  False  \n",
       "4  0.267151    293661     347906       4  True  False  "
      ]
     },
     "execution_count": 12,
     "metadata": {},
     "output_type": "execute_result"
    }
   ],
   "source": [
    "import pandas as pd\n",
    "\n",
    "pd.set_option('display.max_columns', 90)\n",
    "\n",
    "col_names = ['f{}'.format(i) for i in range(1,58)]\n",
    "\n",
    "df = DF (predict_mask, factors, av, col_names, ['event_id', 'runner_id', 'result'])\n",
    "df['is1'] = mod.is1 [predict_mask]\n",
    "df['oos'] = mod.oos [predict_mask]\n",
    "df.head()"
   ]
  },
  {
   "cell_type": "markdown",
   "metadata": {},
   "source": [
    "##### use PCA "
   ]
  },
  {
   "cell_type": "code",
   "execution_count": null,
   "metadata": {},
   "outputs": [],
   "source": [
    "from sklearn.decomposition import PCA\n",
    "decomp = PCA(n_components =25)\n",
    "pca_data = decomp.fit_transform(df.ix[:, 'f1':'f57'].values)\n",
    "print decomp.explained_variance_"
   ]
  },
  {
   "cell_type": "code",
   "execution_count": null,
   "metadata": {},
   "outputs": [],
   "source": [
    "print decomp.explained_variance_ratio_"
   ]
  },
  {
   "cell_type": "code",
   "execution_count": null,
   "metadata": {},
   "outputs": [],
   "source": [
    "new_factors =  new_factors_array (pca_data)\n",
    "new_factors.shape"
   ]
  },
  {
   "cell_type": "code",
   "execution_count": null,
   "metadata": {},
   "outputs": [],
   "source": [
    "%time new_model_coefs, new_model_step1prob, new_model_step2prob, new_model_likelihood, inds \\\n",
    "    =   mod.fit_slices(tsav, new_factors, depth=3, lmbd=10, verbose=False, fit_afresh=True)\n",
    "\n",
    "print 'new_model_likelihood'   \n",
    "print new_model_likelihood\n",
    "print '..................'"
   ]
  },
  {
   "cell_type": "markdown",
   "metadata": {},
   "source": [
    "##### добавим новые полиномиальныг факторы "
   ]
  },
  {
   "cell_type": "code",
   "execution_count": null,
   "metadata": {},
   "outputs": [],
   "source": [
    "from itertools import combinations\n",
    "df_pca = pd.DataFrame(data =pca_data, columns = ['pca_f%s'%i for i in range(1,26)])\n",
    "df_pca.head()"
   ]
  },
  {
   "cell_type": "code",
   "execution_count": null,
   "metadata": {},
   "outputs": [],
   "source": [
    "for i, j in combinations(df_pca.columns, 2):\n",
    "    df_pca[i +'_'+j] = df_pca[i].values * df_pca[j].values\n",
    "df_pca.head()"
   ]
  },
  {
   "cell_type": "code",
   "execution_count": null,
   "metadata": {},
   "outputs": [],
   "source": [
    "new_factors =  new_factors_array (df_pca)\n",
    "new_factors.shape"
   ]
  },
  {
   "cell_type": "code",
   "execution_count": null,
   "metadata": {},
   "outputs": [],
   "source": [
    "%time new_model_coefs, new_model_step1prob, new_model_step2prob, new_model_likelihood, inds \\\n",
    "    =   mod.fit_slices(tsav, new_factors, depth=3, lmbd=10, verbose=False, fit_afresh=True)\n",
    "\n",
    "print 'new_model_likelihood'   \n",
    "print new_model_likelihood\n",
    "print '..................'"
   ]
  },
  {
   "cell_type": "code",
   "execution_count": null,
   "metadata": {},
   "outputs": [],
   "source": [
    "new_factors =  np.vstack((factors,new_factors_array (df_pca)))\n",
    "new_factors.shape"
   ]
  },
  {
   "cell_type": "code",
   "execution_count": null,
   "metadata": {},
   "outputs": [],
   "source": [
    "%time new_model_coefs, new_model_step1prob, new_model_step2prob, new_model_likelihood, inds \\\n",
    "    =   mod.fit_slices(tsav, new_factors, depth=3, lmbd=10, verbose=False, fit_afresh=True)\n",
    "\n",
    "print 'new_model_likelihood'   \n",
    "print new_model_likelihood\n",
    "print '..................'"
   ]
  },
  {
   "cell_type": "code",
   "execution_count": null,
   "metadata": {
    "collapsed": true
   },
   "outputs": [],
   "source": [
    "from prediction.tools.clustering import write_dic_to_simdata, dic_to_tenzor, ll_diff\n",
    "write_dic_to_simdata('simdata_new_pca_polyfactors.p', new_model_step1prob, new_model_coefs, mod.oos, av =av)"
   ]
  },
  {
   "cell_type": "code",
   "execution_count": null,
   "metadata": {
    "collapsed": true
   },
   "outputs": [],
   "source": []
  }
 ],
 "metadata": {
  "anaconda-cloud": {},
  "kernelspec": {
   "display_name": "Python 2",
   "language": "python",
   "name": "python2"
  },
  "language_info": {
   "codemirror_mode": {
    "name": "ipython",
    "version": 2
   },
   "file_extension": ".py",
   "mimetype": "text/x-python",
   "name": "python",
   "nbconvert_exporter": "python",
   "pygments_lexer": "ipython2",
   "version": "2.7.13"
  }
 },
 "nbformat": 4,
 "nbformat_minor": 1
}
