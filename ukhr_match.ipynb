{
 "cells": [
  {
   "cell_type": "code",
   "execution_count": 1,
   "metadata": {
    "collapsed": true
   },
   "outputs": [],
   "source": [
    "import pandas as pd\n",
    "import numpy as np\n",
    "from sources.ukhr import Ukhr\n",
    "from utils import timestamp, YEAR\n",
    "from utils.arrayview import ArrayView\n",
    "from prediction.tools.helpers import spread_from_av\n",
    "import sys"
   ]
  },
  {
   "cell_type": "code",
   "execution_count": 2,
   "metadata": {},
   "outputs": [
    {
     "name": "stderr",
     "output_type": "stream",
     "text": [
      "Traceback (most recent call last):\n  File \"/home/dinko/anaconda2/lib/python2.7/logging/__init__.py\", line 861, in emit\n    msg = self.format(record)\n  File \"/home/dinko/anaconda2/lib/python2.7/logging/__init__.py\", line 734, in format\n    return fmt.format(record)\n  File \"/home/dinko/anaconda2/lib/python2.7/logging/__init__.py\", line 465, in format\n    record.message = record.getMessage()\n  File \"/home/dinko/anaconda2/lib/python2.7/logging/__init__.py\", line 329, in getMessage\n    msg = msg % self.args\nValueError: incomplete format\nLogged from file ukhr.py, line 364\n"
     ]
    },
    {
     "name": "stderr",
     "output_type": "stream",
     "text": [
      "Traceback (most recent call last):\n  File \"/home/dinko/anaconda2/lib/python2.7/logging/__init__.py\", line 861, in emit\n    msg = self.format(record)\n  File \"/home/dinko/anaconda2/lib/python2.7/logging/__init__.py\", line 734, in format\n    return fmt.format(record)\n  File \"/home/dinko/anaconda2/lib/python2.7/logging/__init__.py\", line 465, in format\n    record.message = record.getMessage()\n  File \"/home/dinko/anaconda2/lib/python2.7/logging/__init__.py\", line 329, in getMessage\n    msg = msg % self.args\nValueError: incomplete format\nLogged from file ukhr.py, line 364\n"
     ]
    },
    {
     "name": "stderr",
     "output_type": "stream",
     "text": [
      "Traceback (most recent call last):\n  File \"/home/dinko/anaconda2/lib/python2.7/logging/__init__.py\", line 861, in emit\n    msg = self.format(record)\n  File \"/home/dinko/anaconda2/lib/python2.7/logging/__init__.py\", line 734, in format\n    return fmt.format(record)\n  File \"/home/dinko/anaconda2/lib/python2.7/logging/__init__.py\", line 465, in format\n    record.message = record.getMessage()\n  File \"/home/dinko/anaconda2/lib/python2.7/logging/__init__.py\", line 329, in getMessage\n    msg = msg % self.args\nTypeError: float argument required, not str\nLogged from file ukhr.py, line 368\n"
     ]
    },
    {
     "name": "stderr",
     "output_type": "stream",
     "text": [
      "Traceback (most recent call last):\n  File \"/home/dinko/anaconda2/lib/python2.7/logging/__init__.py\", line 861, in emit\n    msg = self.format(record)\n  File \"/home/dinko/anaconda2/lib/python2.7/logging/__init__.py\", line 734, in format\n    return fmt.format(record)\n  File \"/home/dinko/anaconda2/lib/python2.7/logging/__init__.py\", line 465, in format\n    record.message = record.getMessage()\n  File \"/home/dinko/anaconda2/lib/python2.7/logging/__init__.py\", line 329, in getMessage\n    msg = msg % self.args\nValueError: incomplete format\nLogged from file ukhr.py, line 364\n"
     ]
    },
    {
     "name": "stderr",
     "output_type": "stream",
     "text": [
      "ERROR:ukhr:Date Error: 'None', Line: {'trainer': 'P BUTLER', 'weight': 135, 'novice': None, 'ukhr_trnr_rtg': 86.68, 'sex': 'g', 'date': None, 'result': None, 'ukhr_rtg': 87.57, 'raceclass': 91.7489624023438, 'horse': 'Love Pegasus', 'jockey': 'J FANNING', 'beginner': None, 'title': '32RedBingo.com Amateur Riders Handicap', 'weight_stones_pound': '9-09', 'claiming': None, 'maxage': 9, 'going': 'STAND', 'ukhr_value': None, 'hunterchase': None, 'meeting': 'Southwell', 'draw': 7, 'selling': None, 'maiden': None, 'time12': '5:30', 'ukhr_jcky_rtg': 102.35, 'furlongs': 14, 'minage': 4, 'prize': 1976, 'racetype': 'AW', 'auction': None, 'age': 7, 'isp': None, 'bsp_forecast': None, 'time': None} -- Event skipped\n"
     ]
    },
    {
     "name": "stderr",
     "output_type": "stream",
     "text": [
      "Traceback (most recent call last):\n  File \"/home/dinko/anaconda2/lib/python2.7/logging/__init__.py\", line 861, in emit\n    msg = self.format(record)\n  File \"/home/dinko/anaconda2/lib/python2.7/logging/__init__.py\", line 734, in format\n    return fmt.format(record)\n  File \"/home/dinko/anaconda2/lib/python2.7/logging/__init__.py\", line 465, in format\n    record.message = record.getMessage()\n  File \"/home/dinko/anaconda2/lib/python2.7/logging/__init__.py\", line 329, in getMessage\n    msg = msg % self.args\nTypeError: float argument required, not str\nLogged from file ukhr.py, line 368\n"
     ]
    },
    {
     "name": "stderr",
     "output_type": "stream",
     "text": [
      "Traceback (most recent call last):\n  File \"/home/dinko/anaconda2/lib/python2.7/logging/__init__.py\", line 861, in emit\n    msg = self.format(record)\n  File \"/home/dinko/anaconda2/lib/python2.7/logging/__init__.py\", line 734, in format\n    return fmt.format(record)\n  File \"/home/dinko/anaconda2/lib/python2.7/logging/__init__.py\", line 465, in format\n    record.message = record.getMessage()\n  File \"/home/dinko/anaconda2/lib/python2.7/logging/__init__.py\", line 329, in getMessage\n    msg = msg % self.args\nValueError: incomplete format\nLogged from file ukhr.py, line 364\n"
     ]
    },
    {
     "name": "stderr",
     "output_type": "stream",
     "text": [
      "Traceback (most recent call last):\n  File \"/home/dinko/anaconda2/lib/python2.7/logging/__init__.py\", line 861, in emit\n    msg = self.format(record)\n  File \"/home/dinko/anaconda2/lib/python2.7/logging/__init__.py\", line 734, in format\n    return fmt.format(record)\n  File \"/home/dinko/anaconda2/lib/python2.7/logging/__init__.py\", line 465, in format\n    record.message = record.getMessage()\n  File \"/home/dinko/anaconda2/lib/python2.7/logging/__init__.py\", line 329, in getMessage\n    msg = msg % self.args\nValueError: incomplete format\nLogged from file ukhr.py, line 364\n"
     ]
    },
    {
     "name": "stderr",
     "output_type": "stream",
     "text": [
      "Traceback (most recent call last):\n  File \"/home/dinko/anaconda2/lib/python2.7/logging/__init__.py\", line 861, in emit\n    msg = self.format(record)\n  File \"/home/dinko/anaconda2/lib/python2.7/logging/__init__.py\", line 734, in format\n    return fmt.format(record)\n  File \"/home/dinko/anaconda2/lib/python2.7/logging/__init__.py\", line 465, in format\n    record.message = record.getMessage()\n  File \"/home/dinko/anaconda2/lib/python2.7/logging/__init__.py\", line 329, in getMessage\n    msg = msg % self.args\nValueError: incomplete format\nLogged from file ukhr.py, line 364\n"
     ]
    },
    {
     "name": "stderr",
     "output_type": "stream",
     "text": [
      "Traceback (most recent call last):\n  File \"/home/dinko/anaconda2/lib/python2.7/logging/__init__.py\", line 861, in emit\n    msg = self.format(record)\n  File \"/home/dinko/anaconda2/lib/python2.7/logging/__init__.py\", line 734, in format\n    return fmt.format(record)\n  File \"/home/dinko/anaconda2/lib/python2.7/logging/__init__.py\", line 465, in format\n    record.message = record.getMessage()\n  File \"/home/dinko/anaconda2/lib/python2.7/logging/__init__.py\", line 329, in getMessage\n    msg = msg % self.args\nTypeError: float argument required, not str\nLogged from file ukhr.py, line 368\n"
     ]
    },
    {
     "name": "stderr",
     "output_type": "stream",
     "text": [
      "Traceback (most recent call last):\n  File \"/home/dinko/anaconda2/lib/python2.7/logging/__init__.py\", line 861, in emit\n    msg = self.format(record)\n  File \"/home/dinko/anaconda2/lib/python2.7/logging/__init__.py\", line 734, in format\n    return fmt.format(record)\n  File \"/home/dinko/anaconda2/lib/python2.7/logging/__init__.py\", line 465, in format\n    record.message = record.getMessage()\n  File \"/home/dinko/anaconda2/lib/python2.7/logging/__init__.py\", line 329, in getMessage\n    msg = msg % self.args\nValueError: incomplete format\nLogged from file ukhr.py, line 364\n"
     ]
    },
    {
     "name": "stderr",
     "output_type": "stream",
     "text": [
      "Traceback (most recent call last):\n  File \"/home/dinko/anaconda2/lib/python2.7/logging/__init__.py\", line 861, in emit\n    msg = self.format(record)\n  File \"/home/dinko/anaconda2/lib/python2.7/logging/__init__.py\", line 734, in format\n    return fmt.format(record)\n  File \"/home/dinko/anaconda2/lib/python2.7/logging/__init__.py\", line 465, in format\n    record.message = record.getMessage()\n  File \"/home/dinko/anaconda2/lib/python2.7/logging/__init__.py\", line 329, in getMessage\n    msg = msg % self.args\nTypeError: float argument required, not str\nLogged from file ukhr.py, line 368\n"
     ]
    },
    {
     "name": "stderr",
     "output_type": "stream",
     "text": [
      "Traceback (most recent call last):\n  File \"/home/dinko/anaconda2/lib/python2.7/logging/__init__.py\", line 861, in emit\n    msg = self.format(record)\n  File \"/home/dinko/anaconda2/lib/python2.7/logging/__init__.py\", line 734, in format\n    return fmt.format(record)\n  File \"/home/dinko/anaconda2/lib/python2.7/logging/__init__.py\", line 465, in format\n    record.message = record.getMessage()\n  File \"/home/dinko/anaconda2/lib/python2.7/logging/__init__.py\", line 329, in getMessage\n    msg = msg % self.args\nValueError: incomplete format\nLogged from file ukhr.py, line 364\n"
     ]
    },
    {
     "name": "stderr",
     "output_type": "stream",
     "text": [
      "Traceback (most recent call last):\n  File \"/home/dinko/anaconda2/lib/python2.7/logging/__init__.py\", line 861, in emit\n    msg = self.format(record)\n  File \"/home/dinko/anaconda2/lib/python2.7/logging/__init__.py\", line 734, in format\n    return fmt.format(record)\n  File \"/home/dinko/anaconda2/lib/python2.7/logging/__init__.py\", line 465, in format\n    record.message = record.getMessage()\n  File \"/home/dinko/anaconda2/lib/python2.7/logging/__init__.py\", line 329, in getMessage\n    msg = msg % self.args\nValueError: incomplete format\nLogged from file ukhr.py, line 364\n"
     ]
    },
    {
     "name": "stderr",
     "output_type": "stream",
     "text": [
      "Traceback (most recent call last):\n  File \"/home/dinko/anaconda2/lib/python2.7/logging/__init__.py\", line 861, in emit\n    msg = self.format(record)\n  File \"/home/dinko/anaconda2/lib/python2.7/logging/__init__.py\", line 734, in format\n    return fmt.format(record)\n  File \"/home/dinko/anaconda2/lib/python2.7/logging/__init__.py\", line 465, in format\n    record.message = record.getMessage()\n  File \"/home/dinko/anaconda2/lib/python2.7/logging/__init__.py\", line 329, in getMessage\n    msg = msg % self.args\nValueError: incomplete format\nLogged from file ukhr.py, line 364\n"
     ]
    },
    {
     "name": "stderr",
     "output_type": "stream",
     "text": [
      "Traceback (most recent call last):\n  File \"/home/dinko/anaconda2/lib/python2.7/logging/__init__.py\", line 861, in emit\n    msg = self.format(record)\n  File \"/home/dinko/anaconda2/lib/python2.7/logging/__init__.py\", line 734, in format\n    return fmt.format(record)\n  File \"/home/dinko/anaconda2/lib/python2.7/logging/__init__.py\", line 465, in format\n    record.message = record.getMessage()\n  File \"/home/dinko/anaconda2/lib/python2.7/logging/__init__.py\", line 329, in getMessage\n    msg = msg % self.args\nValueError: incomplete format\nLogged from file ukhr.py, line 364\n"
     ]
    },
    {
     "name": "stderr",
     "output_type": "stream",
     "text": [
      "Traceback (most recent call last):\n  File \"/home/dinko/anaconda2/lib/python2.7/logging/__init__.py\", line 861, in emit\n    msg = self.format(record)\n  File \"/home/dinko/anaconda2/lib/python2.7/logging/__init__.py\", line 734, in format\n    return fmt.format(record)\n  File \"/home/dinko/anaconda2/lib/python2.7/logging/__init__.py\", line 465, in format\n    record.message = record.getMessage()\n  File \"/home/dinko/anaconda2/lib/python2.7/logging/__init__.py\", line 329, in getMessage\n    msg = msg % self.args\nValueError: incomplete format\nLogged from file ukhr.py, line 364\n"
     ]
    },
    {
     "name": "stderr",
     "output_type": "stream",
     "text": [
      "Traceback (most recent call last):\n  File \"/home/dinko/anaconda2/lib/python2.7/logging/__init__.py\", line 861, in emit\n    msg = self.format(record)\n  File \"/home/dinko/anaconda2/lib/python2.7/logging/__init__.py\", line 734, in format\n    return fmt.format(record)\n  File \"/home/dinko/anaconda2/lib/python2.7/logging/__init__.py\", line 465, in format\n    record.message = record.getMessage()\n  File \"/home/dinko/anaconda2/lib/python2.7/logging/__init__.py\", line 329, in getMessage\n    msg = msg % self.args\nTypeError: float argument required, not str\nLogged from file ukhr.py, line 368\nTraceback (most recent call last):\n  File \"/home/dinko/anaconda2/lib/python2.7/logging/__init__.py\", line 861, in emit\n    msg = self.format(record)\n  File \"/home/dinko/anaconda2/lib/python2.7/logging/__init__.py\", line 734, in format\n    return fmt.format(record)\n  File \"/home/dinko/anaconda2/lib/python2.7/logging/__init__.py\", line 465, in format\n    record.message = record.getMessage()\n  File \"/home/dinko/anaconda2/lib/python2.7/logging/__init__.py\", line 329, in getMessage\n    msg = msg % self.args\nTypeError: float argument required, not str\nLogged from file ukhr.py, line 368\nTraceback (most recent call last):\n  File \"/home/dinko/anaconda2/lib/python2.7/logging/__init__.py\", line 861, in emit\n    msg = self.format(record)\n  File \"/home/dinko/anaconda2/lib/python2.7/logging/__init__.py\", line 734, in format\n    return fmt.format(record)\n  File \"/home/dinko/anaconda2/lib/python2.7/logging/__init__.py\", line 465, in format\n    record.message = record.getMessage()\n  File \"/home/dinko/anaconda2/lib/python2.7/logging/__init__.py\", line 329, in getMessage\n    msg = msg % self.args\nTypeError: float argument required, not str\nLogged from file ukhr.py, line 368\n"
     ]
    },
    {
     "name": "stderr",
     "output_type": "stream",
     "text": [
      "Traceback (most recent call last):\n  File \"/home/dinko/anaconda2/lib/python2.7/logging/__init__.py\", line 861, in emit\n    msg = self.format(record)\n  File \"/home/dinko/anaconda2/lib/python2.7/logging/__init__.py\", line 734, in format\n    return fmt.format(record)\n  File \"/home/dinko/anaconda2/lib/python2.7/logging/__init__.py\", line 465, in format\n    record.message = record.getMessage()\n  File \"/home/dinko/anaconda2/lib/python2.7/logging/__init__.py\", line 329, in getMessage\n    msg = msg % self.args\nTypeError: float argument required, not str\nLogged from file ukhr.py, line 368\nTraceback (most recent call last):\n  File \"/home/dinko/anaconda2/lib/python2.7/logging/__init__.py\", line 861, in emit\n    msg = self.format(record)\n  File \"/home/dinko/anaconda2/lib/python2.7/logging/__init__.py\", line 734, in format\n    return fmt.format(record)\n  File \"/home/dinko/anaconda2/lib/python2.7/logging/__init__.py\", line 465, in format\n    record.message = record.getMessage()\n  File \"/home/dinko/anaconda2/lib/python2.7/logging/__init__.py\", line 329, in getMessage\n    msg = msg % self.args\nTypeError: float argument required, not str\nLogged from file ukhr.py, line 368\nTraceback (most recent call last):\n  File \"/home/dinko/anaconda2/lib/python2.7/logging/__init__.py\", line 861, in emit\n    msg = self.format(record)\n  File \"/home/dinko/anaconda2/lib/python2.7/logging/__init__.py\", line 734, in format\n    return fmt.format(record)\n  File \"/home/dinko/anaconda2/lib/python2.7/logging/__init__.py\", line 465, in format\n    record.message = record.getMessage()\n  File \"/home/dinko/anaconda2/lib/python2.7/logging/__init__.py\", line 329, in getMessage\n    msg = msg % self.args\nTypeError: float argument required, not str\nLogged from file ukhr.py, line 368\n"
     ]
    },
    {
     "name": "stderr",
     "output_type": "stream",
     "text": [
      "Traceback (most recent call last):\n  File \"/home/dinko/anaconda2/lib/python2.7/logging/__init__.py\", line 861, in emit\n    msg = self.format(record)\n  File \"/home/dinko/anaconda2/lib/python2.7/logging/__init__.py\", line 734, in format\n    return fmt.format(record)\n  File \"/home/dinko/anaconda2/lib/python2.7/logging/__init__.py\", line 465, in format\n    record.message = record.getMessage()\n  File \"/home/dinko/anaconda2/lib/python2.7/logging/__init__.py\", line 329, in getMessage\n    msg = msg % self.args\nValueError: incomplete format\nLogged from file ukhr.py, line 364\n"
     ]
    },
    {
     "name": "stderr",
     "output_type": "stream",
     "text": [
      "Traceback (most recent call last):\n  File \"/home/dinko/anaconda2/lib/python2.7/logging/__init__.py\", line 861, in emit\n    msg = self.format(record)\n  File \"/home/dinko/anaconda2/lib/python2.7/logging/__init__.py\", line 734, in format\n    return fmt.format(record)\n  File \"/home/dinko/anaconda2/lib/python2.7/logging/__init__.py\", line 465, in format\n    record.message = record.getMessage()\n  File \"/home/dinko/anaconda2/lib/python2.7/logging/__init__.py\", line 329, in getMessage\n    msg = msg % self.args\nValueError: incomplete format\nLogged from file ukhr.py, line 364\n"
     ]
    },
    {
     "name": "stderr",
     "output_type": "stream",
     "text": [
      "Traceback (most recent call last):\n  File \"/home/dinko/anaconda2/lib/python2.7/logging/__init__.py\", line 861, in emit\n    msg = self.format(record)\n  File \"/home/dinko/anaconda2/lib/python2.7/logging/__init__.py\", line 734, in format\n    return fmt.format(record)\n  File \"/home/dinko/anaconda2/lib/python2.7/logging/__init__.py\", line 465, in format\n    record.message = record.getMessage()\n  File \"/home/dinko/anaconda2/lib/python2.7/logging/__init__.py\", line 329, in getMessage\n    msg = msg % self.args\nValueError: incomplete format\nLogged from file ukhr.py, line 364\n"
     ]
    },
    {
     "name": "stderr",
     "output_type": "stream",
     "text": [
      "Traceback (most recent call last):\n  File \"/home/dinko/anaconda2/lib/python2.7/logging/__init__.py\", line 861, in emit\n    msg = self.format(record)\n  File \"/home/dinko/anaconda2/lib/python2.7/logging/__init__.py\", line 734, in format\n    return fmt.format(record)\n  File \"/home/dinko/anaconda2/lib/python2.7/logging/__init__.py\", line 465, in format\n    record.message = record.getMessage()\n  File \"/home/dinko/anaconda2/lib/python2.7/logging/__init__.py\", line 329, in getMessage\n    msg = msg % self.args\nValueError: incomplete format\nLogged from file ukhr.py, line 364\n"
     ]
    },
    {
     "name": "stderr",
     "output_type": "stream",
     "text": [
      "Traceback (most recent call last):\n  File \"/home/dinko/anaconda2/lib/python2.7/logging/__init__.py\", line 861, in emit\n    msg = self.format(record)\n  File \"/home/dinko/anaconda2/lib/python2.7/logging/__init__.py\", line 734, in format\n    return fmt.format(record)\n  File \"/home/dinko/anaconda2/lib/python2.7/logging/__init__.py\", line 465, in format\n    record.message = record.getMessage()\n  File \"/home/dinko/anaconda2/lib/python2.7/logging/__init__.py\", line 329, in getMessage\n    msg = msg % self.args\nValueError: incomplete format\nLogged from file ukhr.py, line 364\n"
     ]
    },
    {
     "name": "stderr",
     "output_type": "stream",
     "text": [
      "Traceback (most recent call last):\n  File \"/home/dinko/anaconda2/lib/python2.7/logging/__init__.py\", line 861, in emit\n    msg = self.format(record)\n  File \"/home/dinko/anaconda2/lib/python2.7/logging/__init__.py\", line 734, in format\n    return fmt.format(record)\n  File \"/home/dinko/anaconda2/lib/python2.7/logging/__init__.py\", line 465, in format\n    record.message = record.getMessage()\n  File \"/home/dinko/anaconda2/lib/python2.7/logging/__init__.py\", line 329, in getMessage\n    msg = msg % self.args\nValueError: incomplete format\nLogged from file ukhr.py, line 364\nTraceback (most recent call last):\n  File \"/home/dinko/anaconda2/lib/python2.7/logging/__init__.py\", line 861, in emit\n    msg = self.format(record)\n  File \"/home/dinko/anaconda2/lib/python2.7/logging/__init__.py\", line 734, in format\n    return fmt.format(record)\n  File \"/home/dinko/anaconda2/lib/python2.7/logging/__init__.py\", line 465, in format\n    record.message = record.getMessage()\n  File \"/home/dinko/anaconda2/lib/python2.7/logging/__init__.py\", line 329, in getMessage\n    msg = msg % self.args\nTypeError: float argument required, not str\nLogged from file ukhr.py, line 368\nTraceback (most recent call last):\n  File \"/home/dinko/anaconda2/lib/python2.7/logging/__init__.py\", line 861, in emit\n    msg = self.format(record)\n  File \"/home/dinko/anaconda2/lib/python2.7/logging/__init__.py\", line 734, in format\n    return fmt.format(record)\n  File \"/home/dinko/anaconda2/lib/python2.7/logging/__init__.py\", line 465, in format\n    record.message = record.getMessage()\n  File \"/home/dinko/anaconda2/lib/python2.7/logging/__init__.py\", line 329, in getMessage\n    msg = msg % self.args\nTypeError: float argument required, not str\nLogged from file ukhr.py, line 368\n"
     ]
    },
    {
     "name": "stderr",
     "output_type": "stream",
     "text": [
      "Traceback (most recent call last):\n  File \"/home/dinko/anaconda2/lib/python2.7/logging/__init__.py\", line 861, in emit\n    msg = self.format(record)\n  File \"/home/dinko/anaconda2/lib/python2.7/logging/__init__.py\", line 734, in format\n    return fmt.format(record)\n  File \"/home/dinko/anaconda2/lib/python2.7/logging/__init__.py\", line 465, in format\n    record.message = record.getMessage()\n  File \"/home/dinko/anaconda2/lib/python2.7/logging/__init__.py\", line 329, in getMessage\n    msg = msg % self.args\nValueError: incomplete format\nLogged from file ukhr.py, line 364\n"
     ]
    },
    {
     "name": "stderr",
     "output_type": "stream",
     "text": [
      "Traceback (most recent call last):\n  File \"/home/dinko/anaconda2/lib/python2.7/logging/__init__.py\", line 861, in emit\n    msg = self.format(record)\n  File \"/home/dinko/anaconda2/lib/python2.7/logging/__init__.py\", line 734, in format\n    return fmt.format(record)\n  File \"/home/dinko/anaconda2/lib/python2.7/logging/__init__.py\", line 465, in format\n    record.message = record.getMessage()\n  File \"/home/dinko/anaconda2/lib/python2.7/logging/__init__.py\", line 329, in getMessage\n    msg = msg % self.args\nTypeError: float argument required, not str\nLogged from file ukhr.py, line 368\n"
     ]
    },
    {
     "name": "stderr",
     "output_type": "stream",
     "text": [
      "Traceback (most recent call last):\n  File \"/home/dinko/anaconda2/lib/python2.7/logging/__init__.py\", line 861, in emit\n    msg = self.format(record)\n  File \"/home/dinko/anaconda2/lib/python2.7/logging/__init__.py\", line 734, in format\n    return fmt.format(record)\n  File \"/home/dinko/anaconda2/lib/python2.7/logging/__init__.py\", line 465, in format\n    record.message = record.getMessage()\n  File \"/home/dinko/anaconda2/lib/python2.7/logging/__init__.py\", line 329, in getMessage\n    msg = msg % self.args\nValueError: incomplete format\nLogged from file ukhr.py, line 364\n"
     ]
    },
    {
     "name": "stderr",
     "output_type": "stream",
     "text": [
      "Traceback (most recent call last):\n  File \"/home/dinko/anaconda2/lib/python2.7/logging/__init__.py\", line 861, in emit\n    msg = self.format(record)\n  File \"/home/dinko/anaconda2/lib/python2.7/logging/__init__.py\", line 734, in format\n    return fmt.format(record)\n  File \"/home/dinko/anaconda2/lib/python2.7/logging/__init__.py\", line 465, in format\n    record.message = record.getMessage()\n  File \"/home/dinko/anaconda2/lib/python2.7/logging/__init__.py\", line 329, in getMessage\n    msg = msg % self.args\nValueError: incomplete format\nLogged from file ukhr.py, line 364\n"
     ]
    },
    {
     "name": "stderr",
     "output_type": "stream",
     "text": [
      "Traceback (most recent call last):\n  File \"/home/dinko/anaconda2/lib/python2.7/logging/__init__.py\", line 861, in emit\n    msg = self.format(record)\n  File \"/home/dinko/anaconda2/lib/python2.7/logging/__init__.py\", line 734, in format\n    return fmt.format(record)\n  File \"/home/dinko/anaconda2/lib/python2.7/logging/__init__.py\", line 465, in format\n    record.message = record.getMessage()\n  File \"/home/dinko/anaconda2/lib/python2.7/logging/__init__.py\", line 329, in getMessage\n    msg = msg % self.args\nValueError: incomplete format\nLogged from file ukhr.py, line 364\n"
     ]
    },
    {
     "name": "stderr",
     "output_type": "stream",
     "text": [
      "Traceback (most recent call last):\n  File \"/home/dinko/anaconda2/lib/python2.7/logging/__init__.py\", line 861, in emit\n    msg = self.format(record)\n  File \"/home/dinko/anaconda2/lib/python2.7/logging/__init__.py\", line 734, in format\n    return fmt.format(record)\n  File \"/home/dinko/anaconda2/lib/python2.7/logging/__init__.py\", line 465, in format\n    record.message = record.getMessage()\n  File \"/home/dinko/anaconda2/lib/python2.7/logging/__init__.py\", line 329, in getMessage\n    msg = msg % self.args\nValueError: incomplete format\nLogged from file ukhr.py, line 364\n"
     ]
    },
    {
     "name": "stderr",
     "output_type": "stream",
     "text": [
      "Traceback (most recent call last):\n  File \"/home/dinko/anaconda2/lib/python2.7/logging/__init__.py\", line 861, in emit\n    msg = self.format(record)\n  File \"/home/dinko/anaconda2/lib/python2.7/logging/__init__.py\", line 734, in format\n    return fmt.format(record)\n  File \"/home/dinko/anaconda2/lib/python2.7/logging/__init__.py\", line 465, in format\n    record.message = record.getMessage()\n  File \"/home/dinko/anaconda2/lib/python2.7/logging/__init__.py\", line 329, in getMessage\n    msg = msg % self.args\nValueError: incomplete format\nLogged from file ukhr.py, line 364\n"
     ]
    },
    {
     "name": "stderr",
     "output_type": "stream",
     "text": [
      "Traceback (most recent call last):\n  File \"/home/dinko/anaconda2/lib/python2.7/logging/__init__.py\", line 861, in emit\n    msg = self.format(record)\n  File \"/home/dinko/anaconda2/lib/python2.7/logging/__init__.py\", line 734, in format\n    return fmt.format(record)\n  File \"/home/dinko/anaconda2/lib/python2.7/logging/__init__.py\", line 465, in format\n    record.message = record.getMessage()\n  File \"/home/dinko/anaconda2/lib/python2.7/logging/__init__.py\", line 329, in getMessage\n    msg = msg % self.args\nTypeError: float argument required, not str\nLogged from file ukhr.py, line 368\nTraceback (most recent call last):\n  File \"/home/dinko/anaconda2/lib/python2.7/logging/__init__.py\", line 861, in emit\n    msg = self.format(record)\n  File \"/home/dinko/anaconda2/lib/python2.7/logging/__init__.py\", line 734, in format\n    return fmt.format(record)\n  File \"/home/dinko/anaconda2/lib/python2.7/logging/__init__.py\", line 465, in format\n    record.message = record.getMessage()\n  File \"/home/dinko/anaconda2/lib/python2.7/logging/__init__.py\", line 329, in getMessage\n    msg = msg % self.args\nTypeError: float argument required, not str\nLogged from file ukhr.py, line 368\nTraceback (most recent call last):\n  File \"/home/dinko/anaconda2/lib/python2.7/logging/__init__.py\", line 861, in emit\n    msg = self.format(record)\n  File \"/home/dinko/anaconda2/lib/python2.7/logging/__init__.py\", line 734, in format\n    return fmt.format(record)\n  File \"/home/dinko/anaconda2/lib/python2.7/logging/__init__.py\", line 465, in format\n    record.message = record.getMessage()\n  File \"/home/dinko/anaconda2/lib/python2.7/logging/__init__.py\", line 329, in getMessage\n    msg = msg % self.args\nTypeError: float argument required, not str\nLogged from file ukhr.py, line 368\nTraceback (most recent call last):\n  File \"/home/dinko/anaconda2/lib/python2.7/logging/__init__.py\", line 861, in emit\n    msg = self.format(record)\n  File \"/home/dinko/anaconda2/lib/python2.7/logging/__init__.py\", line 734, in format\n    return fmt.format(record)\n  File \"/home/dinko/anaconda2/lib/python2.7/logging/__init__.py\", line 465, in format\n    record.message = record.getMessage()\n  File \"/home/dinko/anaconda2/lib/python2.7/logging/__init__.py\", line 329, in getMessage\n    msg = msg % self.args\nTypeError: float argument required, not str\nLogged from file ukhr.py, line 368\n"
     ]
    },
    {
     "name": "stderr",
     "output_type": "stream",
     "text": [
      "Traceback (most recent call last):\n  File \"/home/dinko/anaconda2/lib/python2.7/logging/__init__.py\", line 861, in emit\n    msg = self.format(record)\n  File \"/home/dinko/anaconda2/lib/python2.7/logging/__init__.py\", line 734, in format\n    return fmt.format(record)\n  File \"/home/dinko/anaconda2/lib/python2.7/logging/__init__.py\", line 465, in format\n    record.message = record.getMessage()\n  File \"/home/dinko/anaconda2/lib/python2.7/logging/__init__.py\", line 329, in getMessage\n    msg = msg % self.args\nTypeError: float argument required, not str\nLogged from file ukhr.py, line 368\nTraceback (most recent call last):\n  File \"/home/dinko/anaconda2/lib/python2.7/logging/__init__.py\", line 861, in emit\n    msg = self.format(record)\n  File \"/home/dinko/anaconda2/lib/python2.7/logging/__init__.py\", line 734, in format\n    return fmt.format(record)\n  File \"/home/dinko/anaconda2/lib/python2.7/logging/__init__.py\", line 465, in format\n    record.message = record.getMessage()\n  File \"/home/dinko/anaconda2/lib/python2.7/logging/__init__.py\", line 329, in getMessage\n    msg = msg % self.args\nTypeError: float argument required, not str\nLogged from file ukhr.py, line 368\nTraceback (most recent call last):\n  File \"/home/dinko/anaconda2/lib/python2.7/logging/__init__.py\", line 861, in emit\n    msg = self.format(record)\n  File \"/home/dinko/anaconda2/lib/python2.7/logging/__init__.py\", line 734, in format\n    return fmt.format(record)\n  File \"/home/dinko/anaconda2/lib/python2.7/logging/__init__.py\", line 465, in format\n    record.message = record.getMessage()\n  File \"/home/dinko/anaconda2/lib/python2.7/logging/__init__.py\", line 329, in getMessage\n    msg = msg % self.args\nTypeError: float argument required, not str\nLogged from file ukhr.py, line 368\n"
     ]
    },
    {
     "name": "stderr",
     "output_type": "stream",
     "text": [
      "Traceback (most recent call last):\n  File \"/home/dinko/anaconda2/lib/python2.7/logging/__init__.py\", line 861, in emit\n    msg = self.format(record)\n  File \"/home/dinko/anaconda2/lib/python2.7/logging/__init__.py\", line 734, in format\n    return fmt.format(record)\n  File \"/home/dinko/anaconda2/lib/python2.7/logging/__init__.py\", line 465, in format\n    record.message = record.getMessage()\n  File \"/home/dinko/anaconda2/lib/python2.7/logging/__init__.py\", line 329, in getMessage\n    msg = msg % self.args\nValueError: incomplete format\nLogged from file ukhr.py, line 364\n"
     ]
    },
    {
     "name": "stderr",
     "output_type": "stream",
     "text": [
      "Traceback (most recent call last):\n  File \"/home/dinko/anaconda2/lib/python2.7/logging/__init__.py\", line 861, in emit\n    msg = self.format(record)\n  File \"/home/dinko/anaconda2/lib/python2.7/logging/__init__.py\", line 734, in format\n    return fmt.format(record)\n  File \"/home/dinko/anaconda2/lib/python2.7/logging/__init__.py\", line 465, in format\n    record.message = record.getMessage()\n  File \"/home/dinko/anaconda2/lib/python2.7/logging/__init__.py\", line 329, in getMessage\n    msg = msg % self.args\nTypeError: float argument required, not str\nLogged from file ukhr.py, line 368\n"
     ]
    },
    {
     "name": "stderr",
     "output_type": "stream",
     "text": [
      "Traceback (most recent call last):\n  File \"/home/dinko/anaconda2/lib/python2.7/logging/__init__.py\", line 861, in emit\n    msg = self.format(record)\n  File \"/home/dinko/anaconda2/lib/python2.7/logging/__init__.py\", line 734, in format\n    return fmt.format(record)\n  File \"/home/dinko/anaconda2/lib/python2.7/logging/__init__.py\", line 465, in format\n    record.message = record.getMessage()\n  File \"/home/dinko/anaconda2/lib/python2.7/logging/__init__.py\", line 329, in getMessage\n    msg = msg % self.args\nTypeError: float argument required, not str\nLogged from file ukhr.py, line 368\n"
     ]
    },
    {
     "name": "stderr",
     "output_type": "stream",
     "text": [
      "Traceback (most recent call last):\n  File \"/home/dinko/anaconda2/lib/python2.7/logging/__init__.py\", line 861, in emit\n    msg = self.format(record)\n  File \"/home/dinko/anaconda2/lib/python2.7/logging/__init__.py\", line 734, in format\n    return fmt.format(record)\n  File \"/home/dinko/anaconda2/lib/python2.7/logging/__init__.py\", line 465, in format\n    record.message = record.getMessage()\n  File \"/home/dinko/anaconda2/lib/python2.7/logging/__init__.py\", line 329, in getMessage\n    msg = msg % self.args\nValueError: incomplete format\nLogged from file ukhr.py, line 364\n"
     ]
    },
    {
     "name": "stderr",
     "output_type": "stream",
     "text": [
      "Traceback (most recent call last):\n  File \"/home/dinko/anaconda2/lib/python2.7/logging/__init__.py\", line 861, in emit\n    msg = self.format(record)\n  File \"/home/dinko/anaconda2/lib/python2.7/logging/__init__.py\", line 734, in format\n    return fmt.format(record)\n  File \"/home/dinko/anaconda2/lib/python2.7/logging/__init__.py\", line 465, in format\n    record.message = record.getMessage()\n  File \"/home/dinko/anaconda2/lib/python2.7/logging/__init__.py\", line 329, in getMessage\n    msg = msg % self.args\nTypeError: float argument required, not str\nLogged from file ukhr.py, line 368\n"
     ]
    },
    {
     "name": "stderr",
     "output_type": "stream",
     "text": [
      "Traceback (most recent call last):\n  File \"/home/dinko/anaconda2/lib/python2.7/logging/__init__.py\", line 861, in emit\n    msg = self.format(record)\n  File \"/home/dinko/anaconda2/lib/python2.7/logging/__init__.py\", line 734, in format\n    return fmt.format(record)\n  File \"/home/dinko/anaconda2/lib/python2.7/logging/__init__.py\", line 465, in format\n    record.message = record.getMessage()\n  File \"/home/dinko/anaconda2/lib/python2.7/logging/__init__.py\", line 329, in getMessage\n    msg = msg % self.args\nTypeError: float argument required, not str\nLogged from file ukhr.py, line 368\nTraceback (most recent call last):\n  File \"/home/dinko/anaconda2/lib/python2.7/logging/__init__.py\", line 861, in emit\n    msg = self.format(record)\n  File \"/home/dinko/anaconda2/lib/python2.7/logging/__init__.py\", line 734, in format\n    return fmt.format(record)\n  File \"/home/dinko/anaconda2/lib/python2.7/logging/__init__.py\", line 465, in format\n    record.message = record.getMessage()\n  File \"/home/dinko/anaconda2/lib/python2.7/logging/__init__.py\", line 329, in getMessage\n    msg = msg % self.args\nTypeError: float argument required, not str\nLogged from file ukhr.py, line 368\nTraceback (most recent call last):\n  File \"/home/dinko/anaconda2/lib/python2.7/logging/__init__.py\", line 861, in emit\n    msg = self.format(record)\n  File \"/home/dinko/anaconda2/lib/python2.7/logging/__init__.py\", line 734, in format\n    return fmt.format(record)\n  File \"/home/dinko/anaconda2/lib/python2.7/logging/__init__.py\", line 465, in format\n    record.message = record.getMessage()\n  File \"/home/dinko/anaconda2/lib/python2.7/logging/__init__.py\", line 329, in getMessage\n    msg = msg % self.args\nTypeError: float argument required, not str\nLogged from file ukhr.py, line 368\n"
     ]
    },
    {
     "name": "stderr",
     "output_type": "stream",
     "text": [
      "Traceback (most recent call last):\n  File \"/home/dinko/anaconda2/lib/python2.7/logging/__init__.py\", line 861, in emit\n    msg = self.format(record)\n  File \"/home/dinko/anaconda2/lib/python2.7/logging/__init__.py\", line 734, in format\n    return fmt.format(record)\n  File \"/home/dinko/anaconda2/lib/python2.7/logging/__init__.py\", line 465, in format\n    record.message = record.getMessage()\n  File \"/home/dinko/anaconda2/lib/python2.7/logging/__init__.py\", line 329, in getMessage\n    msg = msg % self.args\nValueError: incomplete format\nLogged from file ukhr.py, line 364\n"
     ]
    },
    {
     "name": "stderr",
     "output_type": "stream",
     "text": [
      "Traceback (most recent call last):\n  File \"/home/dinko/anaconda2/lib/python2.7/logging/__init__.py\", line 861, in emit\n    msg = self.format(record)\n  File \"/home/dinko/anaconda2/lib/python2.7/logging/__init__.py\", line 734, in format\n    return fmt.format(record)\n  File \"/home/dinko/anaconda2/lib/python2.7/logging/__init__.py\", line 465, in format\n    record.message = record.getMessage()\n  File \"/home/dinko/anaconda2/lib/python2.7/logging/__init__.py\", line 329, in getMessage\n    msg = msg % self.args\nValueError: incomplete format\nLogged from file ukhr.py, line 364\n"
     ]
    },
    {
     "name": "stderr",
     "output_type": "stream",
     "text": [
      "Traceback (most recent call last):\n  File \"/home/dinko/anaconda2/lib/python2.7/logging/__init__.py\", line 861, in emit\n    msg = self.format(record)\n  File \"/home/dinko/anaconda2/lib/python2.7/logging/__init__.py\", line 734, in format\n    return fmt.format(record)\n  File \"/home/dinko/anaconda2/lib/python2.7/logging/__init__.py\", line 465, in format\n    record.message = record.getMessage()\n  File \"/home/dinko/anaconda2/lib/python2.7/logging/__init__.py\", line 329, in getMessage\n    msg = msg % self.args\nTypeError: float argument required, not str\nLogged from file ukhr.py, line 368\nTraceback (most recent call last):\n  File \"/home/dinko/anaconda2/lib/python2.7/logging/__init__.py\", line 861, in emit\n    msg = self.format(record)\n  File \"/home/dinko/anaconda2/lib/python2.7/logging/__init__.py\", line 734, in format\n    return fmt.format(record)\n  File \"/home/dinko/anaconda2/lib/python2.7/logging/__init__.py\", line 465, in format\n    record.message = record.getMessage()\n  File \"/home/dinko/anaconda2/lib/python2.7/logging/__init__.py\", line 329, in getMessage\n    msg = msg % self.args\nTypeError: float argument required, not str\nLogged from file ukhr.py, line 368\n"
     ]
    },
    {
     "name": "stderr",
     "output_type": "stream",
     "text": [
      "Traceback (most recent call last):\n  File \"/home/dinko/anaconda2/lib/python2.7/logging/__init__.py\", line 861, in emit\n    msg = self.format(record)\n  File \"/home/dinko/anaconda2/lib/python2.7/logging/__init__.py\", line 734, in format\n    return fmt.format(record)\n  File \"/home/dinko/anaconda2/lib/python2.7/logging/__init__.py\", line 465, in format\n    record.message = record.getMessage()\n  File \"/home/dinko/anaconda2/lib/python2.7/logging/__init__.py\", line 329, in getMessage\n    msg = msg % self.args\nTypeError: float argument required, not str\nLogged from file ukhr.py, line 368\nTraceback (most recent call last):\n  File \"/home/dinko/anaconda2/lib/python2.7/logging/__init__.py\", line 861, in emit\n    msg = self.format(record)\n  File \"/home/dinko/anaconda2/lib/python2.7/logging/__init__.py\", line 734, in format\n    return fmt.format(record)\n  File \"/home/dinko/anaconda2/lib/python2.7/logging/__init__.py\", line 465, in format\n    record.message = record.getMessage()\n  File \"/home/dinko/anaconda2/lib/python2.7/logging/__init__.py\", line 329, in getMessage\n    msg = msg % self.args\nTypeError: float argument required, not str\nLogged from file ukhr.py, line 368\nTraceback (most recent call last):\n  File \"/home/dinko/anaconda2/lib/python2.7/logging/__init__.py\", line 861, in emit\n    msg = self.format(record)\n  File \"/home/dinko/anaconda2/lib/python2.7/logging/__init__.py\", line 734, in format\n    return fmt.format(record)\n  File \"/home/dinko/anaconda2/lib/python2.7/logging/__init__.py\", line 465, in format\n    record.message = record.getMessage()\n  File \"/home/dinko/anaconda2/lib/python2.7/logging/__init__.py\", line 329, in getMessage\n    msg = msg % self.args\nTypeError: float argument required, not str\nLogged from file ukhr.py, line 368\nTraceback (most recent call last):\n  File \"/home/dinko/anaconda2/lib/python2.7/logging/__init__.py\", line 861, in emit\n    msg = self.format(record)\n  File \"/home/dinko/anaconda2/lib/python2.7/logging/__init__.py\", line 734, in format\n    return fmt.format(record)\n  File \"/home/dinko/anaconda2/lib/python2.7/logging/__init__.py\", line 465, in format\n    record.message = record.getMessage()\n  File \"/home/dinko/anaconda2/lib/python2.7/logging/__init__.py\", line 329, in getMessage\n    msg = msg % self.args\nTypeError: float argument required, not str\nLogged from file ukhr.py, line 368\nTraceback (most recent call last):\n  File \"/home/dinko/anaconda2/lib/python2.7/logging/__init__.py\", line 861, in emit\n    msg = self.format(record)\n  File \"/home/dinko/anaconda2/lib/python2.7/logging/__init__.py\", line 734, in format\n    return fmt.format(record)\n  File \"/home/dinko/anaconda2/lib/python2.7/logging/__init__.py\", line 465, in format\n    record.message = record.getMessage()\n  File \"/home/dinko/anaconda2/lib/python2.7/logging/__init__.py\", line 329, in getMessage\n    msg = msg % self.args\nTypeError: float argument required, not str\nLogged from file ukhr.py, line 368\nTraceback (most recent call last):\n  File \"/home/dinko/anaconda2/lib/python2.7/logging/__init__.py\", line 861, in emit\n    msg = self.format(record)\n  File \"/home/dinko/anaconda2/lib/python2.7/logging/__init__.py\", line 734, in format\n    return fmt.format(record)\n  File \"/home/dinko/anaconda2/lib/python2.7/logging/__init__.py\", line 465, in format\n    record.message = record.getMessage()\n  File \"/home/dinko/anaconda2/lib/python2.7/logging/__init__.py\", line 329, in getMessage\n    msg = msg % self.args\nTypeError: float argument required, not str\nLogged from file ukhr.py, line 368\nTraceback (most recent call last):\n  File \"/home/dinko/anaconda2/lib/python2.7/logging/__init__.py\", line 861, in emit\n    msg = self.format(record)\n  File \"/home/dinko/anaconda2/lib/python2.7/logging/__init__.py\", line 734, in format\n    return fmt.format(record)\n  File \"/home/dinko/anaconda2/lib/python2.7/logging/__init__.py\", line 465, in format\n    record.message = record.getMessage()\n  File \"/home/dinko/anaconda2/lib/python2.7/logging/__init__.py\", line 329, in getMessage\n    msg = msg % self.args\nTypeError: float argument required, not str\nLogged from file ukhr.py, line 368\nTraceback (most recent call last):\n  File \"/home/dinko/anaconda2/lib/python2.7/logging/__init__.py\", line 861, in emit\n    msg = self.format(record)\n  File \"/home/dinko/anaconda2/lib/python2.7/logging/__init__.py\", line 734, in format\n    return fmt.format(record)\n  File \"/home/dinko/anaconda2/lib/python2.7/logging/__init__.py\", line 465, in format\n    record.message = record.getMessage()\n  File \"/home/dinko/anaconda2/lib/python2.7/logging/__init__.py\", line 329, in getMessage\n    msg = msg % self.args\nTypeError: float argument required, not str\nLogged from file ukhr.py, line 368\nTraceback (most recent call last):\n  File \"/home/dinko/anaconda2/lib/python2.7/logging/__init__.py\", line 861, in emit\n    msg = self.format(record)\n  File \"/home/dinko/anaconda2/lib/python2.7/logging/__init__.py\", line 734, in format\n    return fmt.format(record)\n  File \"/home/dinko/anaconda2/lib/python2.7/logging/__init__.py\", line 465, in format\n    record.message = record.getMessage()\n  File \"/home/dinko/anaconda2/lib/python2.7/logging/__init__.py\", line 329, in getMessage\n    msg = msg % self.args\nTypeError: float argument required, not str\nLogged from file ukhr.py, line 368\n"
     ]
    },
    {
     "name": "stderr",
     "output_type": "stream",
     "text": [
      "Traceback (most recent call last):\n  File \"/home/dinko/anaconda2/lib/python2.7/logging/__init__.py\", line 861, in emit\n    msg = self.format(record)\n  File \"/home/dinko/anaconda2/lib/python2.7/logging/__init__.py\", line 734, in format\n    return fmt.format(record)\n  File \"/home/dinko/anaconda2/lib/python2.7/logging/__init__.py\", line 465, in format\n    record.message = record.getMessage()\n  File \"/home/dinko/anaconda2/lib/python2.7/logging/__init__.py\", line 329, in getMessage\n    msg = msg % self.args\nValueError: incomplete format\nLogged from file ukhr.py, line 364\n"
     ]
    },
    {
     "name": "stderr",
     "output_type": "stream",
     "text": [
      "Traceback (most recent call last):\n  File \"/home/dinko/anaconda2/lib/python2.7/logging/__init__.py\", line 861, in emit\n    msg = self.format(record)\n  File \"/home/dinko/anaconda2/lib/python2.7/logging/__init__.py\", line 734, in format\n    return fmt.format(record)\n  File \"/home/dinko/anaconda2/lib/python2.7/logging/__init__.py\", line 465, in format\n    record.message = record.getMessage()\n  File \"/home/dinko/anaconda2/lib/python2.7/logging/__init__.py\", line 329, in getMessage\n    msg = msg % self.args\nValueError: incomplete format\nLogged from file ukhr.py, line 364\n"
     ]
    },
    {
     "name": "stderr",
     "output_type": "stream",
     "text": [
      "Traceback (most recent call last):\n  File \"/home/dinko/anaconda2/lib/python2.7/logging/__init__.py\", line 861, in emit\n    msg = self.format(record)\n  File \"/home/dinko/anaconda2/lib/python2.7/logging/__init__.py\", line 734, in format\n    return fmt.format(record)\n  File \"/home/dinko/anaconda2/lib/python2.7/logging/__init__.py\", line 465, in format\n    record.message = record.getMessage()\n  File \"/home/dinko/anaconda2/lib/python2.7/logging/__init__.py\", line 329, in getMessage\n    msg = msg % self.args\nValueError: incomplete format\nLogged from file ukhr.py, line 364\n"
     ]
    },
    {
     "name": "stderr",
     "output_type": "stream",
     "text": [
      "Traceback (most recent call last):\n  File \"/home/dinko/anaconda2/lib/python2.7/logging/__init__.py\", line 861, in emit\n    msg = self.format(record)\n  File \"/home/dinko/anaconda2/lib/python2.7/logging/__init__.py\", line 734, in format\n    return fmt.format(record)\n  File \"/home/dinko/anaconda2/lib/python2.7/logging/__init__.py\", line 465, in format\n    record.message = record.getMessage()\n  File \"/home/dinko/anaconda2/lib/python2.7/logging/__init__.py\", line 329, in getMessage\n    msg = msg % self.args\nTypeError: float argument required, not str\nLogged from file ukhr.py, line 368\n"
     ]
    },
    {
     "name": "stderr",
     "output_type": "stream",
     "text": [
      "Traceback (most recent call last):\n  File \"/home/dinko/anaconda2/lib/python2.7/logging/__init__.py\", line 861, in emit\n    msg = self.format(record)\n  File \"/home/dinko/anaconda2/lib/python2.7/logging/__init__.py\", line 734, in format\n    return fmt.format(record)\n  File \"/home/dinko/anaconda2/lib/python2.7/logging/__init__.py\", line 465, in format\n    record.message = record.getMessage()\n  File \"/home/dinko/anaconda2/lib/python2.7/logging/__init__.py\", line 329, in getMessage\n    msg = msg % self.args\nTypeError: float argument required, not str\nLogged from file ukhr.py, line 368\n"
     ]
    },
    {
     "name": "stderr",
     "output_type": "stream",
     "text": [
      "Traceback (most recent call last):\n  File \"/home/dinko/anaconda2/lib/python2.7/logging/__init__.py\", line 861, in emit\n    msg = self.format(record)\n  File \"/home/dinko/anaconda2/lib/python2.7/logging/__init__.py\", line 734, in format\n    return fmt.format(record)\n  File \"/home/dinko/anaconda2/lib/python2.7/logging/__init__.py\", line 465, in format\n    record.message = record.getMessage()\n  File \"/home/dinko/anaconda2/lib/python2.7/logging/__init__.py\", line 329, in getMessage\n    msg = msg % self.args\nTypeError: float argument required, not str\nLogged from file ukhr.py, line 368\n"
     ]
    },
    {
     "name": "stderr",
     "output_type": "stream",
     "text": [
      "Traceback (most recent call last):\n  File \"/home/dinko/anaconda2/lib/python2.7/logging/__init__.py\", line 861, in emit\n    msg = self.format(record)\n  File \"/home/dinko/anaconda2/lib/python2.7/logging/__init__.py\", line 734, in format\n    return fmt.format(record)\n  File \"/home/dinko/anaconda2/lib/python2.7/logging/__init__.py\", line 465, in format\n    record.message = record.getMessage()\n  File \"/home/dinko/anaconda2/lib/python2.7/logging/__init__.py\", line 329, in getMessage\n    msg = msg % self.args\nValueError: incomplete format\nLogged from file ukhr.py, line 364\n"
     ]
    },
    {
     "name": "stderr",
     "output_type": "stream",
     "text": [
      "Traceback (most recent call last):\n  File \"/home/dinko/anaconda2/lib/python2.7/logging/__init__.py\", line 861, in emit\n    msg = self.format(record)\n  File \"/home/dinko/anaconda2/lib/python2.7/logging/__init__.py\", line 734, in format\n    return fmt.format(record)\n  File \"/home/dinko/anaconda2/lib/python2.7/logging/__init__.py\", line 465, in format\n    record.message = record.getMessage()\n  File \"/home/dinko/anaconda2/lib/python2.7/logging/__init__.py\", line 329, in getMessage\n    msg = msg % self.args\nValueError: incomplete format\nLogged from file ukhr.py, line 364\n"
     ]
    },
    {
     "name": "stderr",
     "output_type": "stream",
     "text": [
      "Traceback (most recent call last):\n  File \"/home/dinko/anaconda2/lib/python2.7/logging/__init__.py\", line 861, in emit\n    msg = self.format(record)\n  File \"/home/dinko/anaconda2/lib/python2.7/logging/__init__.py\", line 734, in format\n    return fmt.format(record)\n  File \"/home/dinko/anaconda2/lib/python2.7/logging/__init__.py\", line 465, in format\n    record.message = record.getMessage()\n  File \"/home/dinko/anaconda2/lib/python2.7/logging/__init__.py\", line 329, in getMessage\n    msg = msg % self.args\nTypeError: float argument required, not str\nLogged from file ukhr.py, line 368\n"
     ]
    },
    {
     "name": "stderr",
     "output_type": "stream",
     "text": [
      "Traceback (most recent call last):\n  File \"/home/dinko/anaconda2/lib/python2.7/logging/__init__.py\", line 861, in emit\n    msg = self.format(record)\n  File \"/home/dinko/anaconda2/lib/python2.7/logging/__init__.py\", line 734, in format\n    return fmt.format(record)\n  File \"/home/dinko/anaconda2/lib/python2.7/logging/__init__.py\", line 465, in format\n    record.message = record.getMessage()\n  File \"/home/dinko/anaconda2/lib/python2.7/logging/__init__.py\", line 329, in getMessage\n    msg = msg % self.args\nValueError: incomplete format\nLogged from file ukhr.py, line 364\n"
     ]
    },
    {
     "name": "stderr",
     "output_type": "stream",
     "text": [
      "Traceback (most recent call last):\n  File \"/home/dinko/anaconda2/lib/python2.7/logging/__init__.py\", line 861, in emit\n    msg = self.format(record)\n  File \"/home/dinko/anaconda2/lib/python2.7/logging/__init__.py\", line 734, in format\n    return fmt.format(record)\n  File \"/home/dinko/anaconda2/lib/python2.7/logging/__init__.py\", line 465, in format\n    record.message = record.getMessage()\n  File \"/home/dinko/anaconda2/lib/python2.7/logging/__init__.py\", line 329, in getMessage\n    msg = msg % self.args\nValueError: incomplete format\nLogged from file ukhr.py, line 364\n"
     ]
    },
    {
     "name": "stderr",
     "output_type": "stream",
     "text": [
      "Traceback (most recent call last):\n  File \"/home/dinko/anaconda2/lib/python2.7/logging/__init__.py\", line 861, in emit\n    msg = self.format(record)\n  File \"/home/dinko/anaconda2/lib/python2.7/logging/__init__.py\", line 734, in format\n    return fmt.format(record)\n  File \"/home/dinko/anaconda2/lib/python2.7/logging/__init__.py\", line 465, in format\n    record.message = record.getMessage()\n  File \"/home/dinko/anaconda2/lib/python2.7/logging/__init__.py\", line 329, in getMessage\n    msg = msg % self.args\nTypeError: float argument required, not str\nLogged from file ukhr.py, line 368\n"
     ]
    },
    {
     "name": "stderr",
     "output_type": "stream",
     "text": [
      "Traceback (most recent call last):\n  File \"/home/dinko/anaconda2/lib/python2.7/logging/__init__.py\", line 861, in emit\n    msg = self.format(record)\n  File \"/home/dinko/anaconda2/lib/python2.7/logging/__init__.py\", line 734, in format\n    return fmt.format(record)\n  File \"/home/dinko/anaconda2/lib/python2.7/logging/__init__.py\", line 465, in format\n    record.message = record.getMessage()\n  File \"/home/dinko/anaconda2/lib/python2.7/logging/__init__.py\", line 329, in getMessage\n    msg = msg % self.args\nValueError: incomplete format\nLogged from file ukhr.py, line 364\n"
     ]
    },
    {
     "name": "stderr",
     "output_type": "stream",
     "text": [
      "Traceback (most recent call last):\n  File \"/home/dinko/anaconda2/lib/python2.7/logging/__init__.py\", line 861, in emit\n    msg = self.format(record)\n  File \"/home/dinko/anaconda2/lib/python2.7/logging/__init__.py\", line 734, in format\n    return fmt.format(record)\n  File \"/home/dinko/anaconda2/lib/python2.7/logging/__init__.py\", line 465, in format\n    record.message = record.getMessage()\n  File \"/home/dinko/anaconda2/lib/python2.7/logging/__init__.py\", line 329, in getMessage\n    msg = msg % self.args\nTypeError: float argument required, not str\nLogged from file ukhr.py, line 368\nTraceback (most recent call last):\n  File \"/home/dinko/anaconda2/lib/python2.7/logging/__init__.py\", line 861, in emit\n    msg = self.format(record)\n  File \"/home/dinko/anaconda2/lib/python2.7/logging/__init__.py\", line 734, in format\n    return fmt.format(record)\n  File \"/home/dinko/anaconda2/lib/python2.7/logging/__init__.py\", line 465, in format\n    record.message = record.getMessage()\n  File \"/home/dinko/anaconda2/lib/python2.7/logging/__init__.py\", line 329, in getMessage\n    msg = msg % self.args\nTypeError: float argument required, not str\nLogged from file ukhr.py, line 368\nTraceback (most recent call last):\n  File \"/home/dinko/anaconda2/lib/python2.7/logging/__init__.py\", line 861, in emit\n    msg = self.format(record)\n  File \"/home/dinko/anaconda2/lib/python2.7/logging/__init__.py\", line 734, in format\n    return fmt.format(record)\n  File \"/home/dinko/anaconda2/lib/python2.7/logging/__init__.py\", line 465, in format\n    record.message = record.getMessage()\n  File \"/home/dinko/anaconda2/lib/python2.7/logging/__init__.py\", line 329, in getMessage\n    msg = msg % self.args\nTypeError: float argument required, not str\nLogged from file ukhr.py, line 368\n"
     ]
    },
    {
     "name": "stderr",
     "output_type": "stream",
     "text": [
      "Traceback (most recent call last):\n  File \"/home/dinko/anaconda2/lib/python2.7/logging/__init__.py\", line 861, in emit\n    msg = self.format(record)\n  File \"/home/dinko/anaconda2/lib/python2.7/logging/__init__.py\", line 734, in format\n    return fmt.format(record)\n  File \"/home/dinko/anaconda2/lib/python2.7/logging/__init__.py\", line 465, in format\n    record.message = record.getMessage()\n  File \"/home/dinko/anaconda2/lib/python2.7/logging/__init__.py\", line 329, in getMessage\n    msg = msg % self.args\nValueError: incomplete format\nLogged from file ukhr.py, line 364\n"
     ]
    },
    {
     "name": "stderr",
     "output_type": "stream",
     "text": [
      "Traceback (most recent call last):\n  File \"/home/dinko/anaconda2/lib/python2.7/logging/__init__.py\", line 861, in emit\n    msg = self.format(record)\n  File \"/home/dinko/anaconda2/lib/python2.7/logging/__init__.py\", line 734, in format\n    return fmt.format(record)\n  File \"/home/dinko/anaconda2/lib/python2.7/logging/__init__.py\", line 465, in format\n    record.message = record.getMessage()\n  File \"/home/dinko/anaconda2/lib/python2.7/logging/__init__.py\", line 329, in getMessage\n    msg = msg % self.args\nValueError: incomplete format\nLogged from file ukhr.py, line 364\n"
     ]
    },
    {
     "name": "stderr",
     "output_type": "stream",
     "text": [
      "Traceback (most recent call last):\n  File \"/home/dinko/anaconda2/lib/python2.7/logging/__init__.py\", line 861, in emit\n    msg = self.format(record)\n  File \"/home/dinko/anaconda2/lib/python2.7/logging/__init__.py\", line 734, in format\n    return fmt.format(record)\n  File \"/home/dinko/anaconda2/lib/python2.7/logging/__init__.py\", line 465, in format\n    record.message = record.getMessage()\n  File \"/home/dinko/anaconda2/lib/python2.7/logging/__init__.py\", line 329, in getMessage\n    msg = msg % self.args\nTypeError: float argument required, not str\nLogged from file ukhr.py, line 368\nTraceback (most recent call last):\n  File \"/home/dinko/anaconda2/lib/python2.7/logging/__init__.py\", line 861, in emit\n    msg = self.format(record)\n  File \"/home/dinko/anaconda2/lib/python2.7/logging/__init__.py\", line 734, in format\n    return fmt.format(record)\n  File \"/home/dinko/anaconda2/lib/python2.7/logging/__init__.py\", line 465, in format\n    record.message = record.getMessage()\n  File \"/home/dinko/anaconda2/lib/python2.7/logging/__init__.py\", line 329, in getMessage\n    msg = msg % self.args\nValueError: incomplete format\nLogged from file ukhr.py, line 364\nTraceback (most recent call last):\n  File \"/home/dinko/anaconda2/lib/python2.7/logging/__init__.py\", line 861, in emit\n    msg = self.format(record)\n  File \"/home/dinko/anaconda2/lib/python2.7/logging/__init__.py\", line 734, in format\n    return fmt.format(record)\n  File \"/home/dinko/anaconda2/lib/python2.7/logging/__init__.py\", line 465, in format\n    record.message = record.getMessage()\n  File \"/home/dinko/anaconda2/lib/python2.7/logging/__init__.py\", line 329, in getMessage\n    msg = msg % self.args\nTypeError: float argument required, not str\nLogged from file ukhr.py, line 368\n"
     ]
    },
    {
     "name": "stderr",
     "output_type": "stream",
     "text": [
      "Traceback (most recent call last):\n  File \"/home/dinko/anaconda2/lib/python2.7/logging/__init__.py\", line 861, in emit\n    msg = self.format(record)\n  File \"/home/dinko/anaconda2/lib/python2.7/logging/__init__.py\", line 734, in format\n    return fmt.format(record)\n  File \"/home/dinko/anaconda2/lib/python2.7/logging/__init__.py\", line 465, in format\n    record.message = record.getMessage()\n  File \"/home/dinko/anaconda2/lib/python2.7/logging/__init__.py\", line 329, in getMessage\n    msg = msg % self.args\nValueError: incomplete format\nLogged from file ukhr.py, line 364\n"
     ]
    },
    {
     "name": "stderr",
     "output_type": "stream",
     "text": [
      "Traceback (most recent call last):\n  File \"/home/dinko/anaconda2/lib/python2.7/logging/__init__.py\", line 861, in emit\n    msg = self.format(record)\n  File \"/home/dinko/anaconda2/lib/python2.7/logging/__init__.py\", line 734, in format\n    return fmt.format(record)\n  File \"/home/dinko/anaconda2/lib/python2.7/logging/__init__.py\", line 465, in format\n    record.message = record.getMessage()\n  File \"/home/dinko/anaconda2/lib/python2.7/logging/__init__.py\", line 329, in getMessage\n    msg = msg % self.args\nValueError: incomplete format\nLogged from file ukhr.py, line 364\n"
     ]
    },
    {
     "name": "stderr",
     "output_type": "stream",
     "text": [
      "Traceback (most recent call last):\n  File \"/home/dinko/anaconda2/lib/python2.7/logging/__init__.py\", line 861, in emit\n    msg = self.format(record)\n  File \"/home/dinko/anaconda2/lib/python2.7/logging/__init__.py\", line 734, in format\n    return fmt.format(record)\n  File \"/home/dinko/anaconda2/lib/python2.7/logging/__init__.py\", line 465, in format\n    record.message = record.getMessage()\n  File \"/home/dinko/anaconda2/lib/python2.7/logging/__init__.py\", line 329, in getMessage\n    msg = msg % self.args\nValueError: incomplete format\nLogged from file ukhr.py, line 364\n"
     ]
    },
    {
     "name": "stderr",
     "output_type": "stream",
     "text": [
      "Traceback (most recent call last):\n  File \"/home/dinko/anaconda2/lib/python2.7/logging/__init__.py\", line 861, in emit\n    msg = self.format(record)\n  File \"/home/dinko/anaconda2/lib/python2.7/logging/__init__.py\", line 734, in format\n    return fmt.format(record)\n  File \"/home/dinko/anaconda2/lib/python2.7/logging/__init__.py\", line 465, in format\n    record.message = record.getMessage()\n  File \"/home/dinko/anaconda2/lib/python2.7/logging/__init__.py\", line 329, in getMessage\n    msg = msg % self.args\nValueError: incomplete format\nLogged from file ukhr.py, line 364\n"
     ]
    },
    {
     "name": "stderr",
     "output_type": "stream",
     "text": [
      "Traceback (most recent call last):\n  File \"/home/dinko/anaconda2/lib/python2.7/logging/__init__.py\", line 861, in emit\n    msg = self.format(record)\n  File \"/home/dinko/anaconda2/lib/python2.7/logging/__init__.py\", line 734, in format\n    return fmt.format(record)\n  File \"/home/dinko/anaconda2/lib/python2.7/logging/__init__.py\", line 465, in format\n    record.message = record.getMessage()\n  File \"/home/dinko/anaconda2/lib/python2.7/logging/__init__.py\", line 329, in getMessage\n    msg = msg % self.args\nValueError: incomplete format\nLogged from file ukhr.py, line 364\n"
     ]
    },
    {
     "name": "stderr",
     "output_type": "stream",
     "text": [
      "Traceback (most recent call last):\n  File \"/home/dinko/anaconda2/lib/python2.7/logging/__init__.py\", line 861, in emit\n    msg = self.format(record)\n  File \"/home/dinko/anaconda2/lib/python2.7/logging/__init__.py\", line 734, in format\n    return fmt.format(record)\n  File \"/home/dinko/anaconda2/lib/python2.7/logging/__init__.py\", line 465, in format\n    record.message = record.getMessage()\n  File \"/home/dinko/anaconda2/lib/python2.7/logging/__init__.py\", line 329, in getMessage\n    msg = msg % self.args\nValueError: incomplete format\nLogged from file ukhr.py, line 364\n"
     ]
    },
    {
     "name": "stderr",
     "output_type": "stream",
     "text": [
      "Traceback (most recent call last):\n  File \"/home/dinko/anaconda2/lib/python2.7/logging/__init__.py\", line 861, in emit\n    msg = self.format(record)\n  File \"/home/dinko/anaconda2/lib/python2.7/logging/__init__.py\", line 734, in format\n    return fmt.format(record)\n  File \"/home/dinko/anaconda2/lib/python2.7/logging/__init__.py\", line 465, in format\n    record.message = record.getMessage()\n  File \"/home/dinko/anaconda2/lib/python2.7/logging/__init__.py\", line 329, in getMessage\n    msg = msg % self.args\nValueError: incomplete format\nLogged from file ukhr.py, line 364\n"
     ]
    },
    {
     "name": "stderr",
     "output_type": "stream",
     "text": [
      "Traceback (most recent call last):\n  File \"/home/dinko/anaconda2/lib/python2.7/logging/__init__.py\", line 861, in emit\n    msg = self.format(record)\n  File \"/home/dinko/anaconda2/lib/python2.7/logging/__init__.py\", line 734, in format\n    return fmt.format(record)\n  File \"/home/dinko/anaconda2/lib/python2.7/logging/__init__.py\", line 465, in format\n    record.message = record.getMessage()\n  File \"/home/dinko/anaconda2/lib/python2.7/logging/__init__.py\", line 329, in getMessage\n    msg = msg % self.args\nValueError: incomplete format\nLogged from file ukhr.py, line 364\n"
     ]
    },
    {
     "name": "stderr",
     "output_type": "stream",
     "text": [
      "Traceback (most recent call last):\n  File \"/home/dinko/anaconda2/lib/python2.7/logging/__init__.py\", line 861, in emit\n    msg = self.format(record)\n  File \"/home/dinko/anaconda2/lib/python2.7/logging/__init__.py\", line 734, in format\n    return fmt.format(record)\n  File \"/home/dinko/anaconda2/lib/python2.7/logging/__init__.py\", line 465, in format\n    record.message = record.getMessage()\n  File \"/home/dinko/anaconda2/lib/python2.7/logging/__init__.py\", line 329, in getMessage\n    msg = msg % self.args\nValueError: incomplete format\nLogged from file ukhr.py, line 364\nTraceback (most recent call last):\n  File \"/home/dinko/anaconda2/lib/python2.7/logging/__init__.py\", line 861, in emit\n    msg = self.format(record)\n  File \"/home/dinko/anaconda2/lib/python2.7/logging/__init__.py\", line 734, in format\n    return fmt.format(record)\n  File \"/home/dinko/anaconda2/lib/python2.7/logging/__init__.py\", line 465, in format\n    record.message = record.getMessage()\n  File \"/home/dinko/anaconda2/lib/python2.7/logging/__init__.py\", line 329, in getMessage\n    msg = msg % self.args\nTypeError: float argument required, not str\nLogged from file ukhr.py, line 368\nTraceback (most recent call last):\n  File \"/home/dinko/anaconda2/lib/python2.7/logging/__init__.py\", line 861, in emit\n    msg = self.format(record)\n  File \"/home/dinko/anaconda2/lib/python2.7/logging/__init__.py\", line 734, in format\n    return fmt.format(record)\n  File \"/home/dinko/anaconda2/lib/python2.7/logging/__init__.py\", line 465, in format\n    record.message = record.getMessage()\n  File \"/home/dinko/anaconda2/lib/python2.7/logging/__init__.py\", line 329, in getMessage\n    msg = msg % self.args\nTypeError: float argument required, not str\nLogged from file ukhr.py, line 368\nTraceback (most recent call last):\n  File \"/home/dinko/anaconda2/lib/python2.7/logging/__init__.py\", line 861, in emit\n    msg = self.format(record)\n  File \"/home/dinko/anaconda2/lib/python2.7/logging/__init__.py\", line 734, in format\n    return fmt.format(record)\n  File \"/home/dinko/anaconda2/lib/python2.7/logging/__init__.py\", line 465, in format\n    record.message = record.getMessage()\n  File \"/home/dinko/anaconda2/lib/python2.7/logging/__init__.py\", line 329, in getMessage\n    msg = msg % self.args\nTypeError: float argument required, not str\nLogged from file ukhr.py, line 368\nTraceback (most recent call last):\n  File \"/home/dinko/anaconda2/lib/python2.7/logging/__init__.py\", line 861, in emit\n    msg = self.format(record)\n  File \"/home/dinko/anaconda2/lib/python2.7/logging/__init__.py\", line 734, in format\n    return fmt.format(record)\n  File \"/home/dinko/anaconda2/lib/python2.7/logging/__init__.py\", line 465, in format\n    record.message = record.getMessage()\n  File \"/home/dinko/anaconda2/lib/python2.7/logging/__init__.py\", line 329, in getMessage\n    msg = msg % self.args\nTypeError: float argument required, not str\nLogged from file ukhr.py, line 368\nTraceback (most recent call last):\n  File \"/home/dinko/anaconda2/lib/python2.7/logging/__init__.py\", line 861, in emit\n    msg = self.format(record)\n  File \"/home/dinko/anaconda2/lib/python2.7/logging/__init__.py\", line 734, in format\n    return fmt.format(record)\n  File \"/home/dinko/anaconda2/lib/python2.7/logging/__init__.py\", line 465, in format\n    record.message = record.getMessage()\n  File \"/home/dinko/anaconda2/lib/python2.7/logging/__init__.py\", line 329, in getMessage\n    msg = msg % self.args\nTypeError: float argument required, not str\nLogged from file ukhr.py, line 368\n"
     ]
    },
    {
     "name": "stderr",
     "output_type": "stream",
     "text": [
      "Traceback (most recent call last):\n  File \"/home/dinko/anaconda2/lib/python2.7/logging/__init__.py\", line 861, in emit\n    msg = self.format(record)\n  File \"/home/dinko/anaconda2/lib/python2.7/logging/__init__.py\", line 734, in format\n    return fmt.format(record)\n  File \"/home/dinko/anaconda2/lib/python2.7/logging/__init__.py\", line 465, in format\n    record.message = record.getMessage()\n  File \"/home/dinko/anaconda2/lib/python2.7/logging/__init__.py\", line 329, in getMessage\n    msg = msg % self.args\nTypeError: float argument required, not str\nLogged from file ukhr.py, line 368\nTraceback (most recent call last):\n  File \"/home/dinko/anaconda2/lib/python2.7/logging/__init__.py\", line 861, in emit\n    msg = self.format(record)\n  File \"/home/dinko/anaconda2/lib/python2.7/logging/__init__.py\", line 734, in format\n    return fmt.format(record)\n  File \"/home/dinko/anaconda2/lib/python2.7/logging/__init__.py\", line 465, in format\n    record.message = record.getMessage()\n  File \"/home/dinko/anaconda2/lib/python2.7/logging/__init__.py\", line 329, in getMessage\n    msg = msg % self.args\nTypeError: float argument required, not str\nLogged from file ukhr.py, line 368\n"
     ]
    },
    {
     "name": "stderr",
     "output_type": "stream",
     "text": [
      "Traceback (most recent call last):\n  File \"/home/dinko/anaconda2/lib/python2.7/logging/__init__.py\", line 861, in emit\n    msg = self.format(record)\n  File \"/home/dinko/anaconda2/lib/python2.7/logging/__init__.py\", line 734, in format\n    return fmt.format(record)\n  File \"/home/dinko/anaconda2/lib/python2.7/logging/__init__.py\", line 465, in format\n    record.message = record.getMessage()\n  File \"/home/dinko/anaconda2/lib/python2.7/logging/__init__.py\", line 329, in getMessage\n    msg = msg % self.args\nTypeError: float argument required, not str\nLogged from file ukhr.py, line 368\n"
     ]
    },
    {
     "name": "stderr",
     "output_type": "stream",
     "text": [
      "Traceback (most recent call last):\n  File \"/home/dinko/anaconda2/lib/python2.7/logging/__init__.py\", line 861, in emit\n    msg = self.format(record)\n  File \"/home/dinko/anaconda2/lib/python2.7/logging/__init__.py\", line 734, in format\n    return fmt.format(record)\n  File \"/home/dinko/anaconda2/lib/python2.7/logging/__init__.py\", line 465, in format\n    record.message = record.getMessage()\n  File \"/home/dinko/anaconda2/lib/python2.7/logging/__init__.py\", line 329, in getMessage\n    msg = msg % self.args\nValueError: incomplete format\nLogged from file ukhr.py, line 364\n"
     ]
    },
    {
     "name": "stderr",
     "output_type": "stream",
     "text": [
      "Traceback (most recent call last):\n  File \"/home/dinko/anaconda2/lib/python2.7/logging/__init__.py\", line 861, in emit\n    msg = self.format(record)\n  File \"/home/dinko/anaconda2/lib/python2.7/logging/__init__.py\", line 734, in format\n    return fmt.format(record)\n  File \"/home/dinko/anaconda2/lib/python2.7/logging/__init__.py\", line 465, in format\n    record.message = record.getMessage()\n  File \"/home/dinko/anaconda2/lib/python2.7/logging/__init__.py\", line 329, in getMessage\n    msg = msg % self.args\nValueError: incomplete format\nLogged from file ukhr.py, line 364\n"
     ]
    },
    {
     "name": "stderr",
     "output_type": "stream",
     "text": [
      "Traceback (most recent call last):\n  File \"/home/dinko/anaconda2/lib/python2.7/logging/__init__.py\", line 861, in emit\n    msg = self.format(record)\n  File \"/home/dinko/anaconda2/lib/python2.7/logging/__init__.py\", line 734, in format\n    return fmt.format(record)\n  File \"/home/dinko/anaconda2/lib/python2.7/logging/__init__.py\", line 465, in format\n    record.message = record.getMessage()\n  File \"/home/dinko/anaconda2/lib/python2.7/logging/__init__.py\", line 329, in getMessage\n    msg = msg % self.args\nValueError: incomplete format\nLogged from file ukhr.py, line 364\n"
     ]
    },
    {
     "name": "stderr",
     "output_type": "stream",
     "text": [
      "Traceback (most recent call last):\n  File \"/home/dinko/anaconda2/lib/python2.7/logging/__init__.py\", line 861, in emit\n    msg = self.format(record)\n  File \"/home/dinko/anaconda2/lib/python2.7/logging/__init__.py\", line 734, in format\n    return fmt.format(record)\n  File \"/home/dinko/anaconda2/lib/python2.7/logging/__init__.py\", line 465, in format\n    record.message = record.getMessage()\n  File \"/home/dinko/anaconda2/lib/python2.7/logging/__init__.py\", line 329, in getMessage\n    msg = msg % self.args\nTypeError: float argument required, not str\nLogged from file ukhr.py, line 368\n"
     ]
    },
    {
     "name": "stderr",
     "output_type": "stream",
     "text": [
      "Traceback (most recent call last):\n  File \"/home/dinko/anaconda2/lib/python2.7/logging/__init__.py\", line 861, in emit\n    msg = self.format(record)\n  File \"/home/dinko/anaconda2/lib/python2.7/logging/__init__.py\", line 734, in format\n    return fmt.format(record)\n  File \"/home/dinko/anaconda2/lib/python2.7/logging/__init__.py\", line 465, in format\n    record.message = record.getMessage()\n  File \"/home/dinko/anaconda2/lib/python2.7/logging/__init__.py\", line 329, in getMessage\n    msg = msg % self.args\nValueError: incomplete format\nLogged from file ukhr.py, line 364\n"
     ]
    },
    {
     "name": "stderr",
     "output_type": "stream",
     "text": [
      "Traceback (most recent call last):\n  File \"/home/dinko/anaconda2/lib/python2.7/logging/__init__.py\", line 861, in emit\n    msg = self.format(record)\n  File \"/home/dinko/anaconda2/lib/python2.7/logging/__init__.py\", line 734, in format\n    return fmt.format(record)\n  File \"/home/dinko/anaconda2/lib/python2.7/logging/__init__.py\", line 465, in format\n    record.message = record.getMessage()\n  File \"/home/dinko/anaconda2/lib/python2.7/logging/__init__.py\", line 329, in getMessage\n    msg = msg % self.args\nTypeError: float argument required, not str\nLogged from file ukhr.py, line 368\n"
     ]
    },
    {
     "name": "stderr",
     "output_type": "stream",
     "text": [
      "Traceback (most recent call last):\n  File \"/home/dinko/anaconda2/lib/python2.7/logging/__init__.py\", line 861, in emit\n    msg = self.format(record)\n  File \"/home/dinko/anaconda2/lib/python2.7/logging/__init__.py\", line 734, in format\n    return fmt.format(record)\n  File \"/home/dinko/anaconda2/lib/python2.7/logging/__init__.py\", line 465, in format\n    record.message = record.getMessage()\n  File \"/home/dinko/anaconda2/lib/python2.7/logging/__init__.py\", line 329, in getMessage\n    msg = msg % self.args\nValueError: incomplete format\nLogged from file ukhr.py, line 364\n"
     ]
    },
    {
     "name": "stderr",
     "output_type": "stream",
     "text": [
      "Traceback (most recent call last):\n  File \"/home/dinko/anaconda2/lib/python2.7/logging/__init__.py\", line 861, in emit\n    msg = self.format(record)\n  File \"/home/dinko/anaconda2/lib/python2.7/logging/__init__.py\", line 734, in format\n    return fmt.format(record)\n  File \"/home/dinko/anaconda2/lib/python2.7/logging/__init__.py\", line 465, in format\n    record.message = record.getMessage()\n  File \"/home/dinko/anaconda2/lib/python2.7/logging/__init__.py\", line 329, in getMessage\n    msg = msg % self.args\nValueError: incomplete format\nLogged from file ukhr.py, line 364\n"
     ]
    },
    {
     "name": "stderr",
     "output_type": "stream",
     "text": [
      "Traceback (most recent call last):\n  File \"/home/dinko/anaconda2/lib/python2.7/logging/__init__.py\", line 861, in emit\n    msg = self.format(record)\n  File \"/home/dinko/anaconda2/lib/python2.7/logging/__init__.py\", line 734, in format\n    return fmt.format(record)\n  File \"/home/dinko/anaconda2/lib/python2.7/logging/__init__.py\", line 465, in format\n    record.message = record.getMessage()\n  File \"/home/dinko/anaconda2/lib/python2.7/logging/__init__.py\", line 329, in getMessage\n    msg = msg % self.args\nTypeError: float argument required, not str\nLogged from file ukhr.py, line 368\nTraceback (most recent call last):\n  File \"/home/dinko/anaconda2/lib/python2.7/logging/__init__.py\", line 861, in emit\n    msg = self.format(record)\n  File \"/home/dinko/anaconda2/lib/python2.7/logging/__init__.py\", line 734, in format\n    return fmt.format(record)\n  File \"/home/dinko/anaconda2/lib/python2.7/logging/__init__.py\", line 465, in format\n    record.message = record.getMessage()\n  File \"/home/dinko/anaconda2/lib/python2.7/logging/__init__.py\", line 329, in getMessage\n    msg = msg % self.args\nTypeError: float argument required, not str\nLogged from file ukhr.py, line 368\nTraceback (most recent call last):\n  File \"/home/dinko/anaconda2/lib/python2.7/logging/__init__.py\", line 861, in emit\n    msg = self.format(record)\n  File \"/home/dinko/anaconda2/lib/python2.7/logging/__init__.py\", line 734, in format\n    return fmt.format(record)\n  File \"/home/dinko/anaconda2/lib/python2.7/logging/__init__.py\", line 465, in format\n    record.message = record.getMessage()\n  File \"/home/dinko/anaconda2/lib/python2.7/logging/__init__.py\", line 329, in getMessage\n    msg = msg % self.args\nTypeError: float argument required, not str\nLogged from file ukhr.py, line 368\nTraceback (most recent call last):\n  File \"/home/dinko/anaconda2/lib/python2.7/logging/__init__.py\", line 861, in emit\n    msg = self.format(record)\n  File \"/home/dinko/anaconda2/lib/python2.7/logging/__init__.py\", line 734, in format\n    return fmt.format(record)\n  File \"/home/dinko/anaconda2/lib/python2.7/logging/__init__.py\", line 465, in format\n    record.message = record.getMessage()\n  File \"/home/dinko/anaconda2/lib/python2.7/logging/__init__.py\", line 329, in getMessage\n    msg = msg % self.args\nTypeError: float argument required, not str\nLogged from file ukhr.py, line 368\nTraceback (most recent call last):\n  File \"/home/dinko/anaconda2/lib/python2.7/logging/__init__.py\", line 861, in emit\n    msg = self.format(record)\n  File \"/home/dinko/anaconda2/lib/python2.7/logging/__init__.py\", line 734, in format\n    return fmt.format(record)\n  File \"/home/dinko/anaconda2/lib/python2.7/logging/__init__.py\", line 465, in format\n    record.message = record.getMessage()\n  File \"/home/dinko/anaconda2/lib/python2.7/logging/__init__.py\", line 329, in getMessage\n    msg = msg % self.args\nTypeError: float argument required, not str\nLogged from file ukhr.py, line 368\nTraceback (most recent call last):\n  File \"/home/dinko/anaconda2/lib/python2.7/logging/__init__.py\", line 861, in emit\n    msg = self.format(record)\n  File \"/home/dinko/anaconda2/lib/python2.7/logging/__init__.py\", line 734, in format\n    return fmt.format(record)\n  File \"/home/dinko/anaconda2/lib/python2.7/logging/__init__.py\", line 465, in format\n    record.message = record.getMessage()\n  File \"/home/dinko/anaconda2/lib/python2.7/logging/__init__.py\", line 329, in getMessage\n    msg = msg % self.args\nTypeError: float argument required, not str\nLogged from file ukhr.py, line 368\nTraceback (most recent call last):\n  File \"/home/dinko/anaconda2/lib/python2.7/logging/__init__.py\", line 861, in emit\n    msg = self.format(record)\n  File \"/home/dinko/anaconda2/lib/python2.7/logging/__init__.py\", line 734, in format\n    return fmt.format(record)\n  File \"/home/dinko/anaconda2/lib/python2.7/logging/__init__.py\", line 465, in format\n    record.message = record.getMessage()\n  File \"/home/dinko/anaconda2/lib/python2.7/logging/__init__.py\", line 329, in getMessage\n    msg = msg % self.args\nTypeError: float argument required, not str\nLogged from file ukhr.py, line 368\nTraceback (most recent call last):\n  File \"/home/dinko/anaconda2/lib/python2.7/logging/__init__.py\", line 861, in emit\n    msg = self.format(record)\n  File \"/home/dinko/anaconda2/lib/python2.7/logging/__init__.py\", line 734, in format\n    return fmt.format(record)\n  File \"/home/dinko/anaconda2/lib/python2.7/logging/__init__.py\", line 465, in format\n    record.message = record.getMessage()\n  File \"/home/dinko/anaconda2/lib/python2.7/logging/__init__.py\", line 329, in getMessage\n    msg = msg % self.args\nTypeError: float argument required, not str\nLogged from file ukhr.py, line 368\nTraceback (most recent call last):\n  File \"/home/dinko/anaconda2/lib/python2.7/logging/__init__.py\", line 861, in emit\n    msg = self.format(record)\n  File \"/home/dinko/anaconda2/lib/python2.7/logging/__init__.py\", line 734, in format\n    return fmt.format(record)\n  File \"/home/dinko/anaconda2/lib/python2.7/logging/__init__.py\", line 465, in format\n    record.message = record.getMessage()\n  File \"/home/dinko/anaconda2/lib/python2.7/logging/__init__.py\", line 329, in getMessage\n    msg = msg % self.args\nTypeError: float argument required, not str\nLogged from file ukhr.py, line 368\nTraceback (most recent call last):\n  File \"/home/dinko/anaconda2/lib/python2.7/logging/__init__.py\", line 861, in emit\n    msg = self.format(record)\n  File \"/home/dinko/anaconda2/lib/python2.7/logging/__init__.py\", line 734, in format\n    return fmt.format(record)\n  File \"/home/dinko/anaconda2/lib/python2.7/logging/__init__.py\", line 465, in format\n    record.message = record.getMessage()\n  File \"/home/dinko/anaconda2/lib/python2.7/logging/__init__.py\", line 329, in getMessage\n    msg = msg % self.args\nTypeError: float argument required, not str\nLogged from file ukhr.py, line 368\nTraceback (most recent call last):\n  File \"/home/dinko/anaconda2/lib/python2.7/logging/__init__.py\", line 861, in emit\n    msg = self.format(record)\n  File \"/home/dinko/anaconda2/lib/python2.7/logging/__init__.py\", line 734, in format\n    return fmt.format(record)\n  File \"/home/dinko/anaconda2/lib/python2.7/logging/__init__.py\", line 465, in format\n    record.message = record.getMessage()\n  File \"/home/dinko/anaconda2/lib/python2.7/logging/__init__.py\", line 329, in getMessage\n    msg = msg % self.args\nTypeError: float argument required, not str\nLogged from file ukhr.py, line 368\nTraceback (most recent call last):\n  File \"/home/dinko/anaconda2/lib/python2.7/logging/__init__.py\", line 861, in emit\n    msg = self.format(record)\n  File \"/home/dinko/anaconda2/lib/python2.7/logging/__init__.py\", line 734, in format\n    return fmt.format(record)\n  File \"/home/dinko/anaconda2/lib/python2.7/logging/__init__.py\", line 465, in format\n    record.message = record.getMessage()\n  File \"/home/dinko/anaconda2/lib/python2.7/logging/__init__.py\", line 329, in getMessage\n    msg = msg % self.args\nTypeError: float argument required, not str\nLogged from file ukhr.py, line 368\nTraceback (most recent call last):\n  File \"/home/dinko/anaconda2/lib/python2.7/logging/__init__.py\", line 861, in emit\n    msg = self.format(record)\n  File \"/home/dinko/anaconda2/lib/python2.7/logging/__init__.py\", line 734, in format\n    return fmt.format(record)\n  File \"/home/dinko/anaconda2/lib/python2.7/logging/__init__.py\", line 465, in format\n    record.message = record.getMessage()\n  File \"/home/dinko/anaconda2/lib/python2.7/logging/__init__.py\", line 329, in getMessage\n    msg = msg % self.args\nTypeError: float argument required, not str\nLogged from file ukhr.py, line 368\nTraceback (most recent call last):\n  File \"/home/dinko/anaconda2/lib/python2.7/logging/__init__.py\", line 861, in emit\n    msg = self.format(record)\n  File \"/home/dinko/anaconda2/lib/python2.7/logging/__init__.py\", line 734, in format\n    return fmt.format(record)\n  File \"/home/dinko/anaconda2/lib/python2.7/logging/__init__.py\", line 465, in format\n    record.message = record.getMessage()\n  File \"/home/dinko/anaconda2/lib/python2.7/logging/__init__.py\", line 329, in getMessage\n    msg = msg % self.args\nTypeError: float argument required, not str\nLogged from file ukhr.py, line 368\nTraceback (most recent call last):\n  File \"/home/dinko/anaconda2/lib/python2.7/logging/__init__.py\", line 861, in emit\n    msg = self.format(record)\n  File \"/home/dinko/anaconda2/lib/python2.7/logging/__init__.py\", line 734, in format\n    return fmt.format(record)\n  File \"/home/dinko/anaconda2/lib/python2.7/logging/__init__.py\", line 465, in format\n    record.message = record.getMessage()\n  File \"/home/dinko/anaconda2/lib/python2.7/logging/__init__.py\", line 329, in getMessage\n    msg = msg % self.args\nTypeError: float argument required, not str\nLogged from file ukhr.py, line 368\nTraceback (most recent call last):\n  File \"/home/dinko/anaconda2/lib/python2.7/logging/__init__.py\", line 861, in emit\n    msg = self.format(record)\n  File \"/home/dinko/anaconda2/lib/python2.7/logging/__init__.py\", line 734, in format\n    return fmt.format(record)\n  File \"/home/dinko/anaconda2/lib/python2.7/logging/__init__.py\", line 465, in format\n    record.message = record.getMessage()\n  File \"/home/dinko/anaconda2/lib/python2.7/logging/__init__.py\", line 329, in getMessage\n    msg = msg % self.args\nTypeError: float argument required, not str\nLogged from file ukhr.py, line 368\nTraceback (most recent call last):\n  File \"/home/dinko/anaconda2/lib/python2.7/logging/__init__.py\", line 861, in emit\n    msg = self.format(record)\n  File \"/home/dinko/anaconda2/lib/python2.7/logging/__init__.py\", line 734, in format\n    return fmt.format(record)\n  File \"/home/dinko/anaconda2/lib/python2.7/logging/__init__.py\", line 465, in format\n    record.message = record.getMessage()\n  File \"/home/dinko/anaconda2/lib/python2.7/logging/__init__.py\", line 329, in getMessage\n    msg = msg % self.args\nTypeError: float argument required, not str\nLogged from file ukhr.py, line 368\nTraceback (most recent call last):\n  File \"/home/dinko/anaconda2/lib/python2.7/logging/__init__.py\", line 861, in emit\n    msg = self.format(record)\n  File \"/home/dinko/anaconda2/lib/python2.7/logging/__init__.py\", line 734, in format\n    return fmt.format(record)\n  File \"/home/dinko/anaconda2/lib/python2.7/logging/__init__.py\", line 465, in format\n    record.message = record.getMessage()\n  File \"/home/dinko/anaconda2/lib/python2.7/logging/__init__.py\", line 329, in getMessage\n    msg = msg % self.args\nTypeError: float argument required, not str\nLogged from file ukhr.py, line 368\nTraceback (most recent call last):\n  File \"/home/dinko/anaconda2/lib/python2.7/logging/__init__.py\", line 861, in emit\n    msg = self.format(record)\n  File \"/home/dinko/anaconda2/lib/python2.7/logging/__init__.py\", line 734, in format\n    return fmt.format(record)\n  File \"/home/dinko/anaconda2/lib/python2.7/logging/__init__.py\", line 465, in format\n    record.message = record.getMessage()\n  File \"/home/dinko/anaconda2/lib/python2.7/logging/__init__.py\", line 329, in getMessage\n    msg = msg % self.args\nTypeError: float argument required, not str\nLogged from file ukhr.py, line 368\nTraceback (most recent call last):\n  File \"/home/dinko/anaconda2/lib/python2.7/logging/__init__.py\", line 861, in emit\n    msg = self.format(record)\n  File \"/home/dinko/anaconda2/lib/python2.7/logging/__init__.py\", line 734, in format\n    return fmt.format(record)\n  File \"/home/dinko/anaconda2/lib/python2.7/logging/__init__.py\", line 465, in format\n    record.message = record.getMessage()\n  File \"/home/dinko/anaconda2/lib/python2.7/logging/__init__.py\", line 329, in getMessage\n    msg = msg % self.args\nTypeError: float argument required, not str\nLogged from file ukhr.py, line 368\nTraceback (most recent call last):\n  File \"/home/dinko/anaconda2/lib/python2.7/logging/__init__.py\", line 861, in emit\n    msg = self.format(record)\n  File \"/home/dinko/anaconda2/lib/python2.7/logging/__init__.py\", line 734, in format\n    return fmt.format(record)\n  File \"/home/dinko/anaconda2/lib/python2.7/logging/__init__.py\", line 465, in format\n    record.message = record.getMessage()\n  File \"/home/dinko/anaconda2/lib/python2.7/logging/__init__.py\", line 329, in getMessage\n    msg = msg % self.args\nTypeError: float argument required, not str\nLogged from file ukhr.py, line 368\nTraceback (most recent call last):\n  File \"/home/dinko/anaconda2/lib/python2.7/logging/__init__.py\", line 861, in emit\n    msg = self.format(record)\n  File \"/home/dinko/anaconda2/lib/python2.7/logging/__init__.py\", line 734, in format\n    return fmt.format(record)\n  File \"/home/dinko/anaconda2/lib/python2.7/logging/__init__.py\", line 465, in format\n    record.message = record.getMessage()\n  File \"/home/dinko/anaconda2/lib/python2.7/logging/__init__.py\", line 329, in getMessage\n    msg = msg % self.args\nTypeError: float argument required, not str\nLogged from file ukhr.py, line 368\nTraceback (most recent call last):\n  File \"/home/dinko/anaconda2/lib/python2.7/logging/__init__.py\", line 861, in emit\n    msg = self.format(record)\n  File \"/home/dinko/anaconda2/lib/python2.7/logging/__init__.py\", line 734, in format\n    return fmt.format(record)\n  File \"/home/dinko/anaconda2/lib/python2.7/logging/__init__.py\", line 465, in format\n    record.message = record.getMessage()\n  File \"/home/dinko/anaconda2/lib/python2.7/logging/__init__.py\", line 329, in getMessage\n    msg = msg % self.args\nValueError: incomplete format\nLogged from file ukhr.py, line 364\nTraceback (most recent call last):\n  File \"/home/dinko/anaconda2/lib/python2.7/logging/__init__.py\", line 861, in emit\n    msg = self.format(record)\n  File \"/home/dinko/anaconda2/lib/python2.7/logging/__init__.py\", line 734, in format\n    return fmt.format(record)\n  File \"/home/dinko/anaconda2/lib/python2.7/logging/__init__.py\", line 465, in format\n    record.message = record.getMessage()\n  File \"/home/dinko/anaconda2/lib/python2.7/logging/__init__.py\", line 329, in getMessage\n    msg = msg % self.args\nTypeError: float argument required, not str\nLogged from file ukhr.py, line 368\nTraceback (most recent call last):\n  File \"/home/dinko/anaconda2/lib/python2.7/logging/__init__.py\", line 861, in emit\n    msg = self.format(record)\n  File \"/home/dinko/anaconda2/lib/python2.7/logging/__init__.py\", line 734, in format\n    return fmt.format(record)\n  File \"/home/dinko/anaconda2/lib/python2.7/logging/__init__.py\", line 465, in format\n    record.message = record.getMessage()\n  File \"/home/dinko/anaconda2/lib/python2.7/logging/__init__.py\", line 329, in getMessage\n    msg = msg % self.args\nTypeError: float argument required, not str\nLogged from file ukhr.py, line 368\nTraceback (most recent call last):\n  File \"/home/dinko/anaconda2/lib/python2.7/logging/__init__.py\", line 861, in emit\n    msg = self.format(record)\n  File \"/home/dinko/anaconda2/lib/python2.7/logging/__init__.py\", line 734, in format\n    return fmt.format(record)\n  File \"/home/dinko/anaconda2/lib/python2.7/logging/__init__.py\", line 465, in format\n    record.message = record.getMessage()\n  File \"/home/dinko/anaconda2/lib/python2.7/logging/__init__.py\", line 329, in getMessage\n    msg = msg % self.args\nTypeError: float argument required, not str\nLogged from file ukhr.py, line 368\nTraceback (most recent call last):\n  File \"/home/dinko/anaconda2/lib/python2.7/logging/__init__.py\", line 861, in emit\n    msg = self.format(record)\n  File \"/home/dinko/anaconda2/lib/python2.7/logging/__init__.py\", line 734, in format\n    return fmt.format(record)\n  File \"/home/dinko/anaconda2/lib/python2.7/logging/__init__.py\", line 465, in format\n    record.message = record.getMessage()\n  File \"/home/dinko/anaconda2/lib/python2.7/logging/__init__.py\", line 329, in getMessage\n    msg = msg % self.args\nTypeError: float argument required, not str\nLogged from file ukhr.py, line 368\nTraceback (most recent call last):\n  File \"/home/dinko/anaconda2/lib/python2.7/logging/__init__.py\", line 861, in emit\n    msg = self.format(record)\n  File \"/home/dinko/anaconda2/lib/python2.7/logging/__init__.py\", line 734, in format\n    return fmt.format(record)\n  File \"/home/dinko/anaconda2/lib/python2.7/logging/__init__.py\", line 465, in format\n    record.message = record.getMessage()\n  File \"/home/dinko/anaconda2/lib/python2.7/logging/__init__.py\", line 329, in getMessage\n    msg = msg % self.args\nTypeError: float argument required, not str\nLogged from file ukhr.py, line 368\nTraceback (most recent call last):\n  File \"/home/dinko/anaconda2/lib/python2.7/logging/__init__.py\", line 861, in emit\n    msg = self.format(record)\n  File \"/home/dinko/anaconda2/lib/python2.7/logging/__init__.py\", line 734, in format\n    return fmt.format(record)\n  File \"/home/dinko/anaconda2/lib/python2.7/logging/__init__.py\", line 465, in format\n    record.message = record.getMessage()\n  File \"/home/dinko/anaconda2/lib/python2.7/logging/__init__.py\", line 329, in getMessage\n    msg = msg % self.args\nTypeError: float argument required, not str\nLogged from file ukhr.py, line 368\nTraceback (most recent call last):\n  File \"/home/dinko/anaconda2/lib/python2.7/logging/__init__.py\", line 861, in emit\n    msg = self.format(record)\n  File \"/home/dinko/anaconda2/lib/python2.7/logging/__init__.py\", line 734, in format\n    return fmt.format(record)\n  File \"/home/dinko/anaconda2/lib/python2.7/logging/__init__.py\", line 465, in format\n    record.message = record.getMessage()\n  File \"/home/dinko/anaconda2/lib/python2.7/logging/__init__.py\", line 329, in getMessage\n    msg = msg % self.args\nTypeError: float argument required, not str\nLogged from file ukhr.py, line 368\nTraceback (most recent call last):\n  File \"/home/dinko/anaconda2/lib/python2.7/logging/__init__.py\", line 861, in emit\n    msg = self.format(record)\n  File \"/home/dinko/anaconda2/lib/python2.7/logging/__init__.py\", line 734, in format\n    return fmt.format(record)\n  File \"/home/dinko/anaconda2/lib/python2.7/logging/__init__.py\", line 465, in format\n    record.message = record.getMessage()\n  File \"/home/dinko/anaconda2/lib/python2.7/logging/__init__.py\", line 329, in getMessage\n    msg = msg % self.args\nTypeError: float argument required, not str\nLogged from file ukhr.py, line 368\nTraceback (most recent call last):\n  File \"/home/dinko/anaconda2/lib/python2.7/logging/__init__.py\", line 861, in emit\n    msg = self.format(record)\n  File \"/home/dinko/anaconda2/lib/python2.7/logging/__init__.py\", line 734, in format\n    return fmt.format(record)\n  File \"/home/dinko/anaconda2/lib/python2.7/logging/__init__.py\", line 465, in format\n    record.message = record.getMessage()\n  File \"/home/dinko/anaconda2/lib/python2.7/logging/__init__.py\", line 329, in getMessage\n    msg = msg % self.args\nTypeError: float argument required, not str\nLogged from file ukhr.py, line 368\nTraceback (most recent call last):\n  File \"/home/dinko/anaconda2/lib/python2.7/logging/__init__.py\", line 861, in emit\n    msg = self.format(record)\n  File \"/home/dinko/anaconda2/lib/python2.7/logging/__init__.py\", line 734, in format\n    return fmt.format(record)\n  File \"/home/dinko/anaconda2/lib/python2.7/logging/__init__.py\", line 465, in format\n    record.message = record.getMessage()\n  File \"/home/dinko/anaconda2/lib/python2.7/logging/__init__.py\", line 329, in getMessage\n    msg = msg % self.args\nTypeError: float argument required, not str\nLogged from file ukhr.py, line 368\nTraceback (most recent call last):\n  File \"/home/dinko/anaconda2/lib/python2.7/logging/__init__.py\", line 861, in emit\n    msg = self.format(record)\n  File \"/home/dinko/anaconda2/lib/python2.7/logging/__init__.py\", line 734, in format\n    return fmt.format(record)\n  File \"/home/dinko/anaconda2/lib/python2.7/logging/__init__.py\", line 465, in format\n    record.message = record.getMessage()\n  File \"/home/dinko/anaconda2/lib/python2.7/logging/__init__.py\", line 329, in getMessage\n    msg = msg % self.args\nTypeError: float argument required, not str\nLogged from file ukhr.py, line 368\nTraceback (most recent call last):\n  File \"/home/dinko/anaconda2/lib/python2.7/logging/__init__.py\", line 861, in emit\n    msg = self.format(record)\n  File \"/home/dinko/anaconda2/lib/python2.7/logging/__init__.py\", line 734, in format\n    return fmt.format(record)\n  File \"/home/dinko/anaconda2/lib/python2.7/logging/__init__.py\", line 465, in format\n    record.message = record.getMessage()\n  File \"/home/dinko/anaconda2/lib/python2.7/logging/__init__.py\", line 329, in getMessage\n    msg = msg % self.args\nTypeError: float argument required, not str\nLogged from file ukhr.py, line 368\nTraceback (most recent call last):\n  File \"/home/dinko/anaconda2/lib/python2.7/logging/__init__.py\", line 861, in emit\n    msg = self.format(record)\n  File \"/home/dinko/anaconda2/lib/python2.7/logging/__init__.py\", line 734, in format\n    return fmt.format(record)\n  File \"/home/dinko/anaconda2/lib/python2.7/logging/__init__.py\", line 465, in format\n    record.message = record.getMessage()\n  File \"/home/dinko/anaconda2/lib/python2.7/logging/__init__.py\", line 329, in getMessage\n    msg = msg % self.args\nTypeError: float argument required, not str\nLogged from file ukhr.py, line 368\nTraceback (most recent call last):\n  File \"/home/dinko/anaconda2/lib/python2.7/logging/__init__.py\", line 861, in emit\n    msg = self.format(record)\n  File \"/home/dinko/anaconda2/lib/python2.7/logging/__init__.py\", line 734, in format\n    return fmt.format(record)\n  File \"/home/dinko/anaconda2/lib/python2.7/logging/__init__.py\", line 465, in format\n    record.message = record.getMessage()\n  File \"/home/dinko/anaconda2/lib/python2.7/logging/__init__.py\", line 329, in getMessage\n    msg = msg % self.args\nTypeError: float argument required, not str\nLogged from file ukhr.py, line 368\nTraceback (most recent call last):\n  File \"/home/dinko/anaconda2/lib/python2.7/logging/__init__.py\", line 861, in emit\n    msg = self.format(record)\n  File \"/home/dinko/anaconda2/lib/python2.7/logging/__init__.py\", line 734, in format\n    return fmt.format(record)\n  File \"/home/dinko/anaconda2/lib/python2.7/logging/__init__.py\", line 465, in format\n    record.message = record.getMessage()\n  File \"/home/dinko/anaconda2/lib/python2.7/logging/__init__.py\", line 329, in getMessage\n    msg = msg % self.args\nTypeError: float argument required, not str\nLogged from file ukhr.py, line 368\nTraceback (most recent call last):\n  File \"/home/dinko/anaconda2/lib/python2.7/logging/__init__.py\", line 861, in emit\n    msg = self.format(record)\n  File \"/home/dinko/anaconda2/lib/python2.7/logging/__init__.py\", line 734, in format\n    return fmt.format(record)\n  File \"/home/dinko/anaconda2/lib/python2.7/logging/__init__.py\", line 465, in format\n    record.message = record.getMessage()\n  File \"/home/dinko/anaconda2/lib/python2.7/logging/__init__.py\", line 329, in getMessage\n    msg = msg % self.args\nTypeError: float argument required, not str\nLogged from file ukhr.py, line 368\nTraceback (most recent call last):\n  File \"/home/dinko/anaconda2/lib/python2.7/logging/__init__.py\", line 861, in emit\n    msg = self.format(record)\n  File \"/home/dinko/anaconda2/lib/python2.7/logging/__init__.py\", line 734, in format\n    return fmt.format(record)\n  File \"/home/dinko/anaconda2/lib/python2.7/logging/__init__.py\", line 465, in format\n    record.message = record.getMessage()\n  File \"/home/dinko/anaconda2/lib/python2.7/logging/__init__.py\", line 329, in getMessage\n    msg = msg % self.args\nTypeError: float argument required, not str\nLogged from file ukhr.py, line 368\nTraceback (most recent call last):\n  File \"/home/dinko/anaconda2/lib/python2.7/logging/__init__.py\", line 861, in emit\n    msg = self.format(record)\n  File \"/home/dinko/anaconda2/lib/python2.7/logging/__init__.py\", line 734, in format\n    return fmt.format(record)\n  File \"/home/dinko/anaconda2/lib/python2.7/logging/__init__.py\", line 465, in format\n    record.message = record.getMessage()\n  File \"/home/dinko/anaconda2/lib/python2.7/logging/__init__.py\", line 329, in getMessage\n    msg = msg % self.args\nTypeError: float argument required, not str\nLogged from file ukhr.py, line 368\nTraceback (most recent call last):\n  File \"/home/dinko/anaconda2/lib/python2.7/logging/__init__.py\", line 861, in emit\n    msg = self.format(record)\n  File \"/home/dinko/anaconda2/lib/python2.7/logging/__init__.py\", line 734, in format\n    return fmt.format(record)\n  File \"/home/dinko/anaconda2/lib/python2.7/logging/__init__.py\", line 465, in format\n    record.message = record.getMessage()\n  File \"/home/dinko/anaconda2/lib/python2.7/logging/__init__.py\", line 329, in getMessage\n    msg = msg % self.args\nTypeError: float argument required, not str\nLogged from file ukhr.py, line 368\nTraceback (most recent call last):\n  File \"/home/dinko/anaconda2/lib/python2.7/logging/__init__.py\", line 861, in emit\n    msg = self.format(record)\n  File \"/home/dinko/anaconda2/lib/python2.7/logging/__init__.py\", line 734, in format\n    return fmt.format(record)\n  File \"/home/dinko/anaconda2/lib/python2.7/logging/__init__.py\", line 465, in format\n    record.message = record.getMessage()\n  File \"/home/dinko/anaconda2/lib/python2.7/logging/__init__.py\", line 329, in getMessage\n    msg = msg % self.args\nTypeError: float argument required, not str\nLogged from file ukhr.py, line 368\nTraceback (most recent call last):\n  File \"/home/dinko/anaconda2/lib/python2.7/logging/__init__.py\", line 861, in emit\n    msg = self.format(record)\n  File \"/home/dinko/anaconda2/lib/python2.7/logging/__init__.py\", line 734, in format\n    return fmt.format(record)\n  File \"/home/dinko/anaconda2/lib/python2.7/logging/__init__.py\", line 465, in format\n    record.message = record.getMessage()\n  File \"/home/dinko/anaconda2/lib/python2.7/logging/__init__.py\", line 329, in getMessage\n    msg = msg % self.args\nTypeError: float argument required, not str\nLogged from file ukhr.py, line 368\nTraceback (most recent call last):\n  File \"/home/dinko/anaconda2/lib/python2.7/logging/__init__.py\", line 861, in emit\n    msg = self.format(record)\n  File \"/home/dinko/anaconda2/lib/python2.7/logging/__init__.py\", line 734, in format\n    return fmt.format(record)\n  File \"/home/dinko/anaconda2/lib/python2.7/logging/__init__.py\", line 465, in format\n    record.message = record.getMessage()\n  File \"/home/dinko/anaconda2/lib/python2.7/logging/__init__.py\", line 329, in getMessage\n    msg = msg % self.args\nTypeError: float argument required, not str\nLogged from file ukhr.py, line 368\nTraceback (most recent call last):\n  File \"/home/dinko/anaconda2/lib/python2.7/logging/__init__.py\", line 861, in emit\n    msg = self.format(record)\n  File \"/home/dinko/anaconda2/lib/python2.7/logging/__init__.py\", line 734, in format\n    return fmt.format(record)\n  File \"/home/dinko/anaconda2/lib/python2.7/logging/__init__.py\", line 465, in format\n    record.message = record.getMessage()\n  File \"/home/dinko/anaconda2/lib/python2.7/logging/__init__.py\", line 329, in getMessage\n    msg = msg % self.args\nTypeError: float argument required, not str\nLogged from file ukhr.py, line 368\nTraceback (most recent call last):\n  File \"/home/dinko/anaconda2/lib/python2.7/logging/__init__.py\", line 861, in emit\n    msg = self.format(record)\n  File \"/home/dinko/anaconda2/lib/python2.7/logging/__init__.py\", line 734, in format\n    return fmt.format(record)\n  File \"/home/dinko/anaconda2/lib/python2.7/logging/__init__.py\", line 465, in format\n    record.message = record.getMessage()\n  File \"/home/dinko/anaconda2/lib/python2.7/logging/__init__.py\", line 329, in getMessage\n    msg = msg % self.args\nTypeError: float argument required, not str\nLogged from file ukhr.py, line 368\nTraceback (most recent call last):\n  File \"/home/dinko/anaconda2/lib/python2.7/logging/__init__.py\", line 861, in emit\n    msg = self.format(record)\n  File \"/home/dinko/anaconda2/lib/python2.7/logging/__init__.py\", line 734, in format\n    return fmt.format(record)\n  File \"/home/dinko/anaconda2/lib/python2.7/logging/__init__.py\", line 465, in format\n    record.message = record.getMessage()\n  File \"/home/dinko/anaconda2/lib/python2.7/logging/__init__.py\", line 329, in getMessage\n    msg = msg % self.args\nTypeError: float argument required, not str\nLogged from file ukhr.py, line 368\nTraceback (most recent call last):\n  File \"/home/dinko/anaconda2/lib/python2.7/logging/__init__.py\", line 861, in emit\n    msg = self.format(record)\n  File \"/home/dinko/anaconda2/lib/python2.7/logging/__init__.py\", line 734, in format\n    return fmt.format(record)\n  File \"/home/dinko/anaconda2/lib/python2.7/logging/__init__.py\", line 465, in format\n    record.message = record.getMessage()\n  File \"/home/dinko/anaconda2/lib/python2.7/logging/__init__.py\", line 329, in getMessage\n    msg = msg % self.args\nTypeError: float argument required, not str\nLogged from file ukhr.py, line 368\nTraceback (most recent call last):\n  File \"/home/dinko/anaconda2/lib/python2.7/logging/__init__.py\", line 861, in emit\n    msg = self.format(record)\n  File \"/home/dinko/anaconda2/lib/python2.7/logging/__init__.py\", line 734, in format\n    return fmt.format(record)\n  File \"/home/dinko/anaconda2/lib/python2.7/logging/__init__.py\", line 465, in format\n    record.message = record.getMessage()\n  File \"/home/dinko/anaconda2/lib/python2.7/logging/__init__.py\", line 329, in getMessage\n    msg = msg % self.args\nTypeError: float argument required, not str\nLogged from file ukhr.py, line 368\nTraceback (most recent call last):\n  File \"/home/dinko/anaconda2/lib/python2.7/logging/__init__.py\", line 861, in emit\n    msg = self.format(record)\n  File \"/home/dinko/anaconda2/lib/python2.7/logging/__init__.py\", line 734, in format\n    return fmt.format(record)\n  File \"/home/dinko/anaconda2/lib/python2.7/logging/__init__.py\", line 465, in format\n    record.message = record.getMessage()\n  File \"/home/dinko/anaconda2/lib/python2.7/logging/__init__.py\", line 329, in getMessage\n    msg = msg % self.args\nTypeError: float argument required, not str\nLogged from file ukhr.py, line 368\nTraceback (most recent call last):\n  File \"/home/dinko/anaconda2/lib/python2.7/logging/__init__.py\", line 861, in emit\n    msg = self.format(record)\n  File \"/home/dinko/anaconda2/lib/python2.7/logging/__init__.py\", line 734, in format\n    return fmt.format(record)\n  File \"/home/dinko/anaconda2/lib/python2.7/logging/__init__.py\", line 465, in format\n    record.message = record.getMessage()\n  File \"/home/dinko/anaconda2/lib/python2.7/logging/__init__.py\", line 329, in getMessage\n    msg = msg % self.args\nTypeError: float argument required, not str\nLogged from file ukhr.py, line 368\nTraceback (most recent call last):\n  File \"/home/dinko/anaconda2/lib/python2.7/logging/__init__.py\", line 861, in emit\n    msg = self.format(record)\n  File \"/home/dinko/anaconda2/lib/python2.7/logging/__init__.py\", line 734, in format\n    return fmt.format(record)\n  File \"/home/dinko/anaconda2/lib/python2.7/logging/__init__.py\", line 465, in format\n    record.message = record.getMessage()\n  File \"/home/dinko/anaconda2/lib/python2.7/logging/__init__.py\", line 329, in getMessage\n    msg = msg % self.args\nTypeError: float argument required, not str\nLogged from file ukhr.py, line 368\nTraceback (most recent call last):\n  File \"/home/dinko/anaconda2/lib/python2.7/logging/__init__.py\", line 861, in emit\n    msg = self.format(record)\n  File \"/home/dinko/anaconda2/lib/python2.7/logging/__init__.py\", line 734, in format\n    return fmt.format(record)\n  File \"/home/dinko/anaconda2/lib/python2.7/logging/__init__.py\", line 465, in format\n    record.message = record.getMessage()\n  File \"/home/dinko/anaconda2/lib/python2.7/logging/__init__.py\", line 329, in getMessage\n    msg = msg % self.args\nTypeError: float argument required, not str\nLogged from file ukhr.py, line 368\nTraceback (most recent call last):\n  File \"/home/dinko/anaconda2/lib/python2.7/logging/__init__.py\", line 861, in emit\n    msg = self.format(record)\n  File \"/home/dinko/anaconda2/lib/python2.7/logging/__init__.py\", line 734, in format\n    return fmt.format(record)\n  File \"/home/dinko/anaconda2/lib/python2.7/logging/__init__.py\", line 465, in format\n    record.message = record.getMessage()\n  File \"/home/dinko/anaconda2/lib/python2.7/logging/__init__.py\", line 329, in getMessage\n    msg = msg % self.args\nValueError: incomplete format\nLogged from file ukhr.py, line 364\nTraceback (most recent call last):\n  File \"/home/dinko/anaconda2/lib/python2.7/logging/__init__.py\", line 861, in emit\n    msg = self.format(record)\n  File \"/home/dinko/anaconda2/lib/python2.7/logging/__init__.py\", line 734, in format\n    return fmt.format(record)\n  File \"/home/dinko/anaconda2/lib/python2.7/logging/__init__.py\", line 465, in format\n    record.message = record.getMessage()\n  File \"/home/dinko/anaconda2/lib/python2.7/logging/__init__.py\", line 329, in getMessage\n    msg = msg % self.args\nTypeError: float argument required, not str\nLogged from file ukhr.py, line 368\nTraceback (most recent call last):\n  File \"/home/dinko/anaconda2/lib/python2.7/logging/__init__.py\", line 861, in emit\n    msg = self.format(record)\n  File \"/home/dinko/anaconda2/lib/python2.7/logging/__init__.py\", line 734, in format\n    return fmt.format(record)\n  File \"/home/dinko/anaconda2/lib/python2.7/logging/__init__.py\", line 465, in format\n    record.message = record.getMessage()\n  File \"/home/dinko/anaconda2/lib/python2.7/logging/__init__.py\", line 329, in getMessage\n    msg = msg % self.args\nTypeError: float argument required, not str\nLogged from file ukhr.py, line 368\nTraceback (most recent call last):\n  File \"/home/dinko/anaconda2/lib/python2.7/logging/__init__.py\", line 861, in emit\n    msg = self.format(record)\n  File \"/home/dinko/anaconda2/lib/python2.7/logging/__init__.py\", line 734, in format\n    return fmt.format(record)\n  File \"/home/dinko/anaconda2/lib/python2.7/logging/__init__.py\", line 465, in format\n    record.message = record.getMessage()\n  File \"/home/dinko/anaconda2/lib/python2.7/logging/__init__.py\", line 329, in getMessage\n    msg = msg % self.args\nTypeError: float argument required, not str\nLogged from file ukhr.py, line 368\nTraceback (most recent call last):\n  File \"/home/dinko/anaconda2/lib/python2.7/logging/__init__.py\", line 861, in emit\n    msg = self.format(record)\n  File \"/home/dinko/anaconda2/lib/python2.7/logging/__init__.py\", line 734, in format\n    return fmt.format(record)\n  File \"/home/dinko/anaconda2/lib/python2.7/logging/__init__.py\", line 465, in format\n    record.message = record.getMessage()\n  File \"/home/dinko/anaconda2/lib/python2.7/logging/__init__.py\", line 329, in getMessage\n    msg = msg % self.args\nTypeError: float argument required, not str\nLogged from file ukhr.py, line 368\nTraceback (most recent call last):\n  File \"/home/dinko/anaconda2/lib/python2.7/logging/__init__.py\", line 861, in emit\n    msg = self.format(record)\n  File \"/home/dinko/anaconda2/lib/python2.7/logging/__init__.py\", line 734, in format\n    return fmt.format(record)\n  File \"/home/dinko/anaconda2/lib/python2.7/logging/__init__.py\", line 465, in format\n    record.message = record.getMessage()\n  File \"/home/dinko/anaconda2/lib/python2.7/logging/__init__.py\", line 329, in getMessage\n    msg = msg % self.args\nTypeError: float argument required, not str\nLogged from file ukhr.py, line 368\nTraceback (most recent call last):\n  File \"/home/dinko/anaconda2/lib/python2.7/logging/__init__.py\", line 861, in emit\n    msg = self.format(record)\n  File \"/home/dinko/anaconda2/lib/python2.7/logging/__init__.py\", line 734, in format\n    return fmt.format(record)\n  File \"/home/dinko/anaconda2/lib/python2.7/logging/__init__.py\", line 465, in format\n    record.message = record.getMessage()\n  File \"/home/dinko/anaconda2/lib/python2.7/logging/__init__.py\", line 329, in getMessage\n    msg = msg % self.args\nTypeError: float argument required, not str\nLogged from file ukhr.py, line 368\nTraceback (most recent call last):\n  File \"/home/dinko/anaconda2/lib/python2.7/logging/__init__.py\", line 861, in emit\n    msg = self.format(record)\n  File \"/home/dinko/anaconda2/lib/python2.7/logging/__init__.py\", line 734, in format\n    return fmt.format(record)\n  File \"/home/dinko/anaconda2/lib/python2.7/logging/__init__.py\", line 465, in format\n    record.message = record.getMessage()\n  File \"/home/dinko/anaconda2/lib/python2.7/logging/__init__.py\", line 329, in getMessage\n    msg = msg % self.args\nTypeError: float argument required, not str\nLogged from file ukhr.py, line 368\nTraceback (most recent call last):\n  File \"/home/dinko/anaconda2/lib/python2.7/logging/__init__.py\", line 861, in emit\n    msg = self.format(record)\n  File \"/home/dinko/anaconda2/lib/python2.7/logging/__init__.py\", line 734, in format\n    return fmt.format(record)\n  File \"/home/dinko/anaconda2/lib/python2.7/logging/__init__.py\", line 465, in format\n    record.message = record.getMessage()\n  File \"/home/dinko/anaconda2/lib/python2.7/logging/__init__.py\", line 329, in getMessage\n    msg = msg % self.args\nTypeError: float argument required, not str\nLogged from file ukhr.py, line 368\nTraceback (most recent call last):\n  File \"/home/dinko/anaconda2/lib/python2.7/logging/__init__.py\", line 861, in emit\n    msg = self.format(record)\n  File \"/home/dinko/anaconda2/lib/python2.7/logging/__init__.py\", line 734, in format\n    return fmt.format(record)\n  File \"/home/dinko/anaconda2/lib/python2.7/logging/__init__.py\", line 465, in format\n    record.message = record.getMessage()\n  File \"/home/dinko/anaconda2/lib/python2.7/logging/__init__.py\", line 329, in getMessage\n    msg = msg % self.args\nTypeError: float argument required, not str\nLogged from file ukhr.py, line 368\nTraceback (most recent call last):\n  File \"/home/dinko/anaconda2/lib/python2.7/logging/__init__.py\", line 861, in emit\n    msg = self.format(record)\n  File \"/home/dinko/anaconda2/lib/python2.7/logging/__init__.py\", line 734, in format\n    return fmt.format(record)\n  File \"/home/dinko/anaconda2/lib/python2.7/logging/__init__.py\", line 465, in format\n    record.message = record.getMessage()\n  File \"/home/dinko/anaconda2/lib/python2.7/logging/__init__.py\", line 329, in getMessage\n    msg = msg % self.args\nTypeError: float argument required, not str\nLogged from file ukhr.py, line 368\nTraceback (most recent call last):\n  File \"/home/dinko/anaconda2/lib/python2.7/logging/__init__.py\", line 861, in emit\n    msg = self.format(record)\n  File \"/home/dinko/anaconda2/lib/python2.7/logging/__init__.py\", line 734, in format\n    return fmt.format(record)\n  File \"/home/dinko/anaconda2/lib/python2.7/logging/__init__.py\", line 465, in format\n    record.message = record.getMessage()\n  File \"/home/dinko/anaconda2/lib/python2.7/logging/__init__.py\", line 329, in getMessage\n    msg = msg % self.args\nTypeError: float argument required, not str\nLogged from file ukhr.py, line 368\nTraceback (most recent call last):\n  File \"/home/dinko/anaconda2/lib/python2.7/logging/__init__.py\", line 861, in emit\n    msg = self.format(record)\n  File \"/home/dinko/anaconda2/lib/python2.7/logging/__init__.py\", line 734, in format\n    return fmt.format(record)\n  File \"/home/dinko/anaconda2/lib/python2.7/logging/__init__.py\", line 465, in format\n    record.message = record.getMessage()\n  File \"/home/dinko/anaconda2/lib/python2.7/logging/__init__.py\", line 329, in getMessage\n    msg = msg % self.args\nTypeError: float argument required, not str\nLogged from file ukhr.py, line 368\nTraceback (most recent call last):\n  File \"/home/dinko/anaconda2/lib/python2.7/logging/__init__.py\", line 861, in emit\n    msg = self.format(record)\n  File \"/home/dinko/anaconda2/lib/python2.7/logging/__init__.py\", line 734, in format\n    return fmt.format(record)\n  File \"/home/dinko/anaconda2/lib/python2.7/logging/__init__.py\", line 465, in format\n    record.message = record.getMessage()\n  File \"/home/dinko/anaconda2/lib/python2.7/logging/__init__.py\", line 329, in getMessage\n    msg = msg % self.args\nTypeError: float argument required, not str\nLogged from file ukhr.py, line 368\nTraceback (most recent call last):\n  File \"/home/dinko/anaconda2/lib/python2.7/logging/__init__.py\", line 861, in emit\n    msg = self.format(record)\n  File \"/home/dinko/anaconda2/lib/python2.7/logging/__init__.py\", line 734, in format\n    return fmt.format(record)\n  File \"/home/dinko/anaconda2/lib/python2.7/logging/__init__.py\", line 465, in format\n    record.message = record.getMessage()\n  File \"/home/dinko/anaconda2/lib/python2.7/logging/__init__.py\", line 329, in getMessage\n    msg = msg % self.args\nTypeError: float argument required, not str\nLogged from file ukhr.py, line 368\nTraceback (most recent call last):\n  File \"/home/dinko/anaconda2/lib/python2.7/logging/__init__.py\", line 861, in emit\n    msg = self.format(record)\n  File \"/home/dinko/anaconda2/lib/python2.7/logging/__init__.py\", line 734, in format\n    return fmt.format(record)\n  File \"/home/dinko/anaconda2/lib/python2.7/logging/__init__.py\", line 465, in format\n    record.message = record.getMessage()\n  File \"/home/dinko/anaconda2/lib/python2.7/logging/__init__.py\", line 329, in getMessage\n    msg = msg % self.args\nTypeError: float argument required, not str\nLogged from file ukhr.py, line 368\nTraceback (most recent call last):\n  File \"/home/dinko/anaconda2/lib/python2.7/logging/__init__.py\", line 861, in emit\n    msg = self.format(record)\n  File \"/home/dinko/anaconda2/lib/python2.7/logging/__init__.py\", line 734, in format\n    return fmt.format(record)\n  File \"/home/dinko/anaconda2/lib/python2.7/logging/__init__.py\", line 465, in format\n    record.message = record.getMessage()\n  File \"/home/dinko/anaconda2/lib/python2.7/logging/__init__.py\", line 329, in getMessage\n    msg = msg % self.args\nTypeError: float argument required, not str\nLogged from file ukhr.py, line 368\nTraceback (most recent call last):\n  File \"/home/dinko/anaconda2/lib/python2.7/logging/__init__.py\", line 861, in emit\n    msg = self.format(record)\n  File \"/home/dinko/anaconda2/lib/python2.7/logging/__init__.py\", line 734, in format\n    return fmt.format(record)\n  File \"/home/dinko/anaconda2/lib/python2.7/logging/__init__.py\", line 465, in format\n    record.message = record.getMessage()\n  File \"/home/dinko/anaconda2/lib/python2.7/logging/__init__.py\", line 329, in getMessage\n    msg = msg % self.args\nTypeError: float argument required, not str\nLogged from file ukhr.py, line 368\nTraceback (most recent call last):\n  File \"/home/dinko/anaconda2/lib/python2.7/logging/__init__.py\", line 861, in emit\n    msg = self.format(record)\n  File \"/home/dinko/anaconda2/lib/python2.7/logging/__init__.py\", line 734, in format\n    return fmt.format(record)\n  File \"/home/dinko/anaconda2/lib/python2.7/logging/__init__.py\", line 465, in format\n    record.message = record.getMessage()\n  File \"/home/dinko/anaconda2/lib/python2.7/logging/__init__.py\", line 329, in getMessage\n    msg = msg % self.args\nTypeError: float argument required, not str\nLogged from file ukhr.py, line 368\nTraceback (most recent call last):\n  File \"/home/dinko/anaconda2/lib/python2.7/logging/__init__.py\", line 861, in emit\n    msg = self.format(record)\n  File \"/home/dinko/anaconda2/lib/python2.7/logging/__init__.py\", line 734, in format\n    return fmt.format(record)\n  File \"/home/dinko/anaconda2/lib/python2.7/logging/__init__.py\", line 465, in format\n    record.message = record.getMessage()\n  File \"/home/dinko/anaconda2/lib/python2.7/logging/__init__.py\", line 329, in getMessage\n    msg = msg % self.args\nTypeError: float argument required, not str\nLogged from file ukhr.py, line 368\nTraceback (most recent call last):\n  File \"/home/dinko/anaconda2/lib/python2.7/logging/__init__.py\", line 861, in emit\n    msg = self.format(record)\n  File \"/home/dinko/anaconda2/lib/python2.7/logging/__init__.py\", line 734, in format\n    return fmt.format(record)\n  File \"/home/dinko/anaconda2/lib/python2.7/logging/__init__.py\", line 465, in format\n    record.message = record.getMessage()\n  File \"/home/dinko/anaconda2/lib/python2.7/logging/__init__.py\", line 329, in getMessage\n    msg = msg % self.args\nTypeError: float argument required, not str\nLogged from file ukhr.py, line 368\nTraceback (most recent call last):\n  File \"/home/dinko/anaconda2/lib/python2.7/logging/__init__.py\", line 861, in emit\n    msg = self.format(record)\n  File \"/home/dinko/anaconda2/lib/python2.7/logging/__init__.py\", line 734, in format\n    return fmt.format(record)\n  File \"/home/dinko/anaconda2/lib/python2.7/logging/__init__.py\", line 465, in format\n    record.message = record.getMessage()\n  File \"/home/dinko/anaconda2/lib/python2.7/logging/__init__.py\", line 329, in getMessage\n    msg = msg % self.args\nTypeError: float argument required, not str\nLogged from file ukhr.py, line 368\nTraceback (most recent call last):\n  File \"/home/dinko/anaconda2/lib/python2.7/logging/__init__.py\", line 861, in emit\n    msg = self.format(record)\n  File \"/home/dinko/anaconda2/lib/python2.7/logging/__init__.py\", line 734, in format\n    return fmt.format(record)\n  File \"/home/dinko/anaconda2/lib/python2.7/logging/__init__.py\", line 465, in format\n    record.message = record.getMessage()\n  File \"/home/dinko/anaconda2/lib/python2.7/logging/__init__.py\", line 329, in getMessage\n    msg = msg % self.args\nTypeError: float argument required, not str\nLogged from file ukhr.py, line 368\nTraceback (most recent call last):\n  File \"/home/dinko/anaconda2/lib/python2.7/logging/__init__.py\", line 861, in emit\n    msg = self.format(record)\n  File \"/home/dinko/anaconda2/lib/python2.7/logging/__init__.py\", line 734, in format\n    return fmt.format(record)\n  File \"/home/dinko/anaconda2/lib/python2.7/logging/__init__.py\", line 465, in format\n    record.message = record.getMessage()\n  File \"/home/dinko/anaconda2/lib/python2.7/logging/__init__.py\", line 329, in getMessage\n    msg = msg % self.args\nTypeError: float argument required, not str\nLogged from file ukhr.py, line 368\n"
     ]
    },
    {
     "name": "stdout",
     "output_type": "stream",
     "text": [
      "Appending data for date: 2013-01-01\n"
     ]
    },
    {
     "name": "stdout",
     "output_type": "stream",
     "text": [
      "Appending data for date: 2014-01-01\n"
     ]
    },
    {
     "name": "stdout",
     "output_type": "stream",
     "text": [
      "Appending data for date: 2015-01-01\n"
     ]
    },
    {
     "name": "stdout",
     "output_type": "stream",
     "text": [
      "Appending data for date: 2016-01-01\n"
     ]
    },
    {
     "name": "stdout",
     "output_type": "stream",
     "text": [
      "Appending data for date: 2017-01-01\n"
     ]
    }
   ],
   "source": [
    "# Match ukhr data\n",
    "# \"basepath\" is a folder containing the ukhr folder with daily files\n",
    "# \"run_id_match.csv\" is the file you sent me matching run_id, start_time, course_name \n",
    "#  and horse_name\n",
    "ukhr = Ukhr(basepath=\"../\")\n",
    "ukhr.update_archive()\n",
    "ukhr_data = ukhr.match(\"../run_id_match.csv\")"
   ]
  },
  {
   "cell_type": "code",
   "execution_count": 3,
   "metadata": {},
   "outputs": [],
   "source": [
    "\n",
    "av = ArrayView.from_file('../datadev/brain_final2cut.av.bcolz')"
   ]
  },
  {
   "cell_type": "code",
   "execution_count": null,
   "metadata": {},
   "outputs": [],
   "source": [
    "# Save factors (change path if necessary)\n",
    "r_id = pd.DataFrame({'run_id': av.run_id})\n",
    "ukhr_data = r_id.merge(ukhr_data, on='run_id', how='left', copy=False)\n",
    "\n",
    "cols = list(ukhr_data.columns)\n",
    "for col in cols:\n",
    "    col_save = col\n",
    "    if '/' in col:\n",
    "        col_save = '_'.join(col.split('/'))\n",
    "    ukhr_data[col].to_csv(\"../ukhr_factors/\" + col_save + \".csv\", index=False)\n",
    "\n"
   ]
  }
 ],
 "metadata": {
  "kernelspec": {
   "display_name": "Python 2",
   "language": "python",
   "name": "python2"
  },
  "language_info": {
   "codemirror_mode": {
    "name": "ipython",
    "version": 2
   },
   "file_extension": ".py",
   "mimetype": "text/x-python",
   "name": "python",
   "nbconvert_exporter": "python",
   "pygments_lexer": "ipython2",
   "version": "2.7.6"
  }
 },
 "nbformat": 4,
 "nbformat_minor": 0
}
