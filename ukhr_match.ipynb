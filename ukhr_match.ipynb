{
 "cells": [
  {
   "cell_type": "code",
   "execution_count": 1,
   "metadata": {
    "collapsed": true
   },
   "outputs": [],
   "source": [
    "import pandas as pd\n",
    "import numpy as np\n",
    "from sources.ukhr import Ukhr\n",
    "from utils import timestamp, YEAR\n",
    "from utils.arrayview import ArrayView\n",
    "from prediction.tools.helpers import spread_from_av\n",
    "import sys"
   ]
  },
  {
   "cell_type": "code",
   "execution_count": 2,
   "metadata": {},
   "outputs": [
    {
     "name": "stdout",
     "output_type": "stream",
     "text": [
      "Appending data for date: 2013-01-01\n"
     ]
    },
    {
     "name": "stdout",
     "output_type": "stream",
     "text": [
      "File for date 2013-02-09 not found\n"
     ]
    },
    {
     "name": "stdout",
     "output_type": "stream",
     "text": [
      "File for date 2013-03-29 not found\n"
     ]
    },
    {
     "name": "stdout",
     "output_type": "stream",
     "text": [
      "File for date 2013-06-23 not found\n"
     ]
    },
    {
     "name": "stdout",
     "output_type": "stream",
     "text": [
      "File for date 2013-07-26 not found\n"
     ]
    },
    {
     "name": "stdout",
     "output_type": "stream",
     "text": [
      "File for date 2013-12-06 not found\n"
     ]
    },
    {
     "name": "stdout",
     "output_type": "stream",
     "text": [
      "File for date 2013-12-23 not found\nFile for date 2013-12-24 not found\n"
     ]
    },
    {
     "name": "stdout",
     "output_type": "stream",
     "text": [
      "Appending data for date: 2014-01-01\n"
     ]
    },
    {
     "name": "stdout",
     "output_type": "stream",
     "text": [
      "File for date 2014-06-01 not found\nFile for date 2014-06-02 not found\n"
     ]
    },
    {
     "name": "stdout",
     "output_type": "stream",
     "text": [
      "File for date 2014-07-25 not found\n"
     ]
    },
    {
     "name": "stdout",
     "output_type": "stream",
     "text": [
      "File for date 2014-12-13 not found\nFile for date 2014-12-14 not found\n"
     ]
    },
    {
     "name": "stdout",
     "output_type": "stream",
     "text": [
      "File for date 2014-12-23 not found\n"
     ]
    },
    {
     "name": "stdout",
     "output_type": "stream",
     "text": [
      "Appending data for date: 2015-01-01\n"
     ]
    },
    {
     "name": "stdout",
     "output_type": "stream",
     "text": [
      "File for date 2015-01-05 not found\n"
     ]
    },
    {
     "name": "stdout",
     "output_type": "stream",
     "text": [
      "File for date 2015-01-26 not found\n"
     ]
    },
    {
     "name": "stdout",
     "output_type": "stream",
     "text": [
      "File for date 2015-02-23 not found\n"
     ]
    },
    {
     "name": "stdout",
     "output_type": "stream",
     "text": [
      "File for date 2015-02-24 not found\nFile for date 2015-02-25 not found\n"
     ]
    },
    {
     "name": "stdout",
     "output_type": "stream",
     "text": [
      "File for date 2015-04-07 not found\nFile for date 2015-04-08 not found\n"
     ]
    },
    {
     "name": "stdout",
     "output_type": "stream",
     "text": [
      "File for date 2015-04-18 not found\nFile for date 2015-04-19 not found\nFile for date 2015-04-20 not found\nFile for date 2015-04-21 not found\nFile for date 2015-04-22 not found\nFile for date 2015-04-23 not found\nFile for date 2015-04-24 not found\nFile for date 2015-04-25 not found\nFile for date 2015-04-26 not found\n"
     ]
    },
    {
     "name": "stdout",
     "output_type": "stream",
     "text": [
      "File for date 2015-07-09 not found\n"
     ]
    },
    {
     "name": "stdout",
     "output_type": "stream",
     "text": [
      "File for date 2015-07-23 not found\n"
     ]
    },
    {
     "name": "stdout",
     "output_type": "stream",
     "text": [
      "File for date 2015-07-28 not found\n"
     ]
    },
    {
     "name": "stdout",
     "output_type": "stream",
     "text": [
      "File for date 2015-09-22 not found\n"
     ]
    },
    {
     "name": "stdout",
     "output_type": "stream",
     "text": [
      "File for date 2015-11-25 not found\n"
     ]
    },
    {
     "name": "stdout",
     "output_type": "stream",
     "text": [
      "File for date 2015-12-23 not found\nFile for date 2015-12-25 not found\n"
     ]
    },
    {
     "name": "stdout",
     "output_type": "stream",
     "text": [
      "Appending data for date: 2016-01-01\n"
     ]
    },
    {
     "name": "stdout",
     "output_type": "stream",
     "text": [
      "File for date 2016-02-28 not found\n"
     ]
    },
    {
     "name": "stdout",
     "output_type": "stream",
     "text": [
      "File for date 2016-03-02 not found\n"
     ]
    },
    {
     "name": "stdout",
     "output_type": "stream",
     "text": [
      "File for date 2016-12-01 not found\nFile for date 2016-12-02 not found\nFile for date 2016-12-03 not found\nFile for date 2016-12-04 not found\nFile for date 2016-12-05 not found\n"
     ]
    },
    {
     "name": "stdout",
     "output_type": "stream",
     "text": [
      "File for date 2016-12-24 not found\n"
     ]
    },
    {
     "name": "stdout",
     "output_type": "stream",
     "text": [
      "File for date 2016-12-29 not found\n"
     ]
    },
    {
     "name": "stdout",
     "output_type": "stream",
     "text": [
      "Appending data for date: 2017-01-01\n"
     ]
    },
    {
     "name": "stdout",
     "output_type": "stream",
     "text": [
      "File for date 2017-03-18 not found\n"
     ]
    },
    {
     "name": "stdout",
     "output_type": "stream",
     "text": [
      "File for date 2017-04-17 not found\n"
     ]
    },
    {
     "name": "stdout",
     "output_type": "stream",
     "text": [
      "File for date 2017-06-09 not found\nFile for date 2017-06-10 not found\nFile for date 2017-06-11 not found\nFile for date 2017-06-12 not found\nFile for date 2017-06-13 not found\nFile for date 2017-06-14 not found\nFile for date 2017-06-15 not found\nFile for date 2017-06-16 not found\nFile for date 2017-06-17 not found\nFile for date 2017-06-18 not found\nFile for date 2017-06-19 not found\nFile for date 2017-06-20 not found\nFile for date 2017-06-21 not found\nFile for date 2017-06-22 not found\nFile for date 2017-06-23 not found\nFile for date 2017-06-24 not found\nData reading done\n"
     ]
    }
   ],
   "source": [
    "# Read the ukhr data\n",
    "# \"basepath\" is a folder containing the ukhr folder with daily files\n",
    "# \"run_id_match.csv\" is the file you sent me matching run_id, start_time, course_name \n",
    "#  and horse_name\n",
    "ukhr = Ukhr(basepath=\"../\")\n",
    "#ukhr.update_archive()\n",
    "ukhr_data = ukhr.match(\"../run_id_match.csv\")"
   ]
  },
  {
   "cell_type": "code",
   "execution_count": 3,
   "metadata": {},
   "outputs": [],
   "source": [
    "\n",
    "av = ArrayView.from_file('../datadev/brain_final2cut.av.bcolz')"
   ]
  },
  {
   "cell_type": "code",
   "execution_count": null,
   "metadata": {},
   "outputs": [],
   "source": [
    "# Match IDs \n",
    "r_id = pd.DataFrame({'run_id': av.run_id})\n",
    "ukhr_data = r_id.merge(ukhr_data, on='run_id', how='left', copy=False)"
   ]
  },
  {
   "cell_type": "code",
   "execution_count": null,
   "metadata": {},
   "outputs": [],
   "source": [
    "# Save factors (change path if necessary)\n",
    "cols = list(ukhr_data.columns)\n",
    "for col in cols:\n",
    "    col_save = col\n",
    "    if '/' in col:\n",
    "        col_save = '_'.join(col.split('/'))\n",
    "    ukhr_data[col].to_csv(\"../ukhr_factors/\" + col_save + \".csv\", index=False)"
   ]
  }
 ],
 "metadata": {
  "kernelspec": {
   "display_name": "Python 2",
   "language": "python",
   "name": "python2"
  },
  "language_info": {
   "codemirror_mode": {
    "name": "ipython",
    "version": 2
   },
   "file_extension": ".py",
   "mimetype": "text/x-python",
   "name": "python",
   "nbconvert_exporter": "python",
   "pygments_lexer": "ipython2",
   "version": "2.7.6"
  }
 },
 "nbformat": 4,
 "nbformat_minor": 0
}
