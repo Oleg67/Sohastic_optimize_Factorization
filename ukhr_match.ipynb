{
 "cells": [
  {
   "cell_type": "code",
   "execution_count": 1,
   "metadata": {
    "collapsed": true
   },
   "outputs": [],
   "source": [
    "import pandas as pd\n",
    "import numpy as np\n",
    "from sources.ukhr import Ukhr\n",
    "from utils import timestamp, YEAR\n",
    "from utils.arrayview import ArrayView\n",
    "from prediction.tools.helpers import spread_from_av\n",
    "import sys"
   ]
  },
  {
   "cell_type": "code",
   "execution_count": 2,
   "metadata": {},
   "outputs": [],
   "source": [
    "# Read the ukhr data\n",
    "# \"basepath\" is a folder containing the ukhr folder with daily files\n",
    "# \"run_id_match.csv\" is the file you sent me matching run_id, start_time, course_name \n",
    "#  and horse_name\n",
    "ukhr = Ukhr(basepath=\"../\")\n",
    "#ukhr.update_archive()\n",
    "ukhr_data = ukhr.match(\"../run_id_match.csv\")"
   ]
  },
  {
   "cell_type": "code",
   "execution_count": 3,
   "metadata": {},
   "outputs": [],
   "source": [
    "\n",
    "av = ArrayView.from_file('../datadev/brain_final2cut.av.bcolz')"
   ]
  },
  {
   "cell_type": "code",
   "execution_count": null,
   "metadata": {},
   "outputs": [],
   "source": [
    "# Match IDs \n",
    "r_id = pd.DataFrame({'run_id': av.run_id})\n",
    "ukhr_data = r_id.merge(ukhr_data, on='run_id', how='left', copy=False)"
   ]
  },
  {
   "cell_type": "code",
   "execution_count": null,
   "metadata": {},
   "outputs": [],
   "source": [
    "# Save factors (change path if necessary)\n",
    "cols = list(ukhr_data.columns)\n",
    "for col in cols:\n",
    "    col_save = col\n",
    "    if '/' in col:\n",
    "        col_save = '_'.join(col.split('/'))\n",
    "    ukhr_data[col].to_csv(\"../ukhr_factors/\" + col_save + \".csv\", index=False)"
   ]
  }
 ],
 "metadata": {
  "kernelspec": {
   "display_name": "Python 2",
   "language": "python",
   "name": "python2"
  },
  "language_info": {
   "codemirror_mode": {
    "name": "ipython",
    "version": 2
   },
   "file_extension": ".py",
   "mimetype": "text/x-python",
   "name": "python",
   "nbconvert_exporter": "python",
   "pygments_lexer": "ipython2",
   "version": "2.7.6"
  }
 },
 "nbformat": 4,
 "nbformat_minor": 0
}
