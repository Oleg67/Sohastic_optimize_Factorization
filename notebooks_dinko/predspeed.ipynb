{
 "cells": [
  {
   "cell_type": "code",
   "execution_count": 1,
   "metadata": {
    "collapsed": true
   },
   "outputs": [],
   "source": [
    "import numpy as np\n",
    "\n",
    "from utils import timestamp, YEAR\n",
    "from utils.arrayview import ArrayView, TimeseriesView\n",
    "\n",
    "from prediction.models.fit_model import TSModel\n",
    "from prediction.models.model_parameters import ModelParameters\n",
    "from prediction.models.factor_management import FactorList\n",
    "from prediction.models.preprocessing import load_slices, print_factor_order\n",
    "\n",
    "from prediction.models.prediction import factornames_trimmed\n",
    "from prediction.models.parameters import factor_build_end"
   ]
  },
  {
   "cell_type": "code",
   "execution_count": 2,
   "metadata": {
    "collapsed": true
   },
   "outputs": [],
   "source": [
    "av = ArrayView.from_file('../datadev/brain_final2cut.av.bcolz')"
   ]
  },
  {
   "cell_type": "code",
   "execution_count": 3,
   "metadata": {
    "collapsed": true
   },
   "outputs": [],
   "source": [
    "av_new = ArrayView.from_file('../datadev/roll_normspeed.av.bcolz')"
   ]
  },
  {
   "cell_type": "code",
   "execution_count": 4,
   "metadata": {
    "collapsed": true
   },
   "outputs": [],
   "source": [
    "av.norm_speed = av_new.prediction"
   ]
  },
  {
   "cell_type": "code",
   "execution_count": 5,
   "metadata": {
    "collapsed": true
   },
   "outputs": [],
   "source": [
    "factornames_trimmed += ['norm_speed']"
   ]
  },
  {
   "cell_type": "code",
   "execution_count": 6,
   "metadata": {
    "collapsed": true
   },
   "outputs": [],
   "source": [
    "tsav = load_slices(path='../datadev/')"
   ]
  },
  {
   "cell_type": "code",
   "execution_count": 7,
   "metadata": {
    "collapsed": true
   },
   "outputs": [],
   "source": [
    "pars = ModelParameters(av, oos_start=factor_build_end+YEAR, depth=3, lmbd=10, verbose=True)"
   ]
  },
  {
   "cell_type": "code",
   "execution_count": 8,
   "metadata": {
    "collapsed": true
   },
   "outputs": [],
   "source": [
    "fl = FactorList(av, factornames_trimmed)"
   ]
  },
  {
   "cell_type": "code",
   "execution_count": 9,
   "metadata": {
    "collapsed": false
   },
   "outputs": [
    {
     "name": "stderr",
     "output_type": "stream",
     "text": [
      "INFO:models:Getting factors from av and rescaling...\n"
     ]
    },
    {
     "name": "stdout",
     "output_type": "stream",
     "text": [
      ". . . . ."
     ]
    },
    {
     "name": "stderr",
     "output_type": "stream",
     "text": [
      "INFO:models:Filling in missing values...\n",
      "INFO:models:Computing each factor as linear combination of all the others...\n"
     ]
    },
    {
     "name": "stdout",
     "output_type": "stream",
     "text": [
      " . . . . ."
     ]
    },
    {
     "name": "stderr",
     "output_type": "stream",
     "text": [
      "INFO:models:Number of missing patterns: 8970\n"
     ]
    },
    {
     "name": "stdout",
     "output_type": "stream",
     "text": [
      " . . . . . . . .\n"
     ]
    }
   ],
   "source": [
    "fl.preprocess(pars)\n",
    "factors = fl.asmatrix()"
   ]
  },
  {
   "cell_type": "code",
   "execution_count": 10,
   "metadata": {
    "collapsed": true
   },
   "outputs": [],
   "source": [
    "tsmod = TSModel(factors, tsav, pars)"
   ]
  },
  {
   "cell_type": "code",
   "execution_count": 11,
   "metadata": {
    "collapsed": false
   },
   "outputs": [
    {
     "name": "stderr",
     "output_type": "stream",
     "text": [
      "INFO:models:Fitting slice 0\n",
      "prediction/models/fit_model.py:153: RuntimeWarning: divide by zero encountered in log\n",
      "  stats, self.step2probs[sl] = self.concat_and_fit(strata, result, nonrunner, [fback, flay, np.log(probs)], ts_idx, valid2, verbose=False, step=2)\n",
      "INFO:models:Fitting slice 1\n",
      "INFO:models:Fitting slice 2\n",
      "INFO:models:Fitting slice 3\n",
      "INFO:models:Fitting slice 4\n",
      "INFO:models:Fitting slice 5\n",
      "INFO:models:Fitting slice 6\n",
      "INFO:models:Fitting slice 7\n",
      "INFO:models:Fitting slice 8\n",
      "INFO:models:Fitting slice 9\n"
     ]
    }
   ],
   "source": [
    "tsmod.fit_slices()"
   ]
  },
  {
   "cell_type": "code",
   "execution_count": 12,
   "metadata": {
    "collapsed": false
   },
   "outputs": [
    {
     "data": {
      "text/plain": [
       "array([[-1829.61768357, -1829.61768357, -2084.67887864],\n",
       "       [-1835.13413214, -1835.13413214, -2072.30436513],\n",
       "       [-1840.33763733, -1840.33763733, -2057.89829756],\n",
       "       [-1844.09409047, -1844.09409047, -2038.27775848],\n",
       "       [-1861.57429242, -1861.57429242, -1991.21234572],\n",
       "       [-1879.34836153, -1879.34836153, -1965.35947037],\n",
       "       [-1915.45955141, -1915.45955141, -1918.50530061],\n",
       "       [-1929.85159447, -1929.85159447, -1894.15716885],\n",
       "       [-1932.34662518, -1932.34662518, -1891.3556987 ],\n",
       "       [-1936.40109809, -1936.40109809, -1878.82143271],\n",
       "       [           nan,            nan,            nan]])"
      ]
     },
     "execution_count": 12,
     "metadata": {},
     "output_type": "execute_result"
    }
   ],
   "source": [
    "tsmod.stats1.ll"
   ]
  },
  {
   "cell_type": "code",
   "execution_count": 13,
   "metadata": {
    "collapsed": false
   },
   "outputs": [
    {
     "data": {
      "text/plain": [
       "array([[-1818.62669876, -2102.5762705 , -2102.5762705 ],\n",
       "       [-1824.16254691, -2089.862647  , -2089.862647  ],\n",
       "       [-1829.48060546, -2074.19567574, -2074.19567574],\n",
       "       [-1832.92080827, -2052.85636579, -2052.85636579],\n",
       "       [-1850.81062904, -1998.76557221, -1998.76557221],\n",
       "       [-1868.77958549, -1965.32708145, -1965.32708145],\n",
       "       [-1904.50948427, -1911.32532067, -1911.32532067],\n",
       "       [-1919.50365606, -1878.36099874, -1878.36099874],\n",
       "       [-1922.24026342, -1875.31672739, -1875.31672739],\n",
       "       [-1926.77868628, -1862.7657947 , -1862.7657947 ],\n",
       "       [           nan,            nan,            nan]])"
      ]
     },
     "execution_count": 13,
     "metadata": {},
     "output_type": "execute_result"
    }
   ],
   "source": [
    "tsmod.stats2.ll"
   ]
  },
  {
   "cell_type": "code",
   "execution_count": 14,
   "metadata": {
    "collapsed": false
   },
   "outputs": [
    {
     "name": "stdout",
     "output_type": "stream",
     "text": [
      "  0:                                                              z027f9f0f5    t-score sum: 92.05\n",
      "  1:                                                              zec0c22a48    t-score sum: 86.02\n",
      "  2:                                                              z412893062    t-score sum: 64.71\n",
      "  3:                                                              ze4c91eac0    t-score sum: 61.41\n",
      "  4:                                                              z5981b9f89    t-score sum: 56.32\n",
      "  5:                                                              z77c9cc0a5    t-score sum: 54.45\n",
      "  6:                                                              z245159235    t-score sum: 49.87\n",
      "  7:                                                              z34b78e584    t-score sum: 46.87\n",
      "  8:                                                              zb5dc14260    t-score sum: 46.79\n",
      "  9:                                                              z6809c316d    t-score sum: 42.84\n",
      " 10:                                                              zc31456152    t-score sum: 42.24\n",
      " 11:                                                              z36b8bffe0    t-score sum: 41.62\n",
      " 12:                                                              zb87666d6d    t-score sum: 38.28\n",
      " 13:                                                              za5cf91a5d    t-score sum: 37.86\n",
      " 14:                                                              z7603edce1    t-score sum: 34.74\n",
      " 15:                                                              zce609d953    t-score sum: 34.61\n",
      " 16:                                                              z50810021e    t-score sum: 33.24\n",
      " 17:                                                              z3d11336f4    t-score sum: 30.88\n",
      " 18:                                                              z2a6963635    t-score sum: 30.78\n",
      " 19:                                                              z5873666ab    t-score sum: 29.28\n",
      " 20:                                                              z215129aeb    t-score sum: 28.63\n",
      " 21:                                                              zec3f8f8b9    t-score sum: 28.10\n",
      " 22:                                                              zbba3f4349    t-score sum: 28.07\n",
      " 23:                                                              zc6614c5ee    t-score sum: 26.01\n",
      " 24:                                                              zb392bb74a    t-score sum: 24.46\n",
      " 25:                                                              zb85d3de89    t-score sum: 23.80\n",
      " 26:                                                              z953916863    t-score sum: 23.80\n",
      " 27:                                                              z7081bf371    t-score sum: 22.93\n",
      " 28:                                                              zd81bcd220    t-score sum: 22.92\n",
      " 29:                                                              z0f50ce7c0    t-score sum: 21.96\n",
      " 30:                                                              z779f698c0    t-score sum: 18.78\n",
      " 31:                                                                  weight    t-score sum: 18.05\n",
      " 32:                                                              zd7cd94e4c    t-score sum: 17.31\n",
      " 33:                                                              z6c84925d1    t-score sum: 16.82\n",
      " 34:                                                              z48f6dddd1    t-score sum: 16.11\n",
      " 35:                                                              zf50212bfb    t-score sum: 15.32\n",
      " 36:                                                              zac38414de    t-score sum: 14.76\n",
      " 37:                                                              z4cac73de3    t-score sum: 13.45\n",
      " 38:                                                              z106842cce    t-score sum: 12.51\n",
      " 39:                                                              z8ca2ea7f2    t-score sum: 11.72\n",
      " 40:                                                              z4fdabfabc    t-score sum: 11.26\n",
      " 41:                                                              z37a191205    t-score sum: 10.59\n",
      " 42:                                                              z999f82560    t-score sum: 10.01\n",
      " 43:                                                              za5c443236    t-score sum: 9.93\n",
      " 44:                                                              z1b0bd4349    t-score sum: 9.24\n",
      " 45:                                                              z8d2862a46    t-score sum: 7.37\n",
      " 46:                                                              z6f1eaa94d    t-score sum: 6.15\n",
      " 47:                                                              z6f11029f7    t-score sum: 5.99\n",
      " 48:                                                              zd393eb79d    t-score sum: 5.65\n",
      " 49:                                                              z44cf2d196    t-score sum: 5.21\n",
      " 50:                                                              norm_speed    t-score sum: 5.03\n",
      " 51:                                                              z81f2598ec    t-score sum: 3.73\n",
      " 52:                                                              z28e932d84    t-score sum: 3.14\n",
      " 53:                                                              zf47a136cc    t-score sum: 3.05\n",
      " 54:                                                              z4a6755a99    t-score sum: 2.77\n",
      " 55:                                                              zef5a850eb    t-score sum: 2.71\n",
      " 56:                                                              zbe307f294    t-score sum: 2.66\n",
      " 57:                                                              zae03d13a5    t-score sum: 2.49\n"
     ]
    }
   ],
   "source": [
    "print_factor_order(tsmod.stats1, factornames_trimmed)"
   ]
  },
  {
   "cell_type": "code",
   "execution_count": 15,
   "metadata": {
    "collapsed": true
   },
   "outputs": [],
   "source": [
    "tsmod.write_simdata('simdata.p')"
   ]
  },
  {
   "cell_type": "code",
   "execution_count": null,
   "metadata": {
    "collapsed": true
   },
   "outputs": [],
   "source": [
    ""
   ]
  }
 ],
 "metadata": {
  "kernelspec": {
   "display_name": "Python 2",
   "language": "python",
   "name": "python2"
  },
  "language_info": {
   "codemirror_mode": {
    "name": "ipython",
    "version": 2.0
   },
   "file_extension": ".py",
   "mimetype": "text/x-python",
   "name": "python",
   "nbconvert_exporter": "python",
   "pygments_lexer": "ipython2",
   "version": "2.7.13"
  }
 },
 "nbformat": 4,
 "nbformat_minor": 0
}