{
 "cells": [
  {
   "cell_type": "code",
   "execution_count": 1,
   "metadata": {
    "collapsed": true
   },
   "outputs": [],
   "source": [
    "\n",
    "import numpy as np\n",
    "import random\n",
    "import matplotlib.pyplot as plt\n",
    "\n",
    "from thbmodel.utils import timestamp, YEAR, settings\n",
    "from thbmodel.utils.arrayview import ArrayView, TimeseriesView\n",
    "\n",
    "from thbmodel.prediction.models.fit_model import TSModel\n",
    "from thbmodel.prediction.models.model_parameters import ModelParameters\n",
    "from thbmodel.prediction.models.factor_management import FactorList\n",
    "from thbmodel.prediction.models.preprocessing import load_slices\n",
    "\n",
    "from thbmodel.prediction.models.prediction import factornames_trimmed\n",
    "from thbmodel.prediction.models.parameters import factor_build_end"
   ]
  },
  {
   "cell_type": "code",
   "execution_count": 2,
   "metadata": {
    "collapsed": true
   },
   "outputs": [],
   "source": [
    "av = ArrayView.from_file('../datadev/brain_final2cut.av.bcolz')\n",
    "tsav = load_slices(path='../datadev/')"
   ]
  },
  {
   "cell_type": "markdown",
   "metadata": {},
   "source": [
    "Original factors or simulated data"
   ]
  },
  {
   "cell_type": "code",
   "execution_count": 3,
   "metadata": {
    "collapsed": true
   },
   "outputs": [],
   "source": [
    "simulated_data = False\n",
    "if simulated_data:\n",
    "    np.random.seed(10)\n",
    "    random.seed(10)\n",
    "    for i in range(len(factornames_trimmed)):\n",
    "        del av[factornames_trimmed[i]]\n",
    "        factornames_trimmed[i] = 'factor' + str(i)\n",
    "        av[factornames_trimmed[i]] = np.random.normal(random.randint(1, 10), random.randint(1, 10), len(av.run_id))"
   ]
  },
  {
   "cell_type": "markdown",
   "metadata": {},
   "source": [
    "Varying size of train data"
   ]
  },
  {
   "cell_type": "code",
   "execution_count": 4,
   "metadata": {
    "collapsed": false
   },
   "outputs": [
    {
     "name": "stderr",
     "output_type": "stream",
     "text": [
      "INFO:models:Getting factors from av and rescaling...\n"
     ]
    },
    {
     "name": "stdout",
     "output_type": "stream",
     "text": [
      ". . . . ."
     ]
    },
    {
     "name": "stderr",
     "output_type": "stream",
     "text": [
      "INFO:models:Filling in missing values...\n",
      "INFO:models:Computing each factor as linear combination of all the others...\n"
     ]
    },
    {
     "name": "stdout",
     "output_type": "stream",
     "text": [
      " . . . . ."
     ]
    },
    {
     "name": "stderr",
     "output_type": "stream",
     "text": [
      "INFO:models:Number of missing patterns: 7754\n"
     ]
    },
    {
     "name": "stdout",
     "output_type": "stream",
     "text": [
      " . . . . . . ."
     ]
    },
    {
     "name": "stderr",
     "output_type": "stream",
     "text": [
      "INFO:models:Getting factors from av and rescaling...\n"
     ]
    },
    {
     "name": "stdout",
     "output_type": "stream",
     "text": [
      " . . . . ."
     ]
    },
    {
     "name": "stderr",
     "output_type": "stream",
     "text": [
      "INFO:models:Filling in missing values...\n",
      "INFO:models:Computing each factor as linear combination of all the others...\n"
     ]
    },
    {
     "name": "stdout",
     "output_type": "stream",
     "text": [
      " . . . . ."
     ]
    },
    {
     "name": "stderr",
     "output_type": "stream",
     "text": [
      "INFO:models:Number of missing patterns: 7754\n"
     ]
    },
    {
     "name": "stdout",
     "output_type": "stream",
     "text": [
      " . . . . . . ."
     ]
    },
    {
     "name": "stderr",
     "output_type": "stream",
     "text": [
      "INFO:models:Getting factors from av and rescaling...\n"
     ]
    },
    {
     "name": "stdout",
     "output_type": "stream",
     "text": [
      " . . . . ."
     ]
    },
    {
     "name": "stderr",
     "output_type": "stream",
     "text": [
      "INFO:models:Filling in missing values...\n",
      "INFO:models:Computing each factor as linear combination of all the others...\n"
     ]
    },
    {
     "name": "stdout",
     "output_type": "stream",
     "text": [
      " . . . . ."
     ]
    },
    {
     "name": "stderr",
     "output_type": "stream",
     "text": [
      "INFO:models:Number of missing patterns: 7754\n"
     ]
    },
    {
     "name": "stdout",
     "output_type": "stream",
     "text": [
      " . . . . . . ."
     ]
    },
    {
     "name": "stderr",
     "output_type": "stream",
     "text": [
      "INFO:models:Getting factors from av and rescaling...\n"
     ]
    },
    {
     "name": "stdout",
     "output_type": "stream",
     "text": [
      " . . . . ."
     ]
    },
    {
     "name": "stderr",
     "output_type": "stream",
     "text": [
      "INFO:models:Filling in missing values...\n",
      "INFO:models:Computing each factor as linear combination of all the others...\n"
     ]
    },
    {
     "name": "stdout",
     "output_type": "stream",
     "text": [
      " . . . . ."
     ]
    },
    {
     "name": "stderr",
     "output_type": "stream",
     "text": [
      "INFO:models:Number of missing patterns: 7754\n"
     ]
    },
    {
     "name": "stdout",
     "output_type": "stream",
     "text": [
      " . . . . . . ."
     ]
    },
    {
     "name": "stderr",
     "output_type": "stream",
     "text": [
      "INFO:models:Getting factors from av and rescaling...\n"
     ]
    },
    {
     "name": "stdout",
     "output_type": "stream",
     "text": [
      " . . . . ."
     ]
    },
    {
     "name": "stderr",
     "output_type": "stream",
     "text": [
      "INFO:models:Filling in missing values...\n",
      "INFO:models:Computing each factor as linear combination of all the others...\n"
     ]
    },
    {
     "name": "stdout",
     "output_type": "stream",
     "text": [
      " . . . . ."
     ]
    },
    {
     "name": "stderr",
     "output_type": "stream",
     "text": [
      "INFO:models:Number of missing patterns: 7754\n"
     ]
    },
    {
     "name": "stdout",
     "output_type": "stream",
     "text": [
      " . . . . . . ."
     ]
    },
    {
     "name": "stderr",
     "output_type": "stream",
     "text": [
      "INFO:models:Getting factors from av and rescaling...\n"
     ]
    },
    {
     "name": "stdout",
     "output_type": "stream",
     "text": [
      " . . . . ."
     ]
    },
    {
     "name": "stderr",
     "output_type": "stream",
     "text": [
      "INFO:models:Filling in missing values...\n",
      "INFO:models:Computing each factor as linear combination of all the others...\n"
     ]
    },
    {
     "name": "stdout",
     "output_type": "stream",
     "text": [
      " . . . . ."
     ]
    },
    {
     "name": "stderr",
     "output_type": "stream",
     "text": [
      "INFO:models:Number of missing patterns: 7754\n"
     ]
    },
    {
     "name": "stdout",
     "output_type": "stream",
     "text": [
      " . . . . . . ."
     ]
    },
    {
     "name": "stderr",
     "output_type": "stream",
     "text": [
      "INFO:models:Getting factors from av and rescaling...\n"
     ]
    },
    {
     "name": "stdout",
     "output_type": "stream",
     "text": [
      " . . . . ."
     ]
    },
    {
     "name": "stderr",
     "output_type": "stream",
     "text": [
      "INFO:models:Filling in missing values...\n",
      "INFO:models:Computing each factor as linear combination of all the others...\n"
     ]
    },
    {
     "name": "stdout",
     "output_type": "stream",
     "text": [
      " . . . . ."
     ]
    },
    {
     "name": "stderr",
     "output_type": "stream",
     "text": [
      "INFO:models:Number of missing patterns: 7754\n"
     ]
    },
    {
     "name": "stdout",
     "output_type": "stream",
     "text": [
      " . . . . . . ."
     ]
    },
    {
     "name": "stderr",
     "output_type": "stream",
     "text": [
      "INFO:models:Getting factors from av and rescaling...\n"
     ]
    },
    {
     "name": "stdout",
     "output_type": "stream",
     "text": [
      " . . . . ."
     ]
    },
    {
     "name": "stderr",
     "output_type": "stream",
     "text": [
      "INFO:models:Filling in missing values...\n",
      "INFO:models:Computing each factor as linear combination of all the others...\n"
     ]
    },
    {
     "name": "stdout",
     "output_type": "stream",
     "text": [
      " . . . . ."
     ]
    },
    {
     "name": "stderr",
     "output_type": "stream",
     "text": [
      "INFO:models:Number of missing patterns: 7754\n"
     ]
    },
    {
     "name": "stdout",
     "output_type": "stream",
     "text": [
      " . . . . . . ."
     ]
    },
    {
     "name": "stderr",
     "output_type": "stream",
     "text": [
      "INFO:models:Getting factors from av and rescaling...\n"
     ]
    },
    {
     "name": "stdout",
     "output_type": "stream",
     "text": [
      " . . . . ."
     ]
    },
    {
     "name": "stderr",
     "output_type": "stream",
     "text": [
      "INFO:models:Filling in missing values...\n",
      "INFO:models:Computing each factor as linear combination of all the others...\n"
     ]
    },
    {
     "name": "stdout",
     "output_type": "stream",
     "text": [
      " . . . . ."
     ]
    },
    {
     "name": "stderr",
     "output_type": "stream",
     "text": [
      "INFO:models:Number of missing patterns: 7754\n"
     ]
    },
    {
     "name": "stdout",
     "output_type": "stream",
     "text": [
      " . . . . . . ."
     ]
    },
    {
     "name": "stderr",
     "output_type": "stream",
     "text": [
      "INFO:models:Getting factors from av and rescaling...\n"
     ]
    },
    {
     "name": "stdout",
     "output_type": "stream",
     "text": [
      " . . . . ."
     ]
    },
    {
     "name": "stderr",
     "output_type": "stream",
     "text": [
      "INFO:models:Filling in missing values...\n",
      "INFO:models:Computing each factor as linear combination of all the others...\n"
     ]
    },
    {
     "name": "stdout",
     "output_type": "stream",
     "text": [
      " . . . . ."
     ]
    },
    {
     "name": "stderr",
     "output_type": "stream",
     "text": [
      "INFO:models:Number of missing patterns: 7754\n"
     ]
    },
    {
     "name": "stdout",
     "output_type": "stream",
     "text": [
      " . . . . . . ."
     ]
    },
    {
     "name": "stderr",
     "output_type": "stream",
     "text": [
      "INFO:models:Getting factors from av and rescaling...\n"
     ]
    },
    {
     "name": "stdout",
     "output_type": "stream",
     "text": [
      " . . . . ."
     ]
    },
    {
     "name": "stderr",
     "output_type": "stream",
     "text": [
      "INFO:models:Filling in missing values...\n",
      "INFO:models:Computing each factor as linear combination of all the others...\n"
     ]
    },
    {
     "name": "stdout",
     "output_type": "stream",
     "text": [
      " . . . . ."
     ]
    },
    {
     "name": "stderr",
     "output_type": "stream",
     "text": [
      "INFO:models:Number of missing patterns: 7754\n"
     ]
    },
    {
     "name": "stdout",
     "output_type": "stream",
     "text": [
      " . . . . . . ."
     ]
    },
    {
     "name": "stderr",
     "output_type": "stream",
     "text": [
      "INFO:models:Getting factors from av and rescaling...\n"
     ]
    },
    {
     "name": "stdout",
     "output_type": "stream",
     "text": [
      " . . . . ."
     ]
    },
    {
     "name": "stderr",
     "output_type": "stream",
     "text": [
      "INFO:models:Filling in missing values...\n",
      "INFO:models:Computing each factor as linear combination of all the others...\n"
     ]
    },
    {
     "name": "stdout",
     "output_type": "stream",
     "text": [
      " . . . . ."
     ]
    },
    {
     "name": "stderr",
     "output_type": "stream",
     "text": [
      "INFO:models:Number of missing patterns: 7754\n"
     ]
    },
    {
     "name": "stdout",
     "output_type": "stream",
     "text": [
      " . . . . . . ."
     ]
    },
    {
     "name": "stderr",
     "output_type": "stream",
     "text": [
      "INFO:models:Getting factors from av and rescaling...\n"
     ]
    },
    {
     "name": "stdout",
     "output_type": "stream",
     "text": [
      " . . . . ."
     ]
    },
    {
     "name": "stderr",
     "output_type": "stream",
     "text": [
      "INFO:models:Filling in missing values...\n",
      "INFO:models:Computing each factor as linear combination of all the others...\n"
     ]
    },
    {
     "name": "stdout",
     "output_type": "stream",
     "text": [
      " . . . . ."
     ]
    },
    {
     "name": "stderr",
     "output_type": "stream",
     "text": [
      "INFO:models:Number of missing patterns: 7754\n"
     ]
    },
    {
     "name": "stdout",
     "output_type": "stream",
     "text": [
      " . . . . . . ."
     ]
    },
    {
     "name": "stderr",
     "output_type": "stream",
     "text": [
      "INFO:models:Getting factors from av and rescaling...\n"
     ]
    },
    {
     "name": "stdout",
     "output_type": "stream",
     "text": [
      " . . . . ."
     ]
    },
    {
     "name": "stderr",
     "output_type": "stream",
     "text": [
      "INFO:models:Filling in missing values...\n",
      "INFO:models:Computing each factor as linear combination of all the others...\n"
     ]
    },
    {
     "name": "stdout",
     "output_type": "stream",
     "text": [
      " . . . . ."
     ]
    },
    {
     "name": "stderr",
     "output_type": "stream",
     "text": [
      "INFO:models:Number of missing patterns: 7754\n"
     ]
    },
    {
     "name": "stdout",
     "output_type": "stream",
     "text": [
      " . . . . . . ."
     ]
    },
    {
     "name": "stderr",
     "output_type": "stream",
     "text": [
      "INFO:models:Getting factors from av and rescaling...\n"
     ]
    },
    {
     "name": "stdout",
     "output_type": "stream",
     "text": [
      " . . . . ."
     ]
    },
    {
     "name": "stderr",
     "output_type": "stream",
     "text": [
      "INFO:models:Filling in missing values...\n",
      "INFO:models:Computing each factor as linear combination of all the others...\n"
     ]
    },
    {
     "name": "stdout",
     "output_type": "stream",
     "text": [
      " . . . . ."
     ]
    },
    {
     "name": "stderr",
     "output_type": "stream",
     "text": [
      "INFO:models:Number of missing patterns: 7754\n"
     ]
    },
    {
     "name": "stdout",
     "output_type": "stream",
     "text": [
      " . . . . . . ."
     ]
    },
    {
     "name": "stderr",
     "output_type": "stream",
     "text": [
      "INFO:models:Getting factors from av and rescaling...\n"
     ]
    },
    {
     "name": "stdout",
     "output_type": "stream",
     "text": [
      " . . . . ."
     ]
    },
    {
     "name": "stderr",
     "output_type": "stream",
     "text": [
      "INFO:models:Filling in missing values...\n",
      "INFO:models:Computing each factor as linear combination of all the others...\n"
     ]
    },
    {
     "name": "stdout",
     "output_type": "stream",
     "text": [
      " . . . . ."
     ]
    },
    {
     "name": "stderr",
     "output_type": "stream",
     "text": [
      "INFO:models:Number of missing patterns: 7754\n"
     ]
    },
    {
     "name": "stdout",
     "output_type": "stream",
     "text": [
      " . . . . . . ."
     ]
    },
    {
     "name": "stderr",
     "output_type": "stream",
     "text": [
      "INFO:models:Getting factors from av and rescaling...\n"
     ]
    },
    {
     "name": "stdout",
     "output_type": "stream",
     "text": [
      " . . . . ."
     ]
    },
    {
     "name": "stderr",
     "output_type": "stream",
     "text": [
      "INFO:models:Filling in missing values...\n",
      "INFO:models:Computing each factor as linear combination of all the others...\n"
     ]
    },
    {
     "name": "stdout",
     "output_type": "stream",
     "text": [
      " . . . . ."
     ]
    },
    {
     "name": "stderr",
     "output_type": "stream",
     "text": [
      "INFO:models:Number of missing patterns: 7754\n"
     ]
    },
    {
     "name": "stdout",
     "output_type": "stream",
     "text": [
      " . . . . . . ."
     ]
    },
    {
     "name": "stderr",
     "output_type": "stream",
     "text": [
      "INFO:models:Getting factors from av and rescaling...\n"
     ]
    },
    {
     "name": "stdout",
     "output_type": "stream",
     "text": [
      " . . . . ."
     ]
    },
    {
     "name": "stderr",
     "output_type": "stream",
     "text": [
      "INFO:models:Filling in missing values...\n",
      "INFO:models:Computing each factor as linear combination of all the others...\n"
     ]
    },
    {
     "name": "stdout",
     "output_type": "stream",
     "text": [
      " . . . . ."
     ]
    },
    {
     "name": "stderr",
     "output_type": "stream",
     "text": [
      "INFO:models:Number of missing patterns: 7754\n"
     ]
    },
    {
     "name": "stdout",
     "output_type": "stream",
     "text": [
      " . . . . . . ."
     ]
    },
    {
     "name": "stderr",
     "output_type": "stream",
     "text": [
      "INFO:models:Getting factors from av and rescaling...\n"
     ]
    },
    {
     "name": "stdout",
     "output_type": "stream",
     "text": [
      " . . . . ."
     ]
    },
    {
     "name": "stderr",
     "output_type": "stream",
     "text": [
      "INFO:models:Filling in missing values...\n",
      "INFO:models:Computing each factor as linear combination of all the others...\n"
     ]
    },
    {
     "name": "stdout",
     "output_type": "stream",
     "text": [
      " . . . . ."
     ]
    },
    {
     "name": "stderr",
     "output_type": "stream",
     "text": [
      "INFO:models:Number of missing patterns: 7754\n"
     ]
    },
    {
     "name": "stdout",
     "output_type": "stream",
     "text": [
      " . . . . . . ."
     ]
    },
    {
     "name": "stderr",
     "output_type": "stream",
     "text": [
      "INFO:models:Getting factors from av and rescaling...\n"
     ]
    },
    {
     "name": "stdout",
     "output_type": "stream",
     "text": [
      " . . . . ."
     ]
    },
    {
     "name": "stderr",
     "output_type": "stream",
     "text": [
      "INFO:models:Filling in missing values...\n",
      "INFO:models:Computing each factor as linear combination of all the others...\n"
     ]
    },
    {
     "name": "stdout",
     "output_type": "stream",
     "text": [
      " . . . . ."
     ]
    },
    {
     "name": "stderr",
     "output_type": "stream",
     "text": [
      "INFO:models:Number of missing patterns: 7754\n"
     ]
    },
    {
     "name": "stdout",
     "output_type": "stream",
     "text": [
      " . . . . . . ."
     ]
    },
    {
     "name": "stderr",
     "output_type": "stream",
     "text": [
      "INFO:models:Getting factors from av and rescaling...\n"
     ]
    },
    {
     "name": "stdout",
     "output_type": "stream",
     "text": [
      " . . . . ."
     ]
    },
    {
     "name": "stderr",
     "output_type": "stream",
     "text": [
      "INFO:models:Filling in missing values...\n",
      "INFO:models:Computing each factor as linear combination of all the others...\n"
     ]
    },
    {
     "name": "stdout",
     "output_type": "stream",
     "text": [
      " . . . . ."
     ]
    },
    {
     "name": "stderr",
     "output_type": "stream",
     "text": [
      "INFO:models:Number of missing patterns: 7754\n"
     ]
    },
    {
     "name": "stdout",
     "output_type": "stream",
     "text": [
      " . . . . . . ."
     ]
    },
    {
     "name": "stderr",
     "output_type": "stream",
     "text": [
      "INFO:models:Getting factors from av and rescaling...\n"
     ]
    },
    {
     "name": "stdout",
     "output_type": "stream",
     "text": [
      " . . . . ."
     ]
    },
    {
     "name": "stderr",
     "output_type": "stream",
     "text": [
      "INFO:models:Filling in missing values...\n",
      "INFO:models:Computing each factor as linear combination of all the others...\n"
     ]
    },
    {
     "name": "stdout",
     "output_type": "stream",
     "text": [
      " . . . . ."
     ]
    },
    {
     "name": "stderr",
     "output_type": "stream",
     "text": [
      "INFO:models:Number of missing patterns: 7754\n"
     ]
    },
    {
     "name": "stdout",
     "output_type": "stream",
     "text": [
      " . . . . . . ."
     ]
    },
    {
     "name": "stderr",
     "output_type": "stream",
     "text": [
      "INFO:models:Getting factors from av and rescaling...\n"
     ]
    },
    {
     "name": "stdout",
     "output_type": "stream",
     "text": [
      " . . . . ."
     ]
    },
    {
     "name": "stderr",
     "output_type": "stream",
     "text": [
      "INFO:models:Filling in missing values...\n",
      "INFO:models:Computing each factor as linear combination of all the others...\n"
     ]
    },
    {
     "name": "stdout",
     "output_type": "stream",
     "text": [
      " . . . . ."
     ]
    },
    {
     "name": "stderr",
     "output_type": "stream",
     "text": [
      "INFO:models:Number of missing patterns: 7754\n"
     ]
    },
    {
     "name": "stdout",
     "output_type": "stream",
     "text": [
      " . . . . . . ."
     ]
    },
    {
     "name": "stderr",
     "output_type": "stream",
     "text": [
      "INFO:models:Getting factors from av and rescaling...\n"
     ]
    },
    {
     "name": "stdout",
     "output_type": "stream",
     "text": [
      " . . . . ."
     ]
    },
    {
     "name": "stderr",
     "output_type": "stream",
     "text": [
      "INFO:models:Filling in missing values...\n",
      "INFO:models:Computing each factor as linear combination of all the others...\n"
     ]
    },
    {
     "name": "stdout",
     "output_type": "stream",
     "text": [
      " . . . . ."
     ]
    },
    {
     "name": "stderr",
     "output_type": "stream",
     "text": [
      "INFO:models:Number of missing patterns: 7754\n"
     ]
    },
    {
     "name": "stdout",
     "output_type": "stream",
     "text": [
      " . . . . . . ."
     ]
    },
    {
     "name": "stderr",
     "output_type": "stream",
     "text": [
      "INFO:models:Getting factors from av and rescaling...\n"
     ]
    },
    {
     "name": "stdout",
     "output_type": "stream",
     "text": [
      " . . . . ."
     ]
    },
    {
     "name": "stderr",
     "output_type": "stream",
     "text": [
      "INFO:models:Filling in missing values...\n",
      "INFO:models:Computing each factor as linear combination of all the others...\n"
     ]
    },
    {
     "name": "stdout",
     "output_type": "stream",
     "text": [
      " . . . . ."
     ]
    },
    {
     "name": "stderr",
     "output_type": "stream",
     "text": [
      "INFO:models:Number of missing patterns: 7754\n"
     ]
    },
    {
     "name": "stdout",
     "output_type": "stream",
     "text": [
      " . . . . . . ."
     ]
    },
    {
     "name": "stderr",
     "output_type": "stream",
     "text": [
      "INFO:models:Getting factors from av and rescaling...\n"
     ]
    },
    {
     "name": "stdout",
     "output_type": "stream",
     "text": [
      " . . . . ."
     ]
    },
    {
     "name": "stderr",
     "output_type": "stream",
     "text": [
      "INFO:models:Filling in missing values...\n",
      "INFO:models:Computing each factor as linear combination of all the others...\n"
     ]
    },
    {
     "name": "stdout",
     "output_type": "stream",
     "text": [
      " . . . . ."
     ]
    },
    {
     "name": "stderr",
     "output_type": "stream",
     "text": [
      "INFO:models:Number of missing patterns: 7754\n"
     ]
    },
    {
     "name": "stdout",
     "output_type": "stream",
     "text": [
      " . . . . . . ."
     ]
    },
    {
     "data": {
      "image/png": "[encoded data removed]",
      "text/plain": [
       "<matplotlib.figure.Figure at 0x7f92f75d3f50>"
      ]
     },
     "metadata": {},
     "output_type": "display_data"
    },
    {
     "name": "stdout",
     "output_type": "stream",
     "text": [
      "\n"
     ]
    }
   ],
   "source": [
    "time_steps = range(25, -1, -1)\n",
    "train_error, test_error = np.zeros(len(time_steps)), np.zeros(len(time_steps))\n",
    "for i in time_steps:\n",
    "    pars = ModelParameters(av, build_end=factor_build_end + i * 14 * DAY, oos_start=factor_build_end + YEAR, depth=3, lmbd=10, verbose=True)\n",
    "    fl = FactorList(av, factornames_trimmed)\n",
    "    fl.preprocess(pars)\n",
    "    factors = fl.asmatrix()\n",
    "    tsmod = TSModel(factors, tsav, pars)\n",
    "    train_error[i], test_error[i] = tsmod.fit_factors_only()\n",
    "plt.figure()\n",
    "plt.plot(np.arange(len(time_steps)) + 1, train_error, 'r--', label='train error')\n",
    "plt.plot(np.arange(len(time_steps)) + 1, test_error, 'b--', label='test error')\n",
    "plt.xlabel('Number of 14 Day Periods of Train Data')\n",
    "plt.ylabel('Error')\n",
    "plt.title('Train/Test Error vs Size of Train Data')\n",
    "plt.legend()\n",
    "plt.show()"
   ]
  },
  {
   "cell_type": "code",
   "execution_count": 5,
   "metadata": {
    "collapsed": true
   },
   "outputs": [],
   "source": [
    "# Divide factors into two groups\n",
    "lot1 = factornames_trimmed[::2]\n",
    "lot2 = [f for f in factornames_trimmed if f not in lot1]"
   ]
  },
  {
   "cell_type": "markdown",
   "metadata": {},
   "source": [
    "Varying the number of factors (first half)"
   ]
  },
  {
   "cell_type": "code",
   "execution_count": 6,
   "metadata": {
    "collapsed": false
   },
   "outputs": [
    {
     "name": "stderr",
     "output_type": "stream",
     "text": [
      "INFO:models:Getting factors from av and rescaling...\n",
      "INFO:models:Getting factors from av and rescaling...\n",
      "INFO:models:Filling in missing values...\n",
      "INFO:models:Computing each factor as linear combination of all the others...\n",
      "INFO:models:Number of missing patterns: 1\n",
      "INFO:models:Getting factors from av and rescaling...\n",
      "INFO:models:Filling in missing values...\n",
      "INFO:models:Computing each factor as linear combination of all the others...\n",
      "INFO:models:Number of missing patterns: 2\n",
      "INFO:models:Getting factors from av and rescaling...\n",
      "INFO:models:Filling in missing values...\n",
      "INFO:models:Computing each factor as linear combination of all the others...\n",
      "INFO:models:Number of missing patterns: 4\n",
      "INFO:models:Getting factors from av and rescaling...\n",
      "INFO:models:Filling in missing values...\n",
      "INFO:models:Computing each factor as linear combination of all the others...\n",
      "INFO:models:Number of missing patterns: 9\n",
      "INFO:models:Getting factors from av and rescaling...\n",
      "INFO:models:Filling in missing values...\n",
      "INFO:models:Computing each factor as linear combination of all the others...\n",
      "INFO:models:Number of missing patterns: 9\n",
      "INFO:models:Getting factors from av and rescaling...\n",
      "INFO:models:Filling in missing values...\n",
      "INFO:models:Computing each factor as linear combination of all the others...\n",
      "INFO:models:Number of missing patterns: 18\n",
      "INFO:models:Getting factors from av and rescaling...\n",
      "INFO:models:Filling in missing values...\n",
      "INFO:models:Computing each factor as linear combination of all the others...\n",
      "INFO:models:Number of missing patterns: 32\n",
      "INFO:models:Getting factors from av and rescaling...\n",
      "INFO:models:Filling in missing values...\n",
      "INFO:models:Computing each factor as linear combination of all the others...\n",
      "INFO:models:Number of missing patterns: 34\n",
      "INFO:models:Getting factors from av and rescaling...\n",
      "INFO:models:Filling in missing values...\n",
      "INFO:models:Computing each factor as linear combination of all the others...\n",
      "INFO:models:Number of missing patterns: 34\n",
      "INFO:models:Getting factors from av and rescaling...\n"
     ]
    },
    {
     "name": "stdout",
     "output_type": "stream",
     "text": [
      "."
     ]
    },
    {
     "name": "stderr",
     "output_type": "stream",
     "text": [
      "INFO:models:Filling in missing values...\n",
      "INFO:models:Computing each factor as linear combination of all the others...\n"
     ]
    },
    {
     "name": "stdout",
     "output_type": "stream",
     "text": [
      " ."
     ]
    },
    {
     "name": "stderr",
     "output_type": "stream",
     "text": [
      "INFO:models:Number of missing patterns: 58\n",
      "INFO:models:Getting factors from av and rescaling...\n"
     ]
    },
    {
     "name": "stdout",
     "output_type": "stream",
     "text": [
      " ."
     ]
    },
    {
     "name": "stderr",
     "output_type": "stream",
     "text": [
      "INFO:models:Filling in missing values...\n",
      "INFO:models:Computing each factor as linear combination of all the others...\n"
     ]
    },
    {
     "name": "stdout",
     "output_type": "stream",
     "text": [
      " ."
     ]
    },
    {
     "name": "stderr",
     "output_type": "stream",
     "text": [
      "INFO:models:Number of missing patterns: 91\n",
      "INFO:models:Getting factors from av and rescaling...\n"
     ]
    },
    {
     "name": "stdout",
     "output_type": "stream",
     "text": [
      " ."
     ]
    },
    {
     "name": "stderr",
     "output_type": "stream",
     "text": [
      "INFO:models:Filling in missing values...\n",
      "INFO:models:Computing each factor as linear combination of all the others...\n"
     ]
    },
    {
     "name": "stdout",
     "output_type": "stream",
     "text": [
      " ."
     ]
    },
    {
     "name": "stderr",
     "output_type": "stream",
     "text": [
      "INFO:models:Number of missing patterns: 91\n",
      "INFO:models:Getting factors from av and rescaling...\n"
     ]
    },
    {
     "name": "stdout",
     "output_type": "stream",
     "text": [
      " ."
     ]
    },
    {
     "name": "stderr",
     "output_type": "stream",
     "text": [
      "INFO:models:Filling in missing values...\n",
      "INFO:models:Computing each factor as linear combination of all the others...\n"
     ]
    },
    {
     "name": "stdout",
     "output_type": "stream",
     "text": [
      " ."
     ]
    },
    {
     "name": "stderr",
     "output_type": "stream",
     "text": [
      "INFO:models:Number of missing patterns: 137\n",
      "INFO:models:Getting factors from av and rescaling...\n"
     ]
    },
    {
     "name": "stdout",
     "output_type": "stream",
     "text": [
      " ."
     ]
    },
    {
     "name": "stderr",
     "output_type": "stream",
     "text": [
      "INFO:models:Filling in missing values...\n",
      "INFO:models:Computing each factor as linear combination of all the others...\n"
     ]
    },
    {
     "name": "stdout",
     "output_type": "stream",
     "text": [
      " ."
     ]
    },
    {
     "name": "stderr",
     "output_type": "stream",
     "text": [
      "INFO:models:Number of missing patterns: 168\n",
      "INFO:models:Getting factors from av and rescaling...\n"
     ]
    },
    {
     "name": "stdout",
     "output_type": "stream",
     "text": [
      " ."
     ]
    },
    {
     "name": "stderr",
     "output_type": "stream",
     "text": [
      "INFO:models:Filling in missing values...\n",
      "INFO:models:Computing each factor as linear combination of all the others...\n"
     ]
    },
    {
     "name": "stdout",
     "output_type": "stream",
     "text": [
      " ."
     ]
    },
    {
     "name": "stderr",
     "output_type": "stream",
     "text": [
      "INFO:models:Number of missing patterns: 247\n",
      "INFO:models:Getting factors from av and rescaling...\n"
     ]
    },
    {
     "name": "stdout",
     "output_type": "stream",
     "text": [
      " ."
     ]
    },
    {
     "name": "stderr",
     "output_type": "stream",
     "text": [
      "INFO:models:Filling in missing values...\n",
      "INFO:models:Computing each factor as linear combination of all the others...\n"
     ]
    },
    {
     "name": "stdout",
     "output_type": "stream",
     "text": [
      " ."
     ]
    },
    {
     "name": "stderr",
     "output_type": "stream",
     "text": [
      "INFO:models:Number of missing patterns: 248\n",
      "INFO:models:Getting factors from av and rescaling...\n"
     ]
    },
    {
     "name": "stdout",
     "output_type": "stream",
     "text": [
      " ."
     ]
    },
    {
     "name": "stderr",
     "output_type": "stream",
     "text": [
      "INFO:models:Filling in missing values...\n",
      "INFO:models:Computing each factor as linear combination of all the others...\n"
     ]
    },
    {
     "name": "stdout",
     "output_type": "stream",
     "text": [
      " ."
     ]
    },
    {
     "name": "stderr",
     "output_type": "stream",
     "text": [
      "INFO:models:Number of missing patterns: 291\n",
      "INFO:models:Getting factors from av and rescaling...\n"
     ]
    },
    {
     "name": "stdout",
     "output_type": "stream",
     "text": [
      " ."
     ]
    },
    {
     "name": "stderr",
     "output_type": "stream",
     "text": [
      "INFO:models:Filling in missing values...\n",
      "INFO:models:Computing each factor as linear combination of all the others...\n"
     ]
    },
    {
     "name": "stdout",
     "output_type": "stream",
     "text": [
      " ."
     ]
    },
    {
     "name": "stderr",
     "output_type": "stream",
     "text": [
      "INFO:models:Number of missing patterns: 291\n",
      "INFO:models:Getting factors from av and rescaling...\n"
     ]
    },
    {
     "name": "stdout",
     "output_type": "stream",
     "text": [
      " ."
     ]
    },
    {
     "name": "stderr",
     "output_type": "stream",
     "text": [
      "INFO:models:Filling in missing values...\n",
      "INFO:models:Computing each factor as linear combination of all the others...\n"
     ]
    },
    {
     "name": "stdout",
     "output_type": "stream",
     "text": [
      " ."
     ]
    },
    {
     "name": "stderr",
     "output_type": "stream",
     "text": [
      "INFO:models:Number of missing patterns: 337\n",
      "INFO:models:Getting factors from av and rescaling...\n"
     ]
    },
    {
     "name": "stdout",
     "output_type": "stream",
     "text": [
      " . ."
     ]
    },
    {
     "name": "stderr",
     "output_type": "stream",
     "text": [
      "INFO:models:Filling in missing values...\n",
      "INFO:models:Computing each factor as linear combination of all the others...\n"
     ]
    },
    {
     "name": "stdout",
     "output_type": "stream",
     "text": [
      " . ."
     ]
    },
    {
     "name": "stderr",
     "output_type": "stream",
     "text": [
      "INFO:models:Number of missing patterns: 463\n",
      "INFO:models:Getting factors from av and rescaling...\n"
     ]
    },
    {
     "name": "stdout",
     "output_type": "stream",
     "text": [
      " . ."
     ]
    },
    {
     "name": "stderr",
     "output_type": "stream",
     "text": [
      "INFO:models:Filling in missing values...\n",
      "INFO:models:Computing each factor as linear combination of all the others...\n"
     ]
    },
    {
     "name": "stdout",
     "output_type": "stream",
     "text": [
      " . ."
     ]
    },
    {
     "name": "stderr",
     "output_type": "stream",
     "text": [
      "INFO:models:Number of missing patterns: 629\n",
      "INFO:models:Getting factors from av and rescaling...\n"
     ]
    },
    {
     "name": "stdout",
     "output_type": "stream",
     "text": [
      " . ."
     ]
    },
    {
     "name": "stderr",
     "output_type": "stream",
     "text": [
      "INFO:models:Filling in missing values...\n",
      "INFO:models:Computing each factor as linear combination of all the others...\n"
     ]
    },
    {
     "name": "stdout",
     "output_type": "stream",
     "text": [
      " . ."
     ]
    },
    {
     "name": "stderr",
     "output_type": "stream",
     "text": [
      "INFO:models:Number of missing patterns: 629\n",
      "INFO:models:Getting factors from av and rescaling...\n"
     ]
    },
    {
     "name": "stdout",
     "output_type": "stream",
     "text": [
      " . ."
     ]
    },
    {
     "name": "stderr",
     "output_type": "stream",
     "text": [
      "INFO:models:Filling in missing values...\n",
      "INFO:models:Computing each factor as linear combination of all the others...\n"
     ]
    },
    {
     "name": "stdout",
     "output_type": "stream",
     "text": [
      " . ."
     ]
    },
    {
     "name": "stderr",
     "output_type": "stream",
     "text": [
      "INFO:models:Number of missing patterns: 629\n",
      "INFO:models:Getting factors from av and rescaling...\n"
     ]
    },
    {
     "name": "stdout",
     "output_type": "stream",
     "text": [
      " . ."
     ]
    },
    {
     "name": "stderr",
     "output_type": "stream",
     "text": [
      "INFO:models:Filling in missing values...\n",
      "INFO:models:Computing each factor as linear combination of all the others...\n"
     ]
    },
    {
     "name": "stdout",
     "output_type": "stream",
     "text": [
      " . ."
     ]
    },
    {
     "name": "stderr",
     "output_type": "stream",
     "text": [
      "INFO:models:Number of missing patterns: 630\n",
      "INFO:models:Getting factors from av and rescaling...\n"
     ]
    },
    {
     "name": "stdout",
     "output_type": "stream",
     "text": [
      " . ."
     ]
    },
    {
     "name": "stderr",
     "output_type": "stream",
     "text": [
      "INFO:models:Filling in missing values...\n",
      "INFO:models:Computing each factor as linear combination of all the others...\n"
     ]
    },
    {
     "name": "stdout",
     "output_type": "stream",
     "text": [
      " . ."
     ]
    },
    {
     "name": "stderr",
     "output_type": "stream",
     "text": [
      "INFO:models:Number of missing patterns: 630\n",
      "INFO:models:Getting factors from av and rescaling...\n"
     ]
    },
    {
     "name": "stdout",
     "output_type": "stream",
     "text": [
      " . ."
     ]
    },
    {
     "name": "stderr",
     "output_type": "stream",
     "text": [
      "INFO:models:Filling in missing values...\n",
      "INFO:models:Computing each factor as linear combination of all the others...\n"
     ]
    },
    {
     "name": "stdout",
     "output_type": "stream",
     "text": [
      " . ."
     ]
    },
    {
     "name": "stderr",
     "output_type": "stream",
     "text": [
      "INFO:models:Number of missing patterns: 630\n",
      "INFO:models:Getting factors from av and rescaling...\n"
     ]
    },
    {
     "name": "stdout",
     "output_type": "stream",
     "text": [
      " . ."
     ]
    },
    {
     "name": "stderr",
     "output_type": "stream",
     "text": [
      "INFO:models:Filling in missing values...\n",
      "INFO:models:Computing each factor as linear combination of all the others...\n"
     ]
    },
    {
     "name": "stdout",
     "output_type": "stream",
     "text": [
      " . ."
     ]
    },
    {
     "name": "stderr",
     "output_type": "stream",
     "text": [
      "INFO:models:Number of missing patterns: 630\n",
      "INFO:models:Getting factors from av and rescaling...\n"
     ]
    },
    {
     "name": "stdout",
     "output_type": "stream",
     "text": [
      " . ."
     ]
    },
    {
     "name": "stderr",
     "output_type": "stream",
     "text": [
      "INFO:models:Filling in missing values...\n",
      "INFO:models:Computing each factor as linear combination of all the others...\n"
     ]
    },
    {
     "name": "stdout",
     "output_type": "stream",
     "text": [
      " . ."
     ]
    },
    {
     "name": "stderr",
     "output_type": "stream",
     "text": [
      "INFO:models:Number of missing patterns: 800\n"
     ]
    },
    {
     "data": {
      "image/png": "[encoded data removed]",
      "text/plain": [
       "<matplotlib.figure.Figure at 0x7f933d525a50>"
      ]
     },
     "metadata": {},
     "output_type": "display_data"
    },
    {
     "name": "stdout",
     "output_type": "stream",
     "text": [
      "\n"
     ]
    }
   ],
   "source": [
    "factor_names = lot1\n",
    "n_factors = len(factor_names)\n",
    "train_error1, test_error1 = np.zeros(n_factors), np.zeros(n_factors)\n",
    "for i in range(n_factors):\n",
    "    pars = ModelParameters(av, oos_start=factor_build_end + YEAR, depth=3, lmbd=10, verbose=True)\n",
    "    fl = FactorList(av, factor_names[:i+1])\n",
    "    fl.preprocess(pars)\n",
    "    factors = fl.asmatrix()\n",
    "    tsmod = TSModel(factors, tsav, pars)\n",
    "    train_error1[i], test_error1[i] = tsmod.fit_factors_only()\n",
    "plt.figure()\n",
    "plt.plot(range(n_factors), train_error1, 'r--', label='train error')\n",
    "plt.plot(range(n_factors), test_error1, 'b--', label='test error')\n",
    "plt.xlabel('N factors')\n",
    "plt.ylabel('Error')\n",
    "plt.title('Train/Test Error for 1st Half of Factors')\n",
    "plt.legend()\n",
    "plt.show()"
   ]
  },
  {
   "cell_type": "markdown",
   "metadata": {},
   "source": []
  },
  {
   "cell_type": "code",
   "execution_count": 7,
   "metadata": {
    "collapsed": false
   },
   "outputs": [
    {
     "name": "stderr",
     "output_type": "stream",
     "text": [
      "INFO:models:Getting factors from av and rescaling...\n",
      "INFO:models:Getting factors from av and rescaling...\n",
      "INFO:models:Filling in missing values...\n",
      "INFO:models:Computing each factor as linear combination of all the others...\n",
      "INFO:models:Number of missing patterns: 2\n",
      "INFO:models:Getting factors from av and rescaling...\n",
      "INFO:models:Filling in missing values...\n",
      "INFO:models:Computing each factor as linear combination of all the others...\n",
      "INFO:models:Number of missing patterns: 5\n",
      "INFO:models:Getting factors from av and rescaling...\n",
      "INFO:models:Filling in missing values...\n",
      "INFO:models:Computing each factor as linear combination of all the others...\n",
      "INFO:models:Number of missing patterns: 9\n",
      "INFO:models:Getting factors from av and rescaling...\n",
      "INFO:models:Filling in missing values...\n",
      "INFO:models:Computing each factor as linear combination of all the others...\n",
      "INFO:models:Number of missing patterns: 17\n",
      "INFO:models:Getting factors from av and rescaling...\n",
      "INFO:models:Filling in missing values...\n",
      "INFO:models:Computing each factor as linear combination of all the others...\n",
      "INFO:models:Number of missing patterns: 25\n",
      "INFO:models:Getting factors from av and rescaling...\n",
      "INFO:models:Filling in missing values...\n",
      "INFO:models:Computing each factor as linear combination of all the others...\n",
      "INFO:models:Number of missing patterns: 26\n",
      "INFO:models:Getting factors from av and rescaling...\n",
      "INFO:models:Filling in missing values...\n",
      "INFO:models:Computing each factor as linear combination of all the others...\n",
      "INFO:models:Number of missing patterns: 41\n",
      "INFO:models:Getting factors from av and rescaling...\n",
      "INFO:models:Filling in missing values...\n",
      "INFO:models:Computing each factor as linear combination of all the others...\n",
      "INFO:models:Number of missing patterns: 66\n",
      "INFO:models:Getting factors from av and rescaling...\n",
      "INFO:models:Filling in missing values...\n",
      "INFO:models:Computing each factor as linear combination of all the others...\n",
      "INFO:models:Number of missing patterns: 66\n",
      "INFO:models:Getting factors from av and rescaling...\n"
     ]
    },
    {
     "name": "stdout",
     "output_type": "stream",
     "text": [
      "."
     ]
    },
    {
     "name": "stderr",
     "output_type": "stream",
     "text": [
      "INFO:models:Filling in missing values...\n",
      "INFO:models:Computing each factor as linear combination of all the others...\n"
     ]
    },
    {
     "name": "stdout",
     "output_type": "stream",
     "text": [
      " ."
     ]
    },
    {
     "name": "stderr",
     "output_type": "stream",
     "text": [
      "INFO:models:Number of missing patterns: 99\n",
      "INFO:models:Getting factors from av and rescaling...\n"
     ]
    },
    {
     "name": "stdout",
     "output_type": "stream",
     "text": [
      " ."
     ]
    },
    {
     "name": "stderr",
     "output_type": "stream",
     "text": [
      "INFO:models:Filling in missing values...\n",
      "INFO:models:Computing each factor as linear combination of all the others...\n"
     ]
    },
    {
     "name": "stdout",
     "output_type": "stream",
     "text": [
      " ."
     ]
    },
    {
     "name": "stderr",
     "output_type": "stream",
     "text": [
      "INFO:models:Number of missing patterns: 153\n",
      "INFO:models:Getting factors from av and rescaling...\n"
     ]
    },
    {
     "name": "stdout",
     "output_type": "stream",
     "text": [
      " ."
     ]
    },
    {
     "name": "stderr",
     "output_type": "stream",
     "text": [
      "INFO:models:Filling in missing values...\n",
      "INFO:models:Computing each factor as linear combination of all the others...\n"
     ]
    },
    {
     "name": "stdout",
     "output_type": "stream",
     "text": [
      " ."
     ]
    },
    {
     "name": "stderr",
     "output_type": "stream",
     "text": [
      "INFO:models:Number of missing patterns: 246\n",
      "INFO:models:Getting factors from av and rescaling...\n"
     ]
    },
    {
     "name": "stdout",
     "output_type": "stream",
     "text": [
      " ."
     ]
    },
    {
     "name": "stderr",
     "output_type": "stream",
     "text": [
      "INFO:models:Filling in missing values...\n",
      "INFO:models:Computing each factor as linear combination of all the others...\n"
     ]
    },
    {
     "name": "stdout",
     "output_type": "stream",
     "text": [
      " ."
     ]
    },
    {
     "name": "stderr",
     "output_type": "stream",
     "text": [
      "INFO:models:Number of missing patterns: 284\n",
      "INFO:models:Getting factors from av and rescaling...\n"
     ]
    },
    {
     "name": "stdout",
     "output_type": "stream",
     "text": [
      " ."
     ]
    },
    {
     "name": "stderr",
     "output_type": "stream",
     "text": [
      "INFO:models:Filling in missing values...\n",
      "INFO:models:Computing each factor as linear combination of all the others...\n"
     ]
    },
    {
     "name": "stdout",
     "output_type": "stream",
     "text": [
      " ."
     ]
    },
    {
     "name": "stderr",
     "output_type": "stream",
     "text": [
      "INFO:models:Number of missing patterns: 407\n",
      "INFO:models:Getting factors from av and rescaling...\n"
     ]
    },
    {
     "name": "stdout",
     "output_type": "stream",
     "text": [
      " ."
     ]
    },
    {
     "name": "stderr",
     "output_type": "stream",
     "text": [
      "INFO:models:Filling in missing values...\n",
      "INFO:models:Computing each factor as linear combination of all the others...\n"
     ]
    },
    {
     "name": "stdout",
     "output_type": "stream",
     "text": [
      " ."
     ]
    },
    {
     "name": "stderr",
     "output_type": "stream",
     "text": [
      "INFO:models:Number of missing patterns: 407\n",
      "INFO:models:Getting factors from av and rescaling...\n"
     ]
    },
    {
     "name": "stdout",
     "output_type": "stream",
     "text": [
      " ."
     ]
    },
    {
     "name": "stderr",
     "output_type": "stream",
     "text": [
      "INFO:models:Filling in missing values...\n",
      "INFO:models:Computing each factor as linear combination of all the others...\n"
     ]
    },
    {
     "name": "stdout",
     "output_type": "stream",
     "text": [
      " ."
     ]
    },
    {
     "name": "stderr",
     "output_type": "stream",
     "text": [
      "INFO:models:Number of missing patterns: 407\n",
      "INFO:models:Getting factors from av and rescaling...\n"
     ]
    },
    {
     "name": "stdout",
     "output_type": "stream",
     "text": [
      " ."
     ]
    },
    {
     "name": "stderr",
     "output_type": "stream",
     "text": [
      "INFO:models:Filling in missing values...\n",
      "INFO:models:Computing each factor as linear combination of all the others...\n"
     ]
    },
    {
     "name": "stdout",
     "output_type": "stream",
     "text": [
      " ."
     ]
    },
    {
     "name": "stderr",
     "output_type": "stream",
     "text": [
      "INFO:models:Number of missing patterns: 407\n",
      "INFO:models:Getting factors from av and rescaling...\n"
     ]
    },
    {
     "name": "stdout",
     "output_type": "stream",
     "text": [
      " ."
     ]
    },
    {
     "name": "stderr",
     "output_type": "stream",
     "text": [
      "INFO:models:Filling in missing values...\n",
      "INFO:models:Computing each factor as linear combination of all the others...\n"
     ]
    },
    {
     "name": "stdout",
     "output_type": "stream",
     "text": [
      " ."
     ]
    },
    {
     "name": "stderr",
     "output_type": "stream",
     "text": [
      "INFO:models:Number of missing patterns: 478\n",
      "INFO:models:Getting factors from av and rescaling...\n"
     ]
    },
    {
     "name": "stdout",
     "output_type": "stream",
     "text": [
      " ."
     ]
    },
    {
     "name": "stderr",
     "output_type": "stream",
     "text": [
      "INFO:models:Filling in missing values...\n",
      "INFO:models:Computing each factor as linear combination of all the others...\n"
     ]
    },
    {
     "name": "stdout",
     "output_type": "stream",
     "text": [
      " ."
     ]
    },
    {
     "name": "stderr",
     "output_type": "stream",
     "text": [
      "INFO:models:Number of missing patterns: 793\n",
      "INFO:models:Getting factors from av and rescaling...\n"
     ]
    },
    {
     "name": "stdout",
     "output_type": "stream",
     "text": [
      " . ."
     ]
    },
    {
     "name": "stderr",
     "output_type": "stream",
     "text": [
      "INFO:models:Filling in missing values...\n",
      "INFO:models:Computing each factor as linear combination of all the others...\n"
     ]
    },
    {
     "name": "stdout",
     "output_type": "stream",
     "text": [
      " . ."
     ]
    },
    {
     "name": "stderr",
     "output_type": "stream",
     "text": [
      "INFO:models:Number of missing patterns: 793\n",
      "INFO:models:Getting factors from av and rescaling...\n"
     ]
    },
    {
     "name": "stdout",
     "output_type": "stream",
     "text": [
      " . ."
     ]
    },
    {
     "name": "stderr",
     "output_type": "stream",
     "text": [
      "INFO:models:Filling in missing values...\n",
      "INFO:models:Computing each factor as linear combination of all the others...\n"
     ]
    },
    {
     "name": "stdout",
     "output_type": "stream",
     "text": [
      " . ."
     ]
    },
    {
     "name": "stderr",
     "output_type": "stream",
     "text": [
      "INFO:models:Number of missing patterns: 1054\n"
     ]
    },
    {
     "name": "stdout",
     "output_type": "stream",
     "text": [
      " ."
     ]
    },
    {
     "name": "stderr",
     "output_type": "stream",
     "text": [
      "INFO:models:Getting factors from av and rescaling...\n"
     ]
    },
    {
     "name": "stdout",
     "output_type": "stream",
     "text": [
      " . ."
     ]
    },
    {
     "name": "stderr",
     "output_type": "stream",
     "text": [
      "INFO:models:Filling in missing values...\n",
      "INFO:models:Computing each factor as linear combination of all the others...\n"
     ]
    },
    {
     "name": "stdout",
     "output_type": "stream",
     "text": [
      " . ."
     ]
    },
    {
     "name": "stderr",
     "output_type": "stream",
     "text": [
      "INFO:models:Number of missing patterns: 1086\n"
     ]
    },
    {
     "name": "stdout",
     "output_type": "stream",
     "text": [
      " ."
     ]
    },
    {
     "name": "stderr",
     "output_type": "stream",
     "text": [
      "INFO:models:Getting factors from av and rescaling...\n"
     ]
    },
    {
     "name": "stdout",
     "output_type": "stream",
     "text": [
      " . ."
     ]
    },
    {
     "name": "stderr",
     "output_type": "stream",
     "text": [
      "INFO:models:Filling in missing values...\n",
      "INFO:models:Computing each factor as linear combination of all the others...\n"
     ]
    },
    {
     "name": "stdout",
     "output_type": "stream",
     "text": [
      " . ."
     ]
    },
    {
     "name": "stderr",
     "output_type": "stream",
     "text": [
      "INFO:models:Number of missing patterns: 1269\n"
     ]
    },
    {
     "name": "stdout",
     "output_type": "stream",
     "text": [
      " ."
     ]
    },
    {
     "name": "stderr",
     "output_type": "stream",
     "text": [
      "INFO:models:Getting factors from av and rescaling...\n"
     ]
    },
    {
     "name": "stdout",
     "output_type": "stream",
     "text": [
      " . ."
     ]
    },
    {
     "name": "stderr",
     "output_type": "stream",
     "text": [
      "INFO:models:Filling in missing values...\n",
      "INFO:models:Computing each factor as linear combination of all the others...\n"
     ]
    },
    {
     "name": "stdout",
     "output_type": "stream",
     "text": [
      " . ."
     ]
    },
    {
     "name": "stderr",
     "output_type": "stream",
     "text": [
      "INFO:models:Number of missing patterns: 1270\n"
     ]
    },
    {
     "name": "stdout",
     "output_type": "stream",
     "text": [
      " ."
     ]
    },
    {
     "name": "stderr",
     "output_type": "stream",
     "text": [
      "INFO:models:Getting factors from av and rescaling...\n"
     ]
    },
    {
     "name": "stdout",
     "output_type": "stream",
     "text": [
      " . ."
     ]
    },
    {
     "name": "stderr",
     "output_type": "stream",
     "text": [
      "INFO:models:Filling in missing values...\n",
      "INFO:models:Computing each factor as linear combination of all the others...\n"
     ]
    },
    {
     "name": "stdout",
     "output_type": "stream",
     "text": [
      " . ."
     ]
    },
    {
     "name": "stderr",
     "output_type": "stream",
     "text": [
      "INFO:models:Number of missing patterns: 1516\n"
     ]
    },
    {
     "name": "stdout",
     "output_type": "stream",
     "text": [
      " ."
     ]
    },
    {
     "name": "stderr",
     "output_type": "stream",
     "text": [
      "INFO:models:Getting factors from av and rescaling...\n"
     ]
    },
    {
     "name": "stdout",
     "output_type": "stream",
     "text": [
      " . ."
     ]
    },
    {
     "name": "stderr",
     "output_type": "stream",
     "text": [
      "INFO:models:Filling in missing values...\n",
      "INFO:models:Computing each factor as linear combination of all the others...\n"
     ]
    },
    {
     "name": "stdout",
     "output_type": "stream",
     "text": [
      " . ."
     ]
    },
    {
     "name": "stderr",
     "output_type": "stream",
     "text": [
      "INFO:models:Number of missing patterns: 1832\n"
     ]
    },
    {
     "name": "stdout",
     "output_type": "stream",
     "text": [
      " ."
     ]
    },
    {
     "name": "stderr",
     "output_type": "stream",
     "text": [
      "INFO:models:Getting factors from av and rescaling...\n"
     ]
    },
    {
     "name": "stdout",
     "output_type": "stream",
     "text": [
      " . ."
     ]
    },
    {
     "name": "stderr",
     "output_type": "stream",
     "text": [
      "INFO:models:Filling in missing values...\n",
      "INFO:models:Computing each factor as linear combination of all the others...\n"
     ]
    },
    {
     "name": "stdout",
     "output_type": "stream",
     "text": [
      " . ."
     ]
    },
    {
     "name": "stderr",
     "output_type": "stream",
     "text": [
      "INFO:models:Number of missing patterns: 1832\n"
     ]
    },
    {
     "name": "stdout",
     "output_type": "stream",
     "text": [
      " ."
     ]
    },
    {
     "data": {
      "image/png": "[encoded data removed]",
      "text/plain": [
       "<matplotlib.figure.Figure at 0x7f92f341e310>"
      ]
     },
     "metadata": {},
     "output_type": "display_data"
    },
    {
     "name": "stdout",
     "output_type": "stream",
     "text": [
      "\n"
     ]
    }
   ],
   "source": [
    "\n",
    "factor_names = lot2\n",
    "n_factors = len(factor_names)\n",
    "train_error2, test_error2 = np.zeros(n_factors), np.zeros(n_factors)\n",
    "for i in range(n_factors):\n",
    "    pars = ModelParameters(av, oos_start=factor_build_end + YEAR, depth=3, lmbd=10, verbose=True)\n",
    "    fl = FactorList(av, factor_names[:i+1])\n",
    "    fl.preprocess(pars)\n",
    "    factors = fl.asmatrix()\n",
    "    tsmod = TSModel(factors, tsav, pars)\n",
    "    train_error2[i], test_error2[i] = tsmod.fit_factors_only()\n",
    "plt.figure()\n",
    "plt.plot(range(n_factors), train_error2, 'r--', label='train error')\n",
    "plt.plot(range(n_factors), test_error2, 'b--', label='test error')\n",
    "plt.xlabel('N factors')\n",
    "plt.ylabel('Error')\n",
    "plt.title('Train/Test Error for 2nd Half of Factors')\n",
    "plt.legend()\n",
    "plt.show()"
   ]
  },
  {
   "cell_type": "code",
   "execution_count": null,
   "metadata": {
    "collapsed": true
   },
   "outputs": [],
   "source": []
  }
 ],
 "metadata": {
  "kernelspec": {
   "display_name": "Python 2",
   "language": "python",
   "name": "python2"
  },
  "language_info": {
   "codemirror_mode": {
    "name": "ipython",
    "version": 2
   },
   "file_extension": ".py",
   "mimetype": "text/x-python",
   "name": "python",
   "nbconvert_exporter": "python",
   "pygments_lexer": "ipython2",
   "version": "2.7.13"
  }
 },
 "nbformat": 4,
 "nbformat_minor": 0
}
