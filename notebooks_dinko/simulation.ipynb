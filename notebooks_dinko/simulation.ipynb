{
 "cells": [
  {
   "cell_type": "markdown",
   "metadata": {
    "collapsed": true
   },
   "source": [
    "# ThoroughBet Simulation"
   ]
  },
  {
   "cell_type": "markdown",
   "metadata": {},
   "source": [
    "\n",
    "## Load necessary modules"
   ]
  },
  {
   "cell_type": "code",
   "execution_count": 1,
   "metadata": {
    "collapsed": false
   },
   "outputs": [],
   "source": [
    "import numpy as np\n",
    "\n",
    "from thbmodel.utils import timestamp, YEAR, settings\n",
    "from thbmodel.utils.arrayview import ArrayView, TimeseriesView\n",
    "\n",
    "from thbmodel.prediction.models.fit_model import TSModel\n",
    "from thbmodel.prediction.models.model_parameters import ModelParameters\n",
    "from thbmodel.prediction.models.factor_management import FactorList\n",
    "from thbmodel.prediction.models.preprocessing import load_slices\n",
    "\n",
    "from thbmodel.prediction.models.prediction import factornames_trimmed\n",
    "from thbmodel.prediction.models.parameters import factor_build_end"
   ]
  },
  {
   "cell_type": "markdown",
   "metadata": {},
   "source": [
    "## Load data"
   ]
  },
  {
   "cell_type": "code",
   "execution_count": 2,
   "metadata": {
    "collapsed": true
   },
   "outputs": [],
   "source": [
    "av = ArrayView.from_file(settings.paths.join('racing_data_azd.av.bcolz'))"
   ]
  },
  {
   "cell_type": "code",
   "execution_count": 3,
   "metadata": {
    "collapsed": true
   },
   "outputs": [],
   "source": [
    "tsav = load_slices()"
   ]
  },
  {
   "cell_type": "markdown",
   "metadata": {},
   "source": [
    "## Preprocessing"
   ]
  },
  {
   "cell_type": "code",
   "execution_count": 4,
   "metadata": {
    "collapsed": true
   },
   "outputs": [],
   "source": [
    "pars = ModelParameters(av, oos_start=factor_build_end+YEAR, depth=3, lmbd=10, verbose=True)"
   ]
  },
  {
   "cell_type": "code",
   "execution_count": 5,
   "metadata": {
    "collapsed": false
   },
   "outputs": [
    {
     "name": "stderr",
     "output_type": "stream",
     "text": [
      "WARNING:models:Skipping AV column z58de9ec3e\n"
     ]
    }
   ],
   "source": [
    "fl = FactorList.from_av(av, factornames_trimmed)"
   ]
  },
  {
   "cell_type": "code",
   "execution_count": 6,
   "metadata": {
    "collapsed": false
   },
   "outputs": [
    {
     "name": "stderr",
     "output_type": "stream",
     "text": [
      "INFO:models:Getting factors from av and rescaling...\n"
     ]
    },
    {
     "name": "stdout",
     "output_type": "stream",
     "text": [
      "creating /tmp/scipy-dinko-jngdh9/python27_intermediate/compiler_33953ccda0eb3891e0e2ada457906658\n",
      ". . . . ."
     ]
    },
    {
     "name": "stderr",
     "output_type": "stream",
     "text": [
      "INFO:models:Filling in missing values...\n",
      "INFO:models:Computing each factor as linear combination of all the others...\n"
     ]
    },
    {
     "name": "stdout",
     "output_type": "stream",
     "text": [
      " . . . . ."
     ]
    },
    {
     "name": "stderr",
     "output_type": "stream",
     "text": [
      "INFO:models:Number of missing patterns: 3627\n"
     ]
    },
    {
     "name": "stdout",
     "output_type": "stream",
     "text": [
      " . . .\n"
     ]
    }
   ],
   "source": [
    "fl.preprocess(pars)\n",
    "factors = fl.asmatrix()"
   ]
  },
  {
   "cell_type": "markdown",
   "metadata": {},
   "source": [
    "## Fit conditional logit model"
   ]
  },
  {
   "cell_type": "code",
   "execution_count": 7,
   "metadata": {
    "collapsed": true
   },
   "outputs": [],
   "source": [
    "tsmod = TSModel(factors, tsav, pars)"
   ]
  },
  {
   "cell_type": "code",
   "execution_count": null,
   "metadata": {
    "collapsed": false
   },
   "outputs": [
    {
     "name": "stderr",
     "output_type": "stream",
     "text": [
      "INFO:models:Fitting slice 0\n",
      "/home/dinko/repos/thoroughbet/thbmodel/thbmodel/prediction/models/fit_model.py:150: RuntimeWarning: divide by zero encountered in log\n",
      "  stats, self.step2probs[sl] = self.concat_and_fit(strata, result, nonrunner, [fback, flay, np.log(probs)], ts_idx, valid2, verbose=False, step=2)\n",
      "INFO:models:Fitting slice 1\n",
      "INFO:models:Fitting slice 2\n",
      "INFO:models:Fitting slice 3\n",
      "INFO:models:Fitting slice 4\n",
      "INFO:models:Fitting slice 5\n"
     ]
    }
   ],
   "source": [
    "tsmod.fit_slices(fit_afresh=True)"
   ]
  },
  {
   "cell_type": "code",
   "execution_count": 29,
   "metadata": {
    "collapsed": true
   },
   "outputs": [],
   "source": [
    "from thbmodel.prediction.tools.clustering import write_dic_to_simdata"
   ]
  },
  {
   "cell_type": "code",
   "execution_count": 28,
   "metadata": {
    "collapsed": true
   },
   "outputs": [],
   "source": [
    "write_dic_to_simdata('simdata.p', tsmod.step1probs, tsmod.eff_coefs, tsmod.params.oos, av=av)"
   ]
  },
  {
   "cell_type": "code",
   "execution_count": null,
   "metadata": {
    "collapsed": true
   },
   "outputs": [],
   "source": []
  }
 ],
 "metadata": {
  "kernelspec": {
   "display_name": "Python 2",
   "language": "python",
   "name": "python2"
  },
  "language_info": {
   "codemirror_mode": {
    "name": "ipython",
    "version": 2
   },
   "file_extension": ".py",
   "mimetype": "text/x-python",
   "name": "python",
   "nbconvert_exporter": "python",
   "pygments_lexer": "ipython2",
   "version": "2.7.13"
  }
 },
 "nbformat": 4,
 "nbformat_minor": 1
}
