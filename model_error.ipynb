{
 "cells": [
  {
   "cell_type": "code",
   "execution_count": null,
   "metadata": {
    "collapsed": true
   },
   "outputs": [],
   "source": [
    "import numpy as np\n",
    "from numpy.linalg import inv, solve"
   ]
  },
  {
   "cell_type": "code",
   "execution_count": null,
   "metadata": {},
   "outputs": [],
   "source": [
    "np.random.seed(10)\n",
    "M = 100 # number of training sets\n",
    "N = 500 # number of samples in a training set\n",
    "D = 6 # polynomial order\n",
    "mu_x, mu_e, sigma_x, sigma_e = 1, 0, 1, 1 # distribution parameters\n",
    "beta = np.array([1, 3, 6, 4, 5, 7]) # true coefficients\n",
    "Y, X, E = np.zeros((N, M)), np.zeros((N, M)), np.zeros((N, M)) # response, predictor and error containers"
   ]
  },
  {
   "cell_type": "code",
   "execution_count": null,
   "metadata": {},
   "outputs": [],
   "source": [
    "# Simulate data\n",
    "for j in range(M):\n",
    "    x = np.random.normal(mu_x, sigma_x, N)\n",
    "    e = np.random.normal(mu_e, sigma_e, N)\n",
    "    Y[:, j] = beta[0] * x**0 + beta[1] * x**1 + beta[2] * x**2 + beta[3] * x**3 + beta[4] * x**4 + beta[5] * x**5 + e\n",
    "    X[:, j] = x\n",
    "    E[:, j] = e"
   ]
  },
  {
   "cell_type": "code",
   "execution_count": null,
   "metadata": {},
   "outputs": [],
   "source": [
    "# Fit regressions and calculate statistics\n",
    "Err_in, Err_tr, omega, Cov, C_p = dict(), dict(), dict(), dict(), dict()\n",
    "for d in range(D):\n",
    "    err_tr, err_in = np.zeros(M), np.zeros(M)\n",
    "    Y_hat_d = np.zeros((N, M))\n",
    "    cov_y = np.zeros(N)\n",
    "    for j in range(M):\n",
    "        L_0_j = np.zeros((N, N))\n",
    "        X_j = np.zeros((N, d + 1))\n",
    "        for k in range(X_j.shape[1]):\n",
    "            X_j[:, k] = X[:, j]**k\n",
    "        b_j = np.dot(inv(np.dot(X_j.T, X_j)), np.dot(X_j.T, Y[:, [j]]))\n",
    "        y_hat_j = np.dot(X_j, b_j).flatten()\n",
    "        y_j = Y[:, j]\n",
    "        for i in range(N):\n",
    "            L_0_j[:, i] = (y_j - y_hat_j)**2\n",
    "            y_j = np.concatenate((y_j[1:], y_j[:1]))\n",
    "        err_in[j] = np.mean(np.mean(L_0_j, axis=0))\n",
    "        err_tr[j] = np.mean(L_0_j[:, 0])\n",
    "        Y_hat_d[:, j] = y_hat_j\n",
    "    Err_in[d], Err_tr[d] = np.mean(err_in), np.mean(err_tr)\n",
    "    omega[d] = Err_in[d] - Err_tr[d]\n",
    "    C_p[d] = err_tr[0] + 2 * (d+1) * np.var(Y[:, 0] - Y_hat_d[:, 0]) / float(N)\n",
    "    for i in range(N):\n",
    "        cov_y[i] = np.cov(Y_hat_d[i, :], Y[i, :])[0, 1]\n",
    "    Cov[d] = cov_y"
   ]
  },
  {
   "cell_type": "code",
   "execution_count": null,
   "metadata": {},
   "outputs": [],
   "source": [
    "# Checking equation 7.21\n",
    "print('Checking equation 7.21\\n')\n",
    "for d in range(D):\n",
    "    lhs = omega[d]\n",
    "    rhs = 2 * np.mean(Cov[d])\n",
    "    print('%d parameter(s): lhs = %.2f, rhs = %.2f' %(d+1, lhs, rhs))\n"
   ]
  },
  {
   "cell_type": "code",
   "execution_count": null,
   "metadata": {},
   "outputs": [],
   "source": [
    "# Checking equation 7.26 with effective number of parameters\n",
    "print('\\nChecking equation 7.23 using effective number of parameters\\n')\n",
    "for d in range(D):\n",
    "    lhs = Err_in[d]\n",
    "    rhs = C_p[d]\n",
    "    print('%d parameter(s): lhs = %.2f, rhs = %.2f' %(d+1, lhs, rhs))"
   ]
  }
 ],
 "metadata": {
  "kernelspec": {
   "display_name": "Python 2",
   "language": "python",
   "name": "python2"
  },
  "language_info": {
   "codemirror_mode": {
    "name": "ipython",
    "version": 2
   },
   "file_extension": ".py",
   "mimetype": "text/x-python",
   "name": "python",
   "nbconvert_exporter": "python",
   "pygments_lexer": "ipython2",
   "version": "2.7.6"
  }
 },
 "nbformat": 4,
 "nbformat_minor": 0
}
