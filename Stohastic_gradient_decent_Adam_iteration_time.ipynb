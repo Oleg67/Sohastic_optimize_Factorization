{
 "cells": [
  {
   "cell_type": "markdown",
   "metadata": {},
   "source": [
    "6. Напишите функцию stochastic_gradient_descent, реализующую стохастический градиентный спуск для линейной регрессии. Функция принимает на вход следующие аргументы:\n",
    "\n",
    "•features - матрица, соответствующая обучающей выборке\n",
    "\n",
    "•w_init - вектор начальных весов модели\n",
    "\n",
    "•eta - шаг градиентного спуска (по умолчанию 0.001)\n",
    "\n",
    "•max_iter - максимальное число итераций градиентного спуска (по умолчанию 10000)\n",
    "\n",
    "•max_weight_dist - минимальное евклидово расстояние между векторами весов на соседних итерациях градиентного спуска, при котором алгоритм прекращает работу (по умолчанию 1e-8)\n",
    "\n",
    "•seed - число, используемое для воспроизводимости сгенерированных псевдослучайных чисел (по умолчанию 42)\n",
    "\n",
    "•verbose - флаг печати информации (например, для отладки, по умолчанию False)\n",
    "\n",
    "На каждой итерации в вектор (список) должно записываться текущее значение среднеквадратичной ошибки.\n",
    "\n",
    "Функция должна возвращать вектор весов w, а также вектор (список) ошибок, число итераций\n"
   ]
  },
  {
   "cell_type": "code",
   "execution_count": 1,
   "metadata": {
    "collapsed": true
   },
   "outputs": [],
   "source": [
    "import numpy as np\n",
    "import pandas as pd\n",
    "from time import time\n",
    "\n",
    "from thbmodel.utils import timestamp, YEAR, MONTH,settings\n",
    "from thbmodel.utils.arrayview import ArrayView, TimeseriesView\n",
    "\n",
    "from thbmodel.prediction.models.fit_model import TSModel\n",
    "from thbmodel.prediction.models.model_parameters import ModelParameters\n",
    "from thbmodel.prediction.models.factor_management import FactorList\n",
    "from thbmodel.prediction.models.preprocessing import load_slices\n",
    "\n",
    "from thbmodel.prediction.models.prediction import factornames_trimmed\n",
    "from thbmodel.prediction.models.parameters import factor_build_end"
   ]
  },
  {
   "cell_type": "code",
   "execution_count": 2,
   "metadata": {
    "collapsed": true
   },
   "outputs": [],
   "source": [
    "def softmax(x, axis =1):\n",
    "\n",
    "    v_exp = np.exp(x)\n",
    "    sf = np.divide(v_exp, np.nansum(v_exp, axis =axis).reshape(-1,1))\n",
    "    mask = np.isnan(sf)\n",
    "    if mask.any():\n",
    "        return np.where(mask, 1, sf)\n",
    "    return sf"
   ]
  },
  {
   "cell_type": "code",
   "execution_count": 92,
   "metadata": {
    "collapsed": true
   },
   "outputs": [],
   "source": [
    "def G_step(df_t, winner, t_len, w, verbose=False):\n",
    "    \"\"\" \n",
    "    Gradient step \n",
    "    return gradient \n",
    "    \n",
    "    df <= [n,i,j] 3d tensor of datas (n) event, (i) -horse, (j) factor\n",
    "    winner <=  [n,i] 2d tensor (matrix) (n) event, (i) -horse, value 1 if won event else 0\n",
    "    t_len <= [n] 1d tensor (vector) (n) event, value number of horses in event\n",
    "    w <=  Model's parameters\n",
    "    verbose <=  flaf debaging\n",
    "    \"\"\"\n",
    "    b_size,h,f = df_t.shape\n",
    "    \n",
    "    S = np.einsum('nij, j -> ni', df_t,w)\n",
    "    S = np.where(np.isnan(S), -np.inf, S)\n",
    "    p = softmax(S) \n",
    "    delta = winner - p\n",
    "    \n",
    "    grad_w = np.zeros_like(w)\n",
    "    x = np.where(np.isnan(df_t), 0, df_t)\n",
    "    grad_w = np.einsum('ni, nij -> j', delta, x)\n",
    "      \n",
    "    if verbose:\n",
    "        print 'shape grad_w ',grad_w.shape\n",
    "        print 'grad_w  ',grad_w[:10]\n",
    "            \n",
    "    \n",
    "    return -np.divide(grad_w, b_size)"
   ]
  },
  {
   "cell_type": "code",
   "execution_count": 4,
   "metadata": {
    "collapsed": true
   },
   "outputs": [],
   "source": [
    "def DF_to_tensor(df, features, max_horses =60):\n",
    "    \"\"\"\n",
    "    turn DataFrame to Tensor \n",
    "    where each event is in one matrix \n",
    "    \"\"\"\n",
    "    \n",
    "\n",
    "    length = df.event_id.unique().__len__()\n",
    "    f = len(features)\n",
    "    t_Horses_factors = np.full((length, max_horses, f), np.nan)\n",
    "    t_winner = np.zeros((length, max_horses))\n",
    "    t_length = np.zeros(length)\n",
    "    for  n, (_,df_sub) in enumerate(df.groupby(df['event_id'])):\n",
    "        h = df_sub.loc[:,features].values.shape[0]\n",
    "        t_Horses_factors[n, :h,:] = df_sub.loc[:,features].values\n",
    "        t_winner[n, :h] = (df_sub['result'] ==1).values.astype(int)\n",
    "        t_length[n] = h\n",
    "    \n",
    "    return t_Horses_factors, t_winner, t_length"
   ]
  },
  {
   "cell_type": "code",
   "execution_count": 5,
   "metadata": {
    "collapsed": true
   },
   "outputs": [],
   "source": [
    "av = ArrayView.from_file(settings.paths.join('racing_data_azd.av.bcolz'))\n",
    "tsav = load_slices()"
   ]
  },
  {
   "cell_type": "code",
   "execution_count": 6,
   "metadata": {
    "collapsed": true
   },
   "outputs": [],
   "source": [
    "build_end =float(timestamp('2016-04-01'))\n",
    "oos_start =float(timestamp('2017-05-01'))\n",
    "pars = ModelParameters(av, build_end =build_end, oos_start =oos_start, depth=1, lmbd=10, verbose=False)"
   ]
  },
  {
   "cell_type": "code",
   "execution_count": 7,
   "metadata": {},
   "outputs": [
    {
     "name": "stdout",
     "output_type": "stream",
     "text": [
      "is1_start   2016-04-01 12:40:00.000000\n",
      "is1_end   2017-04-30 16:45:00.000000\n",
      "oos_start   2017-05-01 12:30:00.000000\n",
      "oos_end   2017-08-20 15:00:00.000000\n"
     ]
    }
   ],
   "source": [
    "fl = FactorList.from_av(av, factornames_trimmed)\n",
    "fl.preprocess(pars)\n",
    "factors = fl.asmatrix()\n",
    "print 'is1_start  ',(timestamp(av.start_time[pars.is1][0]))\n",
    "print 'is1_end  ',(timestamp(av.start_time[pars.is1][-1]))\n",
    "print 'oos_start  ',(timestamp(av.start_time[pars.oos][0]))\n",
    "print 'oos_end  ',(timestamp(av.start_time[pars.oos][-1]))"
   ]
  },
  {
   "cell_type": "code",
   "execution_count": 8,
   "metadata": {
    "collapsed": true
   },
   "outputs": [],
   "source": [
    "# создаем дата фрейм из данных \n",
    "def DF(mask, factors, av, factors_names, other_names):\n",
    "    \n",
    "    import pandas as pd\n",
    "    \n",
    "    df = pd.DataFrame(data =factors[:, mask].T , columns = factors_names)\n",
    "    for col in other_names :\n",
    "        \n",
    "        df[col] = av[col][mask]\n",
    "        \n",
    "    return df"
   ]
  },
  {
   "cell_type": "code",
   "execution_count": 9,
   "metadata": {},
   "outputs": [
    {
     "data": {
      "text/html": [
       "<div>\n",
       "<style>\n",
       "    .dataframe thead tr:only-child th {\n",
       "        text-align: right;\n",
       "    }\n",
       "\n",
       "    .dataframe thead th {\n",
       "        text-align: left;\n",
       "    }\n",
       "\n",
       "    .dataframe tbody tr th {\n",
       "        vertical-align: top;\n",
       "    }\n",
       "</style>\n",
       "<table border=\"1\" class=\"dataframe\">\n",
       "  <thead>\n",
       "    <tr style=\"text-align: right;\">\n",
       "      <th></th>\n",
       "      <th>f1</th>\n",
       "      <th>f2</th>\n",
       "      <th>f3</th>\n",
       "      <th>f4</th>\n",
       "      <th>f5</th>\n",
       "      <th>f6</th>\n",
       "      <th>f7</th>\n",
       "      <th>f8</th>\n",
       "      <th>f9</th>\n",
       "      <th>f10</th>\n",
       "      <th>f11</th>\n",
       "      <th>f12</th>\n",
       "      <th>f13</th>\n",
       "      <th>f14</th>\n",
       "      <th>f15</th>\n",
       "      <th>f16</th>\n",
       "      <th>f17</th>\n",
       "      <th>f18</th>\n",
       "      <th>f19</th>\n",
       "      <th>f20</th>\n",
       "      <th>f21</th>\n",
       "      <th>f22</th>\n",
       "      <th>f23</th>\n",
       "      <th>f24</th>\n",
       "      <th>f25</th>\n",
       "      <th>f26</th>\n",
       "      <th>f27</th>\n",
       "      <th>f28</th>\n",
       "      <th>f29</th>\n",
       "      <th>f30</th>\n",
       "      <th>f31</th>\n",
       "      <th>f32</th>\n",
       "      <th>f33</th>\n",
       "      <th>f34</th>\n",
       "      <th>f35</th>\n",
       "      <th>f36</th>\n",
       "      <th>f37</th>\n",
       "      <th>f38</th>\n",
       "      <th>f39</th>\n",
       "      <th>f40</th>\n",
       "      <th>f41</th>\n",
       "      <th>f42</th>\n",
       "      <th>f43</th>\n",
       "      <th>f44</th>\n",
       "      <th>f45</th>\n",
       "      <th>f46</th>\n",
       "      <th>f47</th>\n",
       "      <th>f48</th>\n",
       "      <th>f49</th>\n",
       "      <th>f50</th>\n",
       "      <th>f51</th>\n",
       "      <th>f52</th>\n",
       "      <th>f53</th>\n",
       "      <th>f54</th>\n",
       "      <th>event_id</th>\n",
       "      <th>result</th>\n",
       "      <th>is1</th>\n",
       "      <th>is2</th>\n",
       "      <th>oos</th>\n",
       "    </tr>\n",
       "  </thead>\n",
       "  <tbody>\n",
       "    <tr>\n",
       "      <th>0</th>\n",
       "      <td>0.367198</td>\n",
       "      <td>-2.822814</td>\n",
       "      <td>1.042788</td>\n",
       "      <td>-1.449000</td>\n",
       "      <td>-0.399689</td>\n",
       "      <td>1.519560</td>\n",
       "      <td>1.120796</td>\n",
       "      <td>-0.903438</td>\n",
       "      <td>2.149808</td>\n",
       "      <td>0.454737</td>\n",
       "      <td>0.397418</td>\n",
       "      <td>2.018940</td>\n",
       "      <td>-0.041120</td>\n",
       "      <td>-1.864951</td>\n",
       "      <td>0.903440</td>\n",
       "      <td>-0.595091</td>\n",
       "      <td>-2.351100</td>\n",
       "      <td>0.791641</td>\n",
       "      <td>-0.371619</td>\n",
       "      <td>-0.134965</td>\n",
       "      <td>0.383271</td>\n",
       "      <td>-1.827844</td>\n",
       "      <td>-0.662651</td>\n",
       "      <td>1.423997</td>\n",
       "      <td>0.518412</td>\n",
       "      <td>0.633018</td>\n",
       "      <td>-0.217998</td>\n",
       "      <td>-0.046744</td>\n",
       "      <td>1.832861</td>\n",
       "      <td>0.362147</td>\n",
       "      <td>1.789398</td>\n",
       "      <td>0.713323</td>\n",
       "      <td>0.847637</td>\n",
       "      <td>2.197710</td>\n",
       "      <td>0.333612</td>\n",
       "      <td>0.992382</td>\n",
       "      <td>2.005222</td>\n",
       "      <td>1.745112</td>\n",
       "      <td>-2.169849</td>\n",
       "      <td>0.024419</td>\n",
       "      <td>0.516602</td>\n",
       "      <td>0.838355</td>\n",
       "      <td>-0.231825</td>\n",
       "      <td>0.510499</td>\n",
       "      <td>-0.818574</td>\n",
       "      <td>1.690850</td>\n",
       "      <td>1.153778</td>\n",
       "      <td>0.0</td>\n",
       "      <td>-0.178424</td>\n",
       "      <td>1.606775</td>\n",
       "      <td>1.276101</td>\n",
       "      <td>0.903439</td>\n",
       "      <td>-0.903432</td>\n",
       "      <td>1.539463</td>\n",
       "      <td>307976</td>\n",
       "      <td>4</td>\n",
       "      <td>True</td>\n",
       "      <td>True</td>\n",
       "      <td>False</td>\n",
       "    </tr>\n",
       "    <tr>\n",
       "      <th>1</th>\n",
       "      <td>0.367198</td>\n",
       "      <td>-2.822814</td>\n",
       "      <td>1.146508</td>\n",
       "      <td>-0.950907</td>\n",
       "      <td>0.134657</td>\n",
       "      <td>1.279091</td>\n",
       "      <td>0.709838</td>\n",
       "      <td>0.511180</td>\n",
       "      <td>1.163663</td>\n",
       "      <td>0.554670</td>\n",
       "      <td>0.589283</td>\n",
       "      <td>2.676868</td>\n",
       "      <td>-0.853920</td>\n",
       "      <td>-1.762160</td>\n",
       "      <td>-0.511180</td>\n",
       "      <td>0.355150</td>\n",
       "      <td>0.325790</td>\n",
       "      <td>-0.024739</td>\n",
       "      <td>0.462871</td>\n",
       "      <td>0.297558</td>\n",
       "      <td>1.503070</td>\n",
       "      <td>-1.925740</td>\n",
       "      <td>-0.642401</td>\n",
       "      <td>2.296713</td>\n",
       "      <td>-0.518494</td>\n",
       "      <td>1.678214</td>\n",
       "      <td>-0.325527</td>\n",
       "      <td>0.081803</td>\n",
       "      <td>-0.721549</td>\n",
       "      <td>3.691803</td>\n",
       "      <td>1.126171</td>\n",
       "      <td>1.576948</td>\n",
       "      <td>0.329637</td>\n",
       "      <td>0.138260</td>\n",
       "      <td>1.866920</td>\n",
       "      <td>1.105528</td>\n",
       "      <td>1.685527</td>\n",
       "      <td>1.745112</td>\n",
       "      <td>-1.926777</td>\n",
       "      <td>0.024419</td>\n",
       "      <td>-0.399449</td>\n",
       "      <td>0.838355</td>\n",
       "      <td>1.043211</td>\n",
       "      <td>0.510499</td>\n",
       "      <td>-0.881552</td>\n",
       "      <td>0.215314</td>\n",
       "      <td>0.760771</td>\n",
       "      <td>0.0</td>\n",
       "      <td>-0.103089</td>\n",
       "      <td>1.421764</td>\n",
       "      <td>0.382060</td>\n",
       "      <td>-0.511180</td>\n",
       "      <td>0.511188</td>\n",
       "      <td>-0.341251</td>\n",
       "      <td>307976</td>\n",
       "      <td>1</td>\n",
       "      <td>True</td>\n",
       "      <td>True</td>\n",
       "      <td>False</td>\n",
       "    </tr>\n",
       "    <tr>\n",
       "      <th>2</th>\n",
       "      <td>0.367198</td>\n",
       "      <td>-2.269686</td>\n",
       "      <td>1.109573</td>\n",
       "      <td>1.041469</td>\n",
       "      <td>-1.246235</td>\n",
       "      <td>0.959507</td>\n",
       "      <td>0.533713</td>\n",
       "      <td>-0.834292</td>\n",
       "      <td>2.054531</td>\n",
       "      <td>0.589805</td>\n",
       "      <td>0.781147</td>\n",
       "      <td>-0.425354</td>\n",
       "      <td>-0.308430</td>\n",
       "      <td>-1.495752</td>\n",
       "      <td>0.834292</td>\n",
       "      <td>-0.561211</td>\n",
       "      <td>0.570014</td>\n",
       "      <td>-1.385371</td>\n",
       "      <td>0.230456</td>\n",
       "      <td>0.295614</td>\n",
       "      <td>0.221700</td>\n",
       "      <td>-1.316387</td>\n",
       "      <td>-1.368199</td>\n",
       "      <td>0.486579</td>\n",
       "      <td>1.954420</td>\n",
       "      <td>0.373406</td>\n",
       "      <td>-0.280811</td>\n",
       "      <td>0.210350</td>\n",
       "      <td>0.824291</td>\n",
       "      <td>0.099820</td>\n",
       "      <td>0.924145</td>\n",
       "      <td>0.695130</td>\n",
       "      <td>0.329637</td>\n",
       "      <td>-2.094361</td>\n",
       "      <td>0.463911</td>\n",
       "      <td>1.114437</td>\n",
       "      <td>1.611524</td>\n",
       "      <td>1.745112</td>\n",
       "      <td>-1.271665</td>\n",
       "      <td>-0.100011</td>\n",
       "      <td>-0.118486</td>\n",
       "      <td>-1.065489</td>\n",
       "      <td>-0.231825</td>\n",
       "      <td>0.510499</td>\n",
       "      <td>2.544475</td>\n",
       "      <td>-0.108367</td>\n",
       "      <td>-0.777575</td>\n",
       "      <td>0.0</td>\n",
       "      <td>-0.034824</td>\n",
       "      <td>0.366740</td>\n",
       "      <td>0.442908</td>\n",
       "      <td>0.834292</td>\n",
       "      <td>-0.834286</td>\n",
       "      <td>0.687687</td>\n",
       "      <td>307976</td>\n",
       "      <td>2</td>\n",
       "      <td>True</td>\n",
       "      <td>True</td>\n",
       "      <td>False</td>\n",
       "    </tr>\n",
       "    <tr>\n",
       "      <th>3</th>\n",
       "      <td>0.367198</td>\n",
       "      <td>-2.082636</td>\n",
       "      <td>-0.546706</td>\n",
       "      <td>1.041469</td>\n",
       "      <td>-0.177928</td>\n",
       "      <td>0.807879</td>\n",
       "      <td>1.825297</td>\n",
       "      <td>0.377624</td>\n",
       "      <td>-0.891473</td>\n",
       "      <td>2.359050</td>\n",
       "      <td>0.690858</td>\n",
       "      <td>-1.025506</td>\n",
       "      <td>2.586447</td>\n",
       "      <td>-1.542717</td>\n",
       "      <td>-0.377623</td>\n",
       "      <td>0.483454</td>\n",
       "      <td>0.439499</td>\n",
       "      <td>-1.929624</td>\n",
       "      <td>-0.011781</td>\n",
       "      <td>0.218581</td>\n",
       "      <td>1.028220</td>\n",
       "      <td>-0.193052</td>\n",
       "      <td>-0.390140</td>\n",
       "      <td>-0.525911</td>\n",
       "      <td>0.543346</td>\n",
       "      <td>0.061765</td>\n",
       "      <td>-0.134161</td>\n",
       "      <td>0.210350</td>\n",
       "      <td>-1.481083</td>\n",
       "      <td>-1.201241</td>\n",
       "      <td>-0.343101</td>\n",
       "      <td>-0.052652</td>\n",
       "      <td>-0.188364</td>\n",
       "      <td>0.024540</td>\n",
       "      <td>-0.598031</td>\n",
       "      <td>-0.847758</td>\n",
       "      <td>1.648525</td>\n",
       "      <td>1.745112</td>\n",
       "      <td>-0.854125</td>\n",
       "      <td>-0.057719</td>\n",
       "      <td>-0.967518</td>\n",
       "      <td>-1.950998</td>\n",
       "      <td>-0.231825</td>\n",
       "      <td>0.510499</td>\n",
       "      <td>-0.705213</td>\n",
       "      <td>-0.063721</td>\n",
       "      <td>0.946241</td>\n",
       "      <td>0.0</td>\n",
       "      <td>0.028652</td>\n",
       "      <td>0.979326</td>\n",
       "      <td>3.985849</td>\n",
       "      <td>-0.377623</td>\n",
       "      <td>0.377629</td>\n",
       "      <td>1.750346</td>\n",
       "      <td>307976</td>\n",
       "      <td>5</td>\n",
       "      <td>True</td>\n",
       "      <td>True</td>\n",
       "      <td>False</td>\n",
       "    </tr>\n",
       "    <tr>\n",
       "      <th>4</th>\n",
       "      <td>0.367198</td>\n",
       "      <td>-1.620791</td>\n",
       "      <td>0.904502</td>\n",
       "      <td>1.041469</td>\n",
       "      <td>-0.645139</td>\n",
       "      <td>0.037615</td>\n",
       "      <td>-0.229496</td>\n",
       "      <td>-0.471971</td>\n",
       "      <td>1.330716</td>\n",
       "      <td>1.717160</td>\n",
       "      <td>0.167181</td>\n",
       "      <td>-0.232777</td>\n",
       "      <td>-0.308430</td>\n",
       "      <td>-0.513871</td>\n",
       "      <td>0.471972</td>\n",
       "      <td>-0.296116</td>\n",
       "      <td>0.195127</td>\n",
       "      <td>-1.385371</td>\n",
       "      <td>0.358433</td>\n",
       "      <td>0.311468</td>\n",
       "      <td>1.782793</td>\n",
       "      <td>-1.105682</td>\n",
       "      <td>-0.162607</td>\n",
       "      <td>-0.525911</td>\n",
       "      <td>1.667236</td>\n",
       "      <td>1.301977</td>\n",
       "      <td>-0.517036</td>\n",
       "      <td>0.210350</td>\n",
       "      <td>0.340718</td>\n",
       "      <td>4.356093</td>\n",
       "      <td>0.522335</td>\n",
       "      <td>1.517120</td>\n",
       "      <td>-0.188364</td>\n",
       "      <td>-1.785856</td>\n",
       "      <td>1.200810</td>\n",
       "      <td>0.854792</td>\n",
       "      <td>0.270584</td>\n",
       "      <td>1.745112</td>\n",
       "      <td>-0.640691</td>\n",
       "      <td>0.049978</td>\n",
       "      <td>-0.749274</td>\n",
       "      <td>-0.453683</td>\n",
       "      <td>-0.231825</td>\n",
       "      <td>0.510499</td>\n",
       "      <td>2.587987</td>\n",
       "      <td>-0.043631</td>\n",
       "      <td>1.434019</td>\n",
       "      <td>0.0</td>\n",
       "      <td>-0.145211</td>\n",
       "      <td>1.003482</td>\n",
       "      <td>0.699005</td>\n",
       "      <td>0.471972</td>\n",
       "      <td>-0.471966</td>\n",
       "      <td>0.365180</td>\n",
       "      <td>307976</td>\n",
       "      <td>8</td>\n",
       "      <td>True</td>\n",
       "      <td>True</td>\n",
       "      <td>False</td>\n",
       "    </tr>\n",
       "  </tbody>\n",
       "</table>\n",
       "</div>"
      ],
      "text/plain": [
       "         f1        f2        f3        f4        f5        f6        f7  \\\n",
       "0  0.367198 -2.822814  1.042788 -1.449000 -0.399689  1.519560  1.120796   \n",
       "1  0.367198 -2.822814  1.146508 -0.950907  0.134657  1.279091  0.709838   \n",
       "2  0.367198 -2.269686  1.109573  1.041469 -1.246235  0.959507  0.533713   \n",
       "3  0.367198 -2.082636 -0.546706  1.041469 -0.177928  0.807879  1.825297   \n",
       "4  0.367198 -1.620791  0.904502  1.041469 -0.645139  0.037615 -0.229496   \n",
       "\n",
       "         f8        f9       f10       f11       f12       f13       f14  \\\n",
       "0 -0.903438  2.149808  0.454737  0.397418  2.018940 -0.041120 -1.864951   \n",
       "1  0.511180  1.163663  0.554670  0.589283  2.676868 -0.853920 -1.762160   \n",
       "2 -0.834292  2.054531  0.589805  0.781147 -0.425354 -0.308430 -1.495752   \n",
       "3  0.377624 -0.891473  2.359050  0.690858 -1.025506  2.586447 -1.542717   \n",
       "4 -0.471971  1.330716  1.717160  0.167181 -0.232777 -0.308430 -0.513871   \n",
       "\n",
       "        f15       f16       f17       f18       f19       f20       f21  \\\n",
       "0  0.903440 -0.595091 -2.351100  0.791641 -0.371619 -0.134965  0.383271   \n",
       "1 -0.511180  0.355150  0.325790 -0.024739  0.462871  0.297558  1.503070   \n",
       "2  0.834292 -0.561211  0.570014 -1.385371  0.230456  0.295614  0.221700   \n",
       "3 -0.377623  0.483454  0.439499 -1.929624 -0.011781  0.218581  1.028220   \n",
       "4  0.471972 -0.296116  0.195127 -1.385371  0.358433  0.311468  1.782793   \n",
       "\n",
       "        f22       f23       f24       f25       f26       f27       f28  \\\n",
       "0 -1.827844 -0.662651  1.423997  0.518412  0.633018 -0.217998 -0.046744   \n",
       "1 -1.925740 -0.642401  2.296713 -0.518494  1.678214 -0.325527  0.081803   \n",
       "2 -1.316387 -1.368199  0.486579  1.954420  0.373406 -0.280811  0.210350   \n",
       "3 -0.193052 -0.390140 -0.525911  0.543346  0.061765 -0.134161  0.210350   \n",
       "4 -1.105682 -0.162607 -0.525911  1.667236  1.301977 -0.517036  0.210350   \n",
       "\n",
       "        f29       f30       f31       f32       f33       f34       f35  \\\n",
       "0  1.832861  0.362147  1.789398  0.713323  0.847637  2.197710  0.333612   \n",
       "1 -0.721549  3.691803  1.126171  1.576948  0.329637  0.138260  1.866920   \n",
       "2  0.824291  0.099820  0.924145  0.695130  0.329637 -2.094361  0.463911   \n",
       "3 -1.481083 -1.201241 -0.343101 -0.052652 -0.188364  0.024540 -0.598031   \n",
       "4  0.340718  4.356093  0.522335  1.517120 -0.188364 -1.785856  1.200810   \n",
       "\n",
       "        f36       f37       f38       f39       f40       f41       f42  \\\n",
       "0  0.992382  2.005222  1.745112 -2.169849  0.024419  0.516602  0.838355   \n",
       "1  1.105528  1.685527  1.745112 -1.926777  0.024419 -0.399449  0.838355   \n",
       "2  1.114437  1.611524  1.745112 -1.271665 -0.100011 -0.118486 -1.065489   \n",
       "3 -0.847758  1.648525  1.745112 -0.854125 -0.057719 -0.967518 -1.950998   \n",
       "4  0.854792  0.270584  1.745112 -0.640691  0.049978 -0.749274 -0.453683   \n",
       "\n",
       "        f43       f44       f45       f46       f47  f48       f49       f50  \\\n",
       "0 -0.231825  0.510499 -0.818574  1.690850  1.153778  0.0 -0.178424  1.606775   \n",
       "1  1.043211  0.510499 -0.881552  0.215314  0.760771  0.0 -0.103089  1.421764   \n",
       "2 -0.231825  0.510499  2.544475 -0.108367 -0.777575  0.0 -0.034824  0.366740   \n",
       "3 -0.231825  0.510499 -0.705213 -0.063721  0.946241  0.0  0.028652  0.979326   \n",
       "4 -0.231825  0.510499  2.587987 -0.043631  1.434019  0.0 -0.145211  1.003482   \n",
       "\n",
       "        f51       f52       f53       f54  event_id  result   is1   is2    oos  \n",
       "0  1.276101  0.903439 -0.903432  1.539463    307976       4  True  True  False  \n",
       "1  0.382060 -0.511180  0.511188 -0.341251    307976       1  True  True  False  \n",
       "2  0.442908  0.834292 -0.834286  0.687687    307976       2  True  True  False  \n",
       "3  3.985849 -0.377623  0.377629  1.750346    307976       5  True  True  False  \n",
       "4  0.699005  0.471972 -0.471966  0.365180    307976       8  True  True  False  "
      ]
     },
     "execution_count": 9,
     "metadata": {},
     "output_type": "execute_result"
    }
   ],
   "source": [
    "import pandas as pd\n",
    "pd.set_option('display.max_columns', 90)\n",
    "n,m = factors.shape\n",
    "col_names = ['f{}'.format(i) for i in range(1,n+1)]\n",
    "\n",
    "df = DF (pars.model_mask, factors, av, col_names, ['event_id', 'result'])\n",
    "df['is1'] = pars.is1 [pars.model_mask]\n",
    "df['is2'] = pars.is2 [pars.model_mask]\n",
    "df['oos'] = pars.oos [pars.model_mask]\n",
    "\n",
    "\n",
    "df.head()"
   ]
  },
  {
   "cell_type": "code",
   "execution_count": 10,
   "metadata": {
    "collapsed": true
   },
   "outputs": [],
   "source": [
    "def LL_f (df_t, winner, w):\n",
    "    \n",
    "    S = np.einsum('nij, j -> ni', df_t,w) \n",
    "    S = np.where(np.isnan(S), -np.inf, S)\n",
    "    p = softmax(S)  \n",
    "    LL = np.log(np.einsum('ni, ni -> n', p, winner)).mean()\n",
    "    \n",
    "    return LL"
   ]
  },
  {
   "cell_type": "code",
   "execution_count": 11,
   "metadata": {},
   "outputs": [
    {
     "name": "stdout",
     "output_type": "stream",
     "text": [
      "DataFrame to tensors 25.0801830292\n"
     ]
    }
   ],
   "source": [
    "import time\n",
    "start = time.time()\n",
    "df_train_t, winner_tr_t, t_len_tr = DF_to_tensor(df.loc[df.is1.values,:], col_names)\n",
    "df_test_t, winner_ts_t, t_len_ts = DF_to_tensor(df.loc[df.oos.values,:], col_names)\n",
    "end = time.time()\n",
    "print 'DataFrame to tensors {}'.format(end -start)"
   ]
  },
  {
   "cell_type": "code",
   "execution_count": 12,
   "metadata": {
    "collapsed": true
   },
   "outputs": [],
   "source": [
    "import matplotlib.pyplot as plt\n",
    "%matplotlib inline"
   ]
  },
  {
   "cell_type": "code",
   "execution_count": 98,
   "metadata": {
    "collapsed": true
   },
   "outputs": [],
   "source": [
    "def AdaMax_iter_time(data, features,  w = None, b_size =100, eta=1e-3, \n",
    "                                moment1 = 0.85, moment2 = 0.99, la = 10., N_epoh =10, direction =False,\n",
    "                                eps = 1e-4,  min_weight_dist=1e-3, seed=42, verbose=False):\n",
    "    \"\"\" \n",
    "    градиентный спуск \n",
    "    при каждой итерации проходим все скачки от новых к старым c размером b_size один раз\n",
    "    переходим на следущую итерацию и повторяем проход по скачкам\n",
    "    \n",
    "    data <= табдица с данными содержащая len(features)-столбцов данных, столбец с номерами - event_id, \n",
    "            столбец с результатом - result\n",
    "    features <=  наименование признаков в данных \n",
    "    w <=  начальное приближение для параметров модели\n",
    "    b_size  <=  размер бача\n",
    "    eta <=  шаг обучения\n",
    "    moment1 <=  первый момент\n",
    "    moment2 <=  второй момент\n",
    "    la <=  коффициент регуляризации\n",
    "    max_iter <=  максимальное число итераций\n",
    "    direction <= True if forward False if back\n",
    "    eps <=  почти ноль  \n",
    "    min_weight_dist <=  признак сходимости параметров \n",
    "    seed <=  рандомная константа \n",
    "    verbose <=  флаг отладки\n",
    "    \"\"\"\n",
    "    \n",
    "    # Инициализируем расстояние между векторами весов на соседних\n",
    "    # итерациях большим числом. \n",
    "    weight_dist = np.inf\n",
    "    # Будем порождать псевдослучайные числа \n",
    "    # (номер объекта, который будет менять веса), а для воспроизводимости\n",
    "    # этой последовательности псевдослучайных чисел используем seed.\n",
    "    #np.random.seed(seed)\n",
    "    if w == None:\n",
    "         w = np.random.normal(0, scale =1e-2, size =(len(features)))\n",
    "    \n",
    "    # Step\n",
    "    iter_num = 0\n",
    "    \n",
    "    # last gradient value\n",
    "    last_grad = np.zeros_like(w) \n",
    "    # last gradient's variation value\n",
    "    std_grad = np.zeros_like(w)\n",
    "    # unique events in data set\n",
    "    events_list = np.unique(data['event_id'])\n",
    "    step_max = len (events_list)/b_size\n",
    "    # store of grad changes\n",
    "    grad_norm = np.zeros(N_epoh *step_max +1)\n",
    "    # Main loop\n",
    "    for  i_ep  in range(1, N_epoh+1):\n",
    "                \n",
    "        for step_ in range(1, step_max +1):\n",
    "            \n",
    "            if direction:\n",
    "                r_event = events_list[b_size*(step_): b_size*(step_+1)]\n",
    "            else:\n",
    "                r_event = events_list[-b_size*(step_ +1): -b_size*step_]\n",
    "            df = data.loc[np.in1d(data['event_id'], r_event),:]\n",
    "            \n",
    "            df_t, winner_t, t_len = DF_to_tensor(df, features)\n",
    "            \n",
    "            w_N = w - eta *moment1 *last_grad # for Nesterov momentum\n",
    "            # get gradient with  Nesterov momemtum + L2 regularisation\n",
    "            grad_ = G_step(df_t, winner_t, t_len, w_N, verbose=False) + la * w_N  # gradient and L2\n",
    "            #grad_ = G_step(df_t, winner_t, t_len, w, verbose=False) + la * w  # gradient and L2\n",
    "            last_grad = moment1 * last_grad + (1-moment1) * grad_ # Update weight first moment estimate\n",
    "            # Update weight second moment estimate exponent power infinity\n",
    "            std_grad = np.max(np.vstack((moment2 * std_grad, np.abs(grad_))), axis =0) # Update weight second moment estimate \n",
    "            \n",
    "            t = (i_ep -1)*step_max + step_\n",
    "            last_grad_ = last_grad/(1 - np.power(moment1, t)) # Correct first moment estimate\n",
    "        \n",
    "            w = w - eta *last_grad_/std_grad\n",
    "        \n",
    "            weight_dist = np.linalg.norm(last_grad, ord=2)/len(w)\n",
    "            grad_norm [t] = weight_dist\n",
    "            \n",
    "            if (weight_dist <= min_weight_dist):\n",
    "                print 'SGD covergence', t\n",
    "                break\n",
    "                return w, grad_norm , iter_num*step_\n",
    "        \n",
    "            if verbose:\n",
    "                #print 'w  ', w\n",
    "                print 'iteration', iter_num, 'dist ',weight_dist\n",
    "         \n",
    "            if np.any((w == np.inf ) |(w == -np.inf)):\n",
    "                print \"w overcome\"\n",
    "                break\n",
    "        \n",
    "    return w, grad_norm , t"
   ]
  },
  {
   "cell_type": "code",
   "execution_count": 89,
   "metadata": {
    "collapsed": true
   },
   "outputs": [],
   "source": [
    "def AdaMax_time_step(data, features,  w = None, b_size =100, eta=1e-3, \n",
    "                                moment1 = 0.85, moment2 = 0.99, la = 10., max_iter =10,\n",
    "                                eps = 1e-4,  min_weight_dist=1e-3, seed=42, verbose=False):\n",
    "    \"\"\" \n",
    "    градиентный спуск \n",
    "    берем b_size скачек более новых и делаем с ними max_iter итераций \n",
    "    затем следующие b_size скачек старее и делаем с ними max_iter итераций\n",
    "    пока на переберем все скачки\n",
    "    \n",
    "    data <= табдица с данными содержащая len(features)-столбцов данных, столбец с номерами - event_id, \n",
    "            столбец с результатом - result\n",
    "    features <=  наименование признаков в данных \n",
    "    w <=  начальное приближение для параметров модели\n",
    "    b_size  <=  размер бача\n",
    "    eta <=  шаг обучения\n",
    "    moment1 <=  первый момент\n",
    "    moment2 <=  второй момент\n",
    "    la <=  коффициент регуляризации\n",
    "    max_iter <=  максимальное число итераций\n",
    "    eps <=  почти ноль  \n",
    "    min_weight_dist <=  признак сходимости параметров \n",
    "    seed <=  рандомная константа \n",
    "    verbose <=  флаг отладки\n",
    "    \"\"\"\n",
    "\n",
    "    \n",
    "    # Инициализируем расстояние между векторами весов на соседних\n",
    "    # итерациях большим числом. \n",
    "    weight_dist = np.inf\n",
    "    # для воспроизводимости\n",
    "    # этой последовательности псевдослучайных чисел используем seed.\n",
    "    #np.random.seed(seed)\n",
    "    if w == None:\n",
    "        w = np.random.normal(0, scale =1e-2, size =(len(features)))\n",
    "    \n",
    "    # Step\n",
    "    step_ = 0\n",
    "    \n",
    "    # last gradient value\n",
    "    last_grad = np.zeros_like(w) \n",
    "    # last gradient's variation value\n",
    "    std_grad = np.zeros_like(w)\n",
    "    # unique events in data set\n",
    "    events_list = np.unique(data['event_id'])\n",
    "    step_max = len (events_list)/b_size\n",
    "    # store of grad changes\n",
    "    grad_norm = np.zeros(max_iter *step_max +1)\n",
    "    # Main loop\n",
    "    for step_ in range (1, step_max +1):\n",
    "        \n",
    "        r_event = events_list[-b_size*(step_ +1): -b_size*step_]\n",
    "        df = data.loc[np.in1d(data['event_id'], r_event),:]\n",
    "        \n",
    "        df_t, winner_t, t_len = DF_to_tensor(df, features)\n",
    "        for iter_num  in range(1, max_iter +1):\n",
    "            \n",
    "            w_N = w - eta *moment1 *last_grad # for Nesterov momentum\n",
    "            # get gradient with  Nesterov momemtum + L2 regularisation\n",
    "            grad_ = G_step(df_t, winner_t, t_len, w_N, verbose=False) + la * w_N  # gradient and L2 \n",
    "            #grad_ = G_step(df_t, winner_t, t_len, w, verbose=False) + la * w  # gradient and L2 \n",
    "            last_grad = moment1 * last_grad + (1-moment1) * grad_ # Update weight first moment estimate\n",
    "            # Update weight second moment estimate expanent power infinity\n",
    "            std_grad = np.max(np.vstack((moment2 * std_grad, np.abs(grad_))), axis =0) # Update weight second moment estimate \n",
    "        \n",
    "            t = max_iter *(step_-1) + iter_num\n",
    "            last_grad_ = last_grad/(1 - np.power(moment1, t)) # Correct first moment estimate\n",
    "        \n",
    "            w = w - eta *last_grad_/std_grad\n",
    "        \n",
    "            weight_dist = np.linalg.norm(last_grad, ord=2)/len(w)\n",
    "            grad_norm [t]   = weight_dist\n",
    "            \n",
    "        if (weight_dist <= min_weight_dist):\n",
    "            print 'SGD covergence', t\n",
    "            break\n",
    "            return w, grad_norm , iter_num*step_\n",
    "        \n",
    "        if verbose:\n",
    "            #print 'w  ', w\n",
    "            print 'iteration', iter_num, 'dist ',weight_dist\n",
    "        \n",
    "        if np.any(w == np.nan):\n",
    "            print \"w overcome\"\n",
    "            break\n",
    "        \n",
    "    return w, grad_norm , t"
   ]
  },
  {
   "cell_type": "code",
   "execution_count": 14,
   "metadata": {},
   "outputs": [
    {
     "name": "stdout",
     "output_type": "stream",
     "text": [
      "steps   138\n"
     ]
    }
   ],
   "source": [
    "events_list = np.unique(df.loc[df.is1.values,'event_id'])\n",
    "print 'steps  ', len(events_list)/100"
   ]
  },
  {
   "cell_type": "code",
   "execution_count": 80,
   "metadata": {},
   "outputs": [
    {
     "name": "stdout",
     "output_type": "stream",
     "text": [
      "SGD covergence 1\n",
      "Time taken to stohastic gradient 189.272979975\n"
     ]
    }
   ],
   "source": [
    "import time\n",
    "start = time.time()\n",
    "\n",
    "SGD3_b = AdaMax_iter_time(df.loc[df.is1.values,:], col_names, b_size =100, eta = 1e-3, moment1 = 0.97, \\\n",
    "                                         moment2 =0.999,  la = 3, N_epoh =10, verbose=False)\n",
    "\n",
    "end = time.time()\n",
    "print 'Time taken to stohastic gradient {}'.format(end - start)"
   ]
  },
  {
   "cell_type": "code",
   "execution_count": 99,
   "metadata": {},
   "outputs": [
    {
     "name": "stdout",
     "output_type": "stream",
     "text": [
      "SGD covergence 1\n",
      "Time taken to stohastic gradient 189.271154165\n"
     ]
    }
   ],
   "source": [
    "import time\n",
    "start = time.time()\n",
    "\n",
    "SGD3_f = AdaMax_iter_time(df.loc[df.is1.values,:], col_names, b_size =100, eta = 1e-3, moment1 = 0.97, \\\n",
    "                                         moment2 =0.99,  la = 3, N_epoh =10, direction =True, verbose=False)\n",
    "\n",
    "end = time.time()\n",
    "print 'Time taken to stohastic gradient {}'.format(end - start)"
   ]
  },
  {
   "cell_type": "code",
   "execution_count": 33,
   "metadata": {},
   "outputs": [
    {
     "name": "stdout",
     "output_type": "stream",
     "text": [
      "steps   13\n"
     ]
    }
   ],
   "source": [
    "events_list = np.unique(df.loc[df.is1.values,'event_id'])\n",
    "print 'steps  ', len(events_list)/1000"
   ]
  },
  {
   "cell_type": "code",
   "execution_count": 93,
   "metadata": {},
   "outputs": [
    {
     "name": "stdout",
     "output_type": "stream",
     "text": [
      "SGD covergence 200\n",
      "Time taken to stohastic gradient 4.95324110985\n"
     ]
    }
   ],
   "source": [
    "import time\n",
    "start = time.time()\n",
    "\n",
    "SGD4 = AdaMax_time_step(df.loc[df.is1.values,:], col_names, b_size =1000, eta = 1e-3, moment1 = 0.97, \\\n",
    "                                         moment2 =0.99,  la = 3, max_iter =100, verbose=False)\n",
    "\n",
    "end = time.time()\n",
    "print 'Time taken to stohastic gradient {}'.format(end - start)"
   ]
  },
  {
   "cell_type": "code",
   "execution_count": 94,
   "metadata": {},
   "outputs": [
    {
     "data": {
      "image/png": "[encoded data removed]",
      "text/plain": [
       "<matplotlib.figure.Figure at 0x7f6c4f859f50>"
      ]
     },
     "metadata": {},
     "output_type": "display_data"
    },
    {
     "name": "stdout",
     "output_type": "stream",
     "text": [
      "0.0021720573149\n",
      "0.00218593994445\n",
      "0.000673650366468\n"
     ]
    }
   ],
   "source": [
    "plt.figure(figsize=(20, 10))\n",
    "plt.plot(SGD3_b[1], label ='iereation_time_back')\n",
    "plt.plot(SGD3_f[1], label ='iereation_time_forward')\n",
    "plt.plot(SGD4[1], label ='time_step')\n",
    "plt.legend()\n",
    "plt.show()\n",
    "print SGD3_b[1][SGD3[1]> 0][-1]\n",
    "print SGD3_f[1][SGD3[1]> 0][-1]\n",
    "print SGD4[1][SGD4[1]> 0][-1]"
   ]
  },
  {
   "cell_type": "code",
   "execution_count": 82,
   "metadata": {},
   "outputs": [
    {
     "name": "stdout",
     "output_type": "stream",
     "text": [
      "count ll for train data 0.0404031276703 by Adam_iter_time\n",
      "-1.98821083812\n"
     ]
    }
   ],
   "source": [
    "w0 = SGD3_f[0] # return to original shape\n",
    "start = time.time()\n",
    "likelihood = LL_f (df_train_t, winner_tr_t, w0)\n",
    "end = time.time()\n",
    "print 'count ll for train data {} by Adam_iter_time'.format(end -start)\n",
    "print likelihood"
   ]
  },
  {
   "cell_type": "code",
   "execution_count": 83,
   "metadata": {},
   "outputs": [
    {
     "name": "stdout",
     "output_type": "stream",
     "text": [
      "count ll for train data 0.0460569858551 by Adam_iter_time\n",
      "-1.9961506347\n"
     ]
    }
   ],
   "source": [
    "w0 = SGD3_b[0] # return to original shape\n",
    "start = time.time()\n",
    "likelihood = LL_f (df_train_t, winner_tr_t, w0)\n",
    "end = time.time()\n",
    "print 'count ll for train data {} by Adam_iter_time'.format(end -start)\n",
    "print likelihood"
   ]
  },
  {
   "cell_type": "code",
   "execution_count": 84,
   "metadata": {},
   "outputs": [
    {
     "name": "stdout",
     "output_type": "stream",
     "text": [
      "count ll for train data 0.0498261451721 by Adam_time_step\n",
      "-1.99495426658\n"
     ]
    }
   ],
   "source": [
    "w0 = SGD4[0] # return to original shape\n",
    "start = time.time()\n",
    "likelihood = LL_f (df_train_t, winner_tr_t, w0)\n",
    "end = time.time()\n",
    "print 'count ll for train data {} by Adam_time_step'.format(end -start)\n",
    "print likelihood"
   ]
  },
  {
   "cell_type": "code",
   "execution_count": 85,
   "metadata": {},
   "outputs": [
    {
     "name": "stdout",
     "output_type": "stream",
     "text": [
      "count ll for test data 0.0139899253845 by Adam_iter_time\n",
      "-1.99849806695\n"
     ]
    }
   ],
   "source": [
    "w0 = SGD3_f[0] # return to original shape\n",
    "start = time.time()\n",
    "likelihood = LL_f (df_test_t, winner_ts_t, w0)\n",
    "end = time.time()\n",
    "print 'count ll for test data {} by Adam_iter_time'.format(end -start)\n",
    "print likelihood"
   ]
  },
  {
   "cell_type": "code",
   "execution_count": 86,
   "metadata": {},
   "outputs": [
    {
     "name": "stdout",
     "output_type": "stream",
     "text": [
      "count ll for test data 0.0290970802307 by Adam_iter_time\n",
      "-2.00551363843\n"
     ]
    }
   ],
   "source": [
    "w0 = SGD3_b[0] # return to original shape\n",
    "start = time.time()\n",
    "likelihood = LL_f (df_test_t, winner_ts_t, w0)\n",
    "end = time.time()\n",
    "print 'count ll for test data {} by Adam_iter_time'.format(end -start)\n",
    "print likelihood"
   ]
  },
  {
   "cell_type": "code",
   "execution_count": 87,
   "metadata": {},
   "outputs": [
    {
     "name": "stdout",
     "output_type": "stream",
     "text": [
      "count ll for test data 0.0274538993835 by Adam_time_step\n",
      "-2.00409685347\n"
     ]
    }
   ],
   "source": [
    "w0 = SGD4[0] # return to original shape\n",
    "start = time.time()\n",
    "likelihood = LL_f (df_test_t, winner_ts_t, w0)\n",
    "end = time.time()\n",
    "print 'count ll for test data {} by Adam_time_step'.format(end -start)\n",
    "print likelihood"
   ]
  },
  {
   "cell_type": "code",
   "execution_count": 36,
   "metadata": {},
   "outputs": [
    {
     "name": "stdout",
     "output_type": "stream",
     "text": [
      "train   -2.02427213499\n",
      "test   -2.02850240438\n",
      "train   -2.01594138785\n",
      "test   -2.02236116846\n",
      "train   -2.02133836841\n",
      "test   -2.02840198534\n",
      "train   -2.04109180742\n",
      "test   -2.04337431746\n",
      "train   -2.02385636721\n",
      "test   -2.03031722461\n",
      "train   -2.0261073981\n",
      "test   -2.03530076029\n",
      "train   -2.03223450265\n",
      "test   -2.03733933133\n",
      "train   -2.02455212414\n",
      "test   -2.03231205185\n",
      "train   -2.01761160293\n",
      "test   -2.02539962818\n",
      "train   -2.0218015718\n",
      "test   -2.02765410657\n"
     ]
    }
   ],
   "source": [
    "for i in range(10):\n",
    "    \n",
    "    W1 = np.random.normal(loc =w0, scale =1e-2, size =(len(col_names)))\n",
    "    print 'train  ',LL_f (df_train_t, winner_tr_t, W1)\n",
    "    print 'test  ',LL_f (df_test_t, winner_ts_t, W1)"
   ]
  },
  {
   "cell_type": "code",
   "execution_count": null,
   "metadata": {
    "collapsed": true
   },
   "outputs": [],
   "source": []
  },
  {
   "cell_type": "code",
   "execution_count": null,
   "metadata": {
    "collapsed": true
   },
   "outputs": [],
   "source": []
  }
 ],
 "metadata": {
  "anaconda-cloud": {},
  "kernelspec": {
   "display_name": "Python 2",
   "language": "python",
   "name": "python2"
  },
  "language_info": {
   "codemirror_mode": {
    "name": "ipython",
    "version": 2
   },
   "file_extension": ".py",
   "mimetype": "text/x-python",
   "name": "python",
   "nbconvert_exporter": "python",
   "pygments_lexer": "ipython2",
   "version": "2.7.13"
  }
 },
 "nbformat": 4,
 "nbformat_minor": 1
}
