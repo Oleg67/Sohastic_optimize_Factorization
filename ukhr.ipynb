{
 "cells": [
  {
   "cell_type": "code",
   "execution_count": 1,
   "metadata": {
    "collapsed": true
   },
   "outputs": [],
   "source": [
    "import numpy as np\n",
    "import pandas as pd\n",
    "import matplotlib.pyplot as plt\n",
    "\n",
    "from utils import timestamp, YEAR\n",
    "from utils.arrayview import ArrayView, TimeseriesView\n",
    "\n",
    "from prediction.models.fit_model import TSModel\n",
    "from prediction.models.model_parameters import ModelParameters\n",
    "from prediction.models.factor_management import FactorList\n",
    "from prediction.models.preprocessing import load_slices, print_factor_order\n",
    "\n",
    "from prediction.models.prediction import factornames_trimmed\n",
    "from prediction.models.parameters import factor_build_end\n",
    "from prediction.tools.plotting import varinfo\n",
    "from os import listdir"
   ]
  },
  {
   "cell_type": "code",
   "execution_count": 2,
   "metadata": {
    "collapsed": true
   },
   "outputs": [],
   "source": [
    "av = ArrayView.from_file('../datadev/brain_final2cut.av.bcolz')\n",
    "tsav = load_slices(path='../datadev/')"
   ]
  },
  {
   "cell_type": "code",
   "execution_count": 3,
   "metadata": {
    "collapsed": true
   },
   "outputs": [],
   "source": [
    "# Take absolute value\n",
    "take_abs = ['DistanceLast', 'Speed', 'RacesSincePreviousTrainerWin', 'DaysSinceLastRun', \n",
    "            'Race2RunsAgoRaceClass', 'Race1RunAgoRaceClass', 'Race4RunsAgo', 'Race5RunsAgo', \n",
    "            'Race3RunsAgoRaceClass', 'Race2RunsAgo', 'Race5RunsAgoRaceClass', 'Race3RunsAgo']"
   ]
  },
  {
   "cell_type": "code",
   "execution_count": 4,
   "metadata": {
    "collapsed": true
   },
   "outputs": [],
   "source": [
    "# Select new factors\n",
    "fpath = \"../ukhr_factors/\"\n",
    "pcnt = 0.5\n",
    "newfactors_chunk1 = np.load(fpath + 'newfactors_ordered_chunk1.npy').tolist()\n",
    "sel_chunk1 = newfactors_chunk1[: int(round(pcnt*len(newfactors_chunk1)))]\n",
    "newfactors_chunk2 = np.load(fpath + 'newfactors_ordered_chunk2.npy').tolist()\n",
    "sel_chunk2 = newfactors_chunk2[: int(round(pcnt*len(newfactors_chunk2)))]\n",
    "newfactors_chunk3 = np.load(fpath + 'newfactors_ordered_chunk3.npy').tolist()\n",
    "sel_chunk3 = newfactors_chunk3[: int(round(pcnt*len(newfactors_chunk3)))]\n",
    "newfactors_chunk4 = np.load(fpath + 'newfactors_ordered_chunk4.npy').tolist()\n",
    "sel_chunk4 = newfactors_chunk4[: int(round(pcnt*len(newfactors_chunk4)))]\n",
    "newfactors_chunk5 = np.load(fpath + 'newfactors_ordered_chunk5.npy').tolist()\n",
    "sel_chunk5 = newfactors_chunk5[: int(round(pcnt*len(newfactors_chunk5)))]\n",
    "newfactors_chunk6 = np.load(fpath + 'newfactors_ordered_chunk6.npy').tolist()\n",
    "sel_chunk6 = newfactors_chunk6[: int(round(pcnt*len(newfactors_chunk6)))]\n",
    "newfactors_chunk7 = np.load(fpath + 'newfactors_ordered_chunk7.npy').tolist()\n",
    "sel_chunk7 = newfactors_chunk7[: int(round(pcnt*len(newfactors_chunk7)))]\n",
    "newfactors_chunk8 = np.load(fpath + 'newfactors_ordered_chunk8.npy').tolist()\n",
    "sel_chunk8 = newfactors_chunk8[: int(round(pcnt*len(newfactors_chunk8)))]\n",
    "newfactors = sel_chunk1 + sel_chunk2 + sel_chunk3 + sel_chunk4 + sel_chunk5 + \\\n",
    "             sel_chunk6 + sel_chunk7 + sel_chunk8\n"
   ]
  },
  {
   "cell_type": "code",
   "execution_count": 5,
   "metadata": {},
   "outputs": [],
   "source": [
    "rem = ['NumberOfResults', 'KouldsScore_Distance20pc_Sire', 'LastTimeTrainerChange', \n",
    "       'LastTimeDistanceChange', 'RecentWins']"
   ]
  },
  {
   "cell_type": "code",
   "execution_count": 6,
   "metadata": {
    "collapsed": true
   },
   "outputs": [],
   "source": [
    "# Add new factors\n",
    "for f in newfactors:\n",
    "    if f in rem:\n",
    "        continue\n",
    "    arr = pd.read_csv(fpath + f + '.csv', header=None).values.flatten()\n",
    "    arr[arr == 0] = np.nan\n",
    "    arr[arr == 999] = np.nan\n",
    "    if f in take_abs:\n",
    "        arr = np.abs(arr)\n",
    "    av[f] = arr\n",
    "    factornames_trimmed += [f]\n",
    "    pars = ModelParameters(av, oos_start=factor_build_end+YEAR, depth=3, lmbd=10, verbose=True)\n",
    "    fl = FactorList(av, factornames_trimmed)\n",
    "    factors = fl.asmatrix()\n",
    "    missing = np.isnan(factors)\n",
    "    allgood = ~np.any(missing, axis=0) & pars.build_mask\n",
    "    if ~np.any(allgood):\n",
    "        del av[f]\n",
    "        factornames_trimmed.remove(f)\n",
    "        newfactors.remove(f)"
   ]
  },
  {
   "cell_type": "code",
   "execution_count": 7,
   "metadata": {
    "collapsed": true
   },
   "outputs": [
    {
     "name": "stderr",
     "output_type": "stream",
     "text": [
      "INFO:models:Getting factors from av and rescaling...\n"
     ]
    },
    {
     "name": "stdout",
     "output_type": "stream",
     "text": [
      "."
     ]
    },
    {
     "name": "stdout",
     "output_type": "stream",
     "text": [
      " ."
     ]
    },
    {
     "name": "stdout",
     "output_type": "stream",
     "text": [
      " ."
     ]
    },
    {
     "name": "stdout",
     "output_type": "stream",
     "text": [
      " ."
     ]
    },
    {
     "name": "stdout",
     "output_type": "stream",
     "text": [
      " ."
     ]
    },
    {
     "name": "stdout",
     "output_type": "stream",
     "text": [
      " ."
     ]
    },
    {
     "name": "stdout",
     "output_type": "stream",
     "text": [
      " ."
     ]
    },
    {
     "name": "stdout",
     "output_type": "stream",
     "text": [
      " ."
     ]
    },
    {
     "name": "stdout",
     "output_type": "stream",
     "text": [
      " ."
     ]
    },
    {
     "name": "stdout",
     "output_type": "stream",
     "text": [
      " ."
     ]
    },
    {
     "name": "stdout",
     "output_type": "stream",
     "text": [
      " 100\n"
     ]
    },
    {
     "name": "stdout",
     "output_type": "stream",
     "text": [
      "."
     ]
    },
    {
     "name": "stdout",
     "output_type": "stream",
     "text": [
      " ."
     ]
    },
    {
     "name": "stdout",
     "output_type": "stream",
     "text": [
      " ."
     ]
    },
    {
     "name": "stdout",
     "output_type": "stream",
     "text": [
      " ."
     ]
    },
    {
     "name": "stdout",
     "output_type": "stream",
     "text": [
      " ."
     ]
    },
    {
     "name": "stdout",
     "output_type": "stream",
     "text": [
      " ."
     ]
    },
    {
     "name": "stdout",
     "output_type": "stream",
     "text": [
      " ."
     ]
    },
    {
     "name": "stdout",
     "output_type": "stream",
     "text": [
      " ."
     ]
    },
    {
     "name": "stdout",
     "output_type": "stream",
     "text": [
      " ."
     ]
    },
    {
     "name": "stdout",
     "output_type": "stream",
     "text": [
      " ."
     ]
    },
    {
     "name": "stderr",
     "output_type": "stream",
     "text": [
      "INFO:models:Filling in missing values...\n"
     ]
    },
    {
     "name": "stderr",
     "output_type": "stream",
     "text": [
      "INFO:models:Computing each factor as linear combination of all the others...\n"
     ]
    },
    {
     "name": "stdout",
     "output_type": "stream",
     "text": [
      " 200\n"
     ]
    },
    {
     "name": "stderr",
     "output_type": "stream",
     "text": [
      "utils/math.py:270: RuntimeWarning: divide by zero encountered in double_scalars\n  out.B = 1 - np.sum((y1 - x1.dot(out.b)) ** 2) / np.sum((y1 - np.mean(y1)) ** 2)\nutils/math.py:274: RuntimeWarning: invalid value encountered in sqrt\n  out.t = out.b / np.sqrt(out.sb2)\nutils/math.py:274: RuntimeWarning: invalid value encountered in true_divide\n  out.t = out.b / np.sqrt(out.sb2)\n/home/dinko/anaconda2/lib/python2.7/site-packages/scipy/stats/_distn_infrastructure.py:875: RuntimeWarning: invalid value encountered in greater\n  return (self.a < x) & (x < self.b)\n/home/dinko/anaconda2/lib/python2.7/site-packages/scipy/stats/_distn_infrastructure.py:875: RuntimeWarning: invalid value encountered in less\n  return (self.a < x) & (x < self.b)\n/home/dinko/anaconda2/lib/python2.7/site-packages/scipy/stats/_distn_infrastructure.py:1731: RuntimeWarning: invalid value encountered in greater_equal\n  cond2 = (x >= self.b) & cond0\n"
     ]
    },
    {
     "name": "stdout",
     "output_type": "stream",
     "text": [
      "."
     ]
    },
    {
     "name": "stdout",
     "output_type": "stream",
     "text": [
      " ."
     ]
    },
    {
     "name": "stdout",
     "output_type": "stream",
     "text": [
      " ."
     ]
    },
    {
     "name": "stdout",
     "output_type": "stream",
     "text": [
      " ."
     ]
    },
    {
     "name": "stdout",
     "output_type": "stream",
     "text": [
      " ."
     ]
    },
    {
     "name": "stdout",
     "output_type": "stream",
     "text": [
      " ."
     ]
    },
    {
     "name": "stdout",
     "output_type": "stream",
     "text": [
      " ."
     ]
    },
    {
     "name": "stdout",
     "output_type": "stream",
     "text": [
      " ."
     ]
    },
    {
     "name": "stdout",
     "output_type": "stream",
     "text": [
      " ."
     ]
    },
    {
     "name": "stdout",
     "output_type": "stream",
     "text": [
      " ."
     ]
    },
    {
     "name": "stdout",
     "output_type": "stream",
     "text": [
      " 100\n"
     ]
    },
    {
     "name": "stdout",
     "output_type": "stream",
     "text": [
      "."
     ]
    },
    {
     "name": "stdout",
     "output_type": "stream",
     "text": [
      " ."
     ]
    },
    {
     "name": "stdout",
     "output_type": "stream",
     "text": [
      " ."
     ]
    },
    {
     "name": "stdout",
     "output_type": "stream",
     "text": [
      " ."
     ]
    },
    {
     "name": "stdout",
     "output_type": "stream",
     "text": [
      " ."
     ]
    },
    {
     "name": "stdout",
     "output_type": "stream",
     "text": [
      " ."
     ]
    },
    {
     "name": "stdout",
     "output_type": "stream",
     "text": [
      " ."
     ]
    },
    {
     "name": "stderr",
     "output_type": "stream",
     "text": [
      "utils/math.py:270: RuntimeWarning: invalid value encountered in double_scalars\n  out.B = 1 - np.sum((y1 - x1.dot(out.b)) ** 2) / np.sum((y1 - np.mean(y1)) ** 2)\n"
     ]
    },
    {
     "name": "stdout",
     "output_type": "stream",
     "text": [
      " ."
     ]
    },
    {
     "name": "stdout",
     "output_type": "stream",
     "text": [
      " ."
     ]
    },
    {
     "name": "stdout",
     "output_type": "stream",
     "text": [
      " ."
     ]
    },
    {
     "name": "stdout",
     "output_type": "stream",
     "text": [
      " 200\n"
     ]
    },
    {
     "name": "stderr",
     "output_type": "stream",
     "text": [
      "INFO:models:Number of missing patterns: 171364\n"
     ]
    },
    {
     "name": "stdout",
     "output_type": "stream",
     "text": [
      "."
     ]
    },
    {
     "name": "stdout",
     "output_type": "stream",
     "text": [
      " ."
     ]
    },
    {
     "name": "stdout",
     "output_type": "stream",
     "text": [
      " ."
     ]
    },
    {
     "name": "stdout",
     "output_type": "stream",
     "text": [
      " ."
     ]
    },
    {
     "name": "stdout",
     "output_type": "stream",
     "text": [
      " "
     ]
    },
    {
     "name": "stdout",
     "output_type": "stream",
     "text": [
      "."
     ]
    },
    {
     "name": "stdout",
     "output_type": "stream",
     "text": [
      " ."
     ]
    },
    {
     "name": "stdout",
     "output_type": "stream",
     "text": [
      " ."
     ]
    },
    {
     "name": "stdout",
     "output_type": "stream",
     "text": [
      " ."
     ]
    },
    {
     "name": "stdout",
     "output_type": "stream",
     "text": [
      " ."
     ]
    },
    {
     "name": "stdout",
     "output_type": "stream",
     "text": [
      " ."
     ]
    },
    {
     "name": "stdout",
     "output_type": "stream",
     "text": [
      " 10000\n"
     ]
    },
    {
     "name": "stdout",
     "output_type": "stream",
     "text": [
      "."
     ]
    },
    {
     "name": "stdout",
     "output_type": "stream",
     "text": [
      " ."
     ]
    },
    {
     "name": "stdout",
     "output_type": "stream",
     "text": [
      " ."
     ]
    },
    {
     "name": "stdout",
     "output_type": "stream",
     "text": [
      " ."
     ]
    },
    {
     "name": "stdout",
     "output_type": "stream",
     "text": [
      " ."
     ]
    },
    {
     "name": "stdout",
     "output_type": "stream",
     "text": [
      " ."
     ]
    },
    {
     "name": "stdout",
     "output_type": "stream",
     "text": [
      " ."
     ]
    },
    {
     "name": "stdout",
     "output_type": "stream",
     "text": [
      " ."
     ]
    },
    {
     "name": "stdout",
     "output_type": "stream",
     "text": [
      " ."
     ]
    },
    {
     "name": "stdout",
     "output_type": "stream",
     "text": [
      " ."
     ]
    },
    {
     "name": "stdout",
     "output_type": "stream",
     "text": [
      " 20000\n"
     ]
    },
    {
     "name": "stdout",
     "output_type": "stream",
     "text": [
      "."
     ]
    },
    {
     "name": "stdout",
     "output_type": "stream",
     "text": [
      " ."
     ]
    },
    {
     "name": "stdout",
     "output_type": "stream",
     "text": [
      " ."
     ]
    },
    {
     "name": "stdout",
     "output_type": "stream",
     "text": [
      " ."
     ]
    },
    {
     "name": "stdout",
     "output_type": "stream",
     "text": [
      " ."
     ]
    },
    {
     "name": "stdout",
     "output_type": "stream",
     "text": [
      " ."
     ]
    },
    {
     "name": "stdout",
     "output_type": "stream",
     "text": [
      " ."
     ]
    },
    {
     "name": "stdout",
     "output_type": "stream",
     "text": [
      " ."
     ]
    },
    {
     "name": "stdout",
     "output_type": "stream",
     "text": [
      " ."
     ]
    },
    {
     "name": "stdout",
     "output_type": "stream",
     "text": [
      " ."
     ]
    },
    {
     "name": "stdout",
     "output_type": "stream",
     "text": [
      " 30000\n"
     ]
    },
    {
     "name": "stdout",
     "output_type": "stream",
     "text": [
      "."
     ]
    },
    {
     "name": "stdout",
     "output_type": "stream",
     "text": [
      " ."
     ]
    },
    {
     "name": "stdout",
     "output_type": "stream",
     "text": [
      " ."
     ]
    },
    {
     "name": "stdout",
     "output_type": "stream",
     "text": [
      " ."
     ]
    },
    {
     "name": "stdout",
     "output_type": "stream",
     "text": [
      " ."
     ]
    },
    {
     "name": "stdout",
     "output_type": "stream",
     "text": [
      " ."
     ]
    },
    {
     "name": "stdout",
     "output_type": "stream",
     "text": [
      " ."
     ]
    },
    {
     "name": "stdout",
     "output_type": "stream",
     "text": [
      " ."
     ]
    },
    {
     "name": "stdout",
     "output_type": "stream",
     "text": [
      " ."
     ]
    },
    {
     "name": "stdout",
     "output_type": "stream",
     "text": [
      " ."
     ]
    },
    {
     "name": "stdout",
     "output_type": "stream",
     "text": [
      " 40000\n"
     ]
    },
    {
     "name": "stdout",
     "output_type": "stream",
     "text": [
      "."
     ]
    },
    {
     "name": "stdout",
     "output_type": "stream",
     "text": [
      " ."
     ]
    },
    {
     "name": "stdout",
     "output_type": "stream",
     "text": [
      " ."
     ]
    },
    {
     "name": "stdout",
     "output_type": "stream",
     "text": [
      " ."
     ]
    },
    {
     "name": "stdout",
     "output_type": "stream",
     "text": [
      " ."
     ]
    },
    {
     "name": "stdout",
     "output_type": "stream",
     "text": [
      " ."
     ]
    },
    {
     "name": "stdout",
     "output_type": "stream",
     "text": [
      " ."
     ]
    },
    {
     "name": "stdout",
     "output_type": "stream",
     "text": [
      " ."
     ]
    },
    {
     "name": "stdout",
     "output_type": "stream",
     "text": [
      " ."
     ]
    },
    {
     "name": "stdout",
     "output_type": "stream",
     "text": [
      " ."
     ]
    },
    {
     "name": "stdout",
     "output_type": "stream",
     "text": [
      " 50000\n"
     ]
    },
    {
     "name": "stdout",
     "output_type": "stream",
     "text": [
      "."
     ]
    },
    {
     "name": "stdout",
     "output_type": "stream",
     "text": [
      " ."
     ]
    },
    {
     "name": "stdout",
     "output_type": "stream",
     "text": [
      " ."
     ]
    },
    {
     "name": "stdout",
     "output_type": "stream",
     "text": [
      " ."
     ]
    },
    {
     "name": "stdout",
     "output_type": "stream",
     "text": [
      " ."
     ]
    },
    {
     "name": "stdout",
     "output_type": "stream",
     "text": [
      " ."
     ]
    },
    {
     "name": "stdout",
     "output_type": "stream",
     "text": [
      " ."
     ]
    },
    {
     "name": "stdout",
     "output_type": "stream",
     "text": [
      " ."
     ]
    },
    {
     "name": "stdout",
     "output_type": "stream",
     "text": [
      " ."
     ]
    },
    {
     "name": "stdout",
     "output_type": "stream",
     "text": [
      " ."
     ]
    },
    {
     "name": "stdout",
     "output_type": "stream",
     "text": [
      " 60000\n"
     ]
    },
    {
     "name": "stdout",
     "output_type": "stream",
     "text": [
      "."
     ]
    },
    {
     "name": "stdout",
     "output_type": "stream",
     "text": [
      " ."
     ]
    },
    {
     "name": "stdout",
     "output_type": "stream",
     "text": [
      " ."
     ]
    },
    {
     "name": "stdout",
     "output_type": "stream",
     "text": [
      " ."
     ]
    },
    {
     "name": "stdout",
     "output_type": "stream",
     "text": [
      " ."
     ]
    },
    {
     "name": "stdout",
     "output_type": "stream",
     "text": [
      " ."
     ]
    },
    {
     "name": "stdout",
     "output_type": "stream",
     "text": [
      " ."
     ]
    },
    {
     "name": "stdout",
     "output_type": "stream",
     "text": [
      " ."
     ]
    },
    {
     "name": "stdout",
     "output_type": "stream",
     "text": [
      " ."
     ]
    },
    {
     "name": "stdout",
     "output_type": "stream",
     "text": [
      " ."
     ]
    },
    {
     "name": "stdout",
     "output_type": "stream",
     "text": [
      " 70000\n"
     ]
    },
    {
     "name": "stdout",
     "output_type": "stream",
     "text": [
      "."
     ]
    },
    {
     "name": "stdout",
     "output_type": "stream",
     "text": [
      " ."
     ]
    },
    {
     "name": "stdout",
     "output_type": "stream",
     "text": [
      " ."
     ]
    },
    {
     "name": "stdout",
     "output_type": "stream",
     "text": [
      " ."
     ]
    },
    {
     "name": "stdout",
     "output_type": "stream",
     "text": [
      " ."
     ]
    },
    {
     "name": "stdout",
     "output_type": "stream",
     "text": [
      " ."
     ]
    },
    {
     "name": "stdout",
     "output_type": "stream",
     "text": [
      " ."
     ]
    },
    {
     "name": "stdout",
     "output_type": "stream",
     "text": [
      " ."
     ]
    },
    {
     "name": "stdout",
     "output_type": "stream",
     "text": [
      " ."
     ]
    },
    {
     "name": "stdout",
     "output_type": "stream",
     "text": [
      " ."
     ]
    },
    {
     "name": "stdout",
     "output_type": "stream",
     "text": [
      " 80000\n"
     ]
    },
    {
     "name": "stdout",
     "output_type": "stream",
     "text": [
      "."
     ]
    },
    {
     "name": "stdout",
     "output_type": "stream",
     "text": [
      " ."
     ]
    },
    {
     "name": "stdout",
     "output_type": "stream",
     "text": [
      " ."
     ]
    },
    {
     "name": "stdout",
     "output_type": "stream",
     "text": [
      " ."
     ]
    },
    {
     "name": "stdout",
     "output_type": "stream",
     "text": [
      " ."
     ]
    },
    {
     "name": "stdout",
     "output_type": "stream",
     "text": [
      " ."
     ]
    },
    {
     "name": "stdout",
     "output_type": "stream",
     "text": [
      " ."
     ]
    },
    {
     "name": "stdout",
     "output_type": "stream",
     "text": [
      " ."
     ]
    },
    {
     "name": "stdout",
     "output_type": "stream",
     "text": [
      " ."
     ]
    },
    {
     "name": "stdout",
     "output_type": "stream",
     "text": [
      " ."
     ]
    },
    {
     "name": "stdout",
     "output_type": "stream",
     "text": [
      " 90000\n"
     ]
    },
    {
     "name": "stdout",
     "output_type": "stream",
     "text": [
      "."
     ]
    },
    {
     "name": "stdout",
     "output_type": "stream",
     "text": [
      " ."
     ]
    },
    {
     "name": "stdout",
     "output_type": "stream",
     "text": [
      " ."
     ]
    },
    {
     "name": "stdout",
     "output_type": "stream",
     "text": [
      " ."
     ]
    },
    {
     "name": "stdout",
     "output_type": "stream",
     "text": [
      " ."
     ]
    },
    {
     "name": "stdout",
     "output_type": "stream",
     "text": [
      " ."
     ]
    },
    {
     "name": "stdout",
     "output_type": "stream",
     "text": [
      " ."
     ]
    },
    {
     "name": "stdout",
     "output_type": "stream",
     "text": [
      " ."
     ]
    },
    {
     "name": "stdout",
     "output_type": "stream",
     "text": [
      " ."
     ]
    },
    {
     "name": "stdout",
     "output_type": "stream",
     "text": [
      " ."
     ]
    },
    {
     "name": "stdout",
     "output_type": "stream",
     "text": [
      " 100000\n"
     ]
    },
    {
     "name": "stdout",
     "output_type": "stream",
     "text": [
      "."
     ]
    },
    {
     "name": "stdout",
     "output_type": "stream",
     "text": [
      " ."
     ]
    },
    {
     "name": "stdout",
     "output_type": "stream",
     "text": [
      " ."
     ]
    },
    {
     "name": "stdout",
     "output_type": "stream",
     "text": [
      " ."
     ]
    },
    {
     "name": "stdout",
     "output_type": "stream",
     "text": [
      " ."
     ]
    },
    {
     "name": "stdout",
     "output_type": "stream",
     "text": [
      " ."
     ]
    },
    {
     "name": "stdout",
     "output_type": "stream",
     "text": [
      " ."
     ]
    },
    {
     "name": "stdout",
     "output_type": "stream",
     "text": [
      " ."
     ]
    },
    {
     "name": "stdout",
     "output_type": "stream",
     "text": [
      " ."
     ]
    },
    {
     "name": "stdout",
     "output_type": "stream",
     "text": [
      " ."
     ]
    },
    {
     "name": "stdout",
     "output_type": "stream",
     "text": [
      " 110000\n"
     ]
    },
    {
     "name": "stdout",
     "output_type": "stream",
     "text": [
      "."
     ]
    },
    {
     "name": "stdout",
     "output_type": "stream",
     "text": [
      " ."
     ]
    },
    {
     "name": "stdout",
     "output_type": "stream",
     "text": [
      " ."
     ]
    },
    {
     "name": "stdout",
     "output_type": "stream",
     "text": [
      " ."
     ]
    },
    {
     "name": "stdout",
     "output_type": "stream",
     "text": [
      " ."
     ]
    },
    {
     "name": "stdout",
     "output_type": "stream",
     "text": [
      " ."
     ]
    },
    {
     "name": "stdout",
     "output_type": "stream",
     "text": [
      " ."
     ]
    },
    {
     "name": "stdout",
     "output_type": "stream",
     "text": [
      " ."
     ]
    },
    {
     "name": "stdout",
     "output_type": "stream",
     "text": [
      " ."
     ]
    },
    {
     "name": "stdout",
     "output_type": "stream",
     "text": [
      " ."
     ]
    },
    {
     "name": "stdout",
     "output_type": "stream",
     "text": [
      " 120000\n"
     ]
    },
    {
     "name": "stdout",
     "output_type": "stream",
     "text": [
      "."
     ]
    },
    {
     "name": "stdout",
     "output_type": "stream",
     "text": [
      " ."
     ]
    },
    {
     "name": "stdout",
     "output_type": "stream",
     "text": [
      " ."
     ]
    },
    {
     "name": "stdout",
     "output_type": "stream",
     "text": [
      " ."
     ]
    },
    {
     "name": "stdout",
     "output_type": "stream",
     "text": [
      " ."
     ]
    },
    {
     "name": "stdout",
     "output_type": "stream",
     "text": [
      " ."
     ]
    },
    {
     "name": "stdout",
     "output_type": "stream",
     "text": [
      " ."
     ]
    },
    {
     "name": "stdout",
     "output_type": "stream",
     "text": [
      " ."
     ]
    },
    {
     "name": "stdout",
     "output_type": "stream",
     "text": [
      " ."
     ]
    },
    {
     "name": "stdout",
     "output_type": "stream",
     "text": [
      " ."
     ]
    },
    {
     "name": "stdout",
     "output_type": "stream",
     "text": [
      " 130000\n"
     ]
    },
    {
     "name": "stdout",
     "output_type": "stream",
     "text": [
      "."
     ]
    },
    {
     "name": "stdout",
     "output_type": "stream",
     "text": [
      " ."
     ]
    },
    {
     "name": "stdout",
     "output_type": "stream",
     "text": [
      " ."
     ]
    },
    {
     "name": "stdout",
     "output_type": "stream",
     "text": [
      " ."
     ]
    },
    {
     "name": "stdout",
     "output_type": "stream",
     "text": [
      " ."
     ]
    },
    {
     "name": "stdout",
     "output_type": "stream",
     "text": [
      " ."
     ]
    },
    {
     "name": "stdout",
     "output_type": "stream",
     "text": [
      " ."
     ]
    },
    {
     "name": "stdout",
     "output_type": "stream",
     "text": [
      " ."
     ]
    },
    {
     "name": "stdout",
     "output_type": "stream",
     "text": [
      " ."
     ]
    },
    {
     "name": "stdout",
     "output_type": "stream",
     "text": [
      " ."
     ]
    },
    {
     "name": "stdout",
     "output_type": "stream",
     "text": [
      " 140000\n"
     ]
    },
    {
     "name": "stdout",
     "output_type": "stream",
     "text": [
      "."
     ]
    },
    {
     "name": "stdout",
     "output_type": "stream",
     "text": [
      " ."
     ]
    },
    {
     "name": "stdout",
     "output_type": "stream",
     "text": [
      " ."
     ]
    },
    {
     "name": "stdout",
     "output_type": "stream",
     "text": [
      " ."
     ]
    },
    {
     "name": "stdout",
     "output_type": "stream",
     "text": [
      " ."
     ]
    },
    {
     "name": "stdout",
     "output_type": "stream",
     "text": [
      " ."
     ]
    },
    {
     "name": "stdout",
     "output_type": "stream",
     "text": [
      " ."
     ]
    },
    {
     "name": "stdout",
     "output_type": "stream",
     "text": [
      " ."
     ]
    },
    {
     "name": "stdout",
     "output_type": "stream",
     "text": [
      " ."
     ]
    },
    {
     "name": "stdout",
     "output_type": "stream",
     "text": [
      " ."
     ]
    },
    {
     "name": "stdout",
     "output_type": "stream",
     "text": [
      " 150000\n"
     ]
    },
    {
     "name": "stdout",
     "output_type": "stream",
     "text": [
      "."
     ]
    },
    {
     "name": "stdout",
     "output_type": "stream",
     "text": [
      " ."
     ]
    },
    {
     "name": "stdout",
     "output_type": "stream",
     "text": [
      " ."
     ]
    },
    {
     "name": "stdout",
     "output_type": "stream",
     "text": [
      " ."
     ]
    },
    {
     "name": "stdout",
     "output_type": "stream",
     "text": [
      " ."
     ]
    },
    {
     "name": "stdout",
     "output_type": "stream",
     "text": [
      " ."
     ]
    },
    {
     "name": "stdout",
     "output_type": "stream",
     "text": [
      " ."
     ]
    },
    {
     "name": "stdout",
     "output_type": "stream",
     "text": [
      " ."
     ]
    },
    {
     "name": "stdout",
     "output_type": "stream",
     "text": [
      " ."
     ]
    },
    {
     "name": "stdout",
     "output_type": "stream",
     "text": [
      " ."
     ]
    },
    {
     "name": "stdout",
     "output_type": "stream",
     "text": [
      " 160000\n"
     ]
    },
    {
     "name": "stdout",
     "output_type": "stream",
     "text": [
      "."
     ]
    },
    {
     "name": "stdout",
     "output_type": "stream",
     "text": [
      " ."
     ]
    },
    {
     "name": "stdout",
     "output_type": "stream",
     "text": [
      " ."
     ]
    },
    {
     "name": "stdout",
     "output_type": "stream",
     "text": [
      " ."
     ]
    },
    {
     "name": "stdout",
     "output_type": "stream",
     "text": [
      " ."
     ]
    },
    {
     "name": "stdout",
     "output_type": "stream",
     "text": [
      " ."
     ]
    },
    {
     "name": "stdout",
     "output_type": "stream",
     "text": [
      " ."
     ]
    },
    {
     "name": "stdout",
     "output_type": "stream",
     "text": [
      " ."
     ]
    },
    {
     "name": "stdout",
     "output_type": "stream",
     "text": [
      " ."
     ]
    },
    {
     "name": "stdout",
     "output_type": "stream",
     "text": [
      " ."
     ]
    },
    {
     "name": "stdout",
     "output_type": "stream",
     "text": [
      " 170000\n"
     ]
    },
    {
     "name": "stdout",
     "output_type": "stream",
     "text": [
      "."
     ]
    },
    {
     "name": "stdout",
     "output_type": "stream",
     "text": [
      "\n"
     ]
    }
   ],
   "source": [
    "pars = ModelParameters(av, oos_start=factor_build_end+YEAR, depth=3, lmbd=10, verbose=True)\n",
    "fl = FactorList(av, factornames_trimmed)\n",
    "fl.preprocess(pars)\n",
    "factors = fl.asmatrix()"
   ]
  },
  {
   "cell_type": "code",
   "execution_count": 8,
   "metadata": {
    "collapsed": true
   },
   "outputs": [
    {
     "name": "stderr",
     "output_type": "stream",
     "text": [
      "INFO:models:Fitting slice 0\n"
     ]
    },
    {
     "name": "stderr",
     "output_type": "stream",
     "text": [
      "prediction/models/fit_model.py:153: RuntimeWarning: divide by zero encountered in log\n  stats, self.step2probs[sl] = self.concat_and_fit(strata, result, nonrunner, [fback, flay, np.log(probs)], ts_idx, valid2, verbose=False, step=2)\n"
     ]
    },
    {
     "name": "stderr",
     "output_type": "stream",
     "text": [
      "INFO:models:Fitting slice 1\n"
     ]
    },
    {
     "name": "stderr",
     "output_type": "stream",
     "text": [
      "INFO:models:Fitting slice 2\n"
     ]
    },
    {
     "name": "stderr",
     "output_type": "stream",
     "text": [
      "INFO:models:Fitting slice 3\n"
     ]
    },
    {
     "name": "stderr",
     "output_type": "stream",
     "text": [
      "INFO:models:Fitting slice 4\n"
     ]
    },
    {
     "name": "stderr",
     "output_type": "stream",
     "text": [
      "INFO:models:Fitting slice 5\n"
     ]
    },
    {
     "name": "stderr",
     "output_type": "stream",
     "text": [
      "INFO:models:Fitting slice 6\n"
     ]
    },
    {
     "name": "stderr",
     "output_type": "stream",
     "text": [
      "INFO:models:Fitting slice 7\n"
     ]
    },
    {
     "name": "stderr",
     "output_type": "stream",
     "text": [
      "INFO:models:Fitting slice 8\n"
     ]
    },
    {
     "name": "stderr",
     "output_type": "stream",
     "text": [
      "INFO:models:Fitting slice 9\n"
     ]
    }
   ],
   "source": [
    "tsmod = TSModel(factors, tsav, pars)\n",
    "tsmod.fit_slices()"
   ]
  },
  {
   "cell_type": "code",
   "execution_count": 9,
   "metadata": {
    "collapsed": true
   },
   "outputs": [
    {
     "name": "stdout",
     "output_type": "stream",
     "text": [
      "  0:                                                              RecentWins    t-score sum:  nan\n  1:                                                              z027f9f0f5    t-score sum: 97.48\n  2:                                                              zec0c22a48    t-score sum: 89.73\n  3:                                                              zac38414de    t-score sum: 67.43\n  4:                                                              z6809c316d    t-score sum: 60.84\n  5:                                                              z412893062    t-score sum: 58.68\n  6:                                                              z245159235    t-score sum: 57.96\n  7:                                                              ze4c91eac0    t-score sum: 57.69\n  8:                                                              z5981b9f89    t-score sum: 52.99\n  9:                                                              z77c9cc0a5    t-score sum: 51.97\n 10:                                                             StallNumber    t-score sum: 50.83\n 11:                                                              z34b78e584    t-score sum: 47.93\n 12:                                                              zb5dc14260    t-score sum: 46.82\n 13:                                                              z36b8bffe0    t-score sum: 44.39\n 14:                                                              zb87666d6d    t-score sum: 41.15\n 15:                                                              zc31456152    t-score sum: 40.15\n 16:                                                              zc6614c5ee    t-score sum: 40.04\n 17:                                                              zd7cd94e4c    t-score sum: 34.71\n 18:                                                              z4cac73de3    t-score sum: 34.08\n 19:                                                              z50810021e    t-score sum: 32.02\n 20:                                                       ConnectionsRating    t-score sum: 31.47\n 21:                                                             Sire_Age_PL    t-score sum: 31.34\n 22:                                                               FormTrend    t-score sum: 30.83\n 23:                                                              z1b0bd4349    t-score sum: 29.85\n 24:                                                              Dam_Age_PL    t-score sum: 28.77\n 25:                                                              z7603edce1    t-score sum: 28.45\n 26:                                                           ClassPosition    t-score sum: 27.89\n 27:                                                   Dam_AdjacentGoing_Win    t-score sum: 27.64\n 28:                                                             Dam_All_Win    t-score sum: 27.37\n 29:                                                              z5873666ab    t-score sum: 27.31\n 30:                                                              z2a6963635    t-score sum: 25.41\n 31:                                                              zbba3f4349    t-score sum: 25.36\n 32:                                                         Dam_RaceType_SR    t-score sum: 25.31\n 33:                                                              zb85d3de89    t-score sum: 25.06\n 34:                                                              zce609d953    t-score sum: 24.09\n 35:                                                ClassWeightDiffWinsTotal    t-score sum: 23.65\n 36:                                                              z0f50ce7c0    t-score sum: 23.43\n 37:                                             BetFairSPForecastPlacePrice    t-score sum: 23.23\n 38:                                                              z215129aeb    t-score sum: 22.77\n 39:                                                           JockeyRanking    t-score sum: 22.70\n 40:                                                              zec3f8f8b9    t-score sum: 22.07\n 41:                                                             FormLastRun    t-score sum: 21.88\n 42:                                                    WeightDiffDifference    t-score sum: 21.70\n 43:                                                             TrainerForm    t-score sum: 21.67\n 44:                                                              zb392bb74a    t-score sum: 21.51\n 45:                                                              z6c84925d1    t-score sum: 21.44\n 46:                                                              z3d11336f4    t-score sum: 21.41\n 47:                                                              za5cf91a5d    t-score sum: 21.12\n 48:                                                              zd81bcd220    t-score sum: 20.64\n 49:                                                     TrainerLast40RunsSR    t-score sum: 20.56\n 50:                                                             Dam_All_Run    t-score sum: 20.21\n 51:                                                          TrainerRanking    t-score sum: 20.15\n 52:                                                              z48f6dddd1    t-score sum: 19.71\n 53:                                                    Dam_AdjacentGoing_AE    t-score sum: 19.63\n 54:                                                             RAdjRanking    t-score sum: 19.46\n 55:                                                              z999f82560    t-score sum: 18.70\n 56:                                                    LastTimeJockeyChange    t-score sum: 18.48\n 57:                                                WeightDiffWinsDifference    t-score sum: 18.28\n 58:                                      ClassWeightDiffWinsDifference1Year    t-score sum: 17.89\n 59:                                                   Dam_DistanceRange_Run    t-score sum: 17.63\n 60:                                                     TrainerLast10RunsPL    t-score sum: 17.38\n 61:                                                             Dam_Age_Win    t-score sum: 17.30\n 62:                                                          Trainer5YearPL    t-score sum: 17.16\n 63:                                                     TrainerCalendarWins    t-score sum: 17.12\n 64:                                                       Sire_RaceType_Run    t-score sum: 17.01\n 65:                                                                    JCSR    t-score sum: 16.99\n 66:                                                            Sire_Age_ROI    t-score sum: 16.78\n 67:                                                    ClassWeightDiffTotal    t-score sum: 16.67\n 68:                                                     WinClassProbability    t-score sum: 16.43\n 69:                                                         GoingRegression    t-score sum: 16.26\n 70:                                                                   TJROI    t-score sum: 16.25\n 71:                                                              z6f1eaa94d    t-score sum: 16.14\n 72:                                                              z106842cce    t-score sum: 16.09\n 73:                                                     TrainerCalendarRuns    t-score sum: 16.03\n 74:                                                       TrainerCalendarSR    t-score sum: 16.02\n 75:                                                                  JCRuns    t-score sum: 15.84\n 76:                                                                    TJPL    t-score sum: 15.83\n 77:                                                             Dam_Age_ROI    t-score sum: 15.73\n 78:                                                   Race5RunsAgoRaceClass    t-score sum: 15.72\n 79:                                                              z7081bf371    t-score sum: 15.35\n 80:                                                            Dam_Going_SR    t-score sum: 15.27\n 81:                                                              z953916863    t-score sum: 15.11\n 82:                                                               TotalWins    t-score sum: 14.98\n 83:                                               KouldsScore_RaceClass_Dam    t-score sum: 14.97\n 84:                                                              Dam_Age_AE    t-score sum: 14.94\n 85:                                                              z37a191205    t-score sum: 14.82\n 86:                                                              zf50212bfb    t-score sum: 14.72\n 87:                                                    Dam_DistanceRange_SR    t-score sum: 14.38\n 88:                                                                  TJRuns    t-score sum: 13.71\n 89:                                                              Dam_Age_SR    t-score sum: 13.43\n 90:                                                               TJCTypeSR    t-score sum: 13.35\n 91:                                                        Dam_RaceType_Run    t-score sum: 13.32\n 92:                                                      Sire_RaceClass_Win    t-score sum: 13.26\n 93:                                                     ClassDiffDifference    t-score sum: 13.22\n 94:                                      DifferentialRankingWeight1YearWins    t-score sum: 13.03\n 95:                                          ClassWeightDiffDifference1Year    t-score sum: 13.00\n 96:                                           KouldsScore_GoingDistance_Dam    t-score sum: 12.52\n 97:                                                   Sire_AdjacentGoing_SR    t-score sum: 12.31\n 98:                                                    ClassDiffWinsAverage    t-score sum: 11.67\n 99:                                               WeightDiffDifference1Year    t-score sum: 11.43\n100:                                                        Dam_RaceClass_AE    t-score sum: 11.32\n101:                                                              za5c443236    t-score sum: 11.11\n102:                                                          TRF04WeeksRuns    t-score sum: 11.07\n103:                                                       Dam_RaceClass_ROI    t-score sum: 11.04\n104:                                                            Distance4ago    t-score sum: 10.96\n105:                                                         Dam_RaceType_PL    t-score sum: 10.77\n106:                                                            Dam_Going_AE    t-score sum: 10.63\n107:                                                 ClassWeightDiffWinsRuns    t-score sum: 10.63\n108:                                                              z779f698c0    t-score sum: 10.40\n109:                                                              z81f2598ec    t-score sum: 10.33\n110:                                                              z8ca2ea7f2    t-score sum: 10.22\n111:                                                   TrainerCalendarReturn    t-score sum: 10.15\n112:                                                              zbe307f294    t-score sum: 9.99\n113:                                                             WeightDelta    t-score sum: 9.85\n114:                                                   TrainerLast10RunsWins    t-score sum: 9.84\n115:                                                       Sire_Distance_Run    t-score sum: 9.68\n116:                                                        DaysSinceLastRun    t-score sum: 9.63\n117:                                                   Dam_AdjacentGoing_ROI    t-score sum: 9.53\n118:                                                               RawRating    t-score sum: 9.46\n119:                                                                7DaysROI    t-score sum: 9.41\n120:                                                   Sire_GoingDistance_PL    t-score sum: 9.35\n121:                                                         RatingsPosition    t-score sum: 9.35\n122:                                DifferentialRankingClassWeight5YearsWins    t-score sum: 9.00\n123:                                                             WinningForm    t-score sum: 8.85\n124:                                                              z44cf2d196    t-score sum: 8.54\n125:                                                           TrFormRanking    t-score sum: 8.20\n126:                                                     KouldsScore_All_Dam    t-score sum: 7.39\n127:                                                            TRF04WeeksSR    t-score sum: 7.25\n128:                                                              TrForm5ago    t-score sum: 7.17\n129:                                                   ClassDiffAverage1Year    t-score sum: 7.07\n130:                                                                  weight    t-score sum: 6.94\n131:                                              ClassWeightDiffWinsAverage    t-score sum: 6.76\n132:                                                        Sire_Distance_AE    t-score sum: 6.75\n133:                                                              TrForm8ago    t-score sum: 6.74\n134:                                                              zd393eb79d    t-score sum: 6.72\n135:                                       DifferentialRankingClass1YearWins    t-score sum: 6.53\n136:                                                              z6f11029f7    t-score sum: 6.45\n137:                                                    TrainerLast10RunsROI    t-score sum: 6.34\n138:                                                                    TCPL    t-score sum: 6.33\n139:                                                          Sire_Going_ROI    t-score sum: 6.28\n140:                                         DifferentialRankingWeight5Years    t-score sum: 6.16\n141:                                                    Race1RunAgoRaceClass    t-score sum: 6.15\n142:                                                         Dam_Distance_PL    t-score sum: 6.14\n143:                                                   Race2RunsAgoRaceClass    t-score sum: 6.13\n144:                                                         Dam_Distance_AE    t-score sum: 6.01\n145:                                                              LstRanking    t-score sum: 5.92\n146:                                                      WeightDiffWinsRuns    t-score sum: 5.92\n147:                                              RawAdjustedForAgeAndWeight    t-score sum: 5.92\n148:                                                       ClassDiffWinsRuns    t-score sum: 5.74\n149:                                                               TJCTypePL    t-score sum: 5.53\n150:                                                              z4fdabfabc    t-score sum: 5.40\n151:                                                       KouldsScore_Total    t-score sum: 5.35\n152:                                                              zf47a136cc    t-score sum: 5.33\n153:                                                              z28e932d84    t-score sum: 5.33\n154:                                                        Dam_RaceType_ROI    t-score sum: 5.20\n155:                                           ClassWeightDiffWinsDifference    t-score sum: 5.11\n156:                                                            Sire_Age_Win    t-score sum: 5.08\n157:                                               ClassWeightDiffTotal1Year    t-score sum: 5.06\n158:                                                             TJCTypeRuns    t-score sum: 5.04\n159:                                                                   Class    t-score sum: 4.96\n160:                                                              z4a6755a99    t-score sum: 4.84\n161:                                                              zef5a850eb    t-score sum: 4.84\n162:                                                            Race5RunsAgo    t-score sum: 4.63\n163:                                                       WeightDiffAverage    t-score sum: 4.58\n164:                                                              RawRanking    t-score sum: 4.55\n165:                                                          TRF04WeeksWins    t-score sum: 4.54\n166:                                          DifferentialRankingWeight1Year    t-score sum: 4.50\n167:                                                             TRF20RunsSR    t-score sum: 4.34\n168:                                                              z8d2862a46    t-score sum: 4.32\n169:                                                              zae03d13a5    t-score sum: 4.25\n170:                                                WeightDiffWinsTotal1Year    t-score sum: 4.20\n171:                                                         WeightDiffTotal    t-score sum: 4.15\n172:                                                                 7DaysPL    t-score sum: 3.90\n173:                                                       TrainerCalendarPL    t-score sum: 3.45\n174:                                                      TrainerCalendarROI    t-score sum: 3.41\n175:                                                   Dam_GoingDistance_Run    t-score sum: 3.33\n176:                                                                   TJCPL    t-score sum: 3.32\n177:                                                            Race4RunsAgo    t-score sum: 3.32\n178:                                                              Dam_All_PL    t-score sum: 3.22\n179:                                                ClassDiffDifference1Year    t-score sum: 3.11\n180:                                                                   TCROI    t-score sum: 3.02\n181:                                            RacesSincePreviousTrainerWin    t-score sum: 3.01\n182:                                                           ClassDiffRuns    t-score sum: 2.97\n183:                                                   WeightDiffWinsAverage    t-score sum: 2.85\n184:                                                           Sire_Going_PL    t-score sum: 2.58\n185:                                                    KouldsScore_Age_Sire    t-score sum: 2.50\n186:                                                               7DaysWins    t-score sum: 2.38\n187:                                                             Dam_Age_Run    t-score sum: 2.27\n188:                                                     TrainerLast40RunsPL    t-score sum: 2.24\n189:                                                                   Speed    t-score sum: 2.21\n190:                                                             Sire_Age_SR    t-score sum: 2.18\n191:                                                  Sire_GoingDistance_Win    t-score sum: 2.05\n192:                                                            TRF04WeeksPL    t-score sum: 1.99\n193:                                                     ClassWeightDiffRuns    t-score sum: 1.87\n194:                                                   Sire_DistanceRange_PL    t-score sum: 1.77\n195:                                                  Sire_AdjacentGoing_ROI    t-score sum: 1.56\n196:                                                 WeightDiffWinsRuns1Year    t-score sum: 1.55\n197:                                                  Sire_GoingDistance_Run    t-score sum: 1.45\n198:                                                   Race4RunsAgoRaceClass    t-score sum: 1.45\n199:                                           ClassWeightDiffWinsTotal1Year    t-score sum: 1.35\n200:                                         ClassWeightDiffWinsAverage1Year    t-score sum: 1.15\n201:                                                  WeightDiffAverage1Year    t-score sum: 1.03\n202:                                                     WeightDiffRuns1Year    t-score sum: 0.93\n203:                                                ClassWeightDiffRuns1Year    t-score sum: 0.81\n"
     ]
    }
   ],
   "source": [
    "sorted_factors = print_factor_order(tsmod.stats1, factornames_trimmed)"
   ]
  },
  {
   "cell_type": "code",
   "execution_count": 10,
   "metadata": {},
   "outputs": [],
   "source": [
    "tsmod.write_simdata('simdata.p')"
   ]
  },
  {
   "cell_type": "code",
   "execution_count": null,
   "metadata": {},
   "outputs": [],
   "source": []
  }
 ],
 "metadata": {
  "kernelspec": {
   "display_name": "Python 2",
   "language": "python",
   "name": "python2"
  },
  "language_info": {
   "codemirror_mode": {
    "name": "ipython",
    "version": 2
   },
   "file_extension": ".py",
   "mimetype": "text/x-python",
   "name": "python",
   "nbconvert_exporter": "python",
   "pygments_lexer": "ipython2",
   "version": "2.7.13"
  }
 },
 "nbformat": 4,
 "nbformat_minor": 0
}
