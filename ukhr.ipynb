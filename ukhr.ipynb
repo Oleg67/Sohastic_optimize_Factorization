{
 "cells": [
  {
   "cell_type": "code",
   "execution_count": 1,
   "metadata": {
    "collapsed": true
   },
   "outputs": [],
   "source": [
    "import numpy as np\n",
    "import pandas as pd\n",
    "import matplotlib.pyplot as plt\n",
    "\n",
    "from utils import timestamp, YEAR\n",
    "from utils.arrayview import ArrayView, TimeseriesView\n",
    "\n",
    "from prediction.models.fit_model import TSModel\n",
    "from prediction.models.model_parameters import ModelParameters\n",
    "from prediction.models.factor_management import FactorList\n",
    "from prediction.models.preprocessing import load_slices, print_factor_order\n",
    "\n",
    "from prediction.models.prediction import factornames_trimmed\n",
    "from prediction.models.parameters import factor_build_end\n",
    "from prediction.tools.plotting import varinfo"
   ]
  },
  {
   "cell_type": "code",
   "execution_count": 2,
   "metadata": {},
   "outputs": [],
   "source": [
    "av = ArrayView.from_file('../datadev/brain_final2cut.av.bcolz')\n",
    "tsav = load_slices(path='../datadev/')"
   ]
  },
  {
   "cell_type": "code",
   "execution_count": 3,
   "metadata": {},
   "outputs": [
    {
     "name": "stdout",
     "output_type": "stream",
     "text": [
      "[ 65.6  66.8  67.2 ...,   nan   nan   nan]\n"
     ]
    }
   ],
   "source": [
    "fac = \"ClassDiff.WinsAverage\"\n",
    "arr = pd.read_csv(\"../ukhr_avs/\" + fac + \".csv\", header=None).values.flatten()\n",
    "arr[arr == 0] = np.nan\n",
    "print(np.unique(arr))\n",
    "av[fac] = arr\n",
    "factornames_trimmed += [fac]"
   ]
  },
  {
   "cell_type": "code",
   "execution_count": 4,
   "metadata": {},
   "outputs": [
    {
     "data": {
      "image/png": "[encoded data removed]",
      "text/plain": [
       "<matplotlib.figure.Figure at 0x7f720d01f610>"
      ]
     },
     "metadata": {},
     "output_type": "display_data"
    },
    {
     "name": "stdout",
     "output_type": "stream",
     "text": [
      "Variable info\n--------------------------------------\nLength: 1631851\nNumber of NaN's: 1622414  (99.42%)\nNumber of Inf's: 0  (0.00%)\nNumber of zeros: 0  (0.00%)\nNumber of unique's: 1229\nMean: 98.56\nStd: 10.07\nSkewness: -0.31\nKurtosis: -0.07\nMin and max values: 65.60 to 130.70\n--------------------------------------\n"
     ]
    },
    {
     "name": "stderr",
     "output_type": "stream",
     "text": [
      "prediction/tools/plotting.py:25: RuntimeWarning: invalid value encountered in less\n  print 'Number of zeros: %s  (%4.2f%%)' % (np.sum(abs(x) < 1e-10), np.mean(abs(x) < 1e-10) * 100)\n"
     ]
    },
    {
     "data": {
      "image/png": "[encoded data removed]",
      "text/plain": [
       "<matplotlib.figure.Figure at 0x7f720b603d10>"
      ]
     },
     "metadata": {},
     "output_type": "display_data"
    },
    {
     "data": {
      "text/plain": [
       "(nan, nan)"
      ]
     },
     "execution_count": 4,
     "metadata": {},
     "output_type": "execute_result"
    }
   ],
   "source": [
    "plt.plot(range(len(av[fac])), av[fac])\n",
    "plt.show()\n",
    "varinfo(av[fac])"
   ]
  },
  {
   "cell_type": "code",
   "execution_count": 5,
   "metadata": {},
   "outputs": [
    {
     "name": "stderr",
     "output_type": "stream",
     "text": [
      "INFO:models:Getting factors from av and rescaling...\n"
     ]
    },
    {
     "name": "stdout",
     "output_type": "stream",
     "text": [
      "."
     ]
    },
    {
     "name": "stdout",
     "output_type": "stream",
     "text": [
      " ."
     ]
    },
    {
     "name": "stdout",
     "output_type": "stream",
     "text": [
      " ."
     ]
    },
    {
     "name": "stdout",
     "output_type": "stream",
     "text": [
      " ."
     ]
    },
    {
     "name": "stdout",
     "output_type": "stream",
     "text": [
      " ."
     ]
    },
    {
     "name": "stderr",
     "output_type": "stream",
     "text": [
      "INFO:models:Filling in missing values...\n"
     ]
    },
    {
     "name": "stderr",
     "output_type": "stream",
     "text": [
      "INFO:models:Computing each factor as linear combination of all the others...\n"
     ]
    },
    {
     "name": "stdout",
     "output_type": "stream",
     "text": [
      " ."
     ]
    },
    {
     "name": "stdout",
     "output_type": "stream",
     "text": [
      " ."
     ]
    },
    {
     "name": "stdout",
     "output_type": "stream",
     "text": [
      " ."
     ]
    },
    {
     "name": "stdout",
     "output_type": "stream",
     "text": [
      " ."
     ]
    },
    {
     "name": "stdout",
     "output_type": "stream",
     "text": [
      " ."
     ]
    },
    {
     "name": "stderr",
     "output_type": "stream",
     "text": [
      "INFO:models:Number of missing patterns: 8367\n"
     ]
    },
    {
     "name": "stdout",
     "output_type": "stream",
     "text": [
      " ."
     ]
    },
    {
     "name": "stdout",
     "output_type": "stream",
     "text": [
      " ."
     ]
    },
    {
     "name": "stdout",
     "output_type": "stream",
     "text": [
      " ."
     ]
    },
    {
     "name": "stdout",
     "output_type": "stream",
     "text": [
      " ."
     ]
    },
    {
     "name": "stdout",
     "output_type": "stream",
     "text": [
      " ."
     ]
    },
    {
     "name": "stdout",
     "output_type": "stream",
     "text": [
      " ."
     ]
    },
    {
     "name": "stdout",
     "output_type": "stream",
     "text": [
      " ."
     ]
    },
    {
     "name": "stdout",
     "output_type": "stream",
     "text": [
      " ."
     ]
    },
    {
     "name": "stdout",
     "output_type": "stream",
     "text": [
      "\n"
     ]
    }
   ],
   "source": [
    "pars = ModelParameters(av, oos_start=factor_build_end+YEAR, depth=3, lmbd=10, verbose=True)\n",
    "fl = FactorList(av, factornames_trimmed)\n",
    "fl.preprocess(pars)\n",
    "factors = fl.asmatrix()"
   ]
  },
  {
   "cell_type": "code",
   "execution_count": 6,
   "metadata": {},
   "outputs": [
    {
     "name": "stderr",
     "output_type": "stream",
     "text": [
      "INFO:models:Fitting slice 0\n"
     ]
    },
    {
     "name": "stderr",
     "output_type": "stream",
     "text": [
      "prediction/models/fit_model.py:153: RuntimeWarning: divide by zero encountered in log\n  stats, self.step2probs[sl] = self.concat_and_fit(strata, result, nonrunner, [fback, flay, np.log(probs)], ts_idx, valid2, verbose=False, step=2)\n"
     ]
    },
    {
     "name": "stderr",
     "output_type": "stream",
     "text": [
      "INFO:models:Fitting slice 1\n"
     ]
    },
    {
     "name": "stderr",
     "output_type": "stream",
     "text": [
      "INFO:models:Fitting slice 2\n"
     ]
    },
    {
     "name": "stderr",
     "output_type": "stream",
     "text": [
      "INFO:models:Fitting slice 3\n"
     ]
    },
    {
     "name": "stderr",
     "output_type": "stream",
     "text": [
      "INFO:models:Fitting slice 4\n"
     ]
    },
    {
     "name": "stderr",
     "output_type": "stream",
     "text": [
      "INFO:models:Fitting slice 5\n"
     ]
    },
    {
     "name": "stderr",
     "output_type": "stream",
     "text": [
      "INFO:models:Fitting slice 6\n"
     ]
    },
    {
     "name": "stderr",
     "output_type": "stream",
     "text": [
      "INFO:models:Fitting slice 7\n"
     ]
    },
    {
     "name": "stderr",
     "output_type": "stream",
     "text": [
      "INFO:models:Fitting slice 8\n"
     ]
    },
    {
     "name": "stderr",
     "output_type": "stream",
     "text": [
      "INFO:models:Fitting slice 9\n"
     ]
    }
   ],
   "source": [
    "tsmod = TSModel(factors, tsav, pars)\n",
    "tsmod.fit_slices()"
   ]
  },
  {
   "cell_type": "code",
   "execution_count": 7,
   "metadata": {},
   "outputs": [
    {
     "data": {
      "text/plain": [
       "array([[-1829.278 , -1829.278 , -2086.1688],\n       [-1834.8289, -1834.8289, -2074.0923],\n       [-1840.0546, -1840.0546, -2059.8898],\n       [-1843.8068, -1843.8068, -2040.5214],\n       [-1861.3161, -1861.3161, -1993.4249],\n       [-1879.0794, -1879.0794, -1967.2941],\n       [-1915.2155, -1915.2155, -1920.786 ],\n       [-1929.7125, -1929.7125, -1896.3779],\n       [-1932.2435, -1932.2435, -1893.4748],\n       [-1936.6391, -1936.6391, -1880.5684],\n       [       nan,        nan,        nan]])"
      ]
     },
     "execution_count": 7,
     "metadata": {},
     "output_type": "execute_result"
    }
   ],
   "source": [
    "tsmod.stats1.ll"
   ]
  },
  {
   "cell_type": "code",
   "execution_count": 8,
   "metadata": {},
   "outputs": [
    {
     "data": {
      "text/plain": [
       "array([[-1818.3394, -2101.3476, -2101.3476],\n       [-1823.8935, -2089.2702, -2089.2702],\n       [-1829.2242, -2074.1385, -2074.1385],\n       [-1832.6561, -2053.2276, -2053.2276],\n       [-1850.5556, -1999.6594, -1999.6594],\n       [-1868.5072, -1966.3755, -1966.3755],\n       [-1904.2358, -1913.0004, -1913.0004],\n       [-1919.3328, -1880.3336, -1880.3336],\n       [-1922.086 , -1877.1291, -1877.1291],\n       [-1927.0032, -1864.3741, -1864.3741],\n       [       nan,        nan,        nan]])"
      ]
     },
     "execution_count": 8,
     "metadata": {},
     "output_type": "execute_result"
    }
   ],
   "source": [
    "tsmod.stats2.ll"
   ]
  },
  {
   "cell_type": "code",
   "execution_count": 9,
   "metadata": {},
   "outputs": [
    {
     "name": "stdout",
     "output_type": "stream",
     "text": [
      "  0:                                                              zec0c22a48    t-score sum: 87.74\n  1:                                                              z245159235    t-score sum: 55.72\n  2:                                                              z5981b9f89    t-score sum: 55.04\n  3:                                                              zb87666d6d    t-score sum: 47.36\n  4:                                                              z027f9f0f5    t-score sum: 46.53\n  5:                                                              z34b78e584    t-score sum: 44.20\n  6:                                                              ze4c91eac0    t-score sum: 44.17\n  7:                                                              zc31456152    t-score sum: 40.42\n  8:                                                              z6809c316d    t-score sum: 38.99\n  9:                                                              z2a6963635    t-score sum: 35.94\n 10:                                                              z36b8bffe0    t-score sum: 35.59\n 11:                                                              z7603edce1    t-score sum: 32.35\n 12:                                                              zce609d953    t-score sum: 31.32\n 13:                                                              z77c9cc0a5    t-score sum: 30.20\n 14:                                                              zb85d3de89    t-score sum: 28.95\n 15:                                                              z0f50ce7c0    t-score sum: 28.56\n 16:                                                              z1b0bd4349    t-score sum: 28.30\n 17:                                                              z412893062    t-score sum: 27.90\n 18:                                                              za5cf91a5d    t-score sum: 26.73\n 19:                                                              zf50212bfb    t-score sum: 25.57\n 20:                                                              z5873666ab    t-score sum: 24.76\n 21:                                                              z48f6dddd1    t-score sum: 22.05\n 22:                                                              z7081bf371    t-score sum: 22.03\n 23:                                                              z50810021e    t-score sum: 21.05\n 24:                                                              zd393eb79d    t-score sum: 20.87\n 25:                                                              zbba3f4349    t-score sum: 19.76\n 26:                                                              zb392bb74a    t-score sum: 19.14\n 27:                                                              z44cf2d196    t-score sum: 17.66\n 28:                                                   ClassDiff.WinsAverage    t-score sum: 16.60\n 29:                                                              z37a191205    t-score sum: 16.19\n 30:                                                              zd81bcd220    t-score sum: 15.73\n 31:                                                              z3d11336f4    t-score sum: 15.47\n 32:                                                              z779f698c0    t-score sum: 15.15\n 33:                                                              zbe307f294    t-score sum: 15.00\n 34:                                                              z4fdabfabc    t-score sum: 14.96\n 35:                                                              z81f2598ec    t-score sum: 13.50\n 36:                                                              z953916863    t-score sum: 11.59\n 37:                                                              zd7cd94e4c    t-score sum: 10.69\n 38:                                                              z6f1eaa94d    t-score sum: 9.92\n 39:                                                              zc6614c5ee    t-score sum: 8.94\n 40:                                                              za5c443236    t-score sum: 8.86\n 41:                                                              z8ca2ea7f2    t-score sum: 7.84\n 42:                                                              z6c84925d1    t-score sum: 7.18\n 43:                                                              zb5dc14260    t-score sum: 7.11\n 44:                                                              z8d2862a46    t-score sum: 5.81\n 45:                                                              z106842cce    t-score sum: 5.73\n 46:                                                              z6f11029f7    t-score sum: 5.46\n 47:                                                                  weight    t-score sum: 4.79\n 48:                                                              z999f82560    t-score sum: 4.66\n 49:                                                              zac38414de    t-score sum: 4.02\n 50:                                                              z215129aeb    t-score sum: 2.48\n 51:                                                              z28e932d84    t-score sum: 2.46\n 52:                                                              zf47a136cc    t-score sum: 2.36\n 53:                                                              z4cac73de3    t-score sum: 2.04\n 54:                                                              zef5a850eb    t-score sum: 2.03\n 55:                                                              z4a6755a99    t-score sum: 1.99\n 56:                                                              zae03d13a5    t-score sum: 1.90\n 57:                                                              zec3f8f8b9    t-score sum: 1.77\n"
     ]
    }
   ],
   "source": [
    "print_factor_order(tsmod.stats1, factornames_trimmed)"
   ]
  },
  {
   "cell_type": "code",
   "execution_count": 10,
   "metadata": {},
   "outputs": [],
   "source": [
    "tsmod.write_simdata('simdata.p')"
   ]
  },
  {
   "cell_type": "code",
   "execution_count": null,
   "metadata": {},
   "outputs": [],
   "source": [
    ""
   ]
  }
 ],
 "metadata": {
  "kernelspec": {
   "display_name": "Python 2",
   "language": "python",
   "name": "python2"
  },
  "language_info": {
   "codemirror_mode": {
    "name": "ipython",
    "version": 2.0
   },
   "file_extension": ".py",
   "mimetype": "text/x-python",
   "name": "python",
   "nbconvert_exporter": "python",
   "pygments_lexer": "ipython2",
   "version": "2.7.6"
  }
 },
 "nbformat": 4,
 "nbformat_minor": 0
}