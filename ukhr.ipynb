{
 "cells": [
  {
   "cell_type": "code",
   "execution_count": 1,
   "metadata": {
    "collapsed": true
   },
   "outputs": [],
   "source": [
    "import numpy as np\n",
    "import pandas as pd\n",
    "import matplotlib.pyplot as plt\n",
    "\n",
    "from utils import timestamp, YEAR\n",
    "from utils.arrayview import ArrayView, TimeseriesView\n",
    "\n",
    "from prediction.models.fit_model import TSModel\n",
    "from prediction.models.model_parameters import ModelParameters\n",
    "from prediction.models.factor_management import FactorList\n",
    "from prediction.models.preprocessing import load_slices, print_factor_order\n",
    "\n",
    "from prediction.models.prediction import factornames_trimmed\n",
    "from prediction.models.parameters import factor_build_end\n",
    "from prediction.tools.plotting import varinfo\n",
    "from os import listdir"
   ]
  },
  {
   "cell_type": "code",
   "execution_count": 2,
   "metadata": {
    "collapsed": true
   },
   "outputs": [],
   "source": [
    "av = ArrayView.from_file('../datadev/brain_final2cut.av.bcolz')\n",
    "tsav = load_slices(path='../datadev/')"
   ]
  },
  {
   "cell_type": "code",
   "execution_count": 3,
   "metadata": {
    "collapsed": true
   },
   "outputs": [],
   "source": [
    "# Take absolute value\n",
    "take_abs = ['DistanceLast', 'Speed', 'RacesSincePreviousTrainerWin', 'DaysSinceLastRun', \n",
    "            'Race2RunsAgoRaceClass', 'Race1RunAgoRaceClass', 'Race4RunsAgo', 'Race5RunsAgo', \n",
    "            'Race3RunsAgoRaceClass', 'Race2RunsAgo', 'Race5RunsAgoRaceClass', 'Race3RunsAgo']"
   ]
  },
  {
   "cell_type": "code",
   "execution_count": 4,
   "metadata": {
    "collapsed": true
   },
   "outputs": [],
   "source": [
    "# Select new factors\n",
    "fpath = \"../ukhr_factors/\"\n",
    "pcnt = 0.5\n",
    "newfactors_chunk1 = np.load(fpath + 'newfactors_ordered_chunk1.npy').tolist()\n",
    "sel_chunk1 = newfactors_chunk1[: int(round(pcnt*len(newfactors_chunk1)))]\n",
    "newfactors_chunk2 = np.load(fpath + 'newfactors_ordered_chunk2.npy').tolist()\n",
    "sel_chunk2 = newfactors_chunk2[: int(round(pcnt*len(newfactors_chunk2)))]\n",
    "newfactors_chunk3 = np.load(fpath + 'newfactors_ordered_chunk3.npy').tolist()\n",
    "sel_chunk3 = newfactors_chunk3[: int(round(pcnt*len(newfactors_chunk3)))]\n",
    "newfactors_chunk4 = np.load(fpath + 'newfactors_ordered_chunk4.npy').tolist()\n",
    "sel_chunk4 = newfactors_chunk4[: int(round(pcnt*len(newfactors_chunk4)))]\n",
    "newfactors_chunk5 = np.load(fpath + 'newfactors_ordered_chunk5.npy').tolist()\n",
    "sel_chunk5 = newfactors_chunk5[: int(round(pcnt*len(newfactors_chunk5)))]\n",
    "newfactors_chunk6 = np.load(fpath + 'newfactors_ordered_chunk6.npy').tolist()\n",
    "sel_chunk6 = newfactors_chunk6[: int(round(pcnt*len(newfactors_chunk6)))]\n",
    "newfactors_chunk7 = np.load(fpath + 'newfactors_ordered_chunk7.npy').tolist()\n",
    "sel_chunk7 = newfactors_chunk7[: int(round(pcnt*len(newfactors_chunk7)))]\n",
    "newfactors_chunk8 = np.load(fpath + 'newfactors_ordered_chunk8.npy').tolist()\n",
    "sel_chunk8 = newfactors_chunk8[: int(round(pcnt*len(newfactors_chunk8)))]\n",
    "newfactors = sel_chunk1 + sel_chunk2 + sel_chunk3 + sel_chunk4 + sel_chunk5 + \\\n",
    "             sel_chunk6 + sel_chunk7 + sel_chunk8\n"
   ]
  },
  {
   "cell_type": "code",
   "execution_count": 5,
   "metadata": {},
   "outputs": [],
   "source": [
    "rem = ['NumberOfResults', 'KouldsScore_Distance20pc_Sire', 'LastTimeTrainerChange', \n",
    "       'LastTimeDistanceChange', 'RecentWins', '7DaysWins', 'TJCTypeROI ', 'TJCTypeSR', \n",
    "       'TJCTypeROI']"
   ]
  },
  {
   "cell_type": "code",
   "execution_count": 6,
   "metadata": {
    "collapsed": true
   },
   "outputs": [],
   "source": [
    "# Add new factors\n",
    "for f in newfactors:\n",
    "    if f in rem:\n",
    "        continue\n",
    "    arr = pd.read_csv(fpath + f + '.csv', header=None).values.flatten()\n",
    "    arr[arr == 0] = np.nan\n",
    "    arr[arr == 999] = np.nan\n",
    "    if f in take_abs:\n",
    "        arr = np.abs(arr)\n",
    "    av[f] = arr\n",
    "    factornames_trimmed += [f]\n",
    "    pars = ModelParameters(av, oos_start=factor_build_end+YEAR, depth=3, lmbd=10, verbose=True)\n",
    "    fl = FactorList(av, factornames_trimmed)\n",
    "    factors = fl.asmatrix()\n",
    "    missing = np.isnan(factors)\n",
    "    allgood = ~np.any(missing, axis=0) & pars.build_mask\n",
    "    if ~np.any(allgood):\n",
    "        del av[f]\n",
    "        factornames_trimmed.remove(f)\n",
    "        newfactors.remove(f)"
   ]
  },
  {
   "cell_type": "code",
   "execution_count": 7,
   "metadata": {
    "collapsed": true
   },
   "outputs": [
    {
     "name": "stderr",
     "output_type": "stream",
     "text": [
      "INFO:models:Getting factors from av and rescaling...\n"
     ]
    },
    {
     "name": "stdout",
     "output_type": "stream",
     "text": [
      "."
     ]
    },
    {
     "name": "stdout",
     "output_type": "stream",
     "text": [
      " ."
     ]
    },
    {
     "name": "stdout",
     "output_type": "stream",
     "text": [
      " ."
     ]
    },
    {
     "name": "stdout",
     "output_type": "stream",
     "text": [
      " ."
     ]
    },
    {
     "name": "stdout",
     "output_type": "stream",
     "text": [
      " ."
     ]
    },
    {
     "name": "stdout",
     "output_type": "stream",
     "text": [
      " ."
     ]
    },
    {
     "name": "stdout",
     "output_type": "stream",
     "text": [
      " ."
     ]
    },
    {
     "name": "stdout",
     "output_type": "stream",
     "text": [
      " ."
     ]
    },
    {
     "name": "stdout",
     "output_type": "stream",
     "text": [
      " ."
     ]
    },
    {
     "name": "stdout",
     "output_type": "stream",
     "text": [
      " ."
     ]
    },
    {
     "name": "stdout",
     "output_type": "stream",
     "text": [
      " 100\n"
     ]
    },
    {
     "name": "stdout",
     "output_type": "stream",
     "text": [
      "."
     ]
    },
    {
     "name": "stdout",
     "output_type": "stream",
     "text": [
      " ."
     ]
    },
    {
     "name": "stdout",
     "output_type": "stream",
     "text": [
      " ."
     ]
    },
    {
     "name": "stdout",
     "output_type": "stream",
     "text": [
      " ."
     ]
    },
    {
     "name": "stdout",
     "output_type": "stream",
     "text": [
      " ."
     ]
    },
    {
     "name": "stdout",
     "output_type": "stream",
     "text": [
      " ."
     ]
    },
    {
     "name": "stdout",
     "output_type": "stream",
     "text": [
      " ."
     ]
    },
    {
     "name": "stdout",
     "output_type": "stream",
     "text": [
      " ."
     ]
    },
    {
     "name": "stdout",
     "output_type": "stream",
     "text": [
      " ."
     ]
    },
    {
     "name": "stderr",
     "output_type": "stream",
     "text": [
      "INFO:models:Filling in missing values...\n"
     ]
    },
    {
     "name": "stderr",
     "output_type": "stream",
     "text": [
      "INFO:models:Computing each factor as linear combination of all the others...\n"
     ]
    },
    {
     "name": "stderr",
     "output_type": "stream",
     "text": [
      "utils/math.py:270: RuntimeWarning: divide by zero encountered in double_scalars\n  out.B = 1 - np.sum((y1 - x1.dot(out.b)) ** 2) / np.sum((y1 - np.mean(y1)) ** 2)\nutils/math.py:274: RuntimeWarning: invalid value encountered in sqrt\n  out.t = out.b / np.sqrt(out.sb2)\nutils/math.py:274: RuntimeWarning: invalid value encountered in true_divide\n  out.t = out.b / np.sqrt(out.sb2)\n/home/dinko/anaconda2/lib/python2.7/site-packages/scipy/stats/_distn_infrastructure.py:875: RuntimeWarning: invalid value encountered in greater\n  return (self.a < x) & (x < self.b)\n/home/dinko/anaconda2/lib/python2.7/site-packages/scipy/stats/_distn_infrastructure.py:875: RuntimeWarning: invalid value encountered in less\n  return (self.a < x) & (x < self.b)\n/home/dinko/anaconda2/lib/python2.7/site-packages/scipy/stats/_distn_infrastructure.py:1731: RuntimeWarning: invalid value encountered in greater_equal\n  cond2 = (x >= self.b) & cond0\n"
     ]
    },
    {
     "name": "stdout",
     "output_type": "stream",
     "text": [
      " ."
     ]
    },
    {
     "name": "stdout",
     "output_type": "stream",
     "text": [
      " ."
     ]
    },
    {
     "name": "stdout",
     "output_type": "stream",
     "text": [
      " ."
     ]
    },
    {
     "name": "stdout",
     "output_type": "stream",
     "text": [
      " ."
     ]
    },
    {
     "name": "stdout",
     "output_type": "stream",
     "text": [
      " ."
     ]
    },
    {
     "name": "stderr",
     "output_type": "stream",
     "text": [
      "utils/math.py:270: RuntimeWarning: invalid value encountered in double_scalars\n  out.B = 1 - np.sum((y1 - x1.dot(out.b)) ** 2) / np.sum((y1 - np.mean(y1)) ** 2)\n"
     ]
    },
    {
     "name": "stdout",
     "output_type": "stream",
     "text": [
      " ."
     ]
    },
    {
     "name": "stdout",
     "output_type": "stream",
     "text": [
      " ."
     ]
    },
    {
     "name": "stdout",
     "output_type": "stream",
     "text": [
      " ."
     ]
    },
    {
     "name": "stdout",
     "output_type": "stream",
     "text": [
      " ."
     ]
    },
    {
     "name": "stdout",
     "output_type": "stream",
     "text": [
      " ."
     ]
    },
    {
     "name": "stdout",
     "output_type": "stream",
     "text": [
      " 100\n"
     ]
    },
    {
     "name": "stdout",
     "output_type": "stream",
     "text": [
      "."
     ]
    },
    {
     "name": "stdout",
     "output_type": "stream",
     "text": [
      " ."
     ]
    },
    {
     "name": "stdout",
     "output_type": "stream",
     "text": [
      " ."
     ]
    },
    {
     "name": "stdout",
     "output_type": "stream",
     "text": [
      " ."
     ]
    },
    {
     "name": "stdout",
     "output_type": "stream",
     "text": [
      " ."
     ]
    },
    {
     "name": "stdout",
     "output_type": "stream",
     "text": [
      " ."
     ]
    },
    {
     "name": "stdout",
     "output_type": "stream",
     "text": [
      " ."
     ]
    },
    {
     "name": "stdout",
     "output_type": "stream",
     "text": [
      " ."
     ]
    },
    {
     "name": "stdout",
     "output_type": "stream",
     "text": [
      " ."
     ]
    },
    {
     "name": "stderr",
     "output_type": "stream",
     "text": [
      "INFO:models:Number of missing patterns: 172908\n"
     ]
    },
    {
     "name": "stdout",
     "output_type": "stream",
     "text": [
      " ."
     ]
    },
    {
     "name": "stdout",
     "output_type": "stream",
     "text": [
      " ."
     ]
    },
    {
     "name": "stdout",
     "output_type": "stream",
     "text": [
      " ."
     ]
    },
    {
     "name": "stdout",
     "output_type": "stream",
     "text": [
      " ."
     ]
    },
    {
     "name": "stdout",
     "output_type": "stream",
     "text": [
      " ."
     ]
    },
    {
     "name": "stdout",
     "output_type": "stream",
     "text": [
      " ."
     ]
    },
    {
     "name": "stdout",
     "output_type": "stream",
     "text": [
      " ."
     ]
    },
    {
     "name": "stdout",
     "output_type": "stream",
     "text": [
      " ."
     ]
    },
    {
     "name": "stdout",
     "output_type": "stream",
     "text": [
      " ."
     ]
    },
    {
     "name": "stdout",
     "output_type": "stream",
     "text": [
      " ."
     ]
    },
    {
     "name": "stdout",
     "output_type": "stream",
     "text": [
      " 10000\n"
     ]
    },
    {
     "name": "stdout",
     "output_type": "stream",
     "text": [
      "."
     ]
    },
    {
     "name": "stdout",
     "output_type": "stream",
     "text": [
      " ."
     ]
    },
    {
     "name": "stdout",
     "output_type": "stream",
     "text": [
      " ."
     ]
    },
    {
     "name": "stdout",
     "output_type": "stream",
     "text": [
      " ."
     ]
    },
    {
     "name": "stdout",
     "output_type": "stream",
     "text": [
      " ."
     ]
    },
    {
     "name": "stdout",
     "output_type": "stream",
     "text": [
      " ."
     ]
    },
    {
     "name": "stdout",
     "output_type": "stream",
     "text": [
      " ."
     ]
    },
    {
     "name": "stdout",
     "output_type": "stream",
     "text": [
      " ."
     ]
    },
    {
     "name": "stdout",
     "output_type": "stream",
     "text": [
      " ."
     ]
    },
    {
     "name": "stdout",
     "output_type": "stream",
     "text": [
      " ."
     ]
    },
    {
     "name": "stdout",
     "output_type": "stream",
     "text": [
      " 20000\n"
     ]
    },
    {
     "name": "stdout",
     "output_type": "stream",
     "text": [
      "."
     ]
    },
    {
     "name": "stdout",
     "output_type": "stream",
     "text": [
      " ."
     ]
    },
    {
     "name": "stdout",
     "output_type": "stream",
     "text": [
      " ."
     ]
    },
    {
     "name": "stdout",
     "output_type": "stream",
     "text": [
      " ."
     ]
    },
    {
     "name": "stdout",
     "output_type": "stream",
     "text": [
      " ."
     ]
    },
    {
     "name": "stdout",
     "output_type": "stream",
     "text": [
      " ."
     ]
    },
    {
     "name": "stdout",
     "output_type": "stream",
     "text": [
      " ."
     ]
    },
    {
     "name": "stdout",
     "output_type": "stream",
     "text": [
      " ."
     ]
    },
    {
     "name": "stdout",
     "output_type": "stream",
     "text": [
      " ."
     ]
    },
    {
     "name": "stdout",
     "output_type": "stream",
     "text": [
      " ."
     ]
    },
    {
     "name": "stdout",
     "output_type": "stream",
     "text": [
      " 30000\n"
     ]
    },
    {
     "name": "stdout",
     "output_type": "stream",
     "text": [
      "."
     ]
    },
    {
     "name": "stdout",
     "output_type": "stream",
     "text": [
      " ."
     ]
    },
    {
     "name": "stdout",
     "output_type": "stream",
     "text": [
      " ."
     ]
    },
    {
     "name": "stdout",
     "output_type": "stream",
     "text": [
      " ."
     ]
    },
    {
     "name": "stdout",
     "output_type": "stream",
     "text": [
      " ."
     ]
    },
    {
     "name": "stdout",
     "output_type": "stream",
     "text": [
      " ."
     ]
    },
    {
     "name": "stdout",
     "output_type": "stream",
     "text": [
      " ."
     ]
    },
    {
     "name": "stdout",
     "output_type": "stream",
     "text": [
      " ."
     ]
    },
    {
     "name": "stdout",
     "output_type": "stream",
     "text": [
      " ."
     ]
    },
    {
     "name": "stdout",
     "output_type": "stream",
     "text": [
      " ."
     ]
    },
    {
     "name": "stdout",
     "output_type": "stream",
     "text": [
      " 40000\n"
     ]
    },
    {
     "name": "stdout",
     "output_type": "stream",
     "text": [
      "."
     ]
    },
    {
     "name": "stdout",
     "output_type": "stream",
     "text": [
      " ."
     ]
    },
    {
     "name": "stdout",
     "output_type": "stream",
     "text": [
      " ."
     ]
    },
    {
     "name": "stdout",
     "output_type": "stream",
     "text": [
      " ."
     ]
    },
    {
     "name": "stdout",
     "output_type": "stream",
     "text": [
      " ."
     ]
    },
    {
     "name": "stdout",
     "output_type": "stream",
     "text": [
      " ."
     ]
    },
    {
     "name": "stdout",
     "output_type": "stream",
     "text": [
      " ."
     ]
    },
    {
     "name": "stdout",
     "output_type": "stream",
     "text": [
      " ."
     ]
    },
    {
     "name": "stdout",
     "output_type": "stream",
     "text": [
      " ."
     ]
    },
    {
     "name": "stdout",
     "output_type": "stream",
     "text": [
      " ."
     ]
    },
    {
     "name": "stdout",
     "output_type": "stream",
     "text": [
      " 50000\n"
     ]
    },
    {
     "name": "stdout",
     "output_type": "stream",
     "text": [
      "."
     ]
    },
    {
     "name": "stdout",
     "output_type": "stream",
     "text": [
      " ."
     ]
    },
    {
     "name": "stdout",
     "output_type": "stream",
     "text": [
      " ."
     ]
    },
    {
     "name": "stdout",
     "output_type": "stream",
     "text": [
      " ."
     ]
    },
    {
     "name": "stdout",
     "output_type": "stream",
     "text": [
      " ."
     ]
    },
    {
     "name": "stdout",
     "output_type": "stream",
     "text": [
      " ."
     ]
    },
    {
     "name": "stdout",
     "output_type": "stream",
     "text": [
      " ."
     ]
    },
    {
     "name": "stdout",
     "output_type": "stream",
     "text": [
      " ."
     ]
    },
    {
     "name": "stdout",
     "output_type": "stream",
     "text": [
      " ."
     ]
    },
    {
     "name": "stdout",
     "output_type": "stream",
     "text": [
      " ."
     ]
    },
    {
     "name": "stdout",
     "output_type": "stream",
     "text": [
      " 60000\n"
     ]
    },
    {
     "name": "stdout",
     "output_type": "stream",
     "text": [
      "."
     ]
    },
    {
     "name": "stdout",
     "output_type": "stream",
     "text": [
      " ."
     ]
    },
    {
     "name": "stdout",
     "output_type": "stream",
     "text": [
      " ."
     ]
    },
    {
     "name": "stdout",
     "output_type": "stream",
     "text": [
      " ."
     ]
    },
    {
     "name": "stdout",
     "output_type": "stream",
     "text": [
      " ."
     ]
    },
    {
     "name": "stdout",
     "output_type": "stream",
     "text": [
      " ."
     ]
    },
    {
     "name": "stdout",
     "output_type": "stream",
     "text": [
      " ."
     ]
    },
    {
     "name": "stdout",
     "output_type": "stream",
     "text": [
      " ."
     ]
    },
    {
     "name": "stdout",
     "output_type": "stream",
     "text": [
      " ."
     ]
    },
    {
     "name": "stdout",
     "output_type": "stream",
     "text": [
      " ."
     ]
    },
    {
     "name": "stdout",
     "output_type": "stream",
     "text": [
      " 70000\n"
     ]
    },
    {
     "name": "stdout",
     "output_type": "stream",
     "text": [
      "."
     ]
    },
    {
     "name": "stdout",
     "output_type": "stream",
     "text": [
      " ."
     ]
    },
    {
     "name": "stdout",
     "output_type": "stream",
     "text": [
      " ."
     ]
    },
    {
     "name": "stdout",
     "output_type": "stream",
     "text": [
      " ."
     ]
    },
    {
     "name": "stdout",
     "output_type": "stream",
     "text": [
      " ."
     ]
    },
    {
     "name": "stdout",
     "output_type": "stream",
     "text": [
      " ."
     ]
    },
    {
     "name": "stdout",
     "output_type": "stream",
     "text": [
      " ."
     ]
    },
    {
     "name": "stdout",
     "output_type": "stream",
     "text": [
      " ."
     ]
    },
    {
     "name": "stdout",
     "output_type": "stream",
     "text": [
      " ."
     ]
    },
    {
     "name": "stdout",
     "output_type": "stream",
     "text": [
      " ."
     ]
    },
    {
     "name": "stdout",
     "output_type": "stream",
     "text": [
      " 80000\n"
     ]
    },
    {
     "name": "stdout",
     "output_type": "stream",
     "text": [
      "."
     ]
    },
    {
     "name": "stdout",
     "output_type": "stream",
     "text": [
      " ."
     ]
    },
    {
     "name": "stdout",
     "output_type": "stream",
     "text": [
      " ."
     ]
    },
    {
     "name": "stdout",
     "output_type": "stream",
     "text": [
      " ."
     ]
    },
    {
     "name": "stdout",
     "output_type": "stream",
     "text": [
      " ."
     ]
    },
    {
     "name": "stdout",
     "output_type": "stream",
     "text": [
      " ."
     ]
    },
    {
     "name": "stdout",
     "output_type": "stream",
     "text": [
      " ."
     ]
    },
    {
     "name": "stdout",
     "output_type": "stream",
     "text": [
      " ."
     ]
    },
    {
     "name": "stdout",
     "output_type": "stream",
     "text": [
      " ."
     ]
    },
    {
     "name": "stdout",
     "output_type": "stream",
     "text": [
      " ."
     ]
    },
    {
     "name": "stdout",
     "output_type": "stream",
     "text": [
      " 90000\n"
     ]
    },
    {
     "name": "stdout",
     "output_type": "stream",
     "text": [
      "."
     ]
    },
    {
     "name": "stdout",
     "output_type": "stream",
     "text": [
      " ."
     ]
    },
    {
     "name": "stdout",
     "output_type": "stream",
     "text": [
      " ."
     ]
    },
    {
     "name": "stdout",
     "output_type": "stream",
     "text": [
      " ."
     ]
    },
    {
     "name": "stdout",
     "output_type": "stream",
     "text": [
      " ."
     ]
    },
    {
     "name": "stdout",
     "output_type": "stream",
     "text": [
      " ."
     ]
    },
    {
     "name": "stdout",
     "output_type": "stream",
     "text": [
      " ."
     ]
    },
    {
     "name": "stdout",
     "output_type": "stream",
     "text": [
      " ."
     ]
    },
    {
     "name": "stdout",
     "output_type": "stream",
     "text": [
      " ."
     ]
    },
    {
     "name": "stdout",
     "output_type": "stream",
     "text": [
      " ."
     ]
    },
    {
     "name": "stdout",
     "output_type": "stream",
     "text": [
      " 100000\n"
     ]
    },
    {
     "name": "stdout",
     "output_type": "stream",
     "text": [
      "."
     ]
    },
    {
     "name": "stdout",
     "output_type": "stream",
     "text": [
      " ."
     ]
    },
    {
     "name": "stdout",
     "output_type": "stream",
     "text": [
      " ."
     ]
    },
    {
     "name": "stdout",
     "output_type": "stream",
     "text": [
      " ."
     ]
    },
    {
     "name": "stdout",
     "output_type": "stream",
     "text": [
      " ."
     ]
    },
    {
     "name": "stdout",
     "output_type": "stream",
     "text": [
      " ."
     ]
    },
    {
     "name": "stdout",
     "output_type": "stream",
     "text": [
      " ."
     ]
    },
    {
     "name": "stdout",
     "output_type": "stream",
     "text": [
      " ."
     ]
    },
    {
     "name": "stdout",
     "output_type": "stream",
     "text": [
      " ."
     ]
    },
    {
     "name": "stdout",
     "output_type": "stream",
     "text": [
      " ."
     ]
    },
    {
     "name": "stdout",
     "output_type": "stream",
     "text": [
      " 110000\n"
     ]
    },
    {
     "name": "stdout",
     "output_type": "stream",
     "text": [
      "."
     ]
    },
    {
     "name": "stdout",
     "output_type": "stream",
     "text": [
      " ."
     ]
    },
    {
     "name": "stdout",
     "output_type": "stream",
     "text": [
      " ."
     ]
    },
    {
     "name": "stdout",
     "output_type": "stream",
     "text": [
      " ."
     ]
    },
    {
     "name": "stdout",
     "output_type": "stream",
     "text": [
      " ."
     ]
    },
    {
     "name": "stdout",
     "output_type": "stream",
     "text": [
      " ."
     ]
    },
    {
     "name": "stdout",
     "output_type": "stream",
     "text": [
      " ."
     ]
    },
    {
     "name": "stdout",
     "output_type": "stream",
     "text": [
      " ."
     ]
    },
    {
     "name": "stdout",
     "output_type": "stream",
     "text": [
      " ."
     ]
    },
    {
     "name": "stdout",
     "output_type": "stream",
     "text": [
      " ."
     ]
    },
    {
     "name": "stdout",
     "output_type": "stream",
     "text": [
      " 120000\n"
     ]
    },
    {
     "name": "stdout",
     "output_type": "stream",
     "text": [
      "."
     ]
    },
    {
     "name": "stdout",
     "output_type": "stream",
     "text": [
      " ."
     ]
    },
    {
     "name": "stdout",
     "output_type": "stream",
     "text": [
      " ."
     ]
    },
    {
     "name": "stdout",
     "output_type": "stream",
     "text": [
      " ."
     ]
    },
    {
     "name": "stdout",
     "output_type": "stream",
     "text": [
      " ."
     ]
    },
    {
     "name": "stdout",
     "output_type": "stream",
     "text": [
      " ."
     ]
    },
    {
     "name": "stdout",
     "output_type": "stream",
     "text": [
      " ."
     ]
    },
    {
     "name": "stdout",
     "output_type": "stream",
     "text": [
      " ."
     ]
    },
    {
     "name": "stdout",
     "output_type": "stream",
     "text": [
      " ."
     ]
    },
    {
     "name": "stdout",
     "output_type": "stream",
     "text": [
      " ."
     ]
    },
    {
     "name": "stdout",
     "output_type": "stream",
     "text": [
      " 130000\n"
     ]
    },
    {
     "name": "stdout",
     "output_type": "stream",
     "text": [
      "."
     ]
    },
    {
     "name": "stdout",
     "output_type": "stream",
     "text": [
      " ."
     ]
    },
    {
     "name": "stdout",
     "output_type": "stream",
     "text": [
      " ."
     ]
    },
    {
     "name": "stdout",
     "output_type": "stream",
     "text": [
      " ."
     ]
    },
    {
     "name": "stdout",
     "output_type": "stream",
     "text": [
      " ."
     ]
    },
    {
     "name": "stdout",
     "output_type": "stream",
     "text": [
      " ."
     ]
    },
    {
     "name": "stdout",
     "output_type": "stream",
     "text": [
      " ."
     ]
    },
    {
     "name": "stdout",
     "output_type": "stream",
     "text": [
      " ."
     ]
    },
    {
     "name": "stdout",
     "output_type": "stream",
     "text": [
      " ."
     ]
    },
    {
     "name": "stdout",
     "output_type": "stream",
     "text": [
      " ."
     ]
    },
    {
     "name": "stdout",
     "output_type": "stream",
     "text": [
      " 140000\n"
     ]
    },
    {
     "name": "stdout",
     "output_type": "stream",
     "text": [
      "."
     ]
    },
    {
     "name": "stdout",
     "output_type": "stream",
     "text": [
      " ."
     ]
    },
    {
     "name": "stdout",
     "output_type": "stream",
     "text": [
      " ."
     ]
    },
    {
     "name": "stdout",
     "output_type": "stream",
     "text": [
      " ."
     ]
    },
    {
     "name": "stdout",
     "output_type": "stream",
     "text": [
      " ."
     ]
    },
    {
     "name": "stdout",
     "output_type": "stream",
     "text": [
      " ."
     ]
    },
    {
     "name": "stdout",
     "output_type": "stream",
     "text": [
      " ."
     ]
    },
    {
     "name": "stdout",
     "output_type": "stream",
     "text": [
      " ."
     ]
    },
    {
     "name": "stdout",
     "output_type": "stream",
     "text": [
      " ."
     ]
    },
    {
     "name": "stdout",
     "output_type": "stream",
     "text": [
      " ."
     ]
    },
    {
     "name": "stdout",
     "output_type": "stream",
     "text": [
      " 150000\n"
     ]
    },
    {
     "name": "stdout",
     "output_type": "stream",
     "text": [
      "."
     ]
    },
    {
     "name": "stdout",
     "output_type": "stream",
     "text": [
      " ."
     ]
    },
    {
     "name": "stdout",
     "output_type": "stream",
     "text": [
      " ."
     ]
    },
    {
     "name": "stdout",
     "output_type": "stream",
     "text": [
      " ."
     ]
    },
    {
     "name": "stdout",
     "output_type": "stream",
     "text": [
      " ."
     ]
    },
    {
     "name": "stdout",
     "output_type": "stream",
     "text": [
      " ."
     ]
    },
    {
     "name": "stdout",
     "output_type": "stream",
     "text": [
      " ."
     ]
    },
    {
     "name": "stdout",
     "output_type": "stream",
     "text": [
      " ."
     ]
    },
    {
     "name": "stdout",
     "output_type": "stream",
     "text": [
      " ."
     ]
    },
    {
     "name": "stdout",
     "output_type": "stream",
     "text": [
      " ."
     ]
    },
    {
     "name": "stdout",
     "output_type": "stream",
     "text": [
      " 160000\n"
     ]
    },
    {
     "name": "stdout",
     "output_type": "stream",
     "text": [
      "."
     ]
    },
    {
     "name": "stdout",
     "output_type": "stream",
     "text": [
      " ."
     ]
    },
    {
     "name": "stdout",
     "output_type": "stream",
     "text": [
      " ."
     ]
    },
    {
     "name": "stdout",
     "output_type": "stream",
     "text": [
      " ."
     ]
    },
    {
     "name": "stdout",
     "output_type": "stream",
     "text": [
      " ."
     ]
    },
    {
     "name": "stdout",
     "output_type": "stream",
     "text": [
      " ."
     ]
    },
    {
     "name": "stdout",
     "output_type": "stream",
     "text": [
      " ."
     ]
    },
    {
     "name": "stdout",
     "output_type": "stream",
     "text": [
      " ."
     ]
    },
    {
     "name": "stdout",
     "output_type": "stream",
     "text": [
      " ."
     ]
    },
    {
     "name": "stdout",
     "output_type": "stream",
     "text": [
      " ."
     ]
    },
    {
     "name": "stdout",
     "output_type": "stream",
     "text": [
      " 170000\n"
     ]
    },
    {
     "name": "stdout",
     "output_type": "stream",
     "text": [
      "."
     ]
    },
    {
     "name": "stdout",
     "output_type": "stream",
     "text": [
      " ."
     ]
    },
    {
     "name": "stdout",
     "output_type": "stream",
     "text": [
      "\n"
     ]
    }
   ],
   "source": [
    "pars = ModelParameters(av, oos_start=factor_build_end+YEAR, depth=3, lmbd=10, verbose=True)\n",
    "fl = FactorList(av, factornames_trimmed)\n",
    "fl.preprocess(pars)\n",
    "factors = fl.asmatrix()"
   ]
  },
  {
   "cell_type": "code",
   "execution_count": 8,
   "metadata": {
    "collapsed": true
   },
   "outputs": [
    {
     "name": "stderr",
     "output_type": "stream",
     "text": [
      "INFO:models:Fitting slice 0\n"
     ]
    },
    {
     "name": "stderr",
     "output_type": "stream",
     "text": [
      "prediction/models/fit_model.py:153: RuntimeWarning: divide by zero encountered in log\n  stats, self.step2probs[sl] = self.concat_and_fit(strata, result, nonrunner, [fback, flay, np.log(probs)], ts_idx, valid2, verbose=False, step=2)\n"
     ]
    },
    {
     "name": "stderr",
     "output_type": "stream",
     "text": [
      "INFO:models:Fitting slice 1\n"
     ]
    },
    {
     "name": "stderr",
     "output_type": "stream",
     "text": [
      "INFO:models:Fitting slice 2\n"
     ]
    },
    {
     "name": "stderr",
     "output_type": "stream",
     "text": [
      "INFO:models:Fitting slice 3\n"
     ]
    },
    {
     "name": "stderr",
     "output_type": "stream",
     "text": [
      "INFO:models:Fitting slice 4\n"
     ]
    },
    {
     "name": "stderr",
     "output_type": "stream",
     "text": [
      "INFO:models:Fitting slice 5\n"
     ]
    },
    {
     "name": "stderr",
     "output_type": "stream",
     "text": [
      "INFO:models:Fitting slice 6\n"
     ]
    },
    {
     "name": "stderr",
     "output_type": "stream",
     "text": [
      "INFO:models:Fitting slice 7\n"
     ]
    },
    {
     "name": "stderr",
     "output_type": "stream",
     "text": [
      "INFO:models:Fitting slice 8\n"
     ]
    },
    {
     "name": "stderr",
     "output_type": "stream",
     "text": [
      "INFO:models:Fitting slice 9\n"
     ]
    }
   ],
   "source": [
    "tsmod = TSModel(factors, tsav, pars)\n",
    "tsmod.fit_slices()"
   ]
  },
  {
   "cell_type": "code",
   "execution_count": 9,
   "metadata": {
    "collapsed": true
   },
   "outputs": [
    {
     "name": "stdout",
     "output_type": "stream",
     "text": [
      "  0:                                                              TJCTypeROI    t-score sum:  nan\n  1:                                                              z027f9f0f5    t-score sum: 97.26\n  2:                                                              zec0c22a48    t-score sum: 88.50\n  3:                                                              zac38414de    t-score sum: 69.23\n  4:                                                              z6809c316d    t-score sum: 61.82\n  5:                                                              z412893062    t-score sum: 60.03\n  6:                                                              ze4c91eac0    t-score sum: 58.04\n  7:                                                              z245159235    t-score sum: 56.79\n  8:                                                              z5981b9f89    t-score sum: 55.10\n  9:                                                              z77c9cc0a5    t-score sum: 51.56\n 10:                                                             StallNumber    t-score sum: 47.73\n 11:                                                              z34b78e584    t-score sum: 46.93\n 12:                                                              z36b8bffe0    t-score sum: 45.64\n 13:                                                              zc31456152    t-score sum: 42.67\n 14:                                                              zb5dc14260    t-score sum: 42.53\n 15:                                                              zc6614c5ee    t-score sum: 41.70\n 16:                                                              zb87666d6d    t-score sum: 40.71\n 17:                                                              z4cac73de3    t-score sum: 36.47\n 18:                                                               FormTrend    t-score sum: 35.53\n 19:                                                              zbba3f4349    t-score sum: 35.04\n 20:                                                              z50810021e    t-score sum: 33.10\n 21:                                                              z7603edce1    t-score sum: 29.76\n 22:                                                              zd7cd94e4c    t-score sum: 29.17\n 23:                                                             Sire_Age_PL    t-score sum: 29.00\n 24:                                                             RAdjRanking    t-score sum: 28.00\n 25:                                                       Sire_RaceClass_SR    t-score sum: 27.45\n 26:                                                              z1b0bd4349    t-score sum: 27.44\n 27:                                                        Dam_RaceClass_SR    t-score sum: 26.97\n 28:                                                              z5873666ab    t-score sum: 26.95\n 29:                                                            Race3RunsAgo    t-score sum: 26.52\n 30:                                                              Dam_Age_PL    t-score sum: 25.71\n 31:                                                              zce609d953    t-score sum: 25.23\n 32:                                                              zb85d3de89    t-score sum: 24.69\n 33:                                                   Race5RunsAgoRaceClass    t-score sum: 24.55\n 34:                                                              zd81bcd220    t-score sum: 24.28\n 35:                                                ClassWeightDiffWinsTotal    t-score sum: 24.17\n 36:                                                              zec3f8f8b9    t-score sum: 23.80\n 37:                                                      Sire_RaceClass_Win    t-score sum: 23.57\n 38:                                               Race4RunsAgoRaceClassType    t-score sum: 23.53\n 39:                                                            TRF04WeeksPL    t-score sum: 22.50\n 40:                                                              z0f50ce7c0    t-score sum: 22.24\n 41:                                                              z3d11336f4    t-score sum: 22.16\n 42:                                                              z2a6963635    t-score sum: 21.99\n 43:                                                             FormLastRun    t-score sum: 21.86\n 44:                                                              zb392bb74a    t-score sum: 20.91\n 45:                                                              ClsRanking    t-score sum: 20.84\n 46:                                                WeightDiffWinsDifference    t-score sum: 20.75\n 47:                                                              z215129aeb    t-score sum: 20.29\n 48:                                                     ClassDiffDifference    t-score sum: 20.15\n 49:                                                    LastTimeJockeyChange    t-score sum: 19.92\n 50:                                                 ClassDiffWinsDifference    t-score sum: 19.30\n 51:                                                              za5cf91a5d    t-score sum: 19.19\n 52:                                                              z999f82560    t-score sum: 19.19\n 53:                                                       Sire_RaceType_Run    t-score sum: 19.09\n 54:                                                       Dam_RaceClass_ROI    t-score sum: 18.58\n 55:                                                                   TJROI    t-score sum: 18.03\n 56:                                                     WinClassProbability    t-score sum: 18.02\n 57:                                               WeightDiffDifference1Year    t-score sum: 18.02\n 58:                                                    WeightDiffDifference    t-score sum: 17.85\n 59:                                                              z37a191205    t-score sum: 17.06\n 60:                                                              z106842cce    t-score sum: 17.02\n 61:                                                              zf50212bfb    t-score sum: 17.00\n 62:                                                              z48f6dddd1    t-score sum: 16.84\n 63:                                                            Sire_Age_ROI    t-score sum: 16.78\n 64:                                                         Dam_RaceType_AE    t-score sum: 16.64\n 65:                                                  Sire_AdjacentGoing_Run    t-score sum: 16.54\n 66:                                                             Sire_All_PL    t-score sum: 16.52\n 67:                                                                 TJCRuns    t-score sum: 16.47\n 68:                                                                    TJPL    t-score sum: 16.16\n 69:                                      ClassWeightDiffWinsDifference1Year    t-score sum: 15.87\n 70:                                                                 TJCWins    t-score sum: 15.66\n 71:                                                              z7081bf371    t-score sum: 15.66\n 72:                                                   Dam_AdjacentGoing_Win    t-score sum: 15.20\n 73:                                               KouldsScore_RaceClass_Dam    t-score sum: 15.15\n 74:                                                              z6c84925d1    t-score sum: 14.56\n 75:                                          ClassWeightDiffDifference1Year    t-score sum: 14.47\n 76:                                                              CourseWins    t-score sum: 14.10\n 77:                                                                  JCRuns    t-score sum: 14.10\n 78:                                                              z6f1eaa94d    t-score sum: 13.75\n 79:                                                                    JCSR    t-score sum: 13.75\n 80:                                                     TrainerLast10RunsPL    t-score sum: 13.62\n 81:                                                       Sire_Distance_Run    t-score sum: 13.45\n 82:                                                             Dam_Age_ROI    t-score sum: 13.05\n 83:                                           DifferentialRankingClass1Year    t-score sum: 12.90\n 84:                                                              z779f698c0    t-score sum: 12.78\n 85:                                                 ClassWeightDiffWinsRuns    t-score sum: 12.54\n 86:                                                     WeightDiffWinsTotal    t-score sum: 12.44\n 87:                                                   Dam_GoingDistance_ROI    t-score sum: 12.14\n 88:                                               BetFairSPForecastWinPrice    t-score sum: 12.11\n 89:                                                     TrainerCalendarWins    t-score sum: 11.70\n 90:                                                              za5c443236    t-score sum: 11.56\n 91:                                                                    TCPL    t-score sum: 11.54\n 92:                                                    Race2RunsAgoRaceType    t-score sum: 11.16\n 93:                                                               TJCTypePL    t-score sum: 11.05\n 94:                                                                  TJCROI    t-score sum: 11.01\n 95:                                                              z8ca2ea7f2    t-score sum: 10.61\n 96:                                                WeightDiffWinsTotal1Year    t-score sum: 10.43\n 97:                                                       KouldsScore_Total    t-score sum: 10.35\n 98:                                                              zbe307f294    t-score sum: 9.84\n 99:                                              WeightDiffWinsAverage1Year    t-score sum: 9.81\n100:                                                             WinFRanking    t-score sum: 9.62\n101:                                                   WeightDiffWinsAverage    t-score sum: 9.40\n102:                                                          Sire_Going_Run    t-score sum: 9.34\n103:                                                            JockeyRating    t-score sum: 9.33\n104:                                                    TrainerLast10RunsROI    t-score sum: 9.32\n105:                                         DifferentialRankingWeight5Years    t-score sum: 9.22\n106:                                                        DaysSinceLastRun    t-score sum: 9.06\n107:                                                              z953916863    t-score sum: 8.93\n108:                                                            TRF02WeeksSR    t-score sum: 8.72\n109:                                                   TrainerLast10RunsWins    t-score sum: 8.72\n110:                                                       TrainerCalendarPL    t-score sum: 8.65\n111:                                                        Sire_Distance_SR    t-score sum: 8.61\n112:                                                              z81f2598ec    t-score sum: 8.48\n113:                                                              Dam_All_AE    t-score sum: 8.46\n114:                                             BetFairSPForecastPlacePrice    t-score sum: 8.44\n115:                                                          TRF04WeeksRuns    t-score sum: 8.43\n116:                                                            Dam_Going_AE    t-score sum: 8.34\n117:                                                              z6f11029f7    t-score sum: 8.15\n118:                                                    TrainerLast40RunsROI    t-score sum: 7.91\n119:                                                        Dam_Distance_ROI    t-score sum: 7.56\n120:                                                       Sire_RaceClass_PL    t-score sum: 7.49\n121:                                                              zd393eb79d    t-score sum: 7.36\n122:                                                              LstRanking    t-score sum: 7.32\n123:                                                       LastTimeClassDrop    t-score sum: 7.24\n124:                                                   Dam_AdjacentGoing_ROI    t-score sum: 7.14\n125:                                                           TRF20RunsWins    t-score sum: 6.96\n126:                                              RawAdjustedForAgeAndWeight    t-score sum: 6.84\n127:                                                              HCPRanking    t-score sum: 6.48\n128:                                                            Distance4ago    t-score sum: 6.47\n129:                                                              zf47a136cc    t-score sum: 6.43\n130:                                                              z28e932d84    t-score sum: 6.43\n131:                                                                  weight    t-score sum: 6.27\n132:                                                    Dam_DistanceRange_SR    t-score sum: 6.21\n133:                                               ClassDiffWinsAverage1Year    t-score sum: 6.20\n134:                                            RacesSincePreviousTrainerWin    t-score sum: 6.12\n135:                                                          Weight(Pounds)    t-score sum: 5.96\n136:                                                          TRF02WeeksWins    t-score sum: 5.94\n137:                                                                   Class    t-score sum: 5.93\n138:                                                              z4a6755a99    t-score sum: 5.86\n139:                                                              zef5a850eb    t-score sum: 5.86\n140:                                                         RatingsPosition    t-score sum: 5.83\n141:                                                          Trainer5YearSR    t-score sum: 5.67\n142:                                                                   TCROI    t-score sum: 5.56\n143:                                                              z44cf2d196    t-score sum: 5.40\n144:                                                          ValuePlaceOdds    t-score sum: 5.35\n145:                                                       TrainerCalendarSR    t-score sum: 5.14\n146:                                                              zae03d13a5    t-score sum: 5.14\n147:                                                              z8d2862a46    t-score sum: 5.09\n148:                                                 WeightDiffWinsRuns1Year    t-score sum: 5.04\n149:                                                    KouldsScore_Age_Sire    t-score sum: 4.83\n150:                                                                   TJCPL    t-score sum: 4.68\n151:                                                      TrainerCalendarROI    t-score sum: 4.63\n152:                                                   ClassDiffAverage1Year    t-score sum: 4.61\n153:                                DifferentialRankingClassWeight5YearsWins    t-score sum: 4.51\n154:                                                                    TJSR    t-score sum: 4.40\n155:                                                          TRF02WeeksRuns    t-score sum: 4.31\n156:                                                      LastTimeWeightDrop    t-score sum: 4.31\n157:                                                              z4fdabfabc    t-score sum: 4.30\n158:                                                        Dam_RaceType_Win    t-score sum: 4.30\n159:                                                                  TCRuns    t-score sum: 4.29\n160:                                                                 7DaysSR    t-score sum: 4.02\n161:                                     DifferentialRankingClassWeight1Year    t-score sum: 3.89\n162:                                                       WeightDiffAverage    t-score sum: 3.88\n163:                                                             TJCTypeRuns    t-score sum: 3.84\n164:                                               ClassWeightDiffTotal1Year    t-score sum: 3.66\n165:                                                                7DaysROI    t-score sum: 3.59\n166:                                                   Sire_AdjacentGoing_SR    t-score sum: 3.54\n167:                                                         Dam_Distance_AE    t-score sum: 3.52\n168:                                                          TrainerRanking    t-score sum: 3.33\n169:                                                    Dam_GoingDistance_PL    t-score sum: 3.29\n170:                                                                   JCROI    t-score sum: 3.29\n171:                                                       Sire_RaceType_Win    t-score sum: 3.15\n172:                                                            DistanceLast    t-score sum: 3.03\n173:                                                  WeightDiffAverage1Year    t-score sum: 2.94\n174:                                                        Sire_RaceType_PL    t-score sum: 2.92\n175:                                                          Trainer5YearPL    t-score sum: 2.82\n176:                                         WinClassProbability(Normalised)    t-score sum: 2.82\n177:                                                        Sire_RaceType_AE    t-score sum: 2.65\n178:                                                      WeightDiffWinsRuns    t-score sum: 2.63\n179:                                              ClassWeightDiffWinsAverage    t-score sum: 2.56\n180:                                                  Sire_AdjacentGoing_ROI    t-score sum: 2.53\n181:                                                       Sire_RaceType_ROI    t-score sum: 2.34\n182:                                                       Sire_Distance_Win    t-score sum: 2.30\n183:                                                   Dam_Going_Distance_SR    t-score sum: 2.25\n184:                                                                 7DaysPL    t-score sum: 2.18\n185:                                                        Dam_RaceType_ROI    t-score sum: 2.10\n186:                                                         Dam_Distance_SR    t-score sum: 2.07\n187:                                           ClassWeightDiffWinsDifference    t-score sum: 2.06\n188:                                                            Dam_Going_SR    t-score sum: 1.71\n189:                                                         Trainer5YearROI    t-score sum: 1.60\n190:                                                    Dam_DistanceRange_PL    t-score sum: 1.56\n191:                                                ClassWeightDiffRuns1Year    t-score sum: 1.54\n192:                                                       ClassDiffWinsRuns    t-score sum: 1.51\n193:                                                         Dam_RaceType_PL    t-score sum: 1.49\n194:                                                              Dam_Age_SR    t-score sum: 1.42\n195:                                                     WeightDiffRuns1Year    t-score sum: 1.18\n196:                                                   Race4RunsAgoRaceClass    t-score sum: 1.14\n"
     ]
    }
   ],
   "source": [
    "sorted_factors = print_factor_order(tsmod.stats1, factornames_trimmed)"
   ]
  },
  {
   "cell_type": "code",
   "execution_count": 10,
   "metadata": {},
   "outputs": [],
   "source": [
    "tsmod.write_simdata('simdata.p')"
   ]
  },
  {
   "cell_type": "code",
   "execution_count": null,
   "metadata": {},
   "outputs": [],
   "source": []
  }
 ],
 "metadata": {
  "kernelspec": {
   "display_name": "Python 2",
   "language": "python",
   "name": "python2"
  },
  "language_info": {
   "codemirror_mode": {
    "name": "ipython",
    "version": 2
   },
   "file_extension": ".py",
   "mimetype": "text/x-python",
   "name": "python",
   "nbconvert_exporter": "python",
   "pygments_lexer": "ipython2",
   "version": "2.7.13"
  }
 },
 "nbformat": 4,
 "nbformat_minor": 0
}
