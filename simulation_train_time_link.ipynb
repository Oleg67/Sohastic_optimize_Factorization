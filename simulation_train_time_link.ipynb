{
 "cells": [
  {
   "cell_type": "markdown",
   "metadata": {
    "collapsed": true
   },
   "source": [
    "# ThoroughBet Simulation"
   ]
  },
  {
   "cell_type": "markdown",
   "metadata": {},
   "source": [
    "\n",
    "## Load necessary modules"
   ]
  },
  {
   "cell_type": "code",
   "execution_count": 68,
   "metadata": {
    "collapsed": true
   },
   "outputs": [],
   "source": [
    "import numpy as np\n",
    "\n",
    "from thbmodel.utils import timestamp, YEAR, MONTH,settings\n",
    "from thbmodel.utils.arrayview import ArrayView, TimeseriesView\n",
    "\n",
    "from thbmodel.prediction.models.fit_model import TSModel\n",
    "from thbmodel.prediction.models.model_parameters import ModelParameters\n",
    "from thbmodel.prediction.models.factor_management import FactorList\n",
    "from thbmodel.prediction.models.preprocessing import load_slices\n",
    "\n",
    "from thbmodel.prediction.models.prediction import factornames_trimmed\n",
    "from thbmodel.prediction.models.parameters import factor_build_end"
   ]
  },
  {
   "cell_type": "markdown",
   "metadata": {},
   "source": [
    "## Load data"
   ]
  },
  {
   "cell_type": "code",
   "execution_count": 2,
   "metadata": {
    "collapsed": true
   },
   "outputs": [],
   "source": [
    "av = ArrayView.from_file(settings.paths.join('racing_data_azd.av.bcolz'))\n",
    "tsav = load_slices()"
   ]
  },
  {
   "cell_type": "markdown",
   "metadata": {},
   "source": [
    "## Preprocessing"
   ]
  },
  {
   "cell_type": "code",
   "execution_count": 124,
   "metadata": {},
   "outputs": [],
   "source": [
    "build_end =float(timestamp('2016-01-01'))\n",
    "oos_start =float(timestamp('2017-04-01'))\n",
    "pars = ModelParameters(av, build_end =build_end, oos_start =oos_start, depth=1, lmbd=10, verbose=False)"
   ]
  },
  {
   "cell_type": "code",
   "execution_count": 113,
   "metadata": {
    "collapsed": true
   },
   "outputs": [],
   "source": [
    "#pars.is1, pars.is2, pars.oos = pars.get_model_mask(pars.valid, t0 =build_ends, t1 = build_ends + size,   t2= pars.oos_start)"
   ]
  },
  {
   "cell_type": "code",
   "execution_count": 125,
   "metadata": {
    "collapsed": true
   },
   "outputs": [],
   "source": [
    "fl = FactorList.from_av(av, factornames_trimmed)"
   ]
  },
  {
   "cell_type": "code",
   "execution_count": 126,
   "metadata": {
    "collapsed": true
   },
   "outputs": [],
   "source": [
    "fl.preprocess(pars)\n",
    "factors = fl.asmatrix()"
   ]
  },
  {
   "cell_type": "code",
   "execution_count": 127,
   "metadata": {},
   "outputs": [
    {
     "name": "stdout",
     "output_type": "stream",
     "text": [
      "is1_start   2016-01-01 12:20:00.000000\n",
      "is1_end   2017-03-31 16:00:00.000000\n",
      "oos_start   2017-04-01 12:30:00.000000\n",
      "oos_end   2017-08-20 15:00:00.000000\n"
     ]
    }
   ],
   "source": [
    "print 'is1_start  ',(timestamp(av.start_time[pars.is1][0]))\n",
    "print 'is1_end  ',(timestamp(av.start_time[pars.is1][-1]))\n",
    "print 'oos_start  ',(timestamp(av.start_time[pars.oos][0]))\n",
    "print 'oos_end  ',(timestamp(av.start_time[pars.oos][-1]))"
   ]
  },
  {
   "cell_type": "markdown",
   "metadata": {},
   "source": [
    "### Fit conditional logit model"
   ]
  },
  {
   "cell_type": "code",
   "execution_count": 100,
   "metadata": {
    "collapsed": true
   },
   "outputs": [],
   "source": [
    "tsmod = TSModel(factors, tsav, pars)"
   ]
  },
  {
   "cell_type": "code",
   "execution_count": 101,
   "metadata": {},
   "outputs": [
    {
     "name": "stdout",
     "output_type": "stream",
     "text": [
      "LL................\n",
      "[[-1841.16182972 -1960.6539293  -1960.6539293 ]\n",
      " [-1844.86130674 -1959.09698053 -1959.09698053]\n",
      " [-1848.26303751 -1958.50214244 -1958.50214244]\n",
      " [-1850.00801382 -1956.65444002 -1956.65444002]\n",
      " [-1860.49858527 -1951.57092557 -1951.57092557]\n",
      " [-1869.62229867 -1949.93409626 -1949.93409626]\n",
      " [-1894.48240492 -1948.51826749 -1948.51826749]\n",
      " [-1903.44091623 -1946.15696686 -1946.15696686]\n",
      " [-1906.14729081 -1947.78232804 -1947.78232804]\n",
      " [-1908.25121082 -1946.75381435 -1946.75381435]\n",
      " [           nan            nan            nan]]\n"
     ]
    }
   ],
   "source": [
    "tsmod.fit_slices()\n",
    "print 'LL................'\n",
    "print tsmod.stats2.ll"
   ]
  },
  {
   "cell_type": "markdown",
   "metadata": {},
   "source": [
    "### Fit some models with different train set "
   ]
  },
  {
   "cell_type": "code",
   "execution_count": 117,
   "metadata": {
    "collapsed": true
   },
   "outputs": [],
   "source": [
    "is1 = pars.is1.copy()\n",
    "is2 = pars.is2.copy()\n",
    "oos = pars.oos.copy()"
   ]
  },
  {
   "cell_type": "code",
   "execution_count": 128,
   "metadata": {},
   "outputs": [
    {
     "data": {
      "text/plain": [
       "15"
      ]
     },
     "execution_count": 128,
     "metadata": {},
     "output_type": "execute_result"
    }
   ],
   "source": [
    "int((av.start_time[pars.is1][-1] - av.start_time[pars.is1][0])/MONTH)"
   ]
  },
  {
   "cell_type": "code",
   "execution_count": 147,
   "metadata": {
    "scrolled": false
   },
   "outputs": [
    {
     "name": "stdout",
     "output_type": "stream",
     "text": [
      "is1_start   2016-01-01 12:20:00.000000\n",
      "is1_end   2016-01-30 16:30:00.000000\n",
      "oos_start   2017-04-01 12:30:00.000000\n",
      "oos_end   2017-08-20 15:00:00.000000\n",
      "LL..............\n",
      "[[-1850.32272013 -2003.58575772 -2003.58575772]\n",
      " [-1854.93050535 -2001.89553867 -2001.89553867]\n",
      " [-1859.26068304 -2001.14071747 -2001.14071747]\n",
      " [-1861.81125949 -1997.97661506 -1997.97661506]\n",
      " [-1875.60072556 -1990.27523102 -1990.27523102]\n",
      " [-1887.30708519 -1986.79043397 -1986.79043397]\n",
      " [-1917.14926934 -1982.91217796 -1982.91217796]\n",
      " [-1929.06132583 -1976.46067764 -1976.46067764]\n",
      " [-1931.9202772  -1977.23270048 -1977.23270048]\n",
      " [-1936.40384811 -1972.70498522 -1972.70498522]\n",
      " [           nan            nan            nan]]\n",
      "is1_start   2016-01-31 13:30:00.000000\n",
      "is1_end   2016-02-29 17:00:00.000000\n",
      "oos_start   2017-04-01 12:30:00.000000\n",
      "oos_end   2017-08-20 15:00:00.000000\n",
      "LL..............\n",
      "[[-1849.46854147 -2021.9674612  -2021.9674612 ]\n",
      " [-1854.37636472 -2019.22517246 -2019.22517246]\n",
      " [-1859.08483517 -2017.62154763 -2017.62154763]\n",
      " [-1862.43730674 -2013.71310278 -2013.71310278]\n",
      " [-1877.82242032 -2002.77562981 -2002.77562981]\n",
      " [-1890.72338625 -1998.02693792 -1998.02693792]\n",
      " [-1922.3605108  -1990.16763881 -1990.16763881]\n",
      " [-1935.50401    -1981.86675401 -1981.86675401]\n",
      " [-1939.0757036  -1982.06480529 -1982.06480529]\n",
      " [-1944.72569685 -1977.01172107 -1977.01172107]\n",
      " [           nan            nan            nan]]\n",
      "is1_start   2016-03-01 14:10:00.000000\n",
      "is1_end   2016-03-30 19:25:00.000000\n",
      "oos_start   2017-04-01 12:30:00.000000\n",
      "oos_end   2017-08-20 15:00:00.000000\n",
      "LL..............\n",
      "[[-1839.40270724 -2060.24002269 -2060.24002269]\n",
      " [-1844.65537773 -2055.41615517 -2055.41615517]\n",
      " [-1849.9368078  -2052.74794155 -2052.74794155]\n",
      " [-1853.81947678 -2046.78179443 -2046.78179443]\n",
      " [-1871.61294889 -2030.79843503 -2030.79843503]\n",
      " [-1885.74578165 -2022.96143702 -2022.96143702]\n",
      " [-1921.48493124 -2009.04091555 -2009.04091555]\n",
      " [-1938.28881365 -1994.18138901 -1994.18138901]\n",
      " [-1942.58221901 -1992.36658412 -1992.36658412]\n",
      " [-1950.54547713 -1979.97319228 -1979.97319228]\n",
      " [           nan            nan            nan]]\n",
      "is1_start   2016-03-31 13:00:00.000000\n",
      "is1_end   2016-04-29 19:20:00.000000\n",
      "oos_start   2017-04-01 12:30:00.000000\n",
      "oos_end   2017-08-20 15:00:00.000000\n",
      "LL..............\n",
      "[[-1812.49955975 -2164.19343403 -2164.19343403]\n",
      " [-1819.15095436 -2157.25626031 -2157.25626031]\n",
      " [-1825.61922662 -2150.87479874 -2150.87479874]\n",
      " [-1830.93732932 -2141.70210173 -2141.70210173]\n",
      " [-1853.20548658 -2111.747592   -2111.747592  ]\n",
      " [-1869.84535295 -2097.10320609 -2097.10320609]\n",
      " [-1912.47463612 -2070.01479008 -2070.01479008]\n",
      " [-1934.85683828 -2037.13003982 -2037.13003982]\n",
      " [-1940.76026724 -2029.04047519 -2029.04047519]\n",
      " [-1954.56161401 -1997.99086648 -1997.99086648]\n",
      " [           nan            nan            nan]]\n",
      "is1_start   2016-04-30 13:00:00.000000\n",
      "is1_end   2016-05-29 16:45:00.000000\n",
      "oos_start   2017-04-01 12:30:00.000000\n",
      "oos_end   2017-08-20 15:00:00.000000\n",
      "LL..............\n",
      "[[-1803.55210528 -2173.30766663 -2173.30766663]\n",
      " [-1810.00390056 -2169.41261019 -2169.41261019]\n",
      " [-1816.63576288 -2166.77358247 -2166.77358247]\n",
      " [-1822.73722932 -2158.35548819 -2158.35548819]\n",
      " [-1843.30221849 -2126.63599521 -2126.63599521]\n",
      " [-1861.33857257 -2117.64140758 -2117.64140758]\n",
      " [-1904.79452376 -2100.3027804  -2100.3027804 ]\n",
      " [-1922.79262219 -2038.41554694 -2038.41554694]\n",
      " [-1928.44723001 -2034.72673259 -2034.72673259]\n",
      " [-1935.29521227 -1989.29456367 -1989.29456367]\n",
      " [           nan            nan            nan]]\n",
      "is1_start   2016-05-30 12:50:00.000000\n",
      "is1_end   2016-06-28 20:10:00.000000\n",
      "oos_start   2017-04-01 12:30:00.000000\n",
      "oos_end   2017-08-20 15:00:00.000000\n",
      "LL..............\n",
      "[[-1799.37038935 -2179.90223182 -2179.90223182]\n",
      " [-1805.10960648 -2173.69491961 -2173.69491961]\n",
      " [-1811.83915767 -2172.40646674 -2172.40646674]\n",
      " [-1817.26494204 -2160.29678636 -2160.29678636]\n",
      " [-1837.55290657 -2140.92324902 -2140.92324902]\n",
      " [-1856.45244968 -2132.02681013 -2132.02681013]\n",
      " [-1893.79546683 -2066.79067967 -2066.79067967]\n",
      " [-1909.2194751  -2021.93228632 -2021.93228632]\n",
      " [-1914.01243744 -2014.3271891  -2014.3271891 ]\n",
      " [-1920.36084394 -1984.98255097 -1984.98255097]\n",
      " [           nan            nan            nan]]\n",
      "is1_start   2016-06-29 13:10:00.000000\n",
      "is1_end   2016-07-28 19:55:00.000000\n",
      "oos_start   2017-04-01 12:30:00.000000\n",
      "oos_end   2017-08-20 15:00:00.000000\n",
      "LL..............\n",
      "[[-1794.59606609 -2173.12141266 -2173.12141266]\n",
      " [-1800.4444122  -2170.20015861 -2170.20015861]\n",
      " [-1807.53330388 -2165.94814689 -2165.94814689]\n",
      " [-1812.90110561 -2156.76859586 -2156.76859586]\n",
      " [-1835.42433258 -2128.96144758 -2128.96144758]\n",
      " [-1852.89227325 -2096.60450795 -2096.60450795]\n",
      " [-1890.43955418 -2059.91561576 -2059.91561576]\n",
      " [-1902.39933212 -2012.47874833 -2012.47874833]\n",
      " [-1909.37735304 -2012.86808999 -2012.86808999]\n",
      " [-1917.1860826  -1986.41227729 -1986.41227729]\n",
      " [           nan            nan            nan]]\n",
      "is1_start   2016-07-29 13:00:00.000000\n",
      "is1_end   2016-08-27 18:50:00.000000\n",
      "oos_start   2017-04-01 12:30:00.000000\n",
      "oos_end   2017-08-20 15:00:00.000000\n",
      "LL..............\n",
      "[[-1794.4107296  -2176.92753201 -2176.92753201]\n",
      " [-1799.803379   -2173.82709573 -2173.82709573]\n",
      " [-1807.25390374 -2169.5716719  -2169.5716719 ]\n",
      " [-1813.0229843  -2160.59747846 -2160.59747846]\n",
      " [-1836.66786164 -2134.17514581 -2134.17514581]\n",
      " [-1853.6124674  -2106.27295864 -2106.27295864]\n",
      " [-1894.17403748 -2070.38259382 -2070.38259382]\n",
      " [-1908.40493144 -2032.78268042 -2032.78268042]\n",
      " [-1914.6332411  -2024.50904864 -2024.50904864]\n",
      " [-1924.74611525 -1991.23295651 -1991.23295651]\n",
      " [           nan            nan            nan]]\n",
      "is1_start   2016-08-28 13:05:00.000000\n",
      "is1_end   2016-09-26 15:30:00.000000\n",
      "oos_start   2017-04-01 12:30:00.000000\n",
      "oos_end   2017-08-20 15:00:00.000000\n",
      "LL..............\n",
      "[[-1779.11796255 -2184.2804158  -2184.2804158 ]\n",
      " [-1784.81327736 -2185.86400342 -2185.86400342]\n",
      " [-1793.44433695 -2184.09733697 -2184.09733697]\n",
      " [-1799.41876157 -2178.68890913 -2178.68890913]\n",
      " [-1820.04759832 -2143.88066677 -2143.88066677]\n",
      " [-1838.50391231 -2131.0905501  -2131.0905501 ]\n",
      " [-1875.13382357 -2089.6625988  -2089.6625988 ]\n",
      " [-1888.6984617  -2060.09650883 -2060.09650883]\n",
      " [-1896.40028782 -2064.94652742 -2064.94652742]\n",
      " [-1915.42764456 -2028.57056059 -2028.57056059]\n",
      " [           nan            nan            nan]]\n",
      "is1_start   2016-09-27 13:20:00.000000\n",
      "is1_end   2016-10-26 20:15:00.000000\n",
      "oos_start   2017-04-01 12:30:00.000000\n",
      "oos_end   2017-08-20 15:00:00.000000\n",
      "LL..............\n",
      "[[-1756.26402715 -2165.11482351 -2165.11482351]\n",
      " [-1762.76497798 -2165.52051468 -2165.52051468]\n",
      " [-1770.58562646 -2155.69267576 -2155.69267576]\n",
      " [-1777.56225005 -2144.49031845 -2144.49031845]\n",
      " [-1799.20356253 -2125.68772772 -2125.68772772]\n",
      " [-1815.17767038 -2106.78530486 -2106.78530486]\n",
      " [-1856.68338488 -2079.54532617 -2079.54532617]\n",
      " [-1866.4919346  -2035.14281452 -2035.14281452]\n",
      " [-1871.84517013 -2028.56395176 -2028.56395176]\n",
      " [-1882.62046425 -1992.15112348 -1992.15112348]\n",
      " [           nan            nan            nan]]\n",
      "is1_start   2016-10-27 12:40:00.000000\n",
      "is1_end   2016-11-25 21:00:00.000000\n",
      "oos_start   2017-04-01 12:30:00.000000\n",
      "oos_end   2017-08-20 15:00:00.000000\n",
      "LL..............\n",
      "[[-1758.14835405 -2178.76367717 -2178.76367717]\n",
      " [-1764.08552783 -2178.30622089 -2178.30622089]\n",
      " [-1771.89567035 -2173.90771835 -2173.90771835]\n",
      " [-1779.30968972 -2167.28357683 -2167.28357683]\n",
      " [-1800.20449588 -2137.62740349 -2137.62740349]\n",
      " [-1814.34412884 -2129.2664188  -2129.2664188 ]\n",
      " [-1859.71822999 -2102.26510598 -2102.26510598]\n",
      " [-1873.96153592 -2087.53478517 -2087.53478517]\n",
      " [-1878.31201231 -2067.71945757 -2067.71945757]\n",
      " [-1886.16292403 -2005.53228013 -2005.53228013]\n",
      " [           nan            nan            nan]]\n",
      "is1_start   2016-11-26 14:55:00.000000\n",
      "is1_end   2016-12-23 20:00:00.000000\n",
      "oos_start   2017-04-01 12:30:00.000000\n",
      "oos_end   2017-08-20 15:00:00.000000\n",
      "LL..............\n",
      "[[-1746.03791298 -2195.45244616 -2195.45244616]\n",
      " [-1750.53611076 -2201.09304039 -2201.09304039]\n",
      " [-1759.3880352  -2197.25972957 -2197.25972957]\n",
      " [-1768.15738465 -2186.08563542 -2186.08563542]\n",
      " [-1793.96308611 -2165.93038409 -2165.93038409]\n",
      " [-1805.93973162 -2160.58570137 -2160.58570137]\n",
      " [-1850.23211816 -2104.71186023 -2104.71186023]\n",
      " [-1865.18344355 -2079.20055223 -2079.20055223]\n",
      " [-1869.21858516 -2064.57902835 -2064.57902835]\n",
      " [-1886.29718347 -2028.771659   -2028.771659  ]\n",
      " [           nan            nan            nan]]\n",
      "is1_start   2016-12-26 12:00:00.000000\n",
      "is1_end   2017-01-24 14:40:00.000000\n",
      "oos_start   2017-04-01 12:30:00.000000\n",
      "oos_end   2017-08-20 15:00:00.000000\n"
     ]
    },
    {
     "name": "stdout",
     "output_type": "stream",
     "text": [
      "LL..............\n",
      "[[-1714.90458324 -2196.82127758 -2196.82127758]\n",
      " [-1718.04254182 -2197.020804   -2197.020804  ]\n",
      " [-1727.82640705 -2196.55386462 -2196.55386462]\n",
      " [-1736.37238665 -2189.443623   -2189.443623  ]\n",
      " [-1765.68552411 -2168.57941537 -2168.57941537]\n",
      " [-1772.25599048 -2170.76513    -2170.76513   ]\n",
      " [-1822.44740831 -2130.26989622 -2130.26989622]\n",
      " [-1836.31951831 -2099.52736712 -2099.52736712]\n",
      " [-1840.38818106 -2088.88620985 -2088.88620985]\n",
      " [-1860.58179975 -2046.9234085  -2046.9234085 ]\n",
      " [           nan            nan            nan]]\n",
      "is1_start   2017-01-25 16:15:00.000000\n",
      "is1_end   2017-02-23 20:30:00.000000\n",
      "oos_start   2017-04-01 12:30:00.000000\n",
      "oos_end   2017-08-20 15:00:00.000000\n",
      "LL..............\n",
      "[[-1706.17219053 -2188.16575353 -2188.16575353]\n",
      " [-1709.29269387 -2189.60242732 -2189.60242732]\n",
      " [-1719.65636514 -2181.61556619 -2181.61556619]\n",
      " [-1727.56299144 -2170.97258351 -2170.97258351]\n",
      " [-1758.54007597 -2142.90174687 -2142.90174687]\n",
      " [-1762.29264164 -2132.8570567  -2132.8570567 ]\n",
      " [-1801.47671462 -2095.0040767  -2095.0040767 ]\n",
      " [-1820.52179075 -2092.91839428 -2092.91839428]\n",
      " [-1823.93252142 -2086.60886177 -2086.60886177]\n",
      " [-1826.23863966 -2027.25749829 -2027.25749829]\n",
      " [           nan            nan            nan]]\n",
      "is1_start   2017-02-24 14:20:00.000000\n",
      "is1_end   2017-03-25 21:15:00.000000\n",
      "oos_start   2017-04-01 12:30:00.000000\n",
      "oos_end   2017-08-20 15:00:00.000000\n",
      "LL..............\n",
      "[[-1633.74317209 -2206.71416832 -2206.71416832]\n",
      " [-1646.37763246 -2201.86492406 -2201.86492406]\n",
      " [-1658.19188531 -2208.41118708 -2208.41118708]\n",
      " [-1664.12673226 -2212.80613222 -2212.80613222]\n",
      " [-1674.96881417 -2233.17142906 -2233.17142906]\n",
      " [-1676.31497038 -2233.50068782 -2233.50068782]\n",
      " [-1764.44460738 -2193.36191841 -2193.36191841]\n",
      " [-1806.99195505 -2145.73032649 -2145.73032649]\n",
      " [-1817.43368143 -2134.90658963 -2134.90658963]\n",
      " [-1834.91901082 -2095.01433118 -2095.01433118]\n",
      " [           nan            nan            nan]]\n"
     ]
    }
   ],
   "source": [
    "time_model = {}\n",
    "step = MONTH\n",
    "N_model = int((av.start_time[pars.is1][-1] - av.start_time[pars.is1][0])/step)\n",
    "size = MONTH \n",
    "\n",
    "train_ll = np.zeros((N_model))\n",
    "test_ll = np.zeros((N_model))\n",
    "train_ll_mean = np.zeros((N_model))\n",
    "test_ll_mean = np.zeros((N_model))\n",
    "\n",
    "for n in range(N_model):\n",
    "    \n",
    "    if n == 0:\n",
    "        build_ends = build_end \n",
    "    else:\n",
    "        build_ends = build_ends + step\n",
    "    \n",
    "    pars.is1, pars.is2, pars.oos = pars.get_model_mask(pars.valid, t0 =build_ends, \n",
    "                                                       t1 = build_ends + size,\n",
    "                                                       t2= pars.oos_start)\n",
    "    print 'is1_start  ',(timestamp(av.start_time[pars.is1][0]))\n",
    "    print 'is1_end  ',(timestamp(av.start_time[pars.is1][-1]))\n",
    "    print 'oos_start  ',(timestamp(av.start_time[pars.oos][0]))\n",
    "    print 'oos_end  ',(timestamp(av.start_time[pars.oos][-1]))\n",
    "    \n",
    "    time_model[n] = TSModel(factors, tsav, pars)\n",
    "    \n",
    "    \n",
    "    time_model[n].fit_slices()\n",
    "    \n",
    "    print 'LL..............'\n",
    "    print time_model[n].stats2.ll\n",
    "    \n",
    "    train_ll[n] = time_model[n].stats2.ll[-2,0]\n",
    "    test_ll[n] = time_model[n].stats2.ll[-2,2]\n",
    "    train_ll_mean[n] = np.nanmean(time_model[n].stats2.ll, axis =0)[0]\n",
    "    test_ll_mean[n] = np.nanmean(time_model[n].stats2.ll, axis =0)[2]\n",
    "    "
   ]
  },
  {
   "cell_type": "code",
   "execution_count": 130,
   "metadata": {},
   "outputs": [],
   "source": [
    "train_ll_old = np.tile(tsmod.stats2.ll[-2,0], N_model)\n",
    "train_ll_old_mean = np.tile(np.nanmean(tsmod.stats2.ll, axis =0)[0], N_model)\n",
    "test_llold = np.tile(tsmod.stats2.ll[-2,2], N_model)\n",
    "test_ll_old_mean = np.tile(np.nanmean(tsmod.stats2.ll, axis =0)[2], N_model)"
   ]
  },
  {
   "cell_type": "code",
   "execution_count": 178,
   "metadata": {
    "collapsed": true
   },
   "outputs": [],
   "source": [
    " pars.is1, pars.is2, pars.oos =  is1, is2, oos"
   ]
  },
  {
   "cell_type": "code",
   "execution_count": 132,
   "metadata": {},
   "outputs": [
    {
     "name": "stdout",
     "output_type": "stream",
     "text": [
      "\n",
      "LL.....model 1.........\n",
      "[[-1853.73281266 -2002.56742536 -2002.56742536]\n",
      " [-1858.26687354 -2001.39481484 -2001.39481484]\n",
      " [-1862.06542854 -2000.74544518 -2000.74544518]\n",
      " [-1863.5600358  -1995.92082781 -1995.92082781]\n",
      " [-1875.78982823 -1989.6158994  -1989.6158994 ]\n",
      " [-1885.59224415 -1984.11509069 -1984.11509069]\n",
      " [-1914.18351904 -1986.34919019 -1986.34919019]\n",
      " [-1923.5274394  -1979.54773386 -1979.54773386]\n",
      " [-1926.04191119 -1980.18960398 -1980.18960398]\n",
      " [-1929.88842724 -1977.79408312 -1977.79408312]\n",
      " [           nan            nan            nan]]\n",
      "\n",
      "LL.....model 2.........\n",
      "[[-1851.82762214 -1997.80579803 -1997.80579803]\n",
      " [-1855.30084729 -1994.24817518 -1994.24817518]\n",
      " [-1858.79285332 -1993.05427821 -1993.05427821]\n",
      " [-1860.90084187 -1989.55835243 -1989.55835243]\n",
      " [-1871.88310339 -1979.60173757 -1979.60173757]\n",
      " [-1880.92728412 -1975.38513805 -1975.38513805]\n",
      " [-1907.74112099 -1972.19169171 -1972.19169171]\n",
      " [-1919.32690101 -1970.49424167 -1970.49424167]\n",
      " [-1921.6743993  -1969.8968112  -1969.8968112 ]\n",
      " [-1926.21712552 -1967.49262589 -1967.49262589]\n",
      " [           nan            nan            nan]]\n",
      "\n",
      "LL.....model 3.........\n",
      "[[-1857.61162284 -2013.36445009 -2013.36445009]\n",
      " [-1861.22931858 -2009.87976172 -2009.87976172]\n",
      " [-1864.48704133 -2007.8479194  -2007.8479194 ]\n",
      " [-1867.0615503  -2006.45669706 -2006.45669706]\n",
      " [-1878.06413815 -1995.47148703 -1995.47148703]\n",
      " [-1887.24103766 -1989.66447197 -1989.66447197]\n",
      " [-1915.52179707 -1990.24137536 -1990.24137536]\n",
      " [-1925.77258374 -1984.61028193 -1984.61028193]\n",
      " [-1928.91489177 -1986.01708993 -1986.01708993]\n",
      " [-1930.98596577 -1977.42745556 -1977.42745556]\n",
      " [           nan            nan            nan]]\n",
      "\n",
      "LL.....model 4.........\n",
      "[[-1859.61978094 -2024.90290949 -2024.90290949]\n",
      " [-1863.12368095 -2020.59054911 -2020.59054911]\n",
      " [-1866.52395008 -2018.6122859  -2018.6122859 ]\n",
      " [-1868.6705868  -2014.85509452 -2014.85509452]\n",
      " [-1882.32968853 -2012.13109443 -2012.13109443]\n",
      " [-1890.16003022 -2002.64465263 -2002.64465263]\n",
      " [-1917.82360155 -2000.29008373 -2000.29008373]\n",
      " [-1929.70277011 -1996.32802066 -1996.32802066]\n",
      " [-1932.44510755 -1997.52552206 -1997.52552206]\n",
      " [-1937.30778047 -1992.36146946 -1992.36146946]\n",
      " [           nan            nan            nan]]\n",
      "\n",
      "LL.....model 5.........\n",
      "[[-1852.66037056 -1999.74368725 -1999.74368725]\n",
      " [-1856.41989774 -1997.23415876 -1997.23415876]\n",
      " [-1859.64685524 -1994.58333932 -1994.58333932]\n",
      " [-1861.26800022 -1991.16884781 -1991.16884781]\n",
      " [-1872.8582164  -1983.72658215 -1983.72658215]\n",
      " [-1882.60043074 -1981.86138107 -1981.86138107]\n",
      " [-1909.12747395 -1978.66346705 -1978.66346705]\n",
      " [-1918.54938313 -1973.40541705 -1973.40541705]\n",
      " [-1920.23439514 -1972.37761734 -1972.37761734]\n",
      " [-1924.54561069 -1973.03626561 -1973.03626561]\n",
      " [           nan            nan            nan]]\n",
      "\n",
      "LL.....model 6.........\n",
      "[[-1854.95309232 -1998.19867185 -1998.19867185]\n",
      " [-1858.46848531 -1994.52403459 -1994.52403459]\n",
      " [-1862.15579108 -1992.90715462 -1992.90715462]\n",
      " [-1864.28727528 -1990.57276677 -1990.57276677]\n",
      " [-1875.09990533 -1981.99999324 -1981.99999324]\n",
      " [-1886.10092152 -1982.53580324 -1982.53580324]\n",
      " [-1912.36478021 -1977.78723757 -1977.78723757]\n",
      " [-1924.52564398 -1976.23264165 -1976.23264165]\n",
      " [-1926.51251164 -1975.81603679 -1975.81603679]\n",
      " [-1929.52220566 -1971.54449007 -1971.54449007]\n",
      " [           nan            nan            nan]]\n",
      "\n",
      "LL.....model 7.........\n",
      "[[-1861.36616849 -2035.63506467 -2035.63506467]\n",
      " [-1865.71409479 -2035.20614528 -2035.20614528]\n",
      " [-1869.80851948 -2035.07309958 -2035.07309958]\n",
      " [-1871.87064153 -2030.81222541 -2030.81222541]\n",
      " [-1883.05072931 -2016.64573737 -2016.64573737]\n",
      " [-1892.24510816 -2009.28596688 -2009.28596688]\n",
      " [-1919.0313525  -2004.28691451 -2004.28691451]\n",
      " [-1927.34498131 -1992.48906903 -1992.48906903]\n",
      " [-1929.07379412 -1989.84861463 -1989.84861463]\n",
      " [-1933.74762297 -1987.76112193 -1987.76112193]\n",
      " [           nan            nan            nan]]\n",
      "\n",
      "LL.....model 8.........\n",
      "[[-1853.94908188 -2003.80047778 -2003.80047778]\n",
      " [-1857.75554881 -2000.52780073 -2000.52780073]\n",
      " [-1860.77632666 -1997.22552981 -1997.22552981]\n",
      " [-1862.11525779 -1991.21185572 -1991.21185572]\n",
      " [-1873.74914717 -1983.42748448 -1983.42748448]\n",
      " [-1883.47699709 -1980.45710341 -1980.45710341]\n",
      " [-1906.72528969 -1967.42577824 -1967.42577824]\n",
      " [-1917.25301018 -1962.73790631 -1962.73790631]\n",
      " [-1920.13096505 -1964.77169275 -1964.77169275]\n",
      " [-1923.25379733 -1962.37444487 -1962.37444487]\n",
      " [           nan            nan            nan]]\n"
     ]
    }
   ],
   "source": [
    "random_model = {}\n",
    "N_rmodel = 8\n",
    "train_events = np.unique(av.event_id[pars.is1])\n",
    "random_ll = np.zeros_like(tsmod.stats2.ll)\n",
    "\n",
    "\n",
    "for n in range(N_rmodel): \n",
    "    \n",
    "    random_train_events = np.random.choice(train_events, size = int(1./N_model * len(train_events)))\n",
    "\n",
    "    random_model[n] = TSModel(factors, tsav, pars)\n",
    "    random_model[n].params.is1 = is1 & np.in1d(av.event_id, random_train_events)\n",
    "    \n",
    "    random_model[n].fit_slices()\n",
    "    \n",
    "    print \n",
    "    print 'LL.....model {}.........'.format(n+1)\n",
    "    print random_model[n].stats2.ll\n",
    "    \n",
    "    random_ll += random_model[n].stats2.ll\n",
    "random_ll = random_ll/N_rmodel"
   ]
  },
  {
   "cell_type": "code",
   "execution_count": 133,
   "metadata": {
    "collapsed": true
   },
   "outputs": [],
   "source": [
    "train_ll_random = np.tile(random_ll[-2,0], N_model)\n",
    "train_ll_random_mean = np.tile(np.nanmean(random_ll, axis =0)[0], N_model)\n",
    "test_ll_random = np.tile(random_ll[-2,2], N_model)\n",
    "test_ll_random_mean = np.tile(np.nanmean(random_ll, axis =0)[2], N_model)"
   ]
  },
  {
   "cell_type": "markdown",
   "metadata": {},
   "source": [
    "#### to the end of time slice"
   ]
  },
  {
   "cell_type": "code",
   "execution_count": 170,
   "metadata": {},
   "outputs": [
    {
     "data": {
      "image/png": "[encoded data removed]",
      "text/plain": [
       "<matplotlib.figure.Figure at 0x7fb04f6bc790>"
      ]
     },
     "metadata": {},
     "output_type": "display_data"
    }
   ],
   "source": [
    "import matplotlib.pyplot as plt\n",
    "%matplotlib inline\n",
    "\n",
    "plt.figure(figsize=(20, 10))\n",
    "plt.plot(train_ll_old, c ='blue', label ='old_train', linestyle ='--')\n",
    "plt.plot(train_ll[::-1], c='darkgreen', label ='train with month')\n",
    "plt.plot(train_ll_random, c ='deepskyblue', label ='random_train', linestyle =':')\n",
    "plt.plot(test_llold, c='orange', label ='old_test', linestyle ='--')\n",
    "plt.plot(test_ll[::-1], c ='red', label ='test with month')\n",
    "plt.plot(test_ll_random, c ='gold', label ='random_test', linestyle =':')\n",
    "plt.legend(loc ='upper right')\n",
    "plt.show()"
   ]
  },
  {
   "cell_type": "markdown",
   "metadata": {},
   "source": [
    "#### to the mean of time slice"
   ]
  },
  {
   "cell_type": "code",
   "execution_count": 169,
   "metadata": {},
   "outputs": [
    {
     "data": {
      "image/png": "[encoded data removed]",
      "text/plain": [
       "<matplotlib.figure.Figure at 0x7fb04f5d8a90>"
      ]
     },
     "metadata": {},
     "output_type": "display_data"
    }
   ],
   "source": [
    "import matplotlib.pyplot as plt\n",
    "%matplotlib inline\n",
    "\n",
    "plt.figure(figsize=(20, 10))\n",
    "plt.plot(train_ll_old_mean, c ='blue', label ='old_train', linestyle ='--')\n",
    "plt.plot(train_ll_mean[::-1], c='darkgreen', label ='train with month')\n",
    "plt.plot(train_ll_random_mean, c ='deepskyblue', label ='random_train', linestyle =':')\n",
    "plt.plot(test_ll_old_mean, c='orange', label ='old_test', linestyle ='--')\n",
    "plt.plot(test_ll_mean[::-1], c ='red', label ='test with month')\n",
    "plt.plot(test_ll_random_mean, c ='gold', label ='random_test', linestyle =':')\n",
    "plt.legend(loc ='upper right')\n",
    "plt.show()"
   ]
  },
  {
   "cell_type": "code",
   "execution_count": 139,
   "metadata": {
    "collapsed": true
   },
   "outputs": [],
   "source": [
    "from thbmodel.prediction.tools.clustering import write_dic_to_simdata\n",
    "\n",
    "#write_dic_to_simdata('new_factors_direction_new_code.p', new_model.step1probs, new_model.eff_coefs, oos, av =av)\n",
    "write_dic_to_simdata('old_model_15m.p', tsmod.step1probs, tsmod.eff_coefs, pars.oos, av=av)"
   ]
  },
  {
   "cell_type": "code",
   "execution_count": 144,
   "metadata": {
    "collapsed": true
   },
   "outputs": [],
   "source": [
    "from thbmodel.prediction.tools.clustering import write_dic_to_simdata\n",
    "\n",
    "#write_dic_to_simdata('new_factors_direction_new_code.p', new_model.step1probs, new_model.eff_coefs, oos, av =av)\n",
    "write_dic_to_simdata('model_15m_back.p', time_model[0].step1probs, time_model[0].eff_coefs, pars.oos, av=av)"
   ]
  },
  {
   "cell_type": "code",
   "execution_count": 145,
   "metadata": {
    "collapsed": true
   },
   "outputs": [],
   "source": [
    "from thbmodel.prediction.tools.clustering import write_dic_to_simdata\n",
    "\n",
    "#write_dic_to_simdata('new_factors_direction_new_code.p', new_model.step1probs, new_model.eff_coefs, oos, av =av)\n",
    "write_dic_to_simdata('model_0m_back.p', time_model[14].step1probs, time_model[14].eff_coefs, pars.oos, av=av)"
   ]
  },
  {
   "cell_type": "code",
   "execution_count": 174,
   "metadata": {},
   "outputs": [
    {
     "data": {
      "text/plain": [
       "((11, 1805375), (11, 3))"
      ]
     },
     "execution_count": 174,
     "metadata": {},
     "output_type": "execute_result"
    }
   ],
   "source": [
    "time_model[14].step1probs.shape, time_model[14].eff_coefs.shape"
   ]
  },
  {
   "cell_type": "code",
   "execution_count": 183,
   "metadata": {
    "collapsed": true
   },
   "outputs": [],
   "source": [
    " pars.is1, pars.is2, pars.oos =  is1, is2, oos"
   ]
  },
  {
   "cell_type": "markdown",
   "metadata": {},
   "source": [
    "### relation from size of train set"
   ]
  },
  {
   "cell_type": "code",
   "execution_count": 184,
   "metadata": {
    "scrolled": false
   },
   "outputs": [
    {
     "name": "stdout",
     "output_type": "stream",
     "text": [
      "\n",
      "LL.....model 1.........\n",
      "[[-1854.06226922 -2006.22297226 -2006.22297226]\n",
      " [-1858.32290719 -2006.00212944 -2006.00212944]\n",
      " [-1862.26751371 -2006.34708548 -2006.34708548]\n",
      " [-1863.94894909 -2002.17493448 -2002.17493448]\n",
      " [-1873.22934587 -1988.09404025 -1988.09404025]\n",
      " [-1883.64278668 -1987.72266472 -1987.72266472]\n",
      " [-1909.30001818 -1980.78097657 -1980.78097657]\n",
      " [-1919.31205912 -1975.19501802 -1975.19501802]\n",
      " [-1922.97599395 -1978.13997199 -1978.13997199]\n",
      " [-1924.54864234 -1971.771462   -1971.771462  ]\n",
      " [           nan            nan            nan]]\n",
      "\n",
      "LL.....model 2.........\n",
      "[[-1846.94962177 -1974.36185592 -1974.36185592]\n",
      " [-1851.05574872 -1973.72002475 -1973.72002475]\n",
      " [-1854.31865395 -1972.32257067 -1972.32257067]\n",
      " [-1856.24523506 -1970.3287515  -1970.3287515 ]\n",
      " [-1866.61571431 -1962.15814323 -1962.15814323]\n",
      " [-1876.53338565 -1961.8794802  -1961.8794802 ]\n",
      " [-1901.46147246 -1959.09407716 -1959.09407716]\n",
      " [-1910.47236691 -1955.27658799 -1955.27658799]\n",
      " [-1912.96051613 -1956.46810937 -1956.46810937]\n",
      " [-1915.40755897 -1956.13091253 -1956.13091253]\n",
      " [           nan            nan            nan]]\n",
      "\n",
      "LL.....model 3.........\n",
      "[[-1846.75085498 -1975.4169001  -1975.4169001 ]\n",
      " [-1850.64154848 -1973.39600385 -1973.39600385]\n",
      " [-1854.10594588 -1972.47413232 -1972.47413232]\n",
      " [-1855.91975313 -1969.67835809 -1969.67835809]\n",
      " [-1866.9680037  -1964.08694738 -1964.08694738]\n",
      " [-1876.13139145 -1960.96193248 -1960.96193248]\n",
      " [-1901.3151077  -1957.06252911 -1957.06252911]\n",
      " [-1910.51016199 -1953.37123782 -1953.37123782]\n",
      " [-1913.16380929 -1954.82793598 -1954.82793598]\n",
      " [-1915.60477464 -1953.01266234 -1953.01266234]\n",
      " [           nan            nan            nan]]\n",
      "\n",
      "LL.....model 4.........\n",
      "[[-1844.47072211 -1974.08801415 -1974.08801415]\n",
      " [-1848.10677485 -1971.77191914 -1971.77191914]\n",
      " [-1851.41699618 -1970.15747832 -1970.15747832]\n",
      " [-1853.12099269 -1968.17650636 -1968.17650636]\n",
      " [-1863.88067193 -1962.27917283 -1962.27917283]\n",
      " [-1873.39575914 -1961.22925856 -1961.22925856]\n",
      " [-1898.29036071 -1957.28768359 -1957.28768359]\n",
      " [-1907.31850672 -1953.79236287 -1953.79236287]\n",
      " [-1910.23449605 -1956.40912467 -1956.40912467]\n",
      " [-1912.04852836 -1953.54583769 -1953.54583769]\n",
      " [           nan            nan            nan]]\n",
      "\n",
      "LL.....model 5.........\n",
      "[[-1844.33578753 -1971.1342972  -1971.1342972 ]\n",
      " [-1848.06396346 -1969.09417469 -1969.09417469]\n",
      " [-1851.52808379 -1968.546835   -1968.546835  ]\n",
      " [-1853.2084033  -1966.4786379  -1966.4786379 ]\n",
      " [-1863.68825395 -1959.85877168 -1959.85877168]\n",
      " [-1872.88289372 -1957.22371322 -1957.22371322]\n",
      " [-1897.98986584 -1955.38108493 -1955.38108493]\n",
      " [-1906.97042498 -1952.01937201 -1952.01937201]\n",
      " [-1909.51331026 -1953.25337663 -1953.25337663]\n",
      " [-1911.78634967 -1951.9226013  -1951.9226013 ]\n",
      " [           nan            nan            nan]]\n",
      "\n",
      "LL.....model 6.........\n",
      "[[-1843.8466993  -1966.12041937 -1966.12041937]\n",
      " [-1847.55067353 -1964.4957578  -1964.4957578 ]\n",
      " [-1851.00788547 -1964.12154559 -1964.12154559]\n",
      " [-1852.68671973 -1961.72491282 -1961.72491282]\n",
      " [-1863.24369325 -1955.85474982 -1955.85474982]\n",
      " [-1872.49561481 -1953.72379206 -1953.72379206]\n",
      " [-1897.37769747 -1951.94312442 -1951.94312442]\n",
      " [-1906.40395938 -1949.41168888 -1949.41168888]\n",
      " [-1909.12593249 -1950.83001033 -1950.83001033]\n",
      " [-1911.39133734 -1950.29128692 -1950.29128692]\n",
      " [           nan            nan            nan]]\n",
      "\n",
      "LL.....model 7.........\n",
      "[[-1843.43715686 -1968.69339013 -1968.69339013]\n",
      " [-1847.14916402 -1966.82952719 -1966.82952719]\n",
      " [-1850.57002868 -1966.35159659 -1966.35159659]\n",
      " [-1852.28034985 -1963.82301338 -1963.82301338]\n",
      " [-1862.99491758 -1958.38518155 -1958.38518155]\n",
      " [-1871.96686725 -1955.11746548 -1955.11746548]\n",
      " [-1896.98833822 -1952.74769674 -1952.74769674]\n",
      " [-1906.16201821 -1950.17023393 -1950.17023393]\n",
      " [-1908.90261603 -1951.64023639 -1951.64023639]\n",
      " [-1911.03238887 -1950.32827821 -1950.32827821]\n",
      " [           nan            nan            nan]]\n",
      "\n",
      "LL.....model 8.........\n",
      "[[-1843.29782736 -1965.59980004 -1965.59980004]\n",
      " [-1847.0037079  -1964.12956232 -1964.12956232]\n",
      " [-1850.34718752 -1963.45984005 -1963.45984005]\n",
      " [-1852.09191516 -1961.1390005  -1961.1390005 ]\n",
      " [-1862.73519576 -1955.44337592 -1955.44337592]\n",
      " [-1871.9728033  -1954.15430534 -1954.15430534]\n",
      " [-1896.58002044 -1951.29065389 -1951.29065389]\n",
      " [-1905.66169881 -1948.38687319 -1948.38687319]\n",
      " [-1908.31943939 -1950.03269476 -1950.03269476]\n",
      " [-1910.47210183 -1948.72757953 -1948.72757953]\n",
      " [           nan            nan            nan]]\n",
      "\n",
      "LL.....model 9.........\n",
      "[[-1842.66698251 -1964.94698517 -1964.94698517]\n",
      " [-1846.39080586 -1963.16254095 -1963.16254095]\n",
      " [-1849.84250829 -1962.49880174 -1962.49880174]\n",
      " [-1851.57750188 -1960.45158974 -1960.45158974]\n",
      " [-1862.24523938 -1955.71545855 -1955.71545855]\n",
      " [-1871.47936083 -1953.90418053 -1953.90418053]\n",
      " [-1896.28729958 -1952.11440263 -1952.11440263]\n",
      " [-1905.3242356  -1949.36636114 -1949.36636114]\n",
      " [-1908.04060412 -1950.90046121 -1950.90046121]\n",
      " [-1910.14036587 -1949.45575527 -1949.45575527]\n",
      " [           nan            nan            nan]]\n",
      "\n",
      "LL.....model 10.........\n",
      "[[-1842.47740835 -1965.74122912 -1965.74122912]\n",
      " [-1846.18758074 -1964.04449467 -1964.04449467]\n",
      " [-1849.58094846 -1963.26115458 -1963.26115458]\n",
      " [-1851.37099152 -1961.25436609 -1961.25436609]\n",
      " [-1861.88648302 -1955.50354286 -1955.50354286]\n",
      " [-1871.20593021 -1953.52808713 -1953.52808713]\n",
      " [-1896.15638501 -1951.28995616 -1951.28995616]\n",
      " [-1905.02112697 -1948.27512201 -1948.27512201]\n",
      " [-1907.75878806 -1950.07601734 -1950.07601734]\n",
      " [-1909.89407354 -1948.5244278  -1948.5244278 ]\n",
      " [           nan            nan            nan]]\n",
      "\n",
      "LL.....model 11.........\n",
      "[[-1841.99112631 -1963.45460184 -1963.45460184]\n",
      " [-1845.7022127  -1961.91238036 -1961.91238036]\n",
      " [-1849.11015144 -1961.14277235 -1961.14277235]\n",
      " [-1850.84306734 -1959.09745434 -1959.09745434]\n",
      " [-1861.29597501 -1953.50270635 -1953.50270635]\n",
      " [-1870.41640171 -1951.94581755 -1951.94581755]\n",
      " [-1895.36482603 -1950.42895532 -1950.42895532]\n",
      " [-1904.30063828 -1947.69411489 -1947.69411489]\n",
      " [-1907.06513953 -1949.28538642 -1949.28538642]\n",
      " [-1909.22297411 -1948.46906194 -1948.46906194]\n",
      " [           nan            nan            nan]]\n",
      "\n",
      "LL.....model 12.........\n",
      "[[-1842.09859492 -1964.62339609 -1964.62339609]\n",
      " [-1845.76753115 -1962.88723934 -1962.88723934]\n",
      " [-1849.17538966 -1962.13464813 -1962.13464813]\n",
      " [-1850.95150052 -1960.3982641  -1960.3982641 ]\n",
      " [-1861.42128065 -1954.3948892  -1954.3948892 ]\n",
      " [-1870.55492978 -1952.78507967 -1952.78507967]\n",
      " [-1895.51459775 -1951.58904079 -1951.58904079]\n",
      " [-1904.55474153 -1948.97598947 -1948.97598947]\n",
      " [-1907.24713112 -1950.45340675 -1950.45340675]\n",
      " [-1909.42079275 -1949.34616329 -1949.34616329]\n",
      " [           nan            nan            nan]]\n"
     ]
    }
   ],
   "source": [
    "random_model = {}\n",
    "\n",
    "train_events = np.unique(av.event_id[pars.is1])\n",
    "\n",
    "x = np.linspace(1./N_model, 1, num=12)\n",
    "train_ll_random = np.zeros_like(x)\n",
    "test_ll_random = np.zeros_like(x)\n",
    "train_ll_random_mean = np.zeros_like(x)\n",
    "test_ll_random_mean = np.zeros_like(x)\n",
    "\n",
    "for i,s in enumerate(x): \n",
    "    \n",
    "    random_train_events = np.random.choice(train_events, size = int(s * len(train_events)))\n",
    "\n",
    "    random_model[i] = TSModel(factors, tsav, pars)\n",
    "    random_model[i].params.is1 = is1 & np.in1d(av.event_id, random_train_events)\n",
    "    \n",
    "    random_model[i].fit_slices()\n",
    "    \n",
    "    print \n",
    "    print 'LL.....model {}.........'.format(i+1)\n",
    "    print random_model[i].stats2.ll\n",
    "    \n",
    "    train_ll_random[i] = random_model[i].stats2.ll[-2,0]\n",
    "    test_ll_random[i] = random_model[i].stats2.ll[-2,2]\n",
    "    train_ll_random_mean[i] = np.nanmean(random_model[i].stats2.ll, axis =0)[0]\n",
    "    test_ll_random_mean[i] = np.nanmean(random_model[i].stats2.ll, axis =0)[2]"
   ]
  },
  {
   "cell_type": "code",
   "execution_count": 192,
   "metadata": {},
   "outputs": [
    {
     "data": {
      "image/png": "[encoded data removed]",
      "text/plain": [
       "<matplotlib.figure.Figure at 0x7fb04f27b510>"
      ]
     },
     "metadata": {},
     "output_type": "display_data"
    }
   ],
   "source": [
    "import matplotlib.pyplot as plt\n",
    "%matplotlib inline\n",
    "\n",
    "plt.figure(figsize=(20, 10))\n",
    "plt.plot(x, train_ll_old_mean[:12],c ='blue', label ='old_train M', linestyle ='--')\n",
    "plt.plot(x, train_ll_old[:12], c ='deepskyblue', label ='old_train E', linestyle =':')\n",
    "plt.plot(x, train_ll_random[:12], c='green', label ='train size of train E', linestyle ='--')\n",
    "plt.plot(x, train_ll_random_mean[:12], c='darkgreen', label ='train size of train M')\n",
    "\n",
    "\n",
    "plt.plot(x, test_ll_old_mean[:12], c='orange', label ='old_test M', linestyle ='--')\n",
    "plt.plot(x, test_llold[:12], c ='gold', label ='old_test E', linestyle =':')\n",
    "plt.plot(x, test_ll_random[:12], c ='tomato', label ='test size of train E', linestyle ='--')\n",
    "plt.plot(x, test_ll_random_mean[:12], c ='red', label ='test size of train M')\n",
    "\n",
    "plt.legend(loc ='lower right')\n",
    "plt.show()"
   ]
  },
  {
   "cell_type": "code",
   "execution_count": null,
   "metadata": {
    "collapsed": true
   },
   "outputs": [],
   "source": []
  }
 ],
 "metadata": {
  "kernelspec": {
   "display_name": "Python 2",
   "language": "python",
   "name": "python2"
  },
  "language_info": {
   "codemirror_mode": {
    "name": "ipython",
    "version": 2
   },
   "file_extension": ".py",
   "mimetype": "text/x-python",
   "name": "python",
   "nbconvert_exporter": "python",
   "pygments_lexer": "ipython2",
   "version": "2.7.13"
  }
 },
 "nbformat": 4,
 "nbformat_minor": 1
}
