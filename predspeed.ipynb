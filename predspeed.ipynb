{
 "cells": [
  {
   "cell_type": "code",
   "execution_count": 1,
   "metadata": {},
   "outputs": [],
   "source": [
    "import numpy as np\n",
    "\n",
    "from utils import timestamp, YEAR\n",
    "from utils.arrayview import ArrayView, TimeseriesView\n",
    "\n",
    "from prediction.models.fit_model import TSModel\n",
    "from prediction.models.model_parameters import ModelParameters\n",
    "from prediction.models.factor_management import FactorList\n",
    "from prediction.models.preprocessing import load_slices, print_factor_order\n",
    "\n",
    "from prediction.models.prediction import factornames_trimmed\n",
    "from prediction.models.parameters import factor_build_end"
   ]
  },
  {
   "cell_type": "code",
   "execution_count": 2,
   "metadata": {},
   "outputs": [],
   "source": [
    "av = ArrayView.from_file('../datadev/brain_final2cut.av.bcolz')"
   ]
  },
  {
   "cell_type": "code",
   "execution_count": 3,
   "metadata": {},
   "outputs": [],
   "source": [
    "av_new = ArrayView.from_file('../datadev/roll_normspeed.av.bcolz')"
   ]
  },
  {
   "cell_type": "code",
   "execution_count": 4,
   "metadata": {},
   "outputs": [],
   "source": [
    "av.norm_speed = av_new.residuals"
   ]
  },
  {
   "cell_type": "code",
   "execution_count": 5,
   "metadata": {},
   "outputs": [],
   "source": [
    "factornames_trimmed += ['norm_speed']"
   ]
  },
  {
   "cell_type": "code",
   "execution_count": 6,
   "metadata": {},
   "outputs": [],
   "source": [
    "tsav = load_slices(path='../datadev/')"
   ]
  },
  {
   "cell_type": "code",
   "execution_count": 7,
   "metadata": {},
   "outputs": [],
   "source": [
    "pars = ModelParameters(av, oos_start=factor_build_end+YEAR, depth=3, lmbd=10, verbose=True)"
   ]
  },
  {
   "cell_type": "code",
   "execution_count": 8,
   "metadata": {},
   "outputs": [],
   "source": [
    "fl = FactorList(av, factornames_trimmed)"
   ]
  },
  {
   "cell_type": "code",
   "execution_count": 9,
   "metadata": {},
   "outputs": [
    {
     "name": "stderr",
     "output_type": "stream",
     "text": [
      "INFO:models:Getting factors from av and rescaling...\n"
     ]
    },
    {
     "name": "stdout",
     "output_type": "stream",
     "text": [
      "."
     ]
    },
    {
     "name": "stdout",
     "output_type": "stream",
     "text": [
      " ."
     ]
    },
    {
     "name": "stdout",
     "output_type": "stream",
     "text": [
      " ."
     ]
    },
    {
     "name": "stdout",
     "output_type": "stream",
     "text": [
      " ."
     ]
    },
    {
     "name": "stdout",
     "output_type": "stream",
     "text": [
      " ."
     ]
    },
    {
     "name": "stderr",
     "output_type": "stream",
     "text": [
      "INFO:models:Filling in missing values...\n"
     ]
    },
    {
     "name": "stderr",
     "output_type": "stream",
     "text": [
      "INFO:models:Computing each factor as linear combination of all the others...\n"
     ]
    },
    {
     "name": "stdout",
     "output_type": "stream",
     "text": [
      " ."
     ]
    },
    {
     "name": "stdout",
     "output_type": "stream",
     "text": [
      " ."
     ]
    },
    {
     "name": "stdout",
     "output_type": "stream",
     "text": [
      " ."
     ]
    },
    {
     "name": "stdout",
     "output_type": "stream",
     "text": [
      " ."
     ]
    },
    {
     "name": "stdout",
     "output_type": "stream",
     "text": [
      " ."
     ]
    },
    {
     "name": "stderr",
     "output_type": "stream",
     "text": [
      "INFO:models:Number of missing patterns: 8970\n"
     ]
    },
    {
     "name": "stdout",
     "output_type": "stream",
     "text": [
      " ."
     ]
    },
    {
     "name": "stdout",
     "output_type": "stream",
     "text": [
      " ."
     ]
    },
    {
     "name": "stdout",
     "output_type": "stream",
     "text": [
      " ."
     ]
    },
    {
     "name": "stdout",
     "output_type": "stream",
     "text": [
      " ."
     ]
    },
    {
     "name": "stdout",
     "output_type": "stream",
     "text": [
      " ."
     ]
    },
    {
     "name": "stdout",
     "output_type": "stream",
     "text": [
      " ."
     ]
    },
    {
     "name": "stdout",
     "output_type": "stream",
     "text": [
      " ."
     ]
    },
    {
     "name": "stdout",
     "output_type": "stream",
     "text": [
      " ."
     ]
    },
    {
     "name": "stdout",
     "output_type": "stream",
     "text": [
      "\n"
     ]
    }
   ],
   "source": [
    "fl.preprocess(pars)\n",
    "factors = fl.asmatrix()"
   ]
  },
  {
   "cell_type": "code",
   "execution_count": 10,
   "metadata": {},
   "outputs": [],
   "source": [
    "tsmod = TSModel(factors, tsav, pars)"
   ]
  },
  {
   "cell_type": "code",
   "execution_count": 11,
   "metadata": {},
   "outputs": [
    {
     "name": "stderr",
     "output_type": "stream",
     "text": [
      "INFO:models:Fitting slice 0\n"
     ]
    },
    {
     "name": "stderr",
     "output_type": "stream",
     "text": [
      "prediction/models/fit_model.py:153: RuntimeWarning: divide by zero encountered in log\n  stats, self.step2probs[sl] = self.concat_and_fit(strata, result, nonrunner, [fback, flay, np.log(probs)], ts_idx, valid2, verbose=False, step=2)\n"
     ]
    },
    {
     "name": "stderr",
     "output_type": "stream",
     "text": [
      "INFO:models:Fitting slice 1\n"
     ]
    },
    {
     "name": "stderr",
     "output_type": "stream",
     "text": [
      "INFO:models:Fitting slice 2\n"
     ]
    },
    {
     "name": "stderr",
     "output_type": "stream",
     "text": [
      "INFO:models:Fitting slice 3\n"
     ]
    },
    {
     "name": "stderr",
     "output_type": "stream",
     "text": [
      "INFO:models:Fitting slice 4\n"
     ]
    },
    {
     "name": "stderr",
     "output_type": "stream",
     "text": [
      "INFO:models:Fitting slice 5\n"
     ]
    },
    {
     "name": "stderr",
     "output_type": "stream",
     "text": [
      "INFO:models:Fitting slice 6\n"
     ]
    },
    {
     "name": "stderr",
     "output_type": "stream",
     "text": [
      "INFO:models:Fitting slice 7\n"
     ]
    },
    {
     "name": "stderr",
     "output_type": "stream",
     "text": [
      "INFO:models:Fitting slice 8\n"
     ]
    },
    {
     "name": "stderr",
     "output_type": "stream",
     "text": [
      "INFO:models:Fitting slice 9\n"
     ]
    }
   ],
   "source": [
    "tsmod.fit_slices()"
   ]
  },
  {
   "cell_type": "code",
   "execution_count": 12,
   "metadata": {},
   "outputs": [
    {
     "data": {
      "text/plain": [
       "array([[-1598.28109766, -1598.28109766, -1859.74420536],\n       [-1601.44944771, -1601.44944771, -1854.89375297],\n       [-1605.13603507, -1605.13603507, -1845.51741867],\n       [-1607.40698225, -1607.40698225, -1831.42637193],\n       [-1618.37190854, -1618.37190854, -1801.41372198],\n       [-1629.55094894, -1629.55094894, -1784.57238093],\n       [-1646.80949982, -1646.80949982, -1758.55506875],\n       [-1657.36578255, -1657.36578255, -1744.07935962],\n       [-1657.92391309, -1657.92391309, -1744.25509294],\n       [-1654.37918039, -1654.37918039, -1738.79958448],\n       [           nan,            nan,            nan]])"
      ]
     },
     "execution_count": 12,
     "metadata": {},
     "output_type": "execute_result"
    }
   ],
   "source": [
    "tsmod.stats1.ll"
   ]
  },
  {
   "cell_type": "code",
   "execution_count": 13,
   "metadata": {},
   "outputs": [
    {
     "data": {
      "text/plain": [
       "array([[-1590.76898559, -1859.87312704, -1859.87312704],\n       [-1593.95784573, -1855.04778177, -1855.04778177],\n       [-1597.70998344, -1845.64807847, -1845.64807847],\n       [-1599.65185616, -1831.53819057, -1831.53819057],\n       [-1610.86168508, -1801.62224471, -1801.62224471],\n       [-1622.19258857, -1785.11804839, -1785.11804839],\n       [-1639.04469989, -1761.09487658, -1761.09487658],\n       [-1650.02498855, -1748.27318986, -1748.27318986],\n       [-1650.88424885, -1749.06669001, -1749.06669001],\n       [-1647.84956341, -1747.06695468, -1747.06695468],\n       [           nan,            nan,            nan]])"
      ]
     },
     "execution_count": 13,
     "metadata": {},
     "output_type": "execute_result"
    }
   ],
   "source": [
    "tsmod.stats2.ll"
   ]
  },
  {
   "cell_type": "code",
   "execution_count": 14,
   "metadata": {},
   "outputs": [
    {
     "name": "stdout",
     "output_type": "stream",
     "text": [
      "  0:                                                              norm_speed    t-score sum: 1206.93\n  1:                                                              zec3f8f8b9    t-score sum: 342.66\n  2:                                                              zce609d953    t-score sum: 154.46\n  3:                                                              z77c9cc0a5    t-score sum: 150.17\n  4:                                                              zec0c22a48    t-score sum: 129.06\n  5:                                                              za5cf91a5d    t-score sum: 103.71\n  6:                                                              z4fdabfabc    t-score sum: 98.65\n  7:                                                              z0f50ce7c0    t-score sum: 91.97\n  8:                                                              z6f1eaa94d    t-score sum: 71.98\n  9:                                                              z8ca2ea7f2    t-score sum: 71.55\n 10:                                                                  weight    t-score sum: 70.94\n 11:                                                              z34b78e584    t-score sum: 66.25\n 12:                                                              z106842cce    t-score sum: 65.79\n 13:                                                              zf50212bfb    t-score sum: 62.47\n 14:                                                              zb87666d6d    t-score sum: 59.04\n 15:                                                              z027f9f0f5    t-score sum: 55.85\n 16:                                                              zc6614c5ee    t-score sum: 50.39\n 17:                                                              z6809c316d    t-score sum: 46.03\n 18:                                                              z245159235    t-score sum: 42.00\n 19:                                                              zc31456152    t-score sum: 39.44\n 20:                                                              ze4c91eac0    t-score sum: 37.59\n 21:                                                              z5873666ab    t-score sum: 35.97\n 22:                                                              zd7cd94e4c    t-score sum: 31.37\n 23:                                                              zac38414de    t-score sum: 28.10\n 24:                                                              z4cac73de3    t-score sum: 27.94\n 25:                                                              z215129aeb    t-score sum: 27.29\n 26:                                                              z6c84925d1    t-score sum: 26.50\n 27:                                                              z50810021e    t-score sum: 26.08\n 28:                                                              z5981b9f89    t-score sum: 25.54\n 29:                                                              z7603edce1    t-score sum: 24.74\n 30:                                                              z412893062    t-score sum: 23.15\n 31:                                                              z8d2862a46    t-score sum: 22.84\n 32:                                                              z7081bf371    t-score sum: 21.59\n 33:                                                              z48f6dddd1    t-score sum: 18.75\n 34:                                                              z2a6963635    t-score sum: 18.43\n 35:                                                              zb5dc14260    t-score sum: 18.04\n 36:                                                              zb392bb74a    t-score sum: 16.12\n 37:                                                              zd81bcd220    t-score sum: 15.96\n 38:                                                              z953916863    t-score sum: 15.45\n 39:                                                              za5c443236    t-score sum: 13.68\n 40:                                                              zd393eb79d    t-score sum: 12.85\n 41:                                                              z999f82560    t-score sum: 12.61\n 42:                                                              z81f2598ec    t-score sum: 12.29\n 43:                                                              zb85d3de89    t-score sum: 11.87\n 44:                                                              z6f11029f7    t-score sum: 10.80\n 45:                                                              z36b8bffe0    t-score sum: 9.60\n 46:                                                              z1b0bd4349    t-score sum: 9.42\n 47:                                                              z3d11336f4    t-score sum: 8.03\n 48:                                                              z37a191205    t-score sum: 7.42\n 49:                                                              zbba3f4349    t-score sum: 7.37\n 50:                                                              z44cf2d196    t-score sum: 7.22\n 51:                                                              z779f698c0    t-score sum: 7.18\n 52:                                                              zbe307f294    t-score sum: 4.61\n 53:                                                              zef5a850eb    t-score sum: 0.52\n 54:                                                              z4a6755a99    t-score sum: 0.39\n 55:                                                              z28e932d84    t-score sum: 0.39\n 56:                                                              zf47a136cc    t-score sum: 0.07\n 57:                                                              zae03d13a5    t-score sum: 0.00\n"
     ]
    }
   ],
   "source": [
    "print_factor_order(tsmod.stats1, factornames_trimmed)"
   ]
  },
  {
   "cell_type": "code",
   "execution_count": 15,
   "metadata": {},
   "outputs": [],
   "source": [
    "tsmod.write_simdata('simdata.p')"
   ]
  },
  {
   "cell_type": "code",
   "execution_count": null,
   "metadata": {},
   "outputs": [],
   "source": [
    ""
   ]
  }
 ],
 "metadata": {
  "kernelspec": {
   "display_name": "Python 2",
   "language": "python",
   "name": "python2"
  },
  "language_info": {
   "codemirror_mode": {
    "name": "ipython",
    "version": 2.0
   },
   "file_extension": ".py",
   "mimetype": "text/x-python",
   "name": "python",
   "nbconvert_exporter": "python",
   "pygments_lexer": "ipython2",
   "version": "2.7.6"
  }
 },
 "nbformat": 4,
 "nbformat_minor": 0
}